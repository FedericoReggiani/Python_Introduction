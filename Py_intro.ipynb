{
 "cells": [
  {
   "cell_type": "markdown",
   "metadata": {},
   "source": [
    "# About this course"
   ]
  },
  {
   "cell_type": "markdown",
   "metadata": {},
   "source": [
    "This introduction course, presented for the first time in BIBDA Master, tends to give you an overview of Python programming language and its general structure as in the future modules of Master like web scrapping, Machine learning and text mining Python will be used as the principal programming language.\n",
    "Please note that due to the vast range of arguments/tools related to Python language we won't/can't cover them all here as this course designed to help you not to become a Python programmers but to learn its basics and enable you to expand your data science skills using it as a modern programming language."
   ]
  },
  {
   "cell_type": "markdown",
   "metadata": {},
   "source": [
    "## Course structure"
   ]
  },
  {
   "cell_type": "markdown",
   "metadata": {},
   "source": [
    "Our goal here is not to provide a deep insight into Python and act as an official reference since you can easily can access hundreds of online sources to learn about each and every detail of Python.\n",
    "Given the wide range of students' backgrounds, there is no assumption about prior knowledge about programming or data analysis. We've tried to provide you with simple examples which give you a clear understanding of functionality of different tools. There are also parts called **YOUR TURN** which ask you to put into practice what you have learned during the lesson. These parts are accompanied by three different symbols which show the difficulty of the exercise:"
   ]
  },
  {
   "cell_type": "markdown",
   "metadata": {},
   "source": [
    "<img src=\"Images/baby.svg\"   width=\"30\" align=\"left\">               "
   ]
  },
  {
   "cell_type": "markdown",
   "metadata": {},
   "source": [
    "**EASY:** You're expected to solve it by yourself. (max 2 min)"
   ]
  },
  {
   "cell_type": "markdown",
   "metadata": {},
   "source": [
    "   "
   ]
  },
  {
   "cell_type": "markdown",
   "metadata": {},
   "source": [
    "<img src=\"Images/student.svg\"   width=\"30\" align=\"left\">               "
   ]
  },
  {
   "cell_type": "markdown",
   "metadata": {},
   "source": [
    "**So-So:** In case you find it hard to solve, try to ask your friend's opinion. (max 5 min)"
   ]
  },
  {
   "cell_type": "markdown",
   "metadata": {},
   "source": [
    "     "
   ]
  },
  {
   "cell_type": "markdown",
   "metadata": {},
   "source": [
    "<img src=\"Images/wizard.svg\"   width=\"40\" align=\"left\">               "
   ]
  },
  {
   "cell_type": "markdown",
   "metadata": {},
   "source": [
    "**HARD:** If you're not comfortable with it, leave it alone! once in home, try to attack it again!"
   ]
  },
  {
   "cell_type": "markdown",
   "metadata": {},
   "source": [
    "For the questions that you should write code, you'll find a code block with a Python in it! just remove it and insert your answer instead."
   ]
  },
  {
   "cell_type": "markdown",
   "metadata": {},
   "source": [
    "<img src=\"Images/python.png\"   width=\"300\" align=\"left\">               "
   ]
  },
  {
   "cell_type": "markdown",
   "metadata": {},
   "source": [
    "\n",
    "While major parts of codes are self-explanatory, there are ones that need a more detailed explanation. These parts are indicated by an owl sign!\n",
    "\n",
    "<img src=\"Images/owl.svg\"   width=\"40\" align=\"left\">               "
   ]
  },
  {
   "cell_type": "markdown",
   "metadata": {},
   "source": [
    "## Prerequisite"
   ]
  },
  {
   "cell_type": "markdown",
   "metadata": {},
   "source": [
    "The only prerequisites for using this course is high-school level math and a running version of Python and Jupyter notebook."
   ]
  },
  {
   "cell_type": "markdown",
   "metadata": {},
   "source": [
    "# What is a programming language?"
   ]
  },
  {
   "cell_type": "markdown",
   "metadata": {},
   "source": [
    "Simply put, a programming language is a intermediary language(with its predefined structure) which is able to translate human language(instructions) to a language which is understandable by a computer(Hardware).\n",
    "There are different levels of programming languages with different scopes which we won't explain here in depth. In the following figure you can see the hierarchy of these languages and the interactions they have with each other.\n",
    "<img src=\"Images/languages.jpg\"  width=\"600\" align=\"center\">\n",
    "[image source](https://www.informationq.com/computer-language-and-its-types/computer-language-and-its-types/)"
   ]
  },
  {
   "cell_type": "markdown",
   "metadata": {},
   "source": [
    "Unlike languages like C and C++, Python is a interpreted language which means you can run it only you have the interpreter on your machine(installing Ptyhon = installing Python interpreter). In this [link](https://www.html.it/pag/15387/programma-compilato-e-interpretato/) you can learn about the differences between interpreted and compiled languages."
   ]
  },
  {
   "cell_type": "markdown",
   "metadata": {},
   "source": [
    "# What is an algorithm?"
   ]
  },
  {
   "cell_type": "markdown",
   "metadata": {},
   "source": [
    "An algorithm is a series of instructions with a specific order and a defined end, used to solve a  specific problem. As an example, imagine you want to tell someone how to get to Milano Garibaldi from Bicocca University. You can write down the steps: (Notice how important is the order of steps)\n",
    "- Look at the train information board\n",
    "- Find out when and when is the next train to greco Pirelli station\n",
    "- Go to the platform\n",
    "- Get in the train\n",
    "- Wait until you arrive to the greco Pirelli station\n",
    "- Get off of the train\n",
    "- ...\n",
    "\n",
    "In this example, we are giving this instruction to a human being so we can simply use Italian language(or any other *natural* language) but what happens when we want a computer to follow our instructions? That's where computer languages come into the scene."
   ]
  },
  {
   "cell_type": "markdown",
   "metadata": {},
   "source": [
    "# Why Python?"
   ]
  },
  {
   "cell_type": "markdown",
   "metadata": {},
   "source": [
    "Python is the principal (but not the only) programming language of BIBDA master. The reason behind this choice is mainly based on its strong characteristics like (but not limited to):\n",
    "- Simple and minimalistic syntax \n",
    "- High efficiency\n",
    "- Productivity and speed\n",
    "- Extensive libraries\n",
    "- Strong community support\n",
    "- Acceptance by giants like Google and Facebook\n",
    "\n",
    "Another point that makes Python an intresting programming language is its incredible growth in the European job market and computer/data science community:\n",
    "\n",
    "<img src=\"Images/python_trend.png\" width=\"700\">\n",
    "\n",
    "<img src=\"Images/py_growth.png\" width=\"700\">\n",
    "\n",
    "[image source](https://stackoverflow.blog/2017/09/06/incredible-growth-python/)"
   ]
  },
  {
   "cell_type": "markdown",
   "metadata": {},
   "source": [
    "# Running a Python code"
   ]
  },
  {
   "cell_type": "markdown",
   "metadata": {},
   "source": [
    "In the previous parts we have seen together why we need a programming language and why we choose Python. Now let's briefly explore the different ways we can \"run\" our codes (algorithms) written in Python. There are four main ways:\n",
    "\n",
    "- Running Python directly in command line/ bash\n",
    "- Using an IDE (Ex. [IDLE](https://docs.python.org/3/library/idle.html), [PyCharm](https://www.jetbrains.com/pycharm/) and [Spyder](https://www.spyder-ide.org/))\n",
    "- Using a Text Editor (Ex. [VsCode](https://code.visualstudio.com/), [Sublime Text](https://www.sublimetext.com/) and [Atom](https://atom.io/))\n",
    "- Using a Notebook (Ex. [Jupyter](https://jupyter.org/), [nteract](https://nteract.io/) and [Zeppelin](https://zeppelin.apache.org/))\n",
    "\n",
    "We can't describe each option in details here but if you are interested to now more about these tools and how they are different from each other, take a look at the [article](https://medium.com/@navid.nobani/adding-python-to-your-life-choices-everywhere-35bbf435fe5d) I've written about this subject.\n",
    "\n",
    "Here as you may have noticed(!) we're are going to use Jupyter notebook for the rest of out course.\n",
    "Jupyter notebook has an interesting developement story which you can find out more about it in [this article](https://www.datacamp.com/community/tutorials/tutorial-jupyter-notebook)."
   ]
  },
  {
   "cell_type": "markdown",
   "metadata": {},
   "source": [
    "## Using an IDE"
   ]
  },
  {
   "cell_type": "markdown",
   "metadata": {},
   "source": [
    "# Use Python as a calculator"
   ]
  },
  {
   "cell_type": "markdown",
   "metadata": {},
   "source": [
    "The most basic (and inefficient) use of any programming language is using it as a calculator! Let's see some examples:"
   ]
  },
  {
   "cell_type": "markdown",
   "metadata": {},
   "source": [
    "$\\frac{((119 + 0.789)^{3.14}\\times 1000000000}{57^{\\frac{5}{2.4}}} = 738170310705.7557$"
   ]
  },
  {
   "cell_type": "code",
   "execution_count": 7,
   "metadata": {},
   "outputs": [
    {
     "data": {
      "text/plain": [
       "738170310705.7557"
      ]
     },
     "execution_count": 7,
     "metadata": {},
     "output_type": "execute_result"
    }
   ],
   "source": [
    "(((119 + 0.789)**3.14) * 1_000_00000_0) / 57**(5/2.4)"
   ]
  },
  {
   "cell_type": "markdown",
   "metadata": {},
   "source": [
    "There are also some interesting (and still extremely simple) calculation we can perform too:"
   ]
  },
  {
   "cell_type": "code",
   "execution_count": 5,
   "metadata": {},
   "outputs": [
    {
     "data": {
      "text/plain": [
       "4"
      ]
     },
     "execution_count": 5,
     "metadata": {},
     "output_type": "execute_result"
    }
   ],
   "source": [
    "989 % 5"
   ]
  },
  {
   "cell_type": "code",
   "execution_count": 73,
   "metadata": {},
   "outputs": [
    {
     "data": {
      "text/plain": [
       "860.9090909090909"
      ]
     },
     "execution_count": 73,
     "metadata": {},
     "output_type": "execute_result"
    }
   ],
   "source": [
    "9470 / 11"
   ]
  },
  {
   "cell_type": "code",
   "execution_count": 13,
   "metadata": {},
   "outputs": [
    {
     "data": {
      "text/plain": [
       "860"
      ]
     },
     "execution_count": 13,
     "metadata": {},
     "output_type": "execute_result"
    }
   ],
   "source": [
    "9470 // 11"
   ]
  },
  {
   "cell_type": "markdown",
   "metadata": {},
   "source": [
    "\"%\" and \"//\" (Floor Division) are two of operators available in Python. Take a look at the [complete list of operations](https://docs.python.org/3.4/library/operator.html#mapping-operators-to-functions) in the Python documentation. The following table summarize the most important ones:\n",
    "\n",
    "<img src=\"Images/operations.png\">"
   ]
  },
  {
   "cell_type": "markdown",
   "metadata": {},
   "source": [
    " "
   ]
  },
  {
   "cell_type": "markdown",
   "metadata": {},
   "source": [
    "<img src=\"Images/baby.svg\"   width=\"30\" align=\"left\">               "
   ]
  },
  {
   "cell_type": "markdown",
   "metadata": {},
   "source": [
    "**YOUR TURN :** compute the following :"
   ]
  },
  {
   "cell_type": "markdown",
   "metadata": {},
   "source": [
    "$$(\\frac{2019}{5})^{24} * 0.000314$$"
   ]
  },
  {
   "cell_type": "code",
   "execution_count": 8,
   "metadata": {},
   "outputs": [
    {
     "data": {
      "text/plain": [
       "1.1089735772993454e+59"
      ]
     },
     "execution_count": 8,
     "metadata": {},
     "output_type": "execute_result"
    }
   ],
   "source": [
    "((2019 / 5) ** 24) * 0.000314"
   ]
  },
  {
   "cell_type": "markdown",
   "metadata": {},
   "source": [
    "# Variables"
   ]
  },
  {
   "cell_type": "markdown",
   "metadata": {},
   "source": [
    "A variable is just a reference which points to a specific object in the memory. Imagine it as name tag which you attach to a piece of the memory of your computer. In this way everytime you need to access that pies you just need to follow the name tag. Obviously this attachment is not permanent, it means you can detach it and connect it to another piece of memory as in the same way, you can attach two different name tags to the same object."
   ]
  },
  {
   "cell_type": "markdown",
   "metadata": {},
   "source": [
    " "
   ]
  },
  {
   "cell_type": "markdown",
   "metadata": {},
   "source": [
    "<img src=\"Images/baby.svg\"   width=\"30\" align=\"left\">               "
   ]
  },
  {
   "cell_type": "markdown",
   "metadata": {},
   "source": [
    "**YOUR TURN :** We assign 12 to A, 2 to B and compute C by multiplication of A and B and assign the result to C. Now if we assign 3 to B, What would be the value of the C?"
   ]
  },
  {
   "cell_type": "markdown",
   "metadata": {},
   "source": [
    "<img src=\"Images/variable.png\" width=\"600\" align=\"left\">"
   ]
  },
  {
   "cell_type": "code",
   "execution_count": null,
   "metadata": {},
   "outputs": [],
   "source": [
    "(\\   .-.   .-.   .-.   .-.   .-.   .-.   .-.   .-.   /_\")\n",
    " \\\\_//^\\\\_//^\\\\_//^\\\\_//^\\\\_//^\\\\_//^\\\\_//^\\\\_//^\\\\_//\n",
    "  `\"`   `\"`   `\"`   `\"`   `\"`   `\"`   `\"`   `\"`   `\"`"
   ]
  },
  {
   "cell_type": "markdown",
   "metadata": {},
   "source": [
    "Unlike C and Java which are \"Statically-typed languages\", Python is a \"dynamically-typed language\", which means variables must not only have a single data type, instead you can assign different objects with different data types to the variable (not simultaneously). You can read more about this subject [here](https://wiki.python.org/moin/Why%20is%20Python%20a%20dynamic%20language%20and%20also%20a%20strongly%20typed%20language).\n",
    "\n",
    "Let's define a variable and assign a number to it: "
   ]
  },
  {
   "cell_type": "code",
   "execution_count": 16,
   "metadata": {},
   "outputs": [],
   "source": [
    "my_var = 10"
   ]
  },
  {
   "cell_type": "markdown",
   "metadata": {},
   "source": [
    "We just created our first variable! let's print it to confirm what is inside:"
   ]
  },
  {
   "cell_type": "code",
   "execution_count": 17,
   "metadata": {},
   "outputs": [
    {
     "name": "stdout",
     "output_type": "stream",
     "text": [
      "10\n"
     ]
    }
   ],
   "source": [
    "print(my_var)"
   ]
  },
  {
   "cell_type": "markdown",
   "metadata": {},
   "source": [
    "Now let's assign a text to **my_var**:"
   ]
  },
  {
   "cell_type": "code",
   "execution_count": 18,
   "metadata": {},
   "outputs": [
    {
     "name": "stdout",
     "output_type": "stream",
     "text": [
      "my fancy text\n"
     ]
    }
   ],
   "source": [
    "my_var = 'my fancy text'\n",
    "print(my_var)"
   ]
  },
  {
   "cell_type": "markdown",
   "metadata": {},
   "source": [
    "Notice that in the code above, we didn't explicitly tell Python which data type we're going to assign to \"my_var\"."
   ]
  },
  {
   "cell_type": "markdown",
   "metadata": {},
   "source": [
    "## Variable naming"
   ]
  },
  {
   "cell_type": "markdown",
   "metadata": {},
   "source": [
    "There are 3 rules you should have in mind when defining a new variable:\n",
    "- It CAN contain only letters, numbers and underscore(\\_).\n",
    "- It MUST start either with a letter or underscore(\\_). It CAN'T start with a number.\n",
    "- It CAN'T/SHOULDN'T be a [reserved](https://docs.python.org/2.5/ref/keywords.html) name.\n",
    "\n",
    "Let's explain a bit the last point. I used **CAN'T/SHOULDN'T** and not **CAN'T** because While you **CAN'T**  assign a value to some of these reserved key words (like **for**) actually if you want, you **CAN** assign a value to some of them (like function **print**); The point is even if you **CAN** do so, it's almost always absolutely a bad idea !"
   ]
  },
  {
   "cell_type": "markdown",
   "metadata": {},
   "source": [
    " "
   ]
  },
  {
   "cell_type": "markdown",
   "metadata": {},
   "source": [
    "<img src=\"Images/baby.svg\"   width=\"30\" align=\"left\">               "
   ]
  },
  {
   "cell_type": "markdown",
   "metadata": {},
   "source": [
    "**YOUR TURN :** What would be the result? (answer without running it!)\n",
    "\n",
    "print = 2\n",
    "\n",
    "print(10)"
   ]
  },
  {
   "cell_type": "markdown",
   "metadata": {},
   "source": [
    "- 2\n",
    "- 10\n",
    "- 20\n",
    "- None of above"
   ]
  },
  {
   "cell_type": "markdown",
   "metadata": {},
   "source": [
    " "
   ]
  },
  {
   "cell_type": "markdown",
   "metadata": {},
   "source": [
    "A variable name doesn't have any length limitation but it's better if you keep it as short as possible ( as long as it's easy to remember and reuse= being informative)\n",
    "\n",
    "**Correct Examples:**\n",
    "- myVal\n",
    "- My_val\n",
    "- ppppppppppppppppppppppp\n",
    "- \\_size_1\n",
    "\n",
    "**Good Examples:**\n",
    "- length\n",
    "- size_before_trim\n",
    "- item_1\n",
    "\n",
    "**Wrong Examples:**\n",
    "- 1_myval\n",
    "- 49param\n",
    "\n",
    "**bad Examples:**\n",
    "- pp\n",
    "- abc\n",
    "- size_before_removing_outliers_from_main_table\n",
    "\n",
    "[more details about variables](https://realpython.com/python-variables/)"
   ]
  },
  {
   "cell_type": "markdown",
   "metadata": {},
   "source": [
    "<img src=\"Images/baby.svg\"   width=\"30\" align=\"left\">               "
   ]
  },
  {
   "cell_type": "markdown",
   "metadata": {},
   "source": [
    "**YOUR TURN :** Define three variables : **birth_year**, **birth_month** and **birth_day** and assign them your birth date."
   ]
  },
  {
   "cell_type": "code",
   "execution_count": null,
   "metadata": {},
   "outputs": [],
   "source": [
    "(\\   .-.   .-.   .-.   .-.   .-.   .-.   .-.   .-.   /_\")\n",
    " \\\\_//^\\\\_//^\\\\_//^\\\\_//^\\\\_//^\\\\_//^\\\\_//^\\\\_//^\\\\_//\n",
    "  `\"`   `\"`   `\"`   `\"`   `\"`   `\"`   `\"`   `\"`   `\"`"
   ]
  },
  {
   "cell_type": "markdown",
   "metadata": {},
   "source": [
    "# Data types"
   ]
  },
  {
   "cell_type": "markdown",
   "metadata": {},
   "source": [
    "In Python , everything is an object and every object has a type. There are different ways to divide data types. For example You can divide them into *Scalers* which you can't sub-divide to further pieces(like a number) and non-scalers which you can sub-divide (like a list of numbers).\n",
    "\n",
    "Another way to categorize them is based on their origin:\n",
    "\n",
    "- Built-in Data Types\n",
    "- Data types that are not built into the interpreter\n",
    "\n",
    "Here we mainly talk about the built-in data types which can be divided into the following types:\n",
    "\n",
    "<img src=\"Images/data_types.jpeg\">\n",
    "\n",
    "Notice that this isn’t how [Python documentation](https://docs.python.org/2/library/stdtypes.html) divides data types but in my opinion the official documentation may seem a bit confusing for a reader which is facing this argument for the first time."
   ]
  },
  {
   "cell_type": "markdown",
   "metadata": {},
   "source": [
    "## Numeric Types\n"
   ]
  },
  {
   "cell_type": "markdown",
   "metadata": {},
   "source": [
    "The easiest data type to work with are “Numbers” category, since all of us has a good grasp of it and already know what we should expect to see when someone talks about numbers!\n",
    "\n",
    "Two main sub-types of numbers which we see together are:\n",
    "\n",
    "- Integers\n",
    "- Floats\n",
    "\n",
    "(Two other numeric sub-types are long and complex which we won’t discuss here)"
   ]
  },
  {
   "cell_type": "markdown",
   "metadata": {},
   "source": [
    "### Integers"
   ]
  },
  {
   "cell_type": "markdown",
   "metadata": {},
   "source": [
    "Integers are numbers without decimal points:"
   ]
  },
  {
   "cell_type": "code",
   "execution_count": 7,
   "metadata": {},
   "outputs": [
    {
     "data": {
      "text/plain": [
       "2"
      ]
     },
     "execution_count": 7,
     "metadata": {},
     "output_type": "execute_result"
    }
   ],
   "source": [
    "1 + 1"
   ]
  },
  {
   "cell_type": "code",
   "execution_count": 13,
   "metadata": {},
   "outputs": [
    {
     "data": {
      "text/plain": [
       "int"
      ]
     },
     "execution_count": 13,
     "metadata": {},
     "output_type": "execute_result"
    }
   ],
   "source": [
    "type(1 + 1)"
   ]
  },
  {
   "cell_type": "code",
   "execution_count": 8,
   "metadata": {},
   "outputs": [
    {
     "data": {
      "text/plain": [
       "1256"
      ]
     },
     "execution_count": 8,
     "metadata": {},
     "output_type": "execute_result"
    }
   ],
   "source": [
    "1256"
   ]
  },
  {
   "cell_type": "code",
   "execution_count": 14,
   "metadata": {},
   "outputs": [
    {
     "data": {
      "text/plain": [
       "234390404212558425"
      ]
     },
     "execution_count": 14,
     "metadata": {},
     "output_type": "execute_result"
    }
   ],
   "source": [
    "34572765 * 6779_625_6_45"
   ]
  },
  {
   "cell_type": "markdown",
   "metadata": {},
   "source": [
    "You can easily check if a number is integer or not. The only thing you need to do is use **_type( )_** built-in function (more on built-in functions later) . The result should be **_int_** as you see below:"
   ]
  },
  {
   "cell_type": "code",
   "execution_count": 10,
   "metadata": {},
   "outputs": [
    {
     "data": {
      "text/plain": [
       "int"
      ]
     },
     "execution_count": 10,
     "metadata": {},
     "output_type": "execute_result"
    }
   ],
   "source": [
    "type(452347)"
   ]
  },
  {
   "cell_type": "code",
   "execution_count": 14,
   "metadata": {},
   "outputs": [
    {
     "data": {
      "text/plain": [
       "int"
      ]
     },
     "execution_count": 14,
     "metadata": {},
     "output_type": "execute_result"
    }
   ],
   "source": [
    "type(1_456_099)"
   ]
  },
  {
   "cell_type": "markdown",
   "metadata": {},
   "source": [
    "### Floats"
   ]
  },
  {
   "cell_type": "markdown",
   "metadata": {},
   "source": [
    "In Python language numbers with decimal are known as Floats:"
   ]
  },
  {
   "cell_type": "code",
   "execution_count": 12,
   "metadata": {},
   "outputs": [
    {
     "data": {
      "text/plain": [
       "3.14159"
      ]
     },
     "execution_count": 12,
     "metadata": {},
     "output_type": "execute_result"
    }
   ],
   "source": [
    "3.14159"
   ]
  },
  {
   "cell_type": "code",
   "execution_count": 16,
   "metadata": {},
   "outputs": [
    {
     "data": {
      "text/plain": [
       "str"
      ]
     },
     "execution_count": 16,
     "metadata": {},
     "output_type": "execute_result"
    }
   ],
   "source": [
    "type('I am not a cat')"
   ]
  },
  {
   "cell_type": "code",
   "execution_count": 14,
   "metadata": {},
   "outputs": [
    {
     "data": {
      "text/plain": [
       "float"
      ]
     },
     "execution_count": 14,
     "metadata": {},
     "output_type": "execute_result"
    }
   ],
   "source": [
    "type(768.90)"
   ]
  },
  {
   "cell_type": "markdown",
   "metadata": {},
   "source": [
    "### Integer and Float operations"
   ]
  },
  {
   "cell_type": "markdown",
   "metadata": {},
   "source": [
    "Let's do some basic arithmatic and see the result data types:"
   ]
  },
  {
   "cell_type": "code",
   "execution_count": 23,
   "metadata": {},
   "outputs": [
    {
     "name": "stdout",
     "output_type": "stream",
     "text": [
      "1936.34\n",
      "<class 'float'>\n"
     ]
    }
   ],
   "source": [
    "a = 1_869 + 67.34\n",
    "print(a)\n",
    "print(type(a))"
   ]
  },
  {
   "cell_type": "code",
   "execution_count": 22,
   "metadata": {},
   "outputs": [
    {
     "name": "stdout",
     "output_type": "stream",
     "text": [
      "67.34\n",
      "<class 'float'>\n"
     ]
    }
   ],
   "source": [
    "a = 1 * 67.34\n",
    "print(a)\n",
    "print(type(a))"
   ]
  },
  {
   "cell_type": "code",
   "execution_count": 19,
   "metadata": {},
   "outputs": [
    {
     "name": "stdout",
     "output_type": "stream",
     "text": [
      "23.0\n",
      "<class 'float'>\n"
     ]
    }
   ],
   "source": [
    "a = 12.5 + 10.5\n",
    "print(a)\n",
    "print(type(a))"
   ]
  },
  {
   "cell_type": "code",
   "execution_count": 21,
   "metadata": {},
   "outputs": [
    {
     "name": "stdout",
     "output_type": "stream",
     "text": [
      "6.0\n",
      "<class 'float'>\n"
     ]
    }
   ],
   "source": [
    "a = 12. / 2\n",
    "print(a)\n",
    "print(type(a))"
   ]
  },
  {
   "cell_type": "markdown",
   "metadata": {},
   "source": [
    "To summarize:\n",
    "- **int** (+ or - or \\*) **int** = **int**\n",
    "- **float** (+ or - or \\*) **float** = **float**\n",
    "- **int** / **int** = **float**\n",
    "- **int** / **float** = **float**\n",
    "- **float** / **float** = **float**"
   ]
  },
  {
   "cell_type": "markdown",
   "metadata": {},
   "source": [
    "### Integer and Float conversion (Cast)"
   ]
  },
  {
   "cell_type": "markdown",
   "metadata": {},
   "source": [
    "Using **_float( )_** and **_int( )_** we can convert integers to floats and vice versa:"
   ]
  },
  {
   "cell_type": "code",
   "execution_count": 27,
   "metadata": {},
   "outputs": [
    {
     "name": "stdout",
     "output_type": "stream",
     "text": [
      "45\n",
      "347\n"
     ]
    }
   ],
   "source": [
    "print(int(45.89)) # convert float to int\n",
    "print(int('347')) # convert string to int"
   ]
  },
  {
   "cell_type": "code",
   "execution_count": null,
   "metadata": {},
   "outputs": [],
   "source": [
    "\"\"\"if you want to convert a string to int, the string MUST have\n",
    "the form of an integer\"\"\"\n",
    "print(int('56.76')) # this one doesn't work!"
   ]
  },
  {
   "cell_type": "code",
   "execution_count": 30,
   "metadata": {},
   "outputs": [
    {
     "name": "stdout",
     "output_type": "stream",
     "text": [
      "56\n"
     ]
    }
   ],
   "source": [
    "print(int(float('56.76'))) # this one does, why?"
   ]
  },
  {
   "cell_type": "code",
   "execution_count": 32,
   "metadata": {},
   "outputs": [
    {
     "data": {
      "text/plain": [
       "4.0"
      ]
     },
     "execution_count": 32,
     "metadata": {},
     "output_type": "execute_result"
    }
   ],
   "source": [
    "# The same thing is not true for converting string to float.\n",
    "# it means the conversion works even if the string doesn't have the form of a \n",
    "# float\n",
    "float('4')"
   ]
  },
  {
   "cell_type": "markdown",
   "metadata": {},
   "source": [
    "  "
   ]
  },
  {
   "cell_type": "markdown",
   "metadata": {},
   "source": [
    "<img src=\"Images/student.svg\"   width=\"30\" align=\"left\">               "
   ]
  },
  {
   "cell_type": "markdown",
   "metadata": {},
   "source": [
    "**YOUR TURN :** Considering **a = 3.14**, which code results in 3 ?"
   ]
  },
  {
   "cell_type": "markdown",
   "metadata": {},
   "source": [
    "- A : floor(a)\n",
    "- B: float(int(a))\n",
    "- C : int(10 // a)\n",
    "- D : None of above"
   ]
  },
  {
   "cell_type": "markdown",
   "metadata": {},
   "source": [
    "## Strings"
   ]
  },
  {
   "cell_type": "markdown",
   "metadata": {},
   "source": [
    "Strings can hold almost anything in character form, including text, symbols, and digits.\n",
    "\n",
    "As an example let's take a look at a list (more on lists later) with 7 strings inside:"
   ]
  },
  {
   "cell_type": "code",
   "execution_count": null,
   "metadata": {},
   "outputs": [],
   "source": [
    "['a simple text',\n",
    "\"R3a11ySm4rTP@$swo0rD\",\n",
    "'navidnobani',\n",
    "'1366',\n",
    "'7945-1414 box',\n",
    "\"cane\",\n",
    "\"\"\"I really hate these \n",
    "        !@$&ing trains\"\"\"]"
   ]
  },
  {
   "cell_type": "markdown",
   "metadata": {},
   "source": [
    "Roughly, we can define strings as : everything that comes between ' ', \" \" or \"\"\" \"\"\". (Remember that this is a simplistic definition and not the whole story!). You may ask why we need to have three different ways to create a string? that's a good question! While no matter which you use, the outcome is always the same string object (For example for python 'cane', \"cane\" and \"\"\"cane\"\"\" are exactly the same), there are certain situations which you should use them wisely. Suppose we want to create the following string:\n",
    "\n",
    "> **I can't go to work today**\n",
    "\n",
    "let's try to use \" \" first:"
   ]
  },
  {
   "cell_type": "code",
   "execution_count": 20,
   "metadata": {},
   "outputs": [
    {
     "data": {
      "text/plain": [
       "\"I can't go to work today\""
      ]
     },
     "execution_count": 20,
     "metadata": {},
     "output_type": "execute_result"
    }
   ],
   "source": [
    "\"I can't go to work today\" # works perfectly!"
   ]
  },
  {
   "cell_type": "markdown",
   "metadata": {},
   "source": [
    "and now \"\"\" \"\"\":"
   ]
  },
  {
   "cell_type": "code",
   "execution_count": 21,
   "metadata": {},
   "outputs": [
    {
     "data": {
      "text/plain": [
       "\"I can't go to work today\""
      ]
     },
     "execution_count": 21,
     "metadata": {},
     "output_type": "execute_result"
    }
   ],
   "source": [
    "\"\"\"I can't go to work today\"\"\" # another success! :D"
   ]
  },
  {
   "cell_type": "markdown",
   "metadata": {},
   "source": [
    "and finally   ' '  :"
   ]
  },
  {
   "cell_type": "code",
   "execution_count": 22,
   "metadata": {},
   "outputs": [
    {
     "ename": "SyntaxError",
     "evalue": "invalid syntax (<ipython-input-22-62eb89c1839b>, line 1)",
     "output_type": "error",
     "traceback": [
      "\u001b[0;36m  File \u001b[0;32m\"<ipython-input-22-62eb89c1839b>\"\u001b[0;36m, line \u001b[0;32m1\u001b[0m\n\u001b[0;31m    'I can't go to work today'\u001b[0m\n\u001b[0m           ^\u001b[0m\n\u001b[0;31mSyntaxError\u001b[0m\u001b[0;31m:\u001b[0m invalid syntax\n"
     ]
    }
   ],
   "source": [
    "'I can't go to work today'"
   ]
  },
  {
   "cell_type": "markdown",
   "metadata": {},
   "source": [
    "Wait, what is **invalid syntax** now! We get such an error when Python thinks what you have written doesn't make sense! To understand better what is a **Syntax Error** let's see an example of natural language:\n",
    "- This is a correct sentence $\\rightarrow $ *Marco easts sandwich* $\\rightarrow $ (noun) (verb) (noun)\n",
    "- This is a **Syntactically wrong** sentence $\\rightarrow $ *Marco cat sandwich* $\\rightarrow $ (noun) (noun) (noun)\n",
    "\n",
    "So does it mean any (noun) (verb) (noun) gives us a correct combination? Yes and No! Yes because (noun) (verb) (noun) is a **Syntactically correct** sentence but it might still be meaningless $\\rightarrow $ Marco listens sandwich ( It has a **static semantic error** )\n",
    "\n",
    "The same thing exists in Python:\n",
    "- *'Seven'11* is Syntactically wrong because Python can't  understand what do you mean by (str)(int) $\\rightarrow $ **SyntaxError**\n",
    "\n",
    "- *'seven' * 'two'* is also wrong but not Syntactically because although Python can understand what is your goal, (multiplying two strings) it can't do it $\\rightarrow $ **TypeError**\n",
    "\n",
    "\n",
    "Back to our exampole in the last cell, can you figure out what is the problem? (of course you can!)\n",
    "There are two solutions here:\n",
    "- using alternative strings as we did before (' ' or \" \" )\n",
    "- using a character scape : In Python (and other programming languages) certain characters has a reserved role. It means not all the characters for python have the same characteristic behind the scene. In order to force Python to ignore the special role of certain characters like **\\'** or **\\\"** we can use a backslash :"
   ]
  },
  {
   "cell_type": "code",
   "execution_count": 27,
   "metadata": {},
   "outputs": [
    {
     "data": {
      "text/plain": [
       "\"I can't go to work today\""
      ]
     },
     "execution_count": 27,
     "metadata": {},
     "output_type": "execute_result"
    }
   ],
   "source": [
    "'I can\\'t go to work today'"
   ]
  },
  {
   "cell_type": "markdown",
   "metadata": {},
   "source": [
    "Now let's try to write a multi-line string :"
   ]
  },
  {
   "cell_type": "code",
   "execution_count": 28,
   "metadata": {},
   "outputs": [
    {
     "ename": "SyntaxError",
     "evalue": "EOL while scanning string literal (<ipython-input-28-d14d2b016c36>, line 1)",
     "output_type": "error",
     "traceback": [
      "\u001b[0;36m  File \u001b[0;32m\"<ipython-input-28-d14d2b016c36>\"\u001b[0;36m, line \u001b[0;32m1\u001b[0m\n\u001b[0;31m    'some\u001b[0m\n\u001b[0m         ^\u001b[0m\n\u001b[0;31mSyntaxError\u001b[0m\u001b[0;31m:\u001b[0m EOL while scanning string literal\n"
     ]
    }
   ],
   "source": [
    "'some\n",
    "thing\n",
    "long'"
   ]
  },
  {
   "cell_type": "code",
   "execution_count": 29,
   "metadata": {},
   "outputs": [
    {
     "ename": "SyntaxError",
     "evalue": "EOL while scanning string literal (<ipython-input-29-3044f7f10f02>, line 1)",
     "output_type": "error",
     "traceback": [
      "\u001b[0;36m  File \u001b[0;32m\"<ipython-input-29-3044f7f10f02>\"\u001b[0;36m, line \u001b[0;32m1\u001b[0m\n\u001b[0;31m    \"some\u001b[0m\n\u001b[0m         ^\u001b[0m\n\u001b[0;31mSyntaxError\u001b[0m\u001b[0;31m:\u001b[0m EOL while scanning string literal\n"
     ]
    }
   ],
   "source": [
    "\"some\n",
    "thing\n",
    "long\""
   ]
  },
  {
   "cell_type": "code",
   "execution_count": 31,
   "metadata": {},
   "outputs": [
    {
     "data": {
      "text/plain": [
       "'some\\nthing\\nlong'"
      ]
     },
     "execution_count": 31,
     "metadata": {},
     "output_type": "execute_result"
    }
   ],
   "source": [
    "\"\"\"some\n",
    "thing\n",
    "long\"\"\""
   ]
  },
  {
   "cell_type": "markdown",
   "metadata": {},
   "source": [
    "Well' it seems working but what are those weird **\\n** s in the middle? **\\n** is one of the [Python literals](https://docs.python.org/2.0/ref/strings.html) that is used to indicated a new line. We don't go into details here but remember what we have said before about the characters with special meaning and how sometimes we need to escape them. As the last example let's try to make a string of the current notebook's path:\n",
    "\n",
    "**C:\\Documents\\Newsletters\\Summer2018.pdf**"
   ]
  },
  {
   "cell_type": "code",
   "execution_count": 18,
   "metadata": {},
   "outputs": [
    {
     "ename": "SyntaxError",
     "evalue": "(unicode error) 'unicodeescape' codec can't decode bytes in position 12-13: malformed \\N character escape (<ipython-input-18-fec08ede76cf>, line 1)",
     "output_type": "error",
     "traceback": [
      "\u001b[0;36m  File \u001b[0;32m\"<ipython-input-18-fec08ede76cf>\"\u001b[0;36m, line \u001b[0;32m1\u001b[0m\n\u001b[0;31m    'C:\\Documents\\Newsletters\\Summer2018.pdf'\u001b[0m\n\u001b[0m                                             ^\u001b[0m\n\u001b[0;31mSyntaxError\u001b[0m\u001b[0;31m:\u001b[0m (unicode error) 'unicodeescape' codec can't decode bytes in position 12-13: malformed \\N character escape\n"
     ]
    }
   ],
   "source": [
    "'C:\\Documents\\Newsletters\\Summer2018.pdf'"
   ]
  },
  {
   "cell_type": "markdown",
   "metadata": {},
   "source": [
    "As you can see we're getting a SyntaxError again. The reason is that Python thinks we want to use \\n but we wrote \\N instead. Since our goal here is not to indicate a new line (\\n) but to use **\\\\** as part of string, we need to escape this special character. How can we do it?\n",
    "\n",
    "By using **\\\\** itself! When Python sees **\\\\** is understands that you don't want to use special meaning of **\\\\** but you actually need to use backslash itself:"
   ]
  },
  {
   "cell_type": "code",
   "execution_count": 40,
   "metadata": {},
   "outputs": [
    {
     "data": {
      "text/plain": [
       "'C:\\\\Documents\\\\Newsletters\\\\Summer2018.pdf'"
      ]
     },
     "execution_count": 40,
     "metadata": {},
     "output_type": "execute_result"
    }
   ],
   "source": [
    "'C:\\Documents\\\\Newsletters\\Summer2018.pdf'"
   ]
  },
  {
   "cell_type": "markdown",
   "metadata": {},
   "source": [
    "Before going to the next part which is about string operations, let's do  quick recap about what we have seen before. As you remember we've said that we can convert floats to integers (cast them) and vice versa and also a string to float or integer. The same thing exists in the contrary way: we can convert integers and floats to strings:"
   ]
  },
  {
   "cell_type": "code",
   "execution_count": 1,
   "metadata": {},
   "outputs": [
    {
     "name": "stdout",
     "output_type": "stream",
     "text": [
      "73456\n",
      "<class 'int'>\n"
     ]
    }
   ],
   "source": [
    "customer_id = 73456\n",
    "print(customer_id)\n",
    "print(type(customer_id))"
   ]
  },
  {
   "cell_type": "code",
   "execution_count": 2,
   "metadata": {},
   "outputs": [
    {
     "name": "stdout",
     "output_type": "stream",
     "text": [
      "73456\n",
      "<class 'str'>\n"
     ]
    }
   ],
   "source": [
    "customer_id_str = str(customer_id)\n",
    "print(customer_id_str)\n",
    "print(type(customer_id_str))"
   ]
  },
  {
   "cell_type": "markdown",
   "metadata": {},
   "source": [
    "### Common string operations"
   ]
  },
  {
   "cell_type": "markdown",
   "metadata": {},
   "source": [
    "Having a string, you can apply on it a wide variety of string methods in order to modify it. There are dozens of operations which you can find [here](https://docs.python.org/2/library/string.html). We'll see together the mostly used ones:"
   ]
  },
  {
   "cell_type": "markdown",
   "metadata": {},
   "source": [
    "#### Split"
   ]
  },
  {
   "cell_type": "markdown",
   "metadata": {},
   "source": [
    "Returns a list of pieces of original string cut on the indicated string."
   ]
  },
  {
   "cell_type": "code",
   "execution_count": 49,
   "metadata": {},
   "outputs": [
    {
     "name": "stdout",
     "output_type": "stream",
     "text": [
      "This is a Python course\n",
      "['This', 'is', 'a', 'Python', 'course']\n"
     ]
    }
   ],
   "source": [
    "text = 'This is a Python course'\n",
    "print(text)\n",
    "text = text.split(sep=' ')\n",
    "print(text)"
   ]
  },
  {
   "cell_type": "code",
   "execution_count": 23,
   "metadata": {},
   "outputs": [
    {
     "name": "stdout",
     "output_type": "stream",
     "text": [
      "I saw the guy, and suddenly he disappeared\n",
      "['I', 'saw', 'the', 'guy,', 'and', 'suddenly', 'he', 'disappeared']\n"
     ]
    }
   ],
   "source": [
    "text = 'I saw the guy, and suddenly he disappeared'\n",
    "print(text)\n",
    "text = text.split() # notice that I wrote ',' instead of sep=','\n",
    "print(text)"
   ]
  },
  {
   "cell_type": "markdown",
   "metadata": {},
   "source": [
    "#### Slicing"
   ]
  },
  {
   "cell_type": "markdown",
   "metadata": {},
   "source": [
    "Cutting the string in a way to have new string which is the subset of the original string.\n",
    "\n",
    "Actually, before explaining slicing, we need to learn a principal concept in Python : Indexing.\n",
    "Suppose you have a box with 11 pens in it. If you want to take out them one by one and count them, most probably you'll go with:\n",
    "- One\n",
    "- Two\n",
    "- ...\n",
    "- Eleven\n",
    "\n",
    "It means, you're using a 1-based index, you indicate the first item with number 1. Python on the other hand, uses a 0-based index. It means it refers to the first object as number(index) 0. So to count the pens in our example, Python goes:\n",
    "- Zero\n",
    "- One\n",
    "- ...\n",
    "- ten\n",
    "\n",
    "Ok, now that we know how Python indexing works, we can see string indexing.\n",
    "In Python Indexing/slicing is not limited to strings, instead, we can slice/index any object that can be considered as a group of objects. That being said, It should be clear now that for example the string: \"cane\" while considered as a string object is also seen as a container(not as a technical definition) of \"c\", \"a\", \"n\" and \"e\" with indexes 0, 1, 2 and 3. It means we can slice this string using their indexes. Let's see an example:\n",
    "\n",
    "suppose we have this string: \"NEW YORK\" and we want to get the first 3 letters. The indexes are show below:\n",
    "\n",
    "<img src=\"Images/slice.png\" width=\"500\">\n",
    "\n"
   ]
  },
  {
   "cell_type": "code",
   "execution_count": 27,
   "metadata": {},
   "outputs": [
    {
     "data": {
      "text/plain": [
       "''"
      ]
     },
     "execution_count": 27,
     "metadata": {},
     "output_type": "execute_result"
    }
   ],
   "source": [
    "text[40:80]"
   ]
  },
  {
   "cell_type": "code",
   "execution_count": 25,
   "metadata": {},
   "outputs": [
    {
     "name": "stdout",
     "output_type": "stream",
     "text": [
      "E\n",
      "NEW\n",
      "\n",
      "NEW\n",
      "YORK\n"
     ]
    }
   ],
   "source": [
    "text = 'NEW YORK'\n",
    "print(text[1]) # E: second letter\n",
    "\n",
    "print(text[0:3]) # NEW\n",
    "print(text[40:80]) # YORK\n",
    "\n",
    "print(text[:3]) # NEW\n",
    "print(text[4:]) # YORK"
   ]
  },
  {
   "cell_type": "markdown",
   "metadata": {},
   "source": [
    "Indexes can be address not only from the beginning but also from the end:\n",
    "\n",
    "<img src=\"Images/slice_2.png\" width=\"500\"> "
   ]
  },
  {
   "cell_type": "code",
   "execution_count": 20,
   "metadata": {},
   "outputs": [
    {
     "name": "stdout",
     "output_type": "stream",
     "text": [
      "E\n",
      "NEW\n",
      "\n",
      "NEW\n",
      "YORK\n"
     ]
    }
   ],
   "source": [
    "text = 'NEW YORK'\n",
    "print(text[-7]) # E: second letter\n",
    "\n",
    "print(text[-8:-5]) # NEW\n",
    "print(text[-4:]) # YORK\n",
    "\n",
    "print(text[:-5]) # NEW\n",
    "print(text[-4:]) # YORK"
   ]
  },
  {
   "cell_type": "markdown",
   "metadata": {},
   "source": [
    "Slicing has other options which give you more control. We won't cover them here but in this [site](https://www.pythoncentral.io/cutting-and-slicing-strings-in-python/) you can find some interesting examples."
   ]
  },
  {
   "cell_type": "markdown",
   "metadata": {},
   "source": [
    "\n",
    "\n",
    "\n",
    "\n"
   ]
  },
  {
   "cell_type": "markdown",
   "metadata": {},
   "source": [
    "#### Replace"
   ]
  },
  {
   "cell_type": "markdown",
   "metadata": {},
   "source": [
    "Returns a new version of the original string in which the str_to_be_replaced instances are replaced with str_to_be_replaced_with:"
   ]
  },
  {
   "cell_type": "code",
   "execution_count": 47,
   "metadata": {},
   "outputs": [
    {
     "name": "stdout",
     "output_type": "stream",
     "text": [
      "I love my cat\n"
     ]
    }
   ],
   "source": [
    "text = 'I love my dog'\n",
    "print(text.replace('dog', 'cat'))"
   ]
  },
  {
   "cell_type": "markdown",
   "metadata": {},
   "source": [
    "#### Concatenation"
   ]
  },
  {
   "cell_type": "markdown",
   "metadata": {},
   "source": [
    "concatenation allows you to create new strings but concatenating existing string together , using \"+\":"
   ]
  },
  {
   "cell_type": "code",
   "execution_count": 37,
   "metadata": {},
   "outputs": [
    {
     "name": "stdout",
     "output_type": "stream",
     "text": [
      "Hello World!\n"
     ]
    }
   ],
   "source": [
    "text_1 = 'Hello'\n",
    "text_2 = 'World!'\n",
    "text_3 = text_1 + ' ' + text_2\n",
    "\n",
    "print(text_3)"
   ]
  },
  {
   "cell_type": "markdown",
   "metadata": {},
   "source": [
    "\n",
    "\n",
    " \n",
    " "
   ]
  },
  {
   "cell_type": "markdown",
   "metadata": {},
   "source": [
    "#### Strip"
   ]
  },
  {
   "cell_type": "markdown",
   "metadata": {},
   "source": [
    "Removes the given string from the beginning and end of the original string. Note: Like split( ) function, the default value of strip( ) function is space so if you run my_text.strip( ), it cleans my_text string from starting and ending spaces."
   ]
  },
  {
   "cell_type": "code",
   "execution_count": 27,
   "metadata": {
    "scrolled": true
   },
   "outputs": [
    {
     "name": "stdout",
     "output_type": "stream",
     "text": [
      "Pirelli Spa\n",
      "Continental \n",
      "Python***\n"
     ]
    }
   ],
   "source": [
    "text_1 = ' Pirelli Spa '\n",
    "print(text_1.strip())\n",
    "\n",
    "text_2 = 'Continental -'\n",
    "print(text_2.strip('-').strip())\n",
    "\n",
    "text_3 = '*Python***'\n",
    "print(text_3.lstrip('*')) # There is also \"rsplit\""
   ]
  },
  {
   "cell_type": "markdown",
   "metadata": {},
   "source": [
    "\n",
    "\n",
    "\n",
    "\n"
   ]
  },
  {
   "cell_type": "markdown",
   "metadata": {},
   "source": [
    "Although not string operations, **print** and **len** function are Python built-in functions (more on this later) which can be used with different data types like strings, numbers, lists,..."
   ]
  },
  {
   "cell_type": "markdown",
   "metadata": {},
   "source": [
    "#### Printing a string"
   ]
  },
  {
   "cell_type": "markdown",
   "metadata": {},
   "source": [
    "**print** function prints(!) the input to the stdout(standard output). Note that not all the Python objects can be printed out."
   ]
  },
  {
   "cell_type": "code",
   "execution_count": 42,
   "metadata": {},
   "outputs": [
    {
     "name": "stdout",
     "output_type": "stream",
     "text": [
      "something\n",
      "----------------------------------------\n",
      "just a short text\n",
      "----------------------------------------\n",
      "My name is Navid\n",
      "----------------------------------------\n",
      "University of Bicocca\n",
      "----------------------------------------\n",
      "folder1/folder2/folder3/file\n"
     ]
    }
   ],
   "source": [
    "print('something')\n",
    "print('-'*40)\n",
    "\n",
    "text = 'just a short text'\n",
    "print(text)\n",
    "print('-'*40)\n",
    "\n",
    "text_1 = 'My name is'\n",
    "text_2 = 'Navid'\n",
    "print(text_1, text_2)\n",
    "print('-'*40)\n",
    "\n",
    "text_3 = 'University'\n",
    "text_4 = 'of'\n",
    "text_5 = 'Bicocca'\n",
    "print(text_3, text_4, text_5)\n",
    "print('-'*40)\n",
    "\n",
    "text_6 = 'folder1'\n",
    "text_7 = 'folder2'\n",
    "text_8 = 'folder3'\n",
    "text_9 = 'file'\n",
    "print(text_6, text_7, text_8, text_9, sep='/')"
   ]
  },
  {
   "cell_type": "markdown",
   "metadata": {},
   "source": [
    "#### String  length"
   ]
  },
  {
   "cell_type": "markdown",
   "metadata": {},
   "source": [
    "**len** returns the number of characters in the given string:"
   ]
  },
  {
   "cell_type": "code",
   "execution_count": 48,
   "metadata": {},
   "outputs": [
    {
     "name": "stdout",
     "output_type": "stream",
     "text": [
      "7\n",
      "6\n",
      "7\n"
     ]
    }
   ],
   "source": [
    "print(len('bicocca'))\n",
    "print(len('AC DC!'))\n",
    "print(len(' cane 1'))"
   ]
  },
  {
   "cell_type": "markdown",
   "metadata": {},
   "source": [
    "   "
   ]
  },
  {
   "cell_type": "markdown",
   "metadata": {},
   "source": [
    "<img src=\"Images/baby.svg\"   width=\"30\" align=\"left\">               "
   ]
  },
  {
   "cell_type": "markdown",
   "metadata": {},
   "source": [
    "**YOUR TURN :** Replace the spaces in the **target** with the 10th character of the **source**:"
   ]
  },
  {
   "cell_type": "code",
   "execution_count": 45,
   "metadata": {},
   "outputs": [
    {
     "data": {
      "text/plain": [
       "'pPHpPHpPHsSHsSHsSHcCHcCHcC'"
      ]
     },
     "execution_count": 45,
     "metadata": {},
     "output_type": "execute_result"
    }
   ],
   "source": [
    "char_10 = source[9]\n",
    "target.replace(' ', char_10)"
   ]
  },
  {
   "cell_type": "code",
   "execution_count": 44,
   "metadata": {},
   "outputs": [],
   "source": [
    "source = '\\'\\'\\'ChUpAcHuPs\"/\"/\"/\"'\n",
    "target = 'pP pP pP sS sS sS cC cC cC'"
   ]
  },
  {
   "cell_type": "code",
   "execution_count": null,
   "metadata": {},
   "outputs": [],
   "source": [
    "(\\   .-.   .-.   .-.   .-.   .-.   .-.   .-.   .-.   /_\")\n",
    " \\\\_//^\\\\_//^\\\\_//^\\\\_//^\\\\_//^\\\\_//^\\\\_//^\\\\_//^\\\\_//\n",
    "  `\"`   `\"`   `\"`   `\"`   `\"`   `\"`   `\"`   `\"`   `\"`"
   ]
  },
  {
   "cell_type": "markdown",
   "metadata": {},
   "source": [
    "#### Other operations"
   ]
  },
  {
   "cell_type": "markdown",
   "metadata": {},
   "source": [
    "There are some operations that perform a transformation on strings:"
   ]
  },
  {
   "cell_type": "code",
   "execution_count": 46,
   "metadata": {},
   "outputs": [
    {
     "name": "stdout",
     "output_type": "stream",
     "text": [
      "milan\n",
      "MILAN\n",
      "Milan\n"
     ]
    }
   ],
   "source": [
    "text = 'MilaN'\n",
    "print(text.lower())\n",
    "print(text.upper())\n",
    "print(text.title())"
   ]
  },
  {
   "cell_type": "markdown",
   "metadata": {},
   "source": [
    "Being a strongly typed language, Python doesn't let you to use operations on objects unrelated to them. For example \"'Cat' + 3\" gives you a \"TypeError\" since addition operation is for numerical objects not strings:"
   ]
  },
  {
   "cell_type": "code",
   "execution_count": 31,
   "metadata": {},
   "outputs": [
    {
     "ename": "TypeError",
     "evalue": "unsupported operand type(s) for -: 'str' and 'int'",
     "output_type": "error",
     "traceback": [
      "\u001b[0;31m---------------------------------------------------------------------------\u001b[0m",
      "\u001b[0;31mTypeError\u001b[0m                                 Traceback (most recent call last)",
      "\u001b[0;32m<ipython-input-31-4e0850bb4bbf>\u001b[0m in \u001b[0;36m<module>\u001b[0;34m\u001b[0m\n\u001b[0;32m----> 1\u001b[0;31m \u001b[0;34m'cat'\u001b[0m \u001b[0;34m-\u001b[0m \u001b[0;36m3\u001b[0m\u001b[0;34m\u001b[0m\u001b[0;34m\u001b[0m\u001b[0m\n\u001b[0m",
      "\u001b[0;31mTypeError\u001b[0m: unsupported operand type(s) for -: 'str' and 'int'"
     ]
    }
   ],
   "source": [
    "'cat' - 3"
   ]
  },
  {
   "cell_type": "markdown",
   "metadata": {},
   "source": [
    "But at the same time, there are some exceptions. For example \"'cat' * 3\" works since Python assume that you want to repeat the string 'cat' , 3 times:"
   ]
  },
  {
   "cell_type": "code",
   "execution_count": 33,
   "metadata": {},
   "outputs": [
    {
     "data": {
      "text/plain": [
       "'catcatcat'"
      ]
     },
     "execution_count": 33,
     "metadata": {},
     "output_type": "execute_result"
    }
   ],
   "source": [
    "'cat' * 3"
   ]
  },
  {
   "cell_type": "markdown",
   "metadata": {},
   "source": [
    "\n",
    "\n",
    "\n",
    "\n"
   ]
  },
  {
   "cell_type": "markdown",
   "metadata": {},
   "source": [
    "## Booleans"
   ]
  },
  {
   "cell_type": "markdown",
   "metadata": {},
   "source": [
    "Booleans are are another core data type of Python which consist of only two values: **True** and **False**. Boolean values are mainly used when we're somehow comparing different values together. (More on comparisons later).\n",
    "In Python True has a value of 1 while False's value is 0. We can check this fact by converting them to integer:"
   ]
  },
  {
   "cell_type": "code",
   "execution_count": 39,
   "metadata": {},
   "outputs": [
    {
     "name": "stdout",
     "output_type": "stream",
     "text": [
      "1\n",
      "0\n"
     ]
    }
   ],
   "source": [
    "print(int(True))\n",
    "print(int(False))"
   ]
  },
  {
   "cell_type": "markdown",
   "metadata": {},
   "source": [
    "## Lists"
   ]
  },
  {
   "cell_type": "markdown",
   "metadata": {},
   "source": [
    "Lists are one of the most common sequence objects in Python which provide a collection of arbitrary type objects. Lists have several characteristics, like:\n",
    "- List can contain objects with different data types in the same time.\n",
    "- They are mutable.\n",
    "- There is no limit for their length."
   ]
  },
  {
   "cell_type": "code",
   "execution_count": 52,
   "metadata": {},
   "outputs": [],
   "source": [
    "list_A = [1, 'A', 234, 'BATMAN']\n",
    "list_B = ['Na',' Nana', 'Nanana']\n",
    "list_C = [134.05, 87.13, 109, 13.14, 530000, 19]"
   ]
  },
  {
   "cell_type": "markdown",
   "metadata": {},
   "source": [
    "let's use some of functions we have used with Strings, this time with lists:"
   ]
  },
  {
   "cell_type": "code",
   "execution_count": 56,
   "metadata": {},
   "outputs": [
    {
     "name": "stdout",
     "output_type": "stream",
     "text": [
      "[1, 'A', 234, 'BATMAN']\n",
      "3\n",
      "13.14\n",
      "['A', 234]\n",
      "['Na', ' Nana', 'Nanana']\n"
     ]
    }
   ],
   "source": [
    "print(list_A) # print\n",
    "print(len(list_B)) # len\n",
    "print(list_C[3]) # slice : asking for just one item\n",
    "print(list_A[1:3]) # we're asking two items so the result will be a list\n",
    "print(list_B[:])"
   ]
  },
  {
   "cell_type": "markdown",
   "metadata": {},
   "source": [
    "Just like Strings, we can concatenate lists together:"
   ]
  },
  {
   "cell_type": "code",
   "execution_count": 84,
   "metadata": {},
   "outputs": [
    {
     "data": {
      "text/plain": [
       "[1, 'ABC', 1.0, [4, 98, 11.567]]"
      ]
     },
     "execution_count": 84,
     "metadata": {},
     "output_type": "execute_result"
    }
   ],
   "source": [
    "[1, 'ABC'] + [1.0, [4, 98, 11.567]]\n",
    "# the same result can be achieved by using the following :\n",
    "# [1, 'ABC'].extend([1.0, [4, 98, 11.567]])"
   ]
  },
  {
   "cell_type": "markdown",
   "metadata": {},
   "source": [
    "Using **append** method we can add new items to the end of a list:"
   ]
  },
  {
   "cell_type": "code",
   "execution_count": 67,
   "metadata": {},
   "outputs": [
    {
     "name": "stdout",
     "output_type": "stream",
     "text": [
      "['A', 'B', 'C', 'D']\n"
     ]
    }
   ],
   "source": [
    "my_list = ['A', 'B', 'C']\n",
    "word = 'D'\n",
    "my_list.append(word)\n",
    "print(my_list)"
   ]
  },
  {
   "cell_type": "markdown",
   "metadata": {},
   "source": [
    "While append adds the new item at the end of the list, using **insert** you can insert the item in any inex you want:"
   ]
  },
  {
   "cell_type": "code",
   "execution_count": 51,
   "metadata": {},
   "outputs": [
    {
     "name": "stdout",
     "output_type": "stream",
     "text": [
      "['a', 'bar', 'ham', 'foo']\n"
     ]
    }
   ],
   "source": [
    "my_list = ['a', 'bar', 'foo']\n",
    "my_list.insert(-1, 'ham') # it's equal to my_list.append('ham')\n",
    "print(my_list)"
   ]
  },
  {
   "cell_type": "code",
   "execution_count": 55,
   "metadata": {},
   "outputs": [
    {
     "name": "stdout",
     "output_type": "stream",
     "text": [
      "[4, 5, 1, 9]\n",
      "[9, 5, 4, 1]\n",
      "[1, 4, 5, 9]\n",
      "------------------------------\n",
      "[4, 9, 1, 8, 0]\n",
      "[0, 1, 4, 8, 9]\n",
      "[4, 9, 1, 8, 0]\n"
     ]
    }
   ],
   "source": [
    "small = [4, 5, 1, 9]\n",
    "print(small)\n",
    "small.sort(reverse=True) # Note that sort is an in-place function\n",
    "print(small)\n",
    "small.sort(reverse=False)\n",
    "print(small)\n",
    "\n",
    "print('-'*30)\n",
    "\n",
    "# unlike sort(), sorted creates a new copy of the list and doesn't change \n",
    "# the original list\n",
    "original = [4, 9, 1, 8, 0]\n",
    "print(original)\n",
    "print(sorted(original))\n",
    "print(original)"
   ]
  },
  {
   "cell_type": "markdown",
   "metadata": {},
   "source": [
    "**remove**, **pop** and **del** are used to remove an item from a list:"
   ]
  },
  {
   "cell_type": "code",
   "execution_count": 56,
   "metadata": {},
   "outputs": [
    {
     "name": "stdout",
     "output_type": "stream",
     "text": [
      "['B', 'C', 'A', 'D', 'A']\n"
     ]
    }
   ],
   "source": [
    "# remove\n",
    "\n",
    "list_1 = ['A', 'B', 'C', 'A', 'D', 'A']\n",
    "list_1.remove('A')\n",
    "print(list_1)"
   ]
  },
  {
   "cell_type": "code",
   "execution_count": 80,
   "metadata": {},
   "outputs": [
    {
     "name": "stdout",
     "output_type": "stream",
     "text": [
      "[1, 2, 4, 5, 6]\n",
      "[1, 2, 3, 4, 5]\n"
     ]
    }
   ],
   "source": [
    "# pop\n",
    "\n",
    "list_2 = [1, 2, 3, 4, 5, 6]\n",
    "list_2.pop(2)\n",
    "print(list_2)\n",
    "\n",
    "list_2 = [1, 2, 3, 4, 5, 6]\n",
    "list_2.pop()\n",
    "print(list_2)"
   ]
  },
  {
   "cell_type": "code",
   "execution_count": 82,
   "metadata": {},
   "outputs": [
    {
     "name": "stdout",
     "output_type": "stream",
     "text": [
      "[1, 2, 4, 5, 6]\n",
      "[1, 2, 3]\n"
     ]
    }
   ],
   "source": [
    "# del\n",
    "\n",
    "list_2 = [1, 2, 3, 4, 5, 6]\n",
    "del list_2[2]\n",
    "print(list_2)\n",
    "\n",
    "list_2 = [1, 2, 3, 4, 5, 6]\n",
    "del list_2[3:]\n",
    "print(list_2)"
   ]
  },
  {
   "cell_type": "markdown",
   "metadata": {},
   "source": [
    "Lists are mutable, it means we can change their contents in-place:"
   ]
  },
  {
   "cell_type": "code",
   "execution_count": 105,
   "metadata": {},
   "outputs": [
    {
     "name": "stdout",
     "output_type": "stream",
     "text": [
      "['spam', 'ham', 'bar', 'foo']\n"
     ]
    }
   ],
   "source": [
    "some_list = ['spam', 'ham', 'car', 'foo']\n",
    "some_list[2] = 'bar'\n",
    "print(some_list)"
   ]
  },
  {
   "cell_type": "markdown",
   "metadata": {},
   "source": [
    "As the last thing, let's see how can we check if an item is in a list or not:"
   ]
  },
  {
   "cell_type": "code",
   "execution_count": 40,
   "metadata": {},
   "outputs": [
    {
     "name": "stdout",
     "output_type": "stream",
     "text": [
      "True\n"
     ]
    }
   ],
   "source": [
    "target_1 = 11\n",
    "my_vals = [1, 56, 876, 32, 11, 6, 9]\n",
    "\n",
    "print(target_1 in my_vals)"
   ]
  },
  {
   "cell_type": "markdown",
   "metadata": {},
   "source": [
    "It may seems useless since you can easily see if a certain value exists in a list but remember that not always deal with small lists which you can simply visualize. \n",
    "\n",
    "By using **not in** instead of **in** we can check if an item doesn't exists in a list:"
   ]
  },
  {
   "cell_type": "code",
   "execution_count": 42,
   "metadata": {},
   "outputs": [
    {
     "name": "stdout",
     "output_type": "stream",
     "text": [
      "False\n"
     ]
    }
   ],
   "source": [
    "target_2 = 32\n",
    "print(target_2 not in my_vals)"
   ]
  },
  {
   "cell_type": "markdown",
   "metadata": {},
   "source": [
    "   "
   ]
  },
  {
   "cell_type": "markdown",
   "metadata": {},
   "source": [
    "<img src=\"Images/student.svg\"   width=\"30\" align=\"left\">               "
   ]
  },
  {
   "cell_type": "markdown",
   "metadata": {},
   "source": [
    "**YOUR TURN :** Using slicing, get the letter **x** from final_list :"
   ]
  },
  {
   "cell_type": "code",
   "execution_count": 67,
   "metadata": {},
   "outputs": [
    {
     "name": "stdout",
     "output_type": "stream",
     "text": [
      "Original : [1, 4, 8, 'foo']\n",
      "First change : [1, 4, ['ham', '1', 2, 6], 'foo']\n",
      "Second change : [1, 4, ['ham', '1', 2, ['4', '2', 'xyz', '6']], 'foo']\n"
     ]
    }
   ],
   "source": [
    "my_list = [1, 4, 8, 'foo']\n",
    "your_list = ['ham', '1', 2, 6]\n",
    "his_list = ['4', '2', 'xyz', '6']\n",
    "\n",
    "\n",
    "print(f'Original : {my_list}')\n",
    "my_list[-2] = your_list\n",
    "\n",
    "print(f'First change : {my_list}')\n",
    "my_list[-2][-1] = his_list\n",
    "\n",
    "print(f'Second change : {my_list}')\n",
    "final_list = my_list"
   ]
  },
  {
   "cell_type": "code",
   "execution_count": 66,
   "metadata": {},
   "outputs": [
    {
     "data": {
      "text/plain": [
       "'x'"
      ]
     },
     "execution_count": 66,
     "metadata": {},
     "output_type": "execute_result"
    }
   ],
   "source": [
    "final_list[2][3][2][0]"
   ]
  },
  {
   "cell_type": "markdown",
   "metadata": {},
   "source": [
    "## Dictionaries"
   ]
  },
  {
   "cell_type": "markdown",
   "metadata": {},
   "source": [
    "Dictionaries, Like a lists, are built-in sequence objects which can contain different data types. The main difference between lists and dictionaries is that unlike lists, dictionaries are not ordered collection of items, and as a result you can access their contents using indexes and positions. Instead dictionaries can be accessed using a key:value method."
   ]
  },
  {
   "cell_type": "code",
   "execution_count": 108,
   "metadata": {},
   "outputs": [
    {
     "name": "stdout",
     "output_type": "stream",
     "text": [
      "X\n"
     ]
    }
   ],
   "source": [
    "dict_1 = {'A': 1, 'B': 3, 'D': 'X'}\n",
    "print(dict_1['D'])"
   ]
  },
  {
   "cell_type": "markdown",
   "metadata": {},
   "source": [
    "Adding items to a dictionary is easy. Just remember that you can't just add a value like, 10, but you also need to add a key:value pair:"
   ]
  },
  {
   "cell_type": "code",
   "execution_count": 68,
   "metadata": {},
   "outputs": [],
   "source": [
    "shirt = {'color': 'red', 'size': 'M', 'quantity': 15}"
   ]
  },
  {
   "cell_type": "code",
   "execution_count": 69,
   "metadata": {},
   "outputs": [
    {
     "data": {
      "text/plain": [
       "15"
      ]
     },
     "execution_count": 69,
     "metadata": {},
     "output_type": "execute_result"
    }
   ],
   "source": [
    "shirt['quantity']"
   ]
  },
  {
   "cell_type": "code",
   "execution_count": 117,
   "metadata": {},
   "outputs": [
    {
     "name": "stdout",
     "output_type": "stream",
     "text": [
      "{'color': 'red', 'size': 'M', 'quantity': 15, 'price': 45}\n"
     ]
    }
   ],
   "source": [
    "shirt['price'] = 45\n",
    "print(shirt)"
   ]
  },
  {
   "cell_type": "markdown",
   "metadata": {},
   "source": [
    "Create a dictionary with your **name, age, city**"
   ]
  },
  {
   "cell_type": "code",
   "execution_count": 70,
   "metadata": {},
   "outputs": [],
   "source": [
    "new_dict = {'name' : 'Navid', 'age': 31, 'city': 'Milan'}"
   ]
  },
  {
   "cell_type": "code",
   "execution_count": 71,
   "metadata": {},
   "outputs": [
    {
     "name": "stdout",
     "output_type": "stream",
     "text": [
      "{'name': 'Navid', 'age': 31, 'city': 'Milan'}\n"
     ]
    }
   ],
   "source": [
    "print(new_dict)"
   ]
  },
  {
   "cell_type": "markdown",
   "metadata": {},
   "source": [
    "In the same way you can remove a key:value pair:"
   ]
  },
  {
   "cell_type": "code",
   "execution_count": 121,
   "metadata": {},
   "outputs": [
    {
     "name": "stdout",
     "output_type": "stream",
     "text": [
      "{'color': 'red', 'quantity': 15, 'price': 45}\n"
     ]
    }
   ],
   "source": [
    "del shirt['size']\n",
    "print(shirt)"
   ]
  },
  {
   "cell_type": "markdown",
   "metadata": {},
   "source": [
    "Some useful methods:"
   ]
  },
  {
   "cell_type": "code",
   "execution_count": 123,
   "metadata": {},
   "outputs": [
    {
     "name": "stdout",
     "output_type": "stream",
     "text": [
      "dict_keys(['color', 'quantity', 'price'])\n",
      "dict_values(['red', 15, 45])\n"
     ]
    }
   ],
   "source": [
    "print(shirt.keys())\n",
    "print(shirt.values())"
   ]
  },
  {
   "cell_type": "markdown",
   "metadata": {},
   "source": [
    "## Tuples"
   ]
  },
  {
   "cell_type": "markdown",
   "metadata": {},
   "source": [
    "Tuples are very similar to lists but unlike lists, are not mutable. It means you can't modify them in-place as you can do with lists. (But still you can access their contents using indexes):"
   ]
  },
  {
   "cell_type": "code",
   "execution_count": 125,
   "metadata": {},
   "outputs": [
    {
     "name": "stdout",
     "output_type": "stream",
     "text": [
      "foo\n"
     ]
    }
   ],
   "source": [
    "my_tuple = (1, 3, 'foo')\n",
    "print(my_tuple[2])"
   ]
  },
  {
   "cell_type": "code",
   "execution_count": 126,
   "metadata": {},
   "outputs": [
    {
     "ename": "TypeError",
     "evalue": "'tuple' object does not support item assignment",
     "output_type": "error",
     "traceback": [
      "\u001b[0;31m---------------------------------------------------------------------------\u001b[0m",
      "\u001b[0;31mTypeError\u001b[0m                                 Traceback (most recent call last)",
      "\u001b[0;32m<ipython-input-126-cab1511fedb5>\u001b[0m in \u001b[0;36m<module>\u001b[0;34m\u001b[0m\n\u001b[0;32m----> 1\u001b[0;31m \u001b[0mmy_tuple\u001b[0m\u001b[0;34m[\u001b[0m\u001b[0;36m0\u001b[0m\u001b[0;34m]\u001b[0m \u001b[0;34m=\u001b[0m \u001b[0;34m'ham'\u001b[0m\u001b[0;34m\u001b[0m\u001b[0;34m\u001b[0m\u001b[0m\n\u001b[0m",
      "\u001b[0;31mTypeError\u001b[0m: 'tuple' object does not support item assignment"
     ]
    }
   ],
   "source": [
    "my_tuple[0] = 'ham'"
   ]
  },
  {
   "cell_type": "markdown",
   "metadata": {},
   "source": [
    "## Files"
   ]
  },
  {
   "cell_type": "markdown",
   "metadata": {},
   "source": [
    "Technically speaking files are categorized as one of the core python data types (like strings, lists,...) while actually they are external objects saved on your machine which are imported to Python using python built-in functions like **open**. Python, either using built-in function or external libraries is able to read from and write to a wide range of files. Here we'll going to see three commonly used files: *.txt , .csv* and *.json* files."
   ]
  },
  {
   "cell_type": "markdown",
   "metadata": {},
   "source": [
    "### Text files"
   ]
  },
  {
   "cell_type": "code",
   "execution_count": 73,
   "metadata": {},
   "outputs": [],
   "source": [
    "# creating a new file and writing to it\n",
    "file = open('first_text_file.txt', 'w')\n",
    "file.write('Navid Nobani')\n",
    "file.close()"
   ]
  },
  {
   "cell_type": "code",
   "execution_count": 74,
   "metadata": {},
   "outputs": [],
   "source": [
    "# openning an existing file and writing to it\n",
    "file = open('first_text_file.txt', 'a')\n",
    "file.write('\\nanother line!')\n",
    "file.close()"
   ]
  },
  {
   "cell_type": "code",
   "execution_count": 77,
   "metadata": {},
   "outputs": [
    {
     "name": "stdout",
     "output_type": "stream",
     "text": [
      "Hello World!\n",
      "\n"
     ]
    }
   ],
   "source": [
    "# openning an existing file and reading from it\n",
    "file = open('first_text_file.txt', 'r')\n",
    "line = file.readline()\n",
    "print(line)\n",
    "file.close()"
   ]
  },
  {
   "cell_type": "markdown",
   "metadata": {},
   "source": [
    "As you have noticed, in order to read from/write to a file, we do these steps:\n",
    "- open/create a file\n",
    "- read from/write to it\n",
    "- close the file\n",
    "\n",
    "Just like opening and actions you do on the file, closing it is absolutely important since having an open instance uses your RAM and slows down your script. Actually there is a better way to manage opening and closing files which is using content managers. Given our limited time we can't go in details here but fortunately using them is easy. Look at the following example:"
   ]
  },
  {
   "cell_type": "code",
   "execution_count": 79,
   "metadata": {},
   "outputs": [],
   "source": [
    "with open('first_text_file.txt', 'w') as file:\n",
    "    file.write('Some funny text :D')"
   ]
  },
  {
   "cell_type": "markdown",
   "metadata": {},
   "source": [
    "This is equal to the following code:"
   ]
  },
  {
   "cell_type": "code",
   "execution_count": 80,
   "metadata": {},
   "outputs": [],
   "source": [
    "# creating a new file and writing to it\n",
    "file = open('second_text_file.txt', 'w')\n",
    "file.write('Some funny text :D')\n",
    "file.close()"
   ]
  },
  {
   "cell_type": "markdown",
   "metadata": {},
   "source": [
    "### CSV Files"
   ]
  },
  {
   "cell_type": "markdown",
   "metadata": {},
   "source": [
    "There are two main ways to open a csv file: \n",
    "- using [csv module](https://docs.python.org/3/library/csv.html) ( which comes with python)\n",
    "- or using [pandas library](https://pandas.pydata.org/) (which you should install it first)\n",
    "\n",
    "*[This site](https://realpython.com/python-csv/) has a rich explanation about csv files in Python.*\n",
    "\n",
    "first let's take a look at csv library:"
   ]
  },
  {
   "cell_type": "code",
   "execution_count": 75,
   "metadata": {},
   "outputs": [
    {
     "ename": "FileNotFoundError",
     "evalue": "[Errno 2] No such file or directory: './files/data/camdenhousesales15.csv'",
     "output_type": "error",
     "traceback": [
      "\u001b[0;31m---------------------------------------------------------------------------\u001b[0m",
      "\u001b[0;31mFileNotFoundError\u001b[0m                         Traceback (most recent call last)",
      "\u001b[0;32m<ipython-input-75-dae3d361b94c>\u001b[0m in \u001b[0;36m<module>\u001b[0;34m\u001b[0m\n\u001b[1;32m      1\u001b[0m \u001b[0;32mimport\u001b[0m \u001b[0mcsv\u001b[0m \u001b[0;31m# NEW STUFF !\u001b[0m\u001b[0;34m\u001b[0m\u001b[0;34m\u001b[0m\u001b[0m\n\u001b[1;32m      2\u001b[0m \u001b[0;34m\u001b[0m\u001b[0m\n\u001b[0;32m----> 3\u001b[0;31m \u001b[0;32mwith\u001b[0m \u001b[0mopen\u001b[0m\u001b[0;34m(\u001b[0m\u001b[0;34m'./files/data/camdenhousesales15.csv'\u001b[0m\u001b[0;34m)\u001b[0m \u001b[0;32mas\u001b[0m \u001b[0mcsv_file\u001b[0m\u001b[0;34m:\u001b[0m\u001b[0;34m\u001b[0m\u001b[0;34m\u001b[0m\u001b[0m\n\u001b[0m\u001b[1;32m      4\u001b[0m     \u001b[0mcsv_reader\u001b[0m \u001b[0;34m=\u001b[0m \u001b[0mcsv\u001b[0m\u001b[0;34m.\u001b[0m\u001b[0mreader\u001b[0m\u001b[0;34m(\u001b[0m\u001b[0mcsv_file\u001b[0m\u001b[0;34m,\u001b[0m \u001b[0mdelimiter\u001b[0m\u001b[0;34m=\u001b[0m\u001b[0;34m','\u001b[0m\u001b[0;34m)\u001b[0m\u001b[0;34m\u001b[0m\u001b[0;34m\u001b[0m\u001b[0m\n\u001b[1;32m      5\u001b[0m     \u001b[0;32mfor\u001b[0m \u001b[0mrow\u001b[0m \u001b[0;32min\u001b[0m \u001b[0mcsv_reader\u001b[0m\u001b[0;34m:\u001b[0m \u001b[0;31m# NEW STUFF !\u001b[0m\u001b[0;34m\u001b[0m\u001b[0;34m\u001b[0m\u001b[0m\n",
      "\u001b[0;31mFileNotFoundError\u001b[0m: [Errno 2] No such file or directory: './files/data/camdenhousesales15.csv'"
     ]
    }
   ],
   "source": [
    "import csv # NEW STUFF !\n",
    "\n",
    "with open('./files/data/camdenhousesales15.csv') as csv_file:\n",
    "    csv_reader = csv.reader(csv_file, delimiter=',')\n",
    "    for row in csv_reader: # NEW STUFF !\n",
    "        print(row)"
   ]
  },
  {
   "cell_type": "markdown",
   "metadata": {},
   "source": [
    "For working with csv files (specially the big ones!) I personally prefer pandas library over csv module. Later in the course we'll briefly learn about pandas but let's have a sneak peek now!"
   ]
  },
  {
   "cell_type": "code",
   "execution_count": 87,
   "metadata": {},
   "outputs": [
    {
     "data": {
      "text/html": [
       "<div>\n",
       "<style scoped>\n",
       "    .dataframe tbody tr th:only-of-type {\n",
       "        vertical-align: middle;\n",
       "    }\n",
       "\n",
       "    .dataframe tbody tr th {\n",
       "        vertical-align: top;\n",
       "    }\n",
       "\n",
       "    .dataframe thead th {\n",
       "        text-align: right;\n",
       "    }\n",
       "</style>\n",
       "<table border=\"1\" class=\"dataframe\">\n",
       "  <thead>\n",
       "    <tr style=\"text-align: right;\">\n",
       "      <th></th>\n",
       "      <th>UID</th>\n",
       "      <th>Price</th>\n",
       "      <th>Date</th>\n",
       "      <th>Street</th>\n",
       "      <th>District</th>\n",
       "      <th>Region</th>\n",
       "      <th>Postcode</th>\n",
       "      <th>oseast1m</th>\n",
       "      <th>osnrth1m</th>\n",
       "    </tr>\n",
       "  </thead>\n",
       "  <tbody>\n",
       "    <tr>\n",
       "      <th>0</th>\n",
       "      <td>597034</td>\n",
       "      <td>22500000</td>\n",
       "      <td>06/12/2015 0:00</td>\n",
       "      <td>AVENUE ROAD</td>\n",
       "      <td>CAMDEN</td>\n",
       "      <td>GREATER LONDON</td>\n",
       "      <td>NW86HS</td>\n",
       "      <td>527076</td>\n",
       "      <td>183790</td>\n",
       "    </tr>\n",
       "    <tr>\n",
       "      <th>1</th>\n",
       "      <td>594622</td>\n",
       "      <td>15200000</td>\n",
       "      <td>11/04/2015 0:00</td>\n",
       "      <td>GREENAWAY GARDENS</td>\n",
       "      <td>CAMDEN</td>\n",
       "      <td>GREATER LONDON</td>\n",
       "      <td>NW37DJ</td>\n",
       "      <td>525813</td>\n",
       "      <td>185524</td>\n",
       "    </tr>\n",
       "    <tr>\n",
       "      <th>2</th>\n",
       "      <td>594696</td>\n",
       "      <td>13500000</td>\n",
       "      <td>03/10/2015 0:00</td>\n",
       "      <td>TEMPLEWOOD AVENUE</td>\n",
       "      <td>CAMDEN</td>\n",
       "      <td>GREATER LONDON</td>\n",
       "      <td>NW37XA</td>\n",
       "      <td>525779</td>\n",
       "      <td>186084</td>\n",
       "    </tr>\n",
       "    <tr>\n",
       "      <th>3</th>\n",
       "      <td>594592</td>\n",
       "      <td>10500000</td>\n",
       "      <td>09/14/2015 0:00</td>\n",
       "      <td>CHURCH ROW</td>\n",
       "      <td>CAMDEN</td>\n",
       "      <td>GREATER LONDON</td>\n",
       "      <td>NW36UU</td>\n",
       "      <td>526159</td>\n",
       "      <td>185603</td>\n",
       "    </tr>\n",
       "    <tr>\n",
       "      <th>4</th>\n",
       "      <td>515677</td>\n",
       "      <td>8950000</td>\n",
       "      <td>10/30/2015 0:00</td>\n",
       "      <td>THE GROVE</td>\n",
       "      <td>CAMDEN</td>\n",
       "      <td>GREATER LONDON</td>\n",
       "      <td>N66JU</td>\n",
       "      <td>528177</td>\n",
       "      <td>187307</td>\n",
       "    </tr>\n",
       "    <tr>\n",
       "      <th>5</th>\n",
       "      <td>592992</td>\n",
       "      <td>8750000</td>\n",
       "      <td>09/01/2015 0:00</td>\n",
       "      <td>ST GEORGES TERRACE</td>\n",
       "      <td>CAMDEN</td>\n",
       "      <td>GREATER LONDON</td>\n",
       "      <td>NW18XH</td>\n",
       "      <td>527818</td>\n",
       "      <td>184013</td>\n",
       "    </tr>\n",
       "    <tr>\n",
       "      <th>6</th>\n",
       "      <td>592670</td>\n",
       "      <td>8500000</td>\n",
       "      <td>11/12/2015 0:00</td>\n",
       "      <td>CHESTER TERRACE</td>\n",
       "      <td>CAMDEN</td>\n",
       "      <td>GREATER LONDON</td>\n",
       "      <td>NW14ND</td>\n",
       "      <td>528756</td>\n",
       "      <td>182768</td>\n",
       "    </tr>\n",
       "    <tr>\n",
       "      <th>7</th>\n",
       "      <td>594265</td>\n",
       "      <td>8300000</td>\n",
       "      <td>08/19/2015 0:00</td>\n",
       "      <td>BELSIZE PARK</td>\n",
       "      <td>CAMDEN</td>\n",
       "      <td>GREATER LONDON</td>\n",
       "      <td>NW34EE</td>\n",
       "      <td>526693</td>\n",
       "      <td>184611</td>\n",
       "    </tr>\n",
       "    <tr>\n",
       "      <th>8</th>\n",
       "      <td>594623</td>\n",
       "      <td>8000000</td>\n",
       "      <td>02/13/2015 0:00</td>\n",
       "      <td>GREENAWAY GARDENS</td>\n",
       "      <td>CAMDEN</td>\n",
       "      <td>GREATER LONDON</td>\n",
       "      <td>NW37DJ</td>\n",
       "      <td>525813</td>\n",
       "      <td>185524</td>\n",
       "    </tr>\n",
       "  </tbody>\n",
       "</table>\n",
       "</div>"
      ],
      "text/plain": [
       "      UID     Price             Date              Street District  \\\n",
       "0  597034  22500000  06/12/2015 0:00         AVENUE ROAD   CAMDEN   \n",
       "1  594622  15200000  11/04/2015 0:00   GREENAWAY GARDENS   CAMDEN   \n",
       "2  594696  13500000  03/10/2015 0:00   TEMPLEWOOD AVENUE   CAMDEN   \n",
       "3  594592  10500000  09/14/2015 0:00          CHURCH ROW   CAMDEN   \n",
       "4  515677   8950000  10/30/2015 0:00           THE GROVE   CAMDEN   \n",
       "5  592992   8750000  09/01/2015 0:00  ST GEORGES TERRACE   CAMDEN   \n",
       "6  592670   8500000  11/12/2015 0:00     CHESTER TERRACE   CAMDEN   \n",
       "7  594265   8300000  08/19/2015 0:00        BELSIZE PARK   CAMDEN   \n",
       "8  594623   8000000  02/13/2015 0:00   GREENAWAY GARDENS   CAMDEN   \n",
       "\n",
       "           Region Postcode  oseast1m  osnrth1m  \n",
       "0  GREATER LONDON   NW86HS    527076    183790  \n",
       "1  GREATER LONDON   NW37DJ    525813    185524  \n",
       "2  GREATER LONDON   NW37XA    525779    186084  \n",
       "3  GREATER LONDON   NW36UU    526159    185603  \n",
       "4  GREATER LONDON    N66JU    528177    187307  \n",
       "5  GREATER LONDON   NW18XH    527818    184013  \n",
       "6  GREATER LONDON   NW14ND    528756    182768  \n",
       "7  GREATER LONDON   NW34EE    526693    184611  \n",
       "8  GREATER LONDON   NW37DJ    525813    185524  "
      ]
     },
     "execution_count": 87,
     "metadata": {},
     "output_type": "execute_result"
    }
   ],
   "source": [
    "import pandas as pd\n",
    "\n",
    "df = pd.read_csv('./files/data/camdenhousesales15.csv')\n",
    "df"
   ]
  },
  {
   "cell_type": "markdown",
   "metadata": {},
   "source": [
    "The table you see in the previous cell is a \"DataFrame\" one of the most important non-core data types you'll use in data science field. We'll learn more about dataframes later in the course."
   ]
  },
  {
   "cell_type": "markdown",
   "metadata": {},
   "source": [
    "# Functions"
   ]
  },
  {
   "cell_type": "markdown",
   "metadata": {},
   "source": [
    "Python functions are a bundle of code that perform a specific functionality if this functionality is going to be reused later in another part of the code. "
   ]
  },
  {
   "cell_type": "markdown",
   "metadata": {},
   "source": [
    "Suppose we want to perform some simple statistics on a list of numbers:"
   ]
  },
  {
   "cell_type": "code",
   "execution_count": 55,
   "metadata": {},
   "outputs": [
    {
     "name": "stdout",
     "output_type": "stream",
     "text": [
      "0.2883400052995804\n",
      "0.49948825007353703\n",
      "0.5006297820093312\n",
      "5.536675737993768e-06\n",
      "0.999992042302966\n"
     ]
    }
   ],
   "source": [
    "import numpy as np\n",
    "np.random.seed(42)\n",
    "\n",
    "data = np.random.rand(1,100_000).tolist()[0]\n",
    "std = np.std(data)\n",
    "mean = np.mean(data)\n",
    "median = np.median(data)\n",
    "min_val = min(data)\n",
    "max_val = max(data)\n",
    "for val in [std, mean, median, min_val, max_val]:\n",
    "    print(val)"
   ]
  },
  {
   "cell_type": "markdown",
   "metadata": {},
   "source": [
    "Ok, we did it! but what if we now want to repeat these processes for another list of numbers. We have two options:\n",
    "    \n",
    "- Updating the data variable with a new list\n",
    "- Re-write all the steps for another list\n",
    "\n",
    "Both these solutions are bad! or at least not Pythonic. The correct way to deal with such a task is to pack them as a function."
   ]
  },
  {
   "cell_type": "markdown",
   "metadata": {},
   "source": [
    "## Built-in functions"
   ]
  },
  {
   "cell_type": "markdown",
   "metadata": {},
   "source": [
    "Until this point, we have many functions without knowing the exact definition of a function! We've seen:\n",
    "\n",
    "- print\n",
    "- len\n",
    "- max\n",
    "- min\n",
    "\n",
    "These are just few example of hundreds of functions that are part of core python language (it means to use them you don't need to import any library/package). A function always has the following structure:\n",
    "\n",
    "<img src=\"Images/function.png\" width=\"500\"> \n",
    "\n",
    "Parameters are inputs that functions may or may not need in order to perform their desired tasks. For example lats take a look at **print** function which take a string as input and prints it."
   ]
  },
  {
   "cell_type": "code",
   "execution_count": 25,
   "metadata": {},
   "outputs": [
    {
     "name": "stdout",
     "output_type": "stream",
     "text": [
      "My shiny text!\n",
      "\n",
      "X+++Y+++Z\n",
      "X Y Z +++ °°°\n"
     ]
    }
   ],
   "source": [
    "print('My shiny text!')\n",
    "print() # prints an empty line\n",
    "print('X', 'Y', 'Z', sep='+++', end='\\n')\n",
    "print('X', 'Y', 'Z', '+++', '°°°')"
   ]
  },
  {
   "cell_type": "markdown",
   "metadata": {},
   "source": [
    "you can see that print accepts zero , one or (technically) infinite number of parameters. Let's see another built-in function : **map**\n",
    "\n",
    "**map** returns a special iterable with type \"map\":"
   ]
  },
  {
   "cell_type": "code",
   "execution_count": 42,
   "metadata": {},
   "outputs": [
    {
     "data": {
      "text/plain": [
       "[-1.567, 0.2, -65.0]"
      ]
     },
     "execution_count": 42,
     "metadata": {},
     "output_type": "execute_result"
    }
   ],
   "source": [
    "my_list = ['-1.567', '0.2', '-65']\n",
    "list(map(float, my_list))"
   ]
  },
  {
   "cell_type": "markdown",
   "metadata": {},
   "source": [
    "map takes either no parameter and returns an empty list or takes two or more parameters.(let's say the function we want to apply and the iterable we want to apply function to). It means it won't work with just one parameter(function or iterable) and we will get a \"TypeError\" message."
   ]
  },
  {
   "cell_type": "markdown",
   "metadata": {},
   "source": [
    "  "
   ]
  },
  {
   "cell_type": "markdown",
   "metadata": {},
   "source": [
    "<img src=\"Images/student.svg\"   width=\"30\" align=\"left\">               "
   ]
  },
  {
   "cell_type": "markdown",
   "metadata": {},
   "source": [
    "**YOUR TURN :** using **map** and **abs** functions, create a list with the absolute value of the list's items."
   ]
  },
  {
   "cell_type": "code",
   "execution_count": 76,
   "metadata": {},
   "outputs": [
    {
     "data": {
      "text/plain": [
       "[1, 5.5, 9, 123, 65]"
      ]
     },
     "execution_count": 76,
     "metadata": {},
     "output_type": "execute_result"
    }
   ],
   "source": [
    "new_list = [-1, 5.5, -9, -123, 65]\n",
    "list(map(abs, new_list))"
   ]
  },
  {
   "cell_type": "markdown",
   "metadata": {},
   "source": [
    "## Custom functions"
   ]
  },
  {
   "cell_type": "markdown",
   "metadata": {},
   "source": [
    "Although there are numerous built-in and third-party modules and packages ready to be used by you, there are some tasks that are too specific which you can't find any existing module/function to do that task for you. In these cases ( which happen a lot) we need to write our own functions.\n",
    "Consider the initial example we saw at the beginning of the \"functions\", calculating some simple statistics."
   ]
  },
  {
   "cell_type": "code",
   "execution_count": 85,
   "metadata": {},
   "outputs": [],
   "source": [
    "def simple_stat(data, log=True):\n",
    "    \"\"\"Calculating simple statistics of a given list.\n",
    "    \n",
    "    For the the given list of numbers, calculates standard deviation, \n",
    "    Mean, Median, Minimum and Maximum statistics.\n",
    "\n",
    "    Args:\n",
    "        data : A list of numerical data.\n",
    "        log: If True, prints a simple report.\n",
    "        \n",
    "    Returns:\n",
    "        Return a list of the given numbers\n",
    "    \"\"\"\n",
    "    std = np.std(data)\n",
    "    mean = np.mean(data)\n",
    "    median = np.median(data)\n",
    "    min_val = min(data)\n",
    "    max_val = max(data)\n",
    "    \n",
    "    vals = [std, mean, median, min_val, max_val]\n",
    "    names = ['Standard deviation', 'Mean', 'Median', 'Min', 'Max']\n",
    "    \n",
    "    if log:\n",
    "        for name, val in zip(names, vals):\n",
    "            print(f'{name} : {val}')\n",
    "            #print(f'{name} : {round(val, 2)}')\n",
    "    return vals"
   ]
  },
  {
   "cell_type": "code",
   "execution_count": 79,
   "metadata": {},
   "outputs": [],
   "source": [
    "def simple_stat(data):\n",
    "    \n",
    "    std = np.std(data)\n",
    "    mean = np.mean(data)\n",
    "    median = np.median(data)\n",
    "    min_val = min(data)\n",
    "    max_val = max(data)\n",
    "    \n",
    "    vals = [std, mean, median, min_val, max_val]\n",
    "    names = ['Standard deviation', 'Mean', 'Median', 'Min', 'Max']\n",
    "    \n",
    "    for name, val in zip(names, vals):\n",
    "        print(f'{name} : {val}')\n",
    "    return vals"
   ]
  },
  {
   "cell_type": "code",
   "execution_count": 81,
   "metadata": {},
   "outputs": [],
   "source": [
    "import numpy as np"
   ]
  },
  {
   "cell_type": "code",
   "execution_count": 86,
   "metadata": {},
   "outputs": [
    {
     "name": "stdout",
     "output_type": "stream",
     "text": [
      "Standard deviation : 0.29\n",
      "Mean : 0.5\n",
      "Median : 0.5\n",
      "Min : 0.0\n",
      "Max : 1.0\n"
     ]
    }
   ],
   "source": [
    "np.random.seed(42)\n",
    "\n",
    "data = np.random.rand(1,100_000).tolist()[0]\n",
    "results = simple_stat(data)"
   ]
  },
  {
   "cell_type": "markdown",
   "metadata": {},
   "source": [
    "Following figure shows the structure of a custom function:\n",
    "\n",
    "<img src=\"Images/function_detail.png\" width=\"900\"> "
   ]
  },
  {
   "cell_type": "markdown",
   "metadata": {},
   "source": [
    "<img src=\"Images/student.svg\"   width=\"30\" align=\"left\">               "
   ]
  },
  {
   "cell_type": "markdown",
   "metadata": {},
   "source": [
    "**YOUR TURN :** \n",
    "\n",
    "- Using **round** function, modify the *simple_stat* in a way that returns the 2-digit rounded values.\n",
    "- Add *range* statistics to results"
   ]
  },
  {
   "cell_type": "code",
   "execution_count": 84,
   "metadata": {},
   "outputs": [
    {
     "data": {
      "text/plain": [
       "134.4564"
      ]
     },
     "execution_count": 84,
     "metadata": {},
     "output_type": "execute_result"
    }
   ],
   "source": [
    "round(134.456435453, 4)"
   ]
  },
  {
   "cell_type": "code",
   "execution_count": null,
   "metadata": {},
   "outputs": [],
   "source": [
    "(\\   .-.   .-.   .-.   .-.   .-.   .-.   .-.   .-.   /_\")\n",
    " \\\\_//^\\\\_//^\\\\_//^\\\\_//^\\\\_//^\\\\_//^\\\\_//^\\\\_//^\\\\_//\n",
    "  `\"`   `\"`   `\"`   `\"`   `\"`   `\"`   `\"`   `\"`   `\"`"
   ]
  },
  {
   "cell_type": "markdown",
   "metadata": {},
   "source": [
    "## Lambda functions"
   ]
  },
  {
   "cell_type": "markdown",
   "metadata": {},
   "source": [
    "Lambda functions are smaller and simpler version of normal function which come handy when we use **functional programming** features of Python. Providing a technical definition of functional programming is way beyond scope of our mini-course but in a nutshell, it means using functions as arguments of other functions. \n",
    "Let's first see the example of map function we saw:"
   ]
  },
  {
   "cell_type": "code",
   "execution_count": 58,
   "metadata": {},
   "outputs": [
    {
     "data": {
      "text/plain": [
       "[-1.567, 0.2, -65.0]"
      ]
     },
     "execution_count": 58,
     "metadata": {},
     "output_type": "execute_result"
    }
   ],
   "source": [
    "my_list = ['-1.567', '0.2', '-65']\n",
    "list(map(float, my_list))"
   ]
  },
  {
   "cell_type": "markdown",
   "metadata": {},
   "source": [
    "Now suppose that on top of changing the data types from str to float, we want to add 100 to each of them. remember how map function . works? It applies the first argument you give to it (in this case, float) to the sequence you pass as the second argument (in our example: my_list). So it's clear that we need to somehow change float to *something* that also adds 100 to each item. This *something* either should be *type* or a *function*. Ok, based on whjat we have learned until this point, create a custom function which does what we want:"
   ]
  },
  {
   "cell_type": "code",
   "execution_count": 59,
   "metadata": {},
   "outputs": [],
   "source": [
    "def float_plus_100(number):\n",
    "    \"\"\"Converts the given number to float and adds 100 to it\n",
    "    \n",
    "    args:\n",
    "        number : int or float\n",
    "        \n",
    "    returns:\n",
    "        float\n",
    "    \"\"\"\n",
    "    return float(number) + 100"
   ]
  },
  {
   "cell_type": "markdown",
   "metadata": {},
   "source": [
    "Ok, our function is ready. Let's test it:"
   ]
  },
  {
   "cell_type": "code",
   "execution_count": 60,
   "metadata": {},
   "outputs": [
    {
     "data": {
      "text/plain": [
       "103.14"
      ]
     },
     "execution_count": 60,
     "metadata": {},
     "output_type": "execute_result"
    }
   ],
   "source": [
    "float_plus_100('3.14')"
   ]
  },
  {
   "cell_type": "markdown",
   "metadata": {},
   "source": [
    "It works! Now we can add it to our map function:"
   ]
  },
  {
   "cell_type": "code",
   "execution_count": 61,
   "metadata": {},
   "outputs": [
    {
     "data": {
      "text/plain": [
       "[98.433, 100.2, 35.0]"
      ]
     },
     "execution_count": 61,
     "metadata": {},
     "output_type": "execute_result"
    }
   ],
   "source": [
    "list(map(float_plus_100, my_list))"
   ]
  },
  {
   "cell_type": "markdown",
   "metadata": {},
   "source": [
    "We did it! The only problem is in order to perform such a simple task we had to write a function, which most probably we're not going to use it again! That's why lambda functions exist! Let's re-write or code using lambda:"
   ]
  },
  {
   "cell_type": "code",
   "execution_count": 62,
   "metadata": {},
   "outputs": [
    {
     "data": {
      "text/plain": [
       "[98.433, 100.2, 35.0]"
      ]
     },
     "execution_count": 62,
     "metadata": {},
     "output_type": "execute_result"
    }
   ],
   "source": [
    "list(map(lambda x : float(x)+100, my_list))"
   ]
  },
  {
   "cell_type": "markdown",
   "metadata": {},
   "source": [
    "As you can see, we did the same thing without defining any function. In the following figure you can see the comparison between a lambda function and its corespondent function:\n",
    "\n",
    "<img src=\"Images/lambda.png\" width=\"800\"> "
   ]
  },
  {
   "cell_type": "markdown",
   "metadata": {},
   "source": [
    "Such a comparison may indicate that lambda functions are the definite choice but in reality, we use functions way more than we use lambdas since dealing with real data, often we should perform tasks that are too complex to be written as a lambda function."
   ]
  },
  {
   "cell_type": "markdown",
   "metadata": {},
   "source": [
    "# Control Flow"
   ]
  },
  {
   "cell_type": "markdown",
   "metadata": {},
   "source": [
    "Until now, we've works with single items. for example we sliced a string, or write a file. But what if we want to do something (perform an action) on a sequence of objects? The first type of loops we explore is for loops."
   ]
  },
  {
   "cell_type": "markdown",
   "metadata": {},
   "source": [
    "## For statement"
   ]
  },
  {
   "cell_type": "markdown",
   "metadata": {},
   "source": [
    "Suppose that we have a list of our colleagues year of births and we want to calculate their ages, print them and put them in a new list called ages:"
   ]
  },
  {
   "cell_type": "code",
   "execution_count": 88,
   "metadata": {},
   "outputs": [],
   "source": [
    "years = [1987, 1990, 1980, 1973]\n",
    "ages = [] # creating an empty list"
   ]
  },
  {
   "cell_type": "markdown",
   "metadata": {},
   "source": [
    "We know how to get a list's items using indexes. So what if we take each item and subtract it from 2019?"
   ]
  },
  {
   "cell_type": "code",
   "execution_count": 89,
   "metadata": {},
   "outputs": [
    {
     "name": "stdout",
     "output_type": "stream",
     "text": [
      "32\n",
      "29\n",
      "39\n",
      "46\n"
     ]
    }
   ],
   "source": [
    "age_1 = 2019 - years[0]\n",
    "print(age_1)\n",
    "ages.append(age_1)\n",
    "\n",
    "age_2 = 2019 - years[1]\n",
    "print(age_2)\n",
    "ages.append(age_2)\n",
    "\n",
    "age_3 = 2019 - years[2]\n",
    "print(age_3)\n",
    "ages.append(age_3)\n",
    "\n",
    "age_4 = 2019 - years[3]\n",
    "print(age_4)\n",
    "ages.append(age_4)"
   ]
  },
  {
   "cell_type": "code",
   "execution_count": 90,
   "metadata": {},
   "outputs": [
    {
     "name": "stdout",
     "output_type": "stream",
     "text": [
      "[32, 29, 39, 46]\n"
     ]
    }
   ],
   "source": [
    "print(ages)"
   ]
  },
  {
   "cell_type": "markdown",
   "metadata": {},
   "source": [
    "Ok, we did what we've we asked for! but I think you agree that it wasn't quite efficient as we've written more than 12 lines of code to perform three simple operations on 4 items! imagine you want to calculate the age of all Bicocca employees! Fortunately we for repetitive tasks like this( when we are dealing with sequence objects like lists, tuples, dictionaries or strings) we can use loops. In this case we're going to use a for loop:"
   ]
  },
  {
   "cell_type": "code",
   "execution_count": 98,
   "metadata": {},
   "outputs": [
    {
     "name": "stdout",
     "output_type": "stream",
     "text": [
      "32\n",
      "29\n",
      "39\n",
      "46\n"
     ]
    }
   ],
   "source": [
    "ages = []\n",
    "for year in years:\n",
    "    age = 2019 - year\n",
    "    print(age)\n",
    "    ages.append(age)"
   ]
  },
  {
   "cell_type": "markdown",
   "metadata": {},
   "source": [
    "This is the general structure of a for loop:\n",
    "\n",
    "<img src=\"Images/for_loop.png\" width=\"500\"> "
   ]
  },
  {
   "cell_type": "markdown",
   "metadata": {},
   "source": [
    "*Notice: for loops can have an \"else\" clause but we're not going to talk about them here*"
   ]
  },
  {
   "cell_type": "markdown",
   "metadata": {},
   "source": [
    "  "
   ]
  },
  {
   "cell_type": "markdown",
   "metadata": {},
   "source": [
    "<img src=\"Images/baby.svg\"   width=\"30\" align=\"left\">               "
   ]
  },
  {
   "cell_type": "markdown",
   "metadata": {},
   "source": [
    "**YOUR TURN**:\n",
    "In the previous example, Why can't we define the empty list inside the loop instead of outside it?"
   ]
  },
  {
   "cell_type": "code",
   "execution_count": null,
   "metadata": {},
   "outputs": [],
   "source": [
    "(\\   .-.   .-.   .-.   .-.   .-.   .-.   .-.   .-.   /_\")\n",
    " \\\\_//^\\\\_//^\\\\_//^\\\\_//^\\\\_//^\\\\_//^\\\\_//^\\\\_//^\\\\_//\n",
    "  `\"`   `\"`   `\"`   `\"`   `\"`   `\"`   `\"`   `\"`   `\"`"
   ]
  },
  {
   "cell_type": "markdown",
   "metadata": {},
   "source": [
    "## While statement"
   ]
  },
  {
   "cell_type": "markdown",
   "metadata": {},
   "source": [
    "While loops has a similar objective as for loops but while for loops, in theory iterate through all the items in the provided sequence, a while loop goes forward until meeting a certain condition.\n",
    "Suppose we want to print numbers between 0 and 10 and we want to do it using **while**.\n",
    "Let's see the info we have from the question:\n",
    "\n",
    "- we should print numbers\n",
    "- numbers should be between 0 and 10"
   ]
  },
  {
   "cell_type": "code",
   "execution_count": 10,
   "metadata": {},
   "outputs": [
    {
     "name": "stdout",
     "output_type": "stream",
     "text": [
      "0-1-2-3-4-5-6-7-8-9-10-"
     ]
    }
   ],
   "source": [
    "num = 0 # initial number is set to 0\n",
    "while num <= 10: # while the number is less than or equal 10, continue\n",
    "    print(num, end='-')\n",
    "    num = num + 1 # adding one to the current value of the num = num+=1"
   ]
  },
  {
   "cell_type": "markdown",
   "metadata": {},
   "source": [
    "Just like any other thing, we can achieve the same result using different methods and functions. For example we can get the numbers we want by using a for loop:"
   ]
  },
  {
   "cell_type": "code",
   "execution_count": 12,
   "metadata": {},
   "outputs": [
    {
     "name": "stdout",
     "output_type": "stream",
     "text": [
      "0\t1\t2\t3\t4\t5\t6\t7\t8\t9\t10\t"
     ]
    }
   ],
   "source": [
    "for num in range(11): # what is range?\n",
    "    print(num, end='\\t')"
   ]
  },
  {
   "cell_type": "markdown",
   "metadata": {},
   "source": [
    "*Note: Just like for loops, while loops also can have a else clause*"
   ]
  },
  {
   "cell_type": "markdown",
   "metadata": {},
   "source": [
    "Here is the general structure of a while loop:\n",
    "\n",
    "<img src=\"Images/while_loop.png\" width=\"500\"> "
   ]
  },
  {
   "cell_type": "markdown",
   "metadata": {},
   "source": [
    "  "
   ]
  },
  {
   "cell_type": "markdown",
   "metadata": {},
   "source": [
    "<img src=\"Images/student.svg\"   width=\"30\" align=\"left\">               "
   ]
  },
  {
   "cell_type": "markdown",
   "metadata": {},
   "source": [
    "**YOUR TURN**:\n",
    "What if we use a condition which is always true?"
   ]
  },
  {
   "cell_type": "code",
   "execution_count": null,
   "metadata": {},
   "outputs": [],
   "source": [
    "(\\   .-.   .-.   .-.   .-.   .-.   .-.   .-.   .-.   /_\")\n",
    " \\\\_//^\\\\_//^\\\\_//^\\\\_//^\\\\_//^\\\\_//^\\\\_//^\\\\_//^\\\\_//\n",
    "  `\"`   `\"`   `\"`   `\"`   `\"`   `\"`   `\"`   `\"`   `\"`"
   ]
  },
  {
   "cell_type": "markdown",
   "metadata": {},
   "source": [
    "## If statement"
   ]
  },
  {
   "cell_type": "markdown",
   "metadata": {},
   "source": [
    "Often, you need to execute some statements only if some condition holds, or choose statements to execute depending on several mutually exclusive conditions. The Python compound statement if, which uses if, elif, and else clauses, lets you conditionally execute blocks of statements. Here’s the syntax for the if statement:\n",
    "\n",
    "It's common that you want to execute a part of code if a certain condition holds (it's True). To do so in Python we use If statement. Let's go back to the simple example of printing numbers we've seen for while and for statements but this time suppose that you want to print the number only if it's an odd number:"
   ]
  },
  {
   "cell_type": "code",
   "execution_count": 3,
   "metadata": {},
   "outputs": [
    {
     "name": "stdout",
     "output_type": "stream",
     "text": [
      "1\n",
      "3\n",
      "5\n",
      "7\n",
      "9\n",
      "11\n",
      "13\n",
      "15\n",
      "17\n",
      "19\n"
     ]
    }
   ],
   "source": [
    "num = 0 # initial number is set to 0\n",
    "while num <= 20: # while the number is less than or equal 20, continue\n",
    "    if num%2 != 0: # if the reminder of them with 2\n",
    "        print(num)\n",
    "    num = num + 1 # adding one to the current value of the num = num+=1"
   ]
  },
  {
   "cell_type": "markdown",
   "metadata": {},
   "source": [
    "Ok, now let's use also *eles* and *elif* clauses. Imagine that you have a set of ages and you want to print one if the following labels based on the age:\n",
    "- kid\n",
    "- Teen\n",
    "- adult\n",
    "- old"
   ]
  },
  {
   "cell_type": "code",
   "execution_count": 91,
   "metadata": {},
   "outputs": [
    {
     "name": "stdout",
     "output_type": "stream",
     "text": [
      "56 - Adult\n",
      "2 - Kid\n",
      "14 - Teen\n",
      "8 - Kid\n",
      "33 - Adult\n",
      "23 - Adult\n",
      "19 - Teen\n",
      "80 - Old\n",
      "6 - Kid\n",
      "9 - Kid\n",
      "27 - Adult\n"
     ]
    }
   ],
   "source": [
    "ages = [56, 2, 14, 8, 33, 23, 19, 80, 6, 9, 27]\n",
    "\n",
    "for age in ages:\n",
    "    if age <= 12:\n",
    "        print(age, 'Kid', sep=' - ')\n",
    "    elif age <= 19 and age >= 13:\n",
    "        print(age, 'Teen', sep=' - ')\n",
    "    elif age <= 60 and age >= 20:\n",
    "        print(f'{age} - Adult') # Did you noticed anything new here?\n",
    "    else:\n",
    "        print(age, 'Old', sep=' - ')"
   ]
  },
  {
   "cell_type": "markdown",
   "metadata": {},
   "source": [
    "## Range function"
   ]
  },
  {
   "cell_type": "markdown",
   "metadata": {},
   "source": [
    "Range is a simple and handy function which usually is used within a for loop(but not always). range function has three inputs:\n",
    "    - start\n",
    "    - end\n",
    "    - step"
   ]
  },
  {
   "cell_type": "markdown",
   "metadata": {},
   "source": [
    "  "
   ]
  },
  {
   "cell_type": "code",
   "execution_count": 94,
   "metadata": {},
   "outputs": [
    {
     "name": "stdout",
     "output_type": "stream",
     "text": [
      "0\n",
      "1\n",
      "2\n",
      "3\n"
     ]
    }
   ],
   "source": [
    "for i in [0, 1, 2, 3]:\n",
    "    print(i)"
   ]
  },
  {
   "cell_type": "code",
   "execution_count": 100,
   "metadata": {},
   "outputs": [
    {
     "name": "stdout",
     "output_type": "stream",
     "text": [
      "0\n",
      "1\n",
      "2\n",
      "3\n",
      "4\n",
      "5\n",
      "6\n",
      "7\n",
      "8\n",
      "9\n"
     ]
    }
   ],
   "source": [
    "for i in range(10):\n",
    "    print(i)"
   ]
  },
  {
   "cell_type": "code",
   "execution_count": 101,
   "metadata": {},
   "outputs": [
    {
     "name": "stdout",
     "output_type": "stream",
     "text": [
      "ABC\n",
      "BVG\n",
      "UHY\n",
      "UQH\n",
      "LLL\n"
     ]
    }
   ],
   "source": [
    "my_list = ['ABC', 'BVG', 'UHY', 'UQH', 'LLL']\n",
    "for i in range(len(my_list)):\n",
    "    print(my_list[i])"
   ]
  },
  {
   "cell_type": "markdown",
   "metadata": {},
   "source": [
    "<img src=\"Images/wizard.svg\"   width=\"30\" align=\"left\">               "
   ]
  },
  {
   "cell_type": "markdown",
   "metadata": {},
   "source": [
    "**YOUR TURN**: using as for loop print items inside each key of the given dictionary and print numbers that are less than 10. (some numbers by mistake were recorded as a string, take care of them too!)\n",
    "\n",
    "**Hint**: *You may want to use **.isnumeric( )** string method*"
   ]
  },
  {
   "cell_type": "code",
   "execution_count": 149,
   "metadata": {},
   "outputs": [],
   "source": [
    "target = {'A': [1.0, 5 ,7, 'foo'], \n",
    "          'B': [4, [12], '3', 83]}"
   ]
  },
  {
   "cell_type": "code",
   "execution_count": 152,
   "metadata": {},
   "outputs": [
    {
     "name": "stdout",
     "output_type": "stream",
     "text": [
      "1.0\n",
      "5\n",
      "7\n",
      "4\n",
      "3\n"
     ]
    }
   ],
   "source": [
    "for key in target.keys():\n",
    "    for item in target[key]:\n",
    "        check = 0\n",
    "        if type(item) in [int, float] :\n",
    "            if item < 10 :\n",
    "                check = 1\n",
    "        elif type(item) == str:\n",
    "            if item.isnumeric():\n",
    "                if int(item) < 10 :\n",
    "                    check = 1\n",
    "        if check == 1:\n",
    "            print(item)    "
   ]
  },
  {
   "cell_type": "code",
   "execution_count": null,
   "metadata": {},
   "outputs": [],
   "source": [
    "(\\   .-.   .-.   .-.   .-.   .-.   .-.   .-.   .-.   /_\")\n",
    " \\\\_//^\\\\_//^\\\\_//^\\\\_//^\\\\_//^\\\\_//^\\\\_//^\\\\_//^\\\\_//\n",
    "  `\"`   `\"`   `\"`   `\"`   `\"`   `\"`   `\"`   `\"`   `\"`"
   ]
  },
  {
   "cell_type": "markdown",
   "metadata": {},
   "source": [
    "## Break, Continue and pass clauses"
   ]
  },
  {
   "cell_type": "markdown",
   "metadata": {},
   "source": [
    "Let's have a quick review of statements we have learned until now:\n",
    "- **For statement** : repeats a task for a given sequence\n",
    "- **While statement** : repeats a task while a given condition is True\n",
    "- **If statement** : Evaluates a condition and acts upon the result\n",
    "\n",
    "Looking at these statements it's clear that we can combine them to get a certain task done. For instance: For each item in this list check if condition 1 is True do action 1, otherwise do action 2:"
   ]
  },
  {
   "cell_type": "code",
   "execution_count": 106,
   "metadata": {},
   "outputs": [
    {
     "name": "stdout",
     "output_type": "stream",
     "text": [
      "1,000,000 : High\n",
      "5,000 : Low\n",
      "11,000 : Low\n"
     ]
    }
   ],
   "source": [
    "salaries = [1000000, 5000, 11000]\n",
    "\n",
    "for salary in salaries:\n",
    "    if salary < 120_000:\n",
    "        print(f'{salary:,} : Low')\n",
    "    elif salary > 999_000:\n",
    "        print(f'{salary:,} : High')\n",
    "    else:\n",
    "        print(f'{salary:,} : Normal')"
   ]
  },
  {
   "cell_type": "markdown",
   "metadata": {},
   "source": [
    "In the above example we used **for** and **if** together to examine each item and print a label based on the item's value. Well, It's not alway the case to go through every item of a sequence. Sometime we need to break the loop or continue to the next item without spending time with the current item. We can achive these types of action by using these clauses:\n",
    "\n",
    "- continue\n",
    "- break\n",
    "- pass"
   ]
  },
  {
   "cell_type": "markdown",
   "metadata": {},
   "source": [
    "Suppose you want to find the first number that is less than a specific number in any given list of numbers. You can create a function to do this using a for loop:"
   ]
  },
  {
   "cell_type": "code",
   "execution_count": 107,
   "metadata": {},
   "outputs": [],
   "source": [
    "def find_number(data, limit):\n",
    "    \"\"\"Finds the first number in a given list which is less than the defined threshold\n",
    "    \n",
    "    Args:\n",
    "        data : A list containing numerical values\n",
    "        limit : Threshold defined by user\n",
    "    \n",
    "    Returns:\n",
    "        The first number in the given list smaller than threshold\n",
    "    \"\"\"\n",
    "    all_good = []\n",
    "    for i in data:\n",
    "        if i < limit:\n",
    "            answer = i\n",
    "            all_good.append(i)\n",
    "    return all_good"
   ]
  },
  {
   "cell_type": "markdown",
   "metadata": {},
   "source": [
    "Ok, let's test our function:"
   ]
  },
  {
   "cell_type": "code",
   "execution_count": 108,
   "metadata": {},
   "outputs": [
    {
     "name": "stdout",
     "output_type": "stream",
     "text": [
      "[-1428, -788, -1187]\n"
     ]
    }
   ],
   "source": [
    "nums = [973, -1428, 315, -788, 1477, -428, -1187, 592, -108, 370]\n",
    "limit = -500\n",
    "\n",
    "print(find_number(nums, limit))"
   ]
  },
  {
   "cell_type": "markdown",
   "metadata": {},
   "source": [
    "Well, it kinda works...the problem is that it return the last number in the list that is less than -500 instead of the first one! (-1428)\n",
    "Of course it's not because Python couldn't find the first number (-1428) but the problem is since we simply just used a for loop, after finding -1428 Python continued to examine other items in the list...something that we shouldn't have done. There are cases like this that we want to stop(break) the loop as soon as a certain condition is satisfied. We can write our function like this:\n"
   ]
  },
  {
   "cell_type": "code",
   "execution_count": 22,
   "metadata": {},
   "outputs": [
    {
     "name": "stdout",
     "output_type": "stream",
     "text": [
      "-1428\n"
     ]
    }
   ],
   "source": [
    "def find_number(data, limit):\n",
    "    \"\"\"Finds the first number in a given list which is less than the defined threshold\n",
    "    \n",
    "    Args:\n",
    "        data : A list containing numerical values\n",
    "        limit : Threshold defined by user\n",
    "    \n",
    "    Returns:\n",
    "        The first number in the given list smaller than threshold\n",
    "    \"\"\"\n",
    "    for i in data:\n",
    "        if i < limit:\n",
    "            answer = i\n",
    "            break\n",
    "    return answer\n",
    "\n",
    "print(find_number(nums, limit))"
   ]
  },
  {
   "cell_type": "markdown",
   "metadata": {},
   "source": [
    "And as you can see this time we get the right answer. In this simple case we could have achieve this also without using break and just by putting  return clause in a different place:"
   ]
  },
  {
   "cell_type": "code",
   "execution_count": 23,
   "metadata": {},
   "outputs": [
    {
     "name": "stdout",
     "output_type": "stream",
     "text": [
      "-1428\n"
     ]
    }
   ],
   "source": [
    "def find_number(data, limit):\n",
    "    \"\"\"Finds the first number in a given list which is less than the defined threshold\n",
    "    \n",
    "    Args:\n",
    "        data : A list containing numerical values\n",
    "        limit : Threshold defined by user\n",
    "    \n",
    "    Returns:\n",
    "        The first number in the given list smaller than threshold\n",
    "    \"\"\"\n",
    "    for i in data:\n",
    "        if i < limit:\n",
    "            answer = i\n",
    "            return answer\n",
    "\n",
    "print(find_number(nums, limit))"
   ]
  },
  {
   "cell_type": "markdown",
   "metadata": {},
   "source": [
    "The reason that the function above give us the answer even without using break is that when Python reaches a **return** in a function, it exits immediately before continuing with the rest of code.\n",
    "Let's do another example: Suppose you received 4 orders for a can of beer from 4 of your customers. In order to know if you can proceed with the order or not, you need to check 3 things: client having at least 18 years old, having at least 2 Euros in his bank card and be in a 3 kilometer radius from your shop. As you can see in the following cell, we can use continue clause after age check. In this way if the client has less than 18 years old, it's useless to check for the other conditions:"
   ]
  },
  {
   "cell_type": "code",
   "execution_count": 27,
   "metadata": {},
   "outputs": [
    {
     "name": "stdout",
     "output_type": "stream",
     "text": [
      "Ettore can have a beer!\n"
     ]
    }
   ],
   "source": [
    "clients = {'2341': {'age': 15, 'name': 'Ale', 'balance': 658, 'distance': 11},\n",
    "           '5682': {'age': 61, 'name': 'Ettore', 'balance': 890, 'distance': 1},\n",
    "           '1873': {'age': 19, 'name': 'Tacca', 'balance': 121, 'distance': 5},\n",
    "           '9950': {'age': 31, 'name': 'Navid', 'balance': 0, 'distance': 12}}\n",
    "\n",
    "codes = list(clients.keys())\n",
    "\n",
    "for code in codes:\n",
    "    if clients[code]['age'] < 18:\n",
    "        continue\n",
    "    if clients[code]['balance'] >= 2 and clients[code]['distance'] < 3:\n",
    "        print(f\"{clients[code]['name']} can have a beer!\")"
   ]
  },
  {
   "cell_type": "markdown",
   "metadata": {},
   "source": [
    "Now imagine that the shop manager tells you that he is thinking to do something for the clients that have all the conditions (age and credit) but are living in more distant neighbourhoods. The problem is that it's Fridays evening, you want to go home as soon as possible but he can't make his mind about how exactly he's going to handle the delivery situation. So you know you need to modify your function to reflect the new situation but you still don't know what would be the solution. So you can use a pass clause as a placeholder in your function:"
   ]
  },
  {
   "cell_type": "code",
   "execution_count": 29,
   "metadata": {},
   "outputs": [
    {
     "name": "stdout",
     "output_type": "stream",
     "text": [
      "Ettore can have a beer!\n"
     ]
    }
   ],
   "source": [
    "clients = {'2341': {'age': 15, 'name': 'Ale', 'balance': 658, 'distance': 11},\n",
    "           '5682': {'age': 61, 'name': 'Ettore', 'balance': 890, 'distance': 1},\n",
    "           '1873': {'age': 19, 'name': 'Tacca', 'balance': 121, 'distance': 5},\n",
    "           '9950': {'age': 31, 'name': 'Navid', 'balance': 0, 'distance': 12}}\n",
    "\n",
    "codes = list(clients.keys())\n",
    "\n",
    "for code in codes:\n",
    "    if clients[code]['age'] < 18:\n",
    "        continue\n",
    "    if clients[code]['balance'] >= 2:\n",
    "        if  clients[code]['distance'] < 3:\n",
    "            print(f\"{clients[code]['name']} can have a beer!\")\n",
    "        else:\n",
    "            pass"
   ]
  },
  {
   "cell_type": "markdown",
   "metadata": {},
   "source": [
    " "
   ]
  },
  {
   "cell_type": "markdown",
   "metadata": {},
   "source": [
    "<img src=\"Images/wizard.svg\"   width=\"30\" align=\"left\">               "
   ]
  },
  {
   "cell_type": "markdown",
   "metadata": {},
   "source": [
    "**YOUR TURN**: Use **break** to write a function that calculates the sum of the first n items of the given number list."
   ]
  },
  {
   "cell_type": "code",
   "execution_count": 69,
   "metadata": {},
   "outputs": [],
   "source": [
    "def sum_n(data, n):\n",
    "    num = 1\n",
    "    summ = 0\n",
    "    for i in data:\n",
    "        if num > n:\n",
    "            break\n",
    "        summ += i\n",
    "        num += 1\n",
    "    return summ"
   ]
  },
  {
   "cell_type": "code",
   "execution_count": null,
   "metadata": {},
   "outputs": [],
   "source": [
    "(\\   .-.   .-.   .-.   .-.   .-.   .-.   .-.   .-.   /_\")\n",
    " \\\\_//^\\\\_//^\\\\_//^\\\\_//^\\\\_//^\\\\_//^\\\\_//^\\\\_//^\\\\_//\n",
    "  `\"`   `\"`   `\"`   `\"`   `\"`   `\"`   `\"`   `\"`   `\"`"
   ]
  },
  {
   "cell_type": "markdown",
   "metadata": {},
   "source": [
    "## Comparisons operators"
   ]
  },
  {
   "cell_type": "markdown",
   "metadata": {},
   "source": [
    "Comparison operators are not technically considered as a part of \"Control flow\" but since their usage with mentioned statements, I put them here. As the name suggest these operators **compare** two object and return either *True* or *False*. Let's see some examples:"
   ]
  },
  {
   "cell_type": "code",
   "execution_count": 4,
   "metadata": {},
   "outputs": [
    {
     "name": "stdout",
     "output_type": "stream",
     "text": [
      "False\n",
      "True\n",
      "True\n",
      "False\n",
      "True\n",
      "False\n"
     ]
    }
   ],
   "source": [
    "a = 15.6\n",
    "b = 79\n",
    "print(a == b)\n",
    "print(a != b)\n",
    "print(a < b)\n",
    "print(a > b)\n",
    "print(a <= b)\n",
    "print(a >= b)"
   ]
  },
  {
   "cell_type": "markdown",
   "metadata": {},
   "source": [
    "# Importing libraries"
   ]
  },
  {
   "cell_type": "markdown",
   "metadata": {},
   "source": [
    "reading csv files, we used :"
   ]
  },
  {
   "cell_type": "code",
   "execution_count": 8,
   "metadata": {},
   "outputs": [],
   "source": [
    "import csv\n",
    "import pandas as pd"
   ]
  },
  {
   "cell_type": "markdown",
   "metadata": {},
   "source": [
    "The reason we did this is because like lots of other functionalities, reading csv files doesn't exist as a built-in function in Python language. Instead there are various libraries that has modules that are capable of performing those certain functions. To use these modules you need to import them in your code. This is exactly we've done in the csv section. \n",
    "\n",
    "The following figure shows the simplified structure of Python's modules:\n",
    "\n",
    "<img src=\"Images/module.png\" width=\"800\">"
   ]
  },
  {
   "cell_type": "markdown",
   "metadata": {},
   "source": [
    "There are different ways to import a package or a specific module of it:"
   ]
  },
  {
   "cell_type": "markdown",
   "metadata": {},
   "source": [
    "Importing a library as a whole. For example the following code imports **re** package (regex) but not any module inside it specifically. It means for example if I want to use one of its functions, let's say **sub** function, I need to use **re.** before function name:"
   ]
  },
  {
   "cell_type": "code",
   "execution_count": 103,
   "metadata": {},
   "outputs": [
    {
     "data": {
      "text/plain": [
       "'HeyWait'"
      ]
     },
     "execution_count": 103,
     "metadata": {},
     "output_type": "execute_result"
    }
   ],
   "source": [
    "import re\n",
    "re.sub('\\W', '', 'Hey..,Wait!')"
   ]
  },
  {
   "cell_type": "markdown",
   "metadata": {},
   "source": [
    "It's possible to import modules as an alias. We usually do this when either dealing with not son short library names or there is a convention to do so:"
   ]
  },
  {
   "cell_type": "code",
   "execution_count": 108,
   "metadata": {},
   "outputs": [],
   "source": [
    "import statsmodels as sm\n",
    "import numpy as np"
   ]
  },
  {
   "cell_type": "markdown",
   "metadata": {},
   "source": [
    "Another possibility is to just import the module we need , instead of importing the whole library:"
   ]
  },
  {
   "cell_type": "code",
   "execution_count": 105,
   "metadata": {},
   "outputs": [],
   "source": [
    "from pandas import Timestamp"
   ]
  },
  {
   "cell_type": "markdown",
   "metadata": {},
   "source": [
    "In some rare cases we may want to import every function/module/class from a library:"
   ]
  },
  {
   "cell_type": "code",
   "execution_count": null,
   "metadata": {},
   "outputs": [],
   "source": [
    "from pprint import *"
   ]
  },
  {
   "cell_type": "markdown",
   "metadata": {},
   "source": [
    "## Installing libraries"
   ]
  },
  {
   "cell_type": "markdown",
   "metadata": {},
   "source": [
    "There are 4 main ways to install a package in python:\n",
    "\n",
    "- **conda**\n",
    "\n",
    "conda is the package manager which is a part of Anaconda distribution (not the official Python). Respect to the native Python package managers, it manages the dependencies between different libraries is a better way. It's shortcoming is that it usually doesn't include lesser known/recent packages.\n",
    "\n",
    "Installing a package using conda in terminal:  \n",
    "\n",
    "        conda install package_name\n",
    "\n",
    "Installing a package using conda in Jupyter notebook:    \n",
    "\n",
    "        !conda install package_name\n",
    "\n",
    "\n",
    "- **pip**\n",
    "\n",
    "pip is the newest (introduced in 2008) official package manager.\n",
    "\n",
    "Installing a package using pip in terminal:     \n",
    "\n",
    "        pip install package_name\n",
    "\n",
    "Installing a package using pip in Jupyter notebook:     \n",
    "\n",
    "        !pip install package_name\n",
    "\n",
    "- **easy_install**\n",
    "\n",
    "easy_install is the father of pip (born in 2004) and somehow is inferior respect to the pip. (see their difference [here](https://packaging.python.org/discussions/pip-vs-easy-install/))\n",
    "\n",
    "Installing a package using easy_install in terminal:   \n",
    "\n",
    "        easy_install package_name\n",
    "\n",
    "Installing a package using pip in Jupyter notebook:     \n",
    "\n",
    "        !easy_install package_name\n",
    "\n",
    "- **installation from source code**\n",
    "\n",
    "I don't recommend using it but if for some reasons you want to use this method, you can find a step by step guide [here](https://kb.iu.edu/d/acey)."
   ]
  },
  {
   "cell_type": "markdown",
   "metadata": {},
   "source": [
    "# Understanding errors"
   ]
  },
  {
   "cell_type": "markdown",
   "metadata": {},
   "source": [
    "Regardless of your experience with Python, either you're seeing Python for the first time or you have years of coding experience, you should deal with errors, almost every time you write something! Some errors occur because due to simple reasons like writing *primt(...)* instead of *print(...)* and some are more complicated both to resolve  and to find their origin. There are way to many error types in Python for us to cover in this course but you'll find a well-written summary of important errors [here](https://www.tutorialsteacher.com/python/error-types-in-python) .\n",
    "Instead of going to each and every error and explain it, I try to show you the general process of dealing with them.\n",
    "Take a look at the following code:"
   ]
  },
  {
   "cell_type": "code",
   "execution_count": 112,
   "metadata": {},
   "outputs": [
    {
     "ename": "AttributeError",
     "evalue": "'dict' object has no attribute 'append'",
     "output_type": "error",
     "traceback": [
      "\u001b[0;31m---------------------------------------------------------------------------\u001b[0m",
      "\u001b[0;31mAttributeError\u001b[0m                            Traceback (most recent call last)",
      "\u001b[0;32m<ipython-input-112-7f1f7228c0e5>\u001b[0m in \u001b[0;36m<module>\u001b[0;34m\u001b[0m\n\u001b[1;32m      3\u001b[0m \u001b[0;34m\u001b[0m\u001b[0m\n\u001b[1;32m      4\u001b[0m \u001b[0;32mfor\u001b[0m \u001b[0mitem\u001b[0m \u001b[0;32min\u001b[0m \u001b[0mmy_list\u001b[0m\u001b[0;34m:\u001b[0m\u001b[0;34m\u001b[0m\u001b[0;34m\u001b[0m\u001b[0m\n\u001b[0;32m----> 5\u001b[0;31m     \u001b[0mmy_dict\u001b[0m\u001b[0;34m.\u001b[0m\u001b[0mappend\u001b[0m\u001b[0;34m(\u001b[0m\u001b[0mmy_dict\u001b[0m\u001b[0;34m)\u001b[0m\u001b[0;34m\u001b[0m\u001b[0;34m\u001b[0m\u001b[0m\n\u001b[0m",
      "\u001b[0;31mAttributeError\u001b[0m: 'dict' object has no attribute 'append'"
     ]
    }
   ],
   "source": [
    "my_dict = {'A':1, 'B': 2}\n",
    "my_list = ['C', 'D']\n",
    "\n",
    "for item in my_list:\n",
    "    my_dict.append(my_dict)"
   ]
  },
  {
   "cell_type": "markdown",
   "metadata": {},
   "source": [
    "**Error Translation into natural language**\n",
    "\n",
    ">I started from the line 1 in the main **module**, I went down until line 4 without any problem. In the line 5 I saw an error of type **AttributeError**. I see this type of error because in the line 5 you tried to use **append** method on a **dictionary** which is not correct."
   ]
  },
  {
   "cell_type": "markdown",
   "metadata": {},
   "source": [
    "Now let's take a look at another example which is a bit complex respect to the previous one:"
   ]
  },
  {
   "cell_type": "code",
   "execution_count": 66,
   "metadata": {},
   "outputs": [
    {
     "ename": "TypeError",
     "evalue": "can only concatenate str (not \"int\") to str",
     "output_type": "error",
     "traceback": [
      "\u001b[0;31m---------------------------------------------------------------------------\u001b[0m",
      "\u001b[0;31mTypeError\u001b[0m                                 Traceback (most recent call last)",
      "\u001b[0;32m<ipython-input-66-aa7b0ab4d49e>\u001b[0m in \u001b[0;36m<module>\u001b[0;34m\u001b[0m\n\u001b[1;32m     10\u001b[0m     \u001b[0;32mreturn\u001b[0m \u001b[0ma\u001b[0m \u001b[0;34m+\u001b[0m \u001b[0mb\u001b[0m\u001b[0;34m\u001b[0m\u001b[0;34m\u001b[0m\u001b[0m\n\u001b[1;32m     11\u001b[0m \u001b[0;34m\u001b[0m\u001b[0m\n\u001b[0;32m---> 12\u001b[0;31m \u001b[0mprint\u001b[0m\u001b[0;34m(\u001b[0m\u001b[0madd_them\u001b[0m\u001b[0;34m(\u001b[0m\u001b[0;34m'1'\u001b[0m\u001b[0;34m,\u001b[0m \u001b[0;36m2\u001b[0m\u001b[0;34m)\u001b[0m\u001b[0;34m)\u001b[0m\u001b[0;34m\u001b[0m\u001b[0;34m\u001b[0m\u001b[0m\n\u001b[0m",
      "\u001b[0;32m<ipython-input-66-aa7b0ab4d49e>\u001b[0m in \u001b[0;36madd_them\u001b[0;34m(a, b)\u001b[0m\n\u001b[1;32m      8\u001b[0m         \u001b[0ma\u001b[0m \u001b[0mnumber\u001b[0m\u001b[0;34m,\u001b[0m \u001b[0msum\u001b[0m \u001b[0mof\u001b[0m \u001b[0mthe\u001b[0m \u001b[0minputs\u001b[0m\u001b[0;34m\u001b[0m\u001b[0;34m\u001b[0m\u001b[0m\n\u001b[1;32m      9\u001b[0m     \"\"\"\n\u001b[0;32m---> 10\u001b[0;31m     \u001b[0;32mreturn\u001b[0m \u001b[0ma\u001b[0m \u001b[0;34m+\u001b[0m \u001b[0mb\u001b[0m\u001b[0;34m\u001b[0m\u001b[0;34m\u001b[0m\u001b[0m\n\u001b[0m\u001b[1;32m     11\u001b[0m \u001b[0;34m\u001b[0m\u001b[0m\n\u001b[1;32m     12\u001b[0m \u001b[0mprint\u001b[0m\u001b[0;34m(\u001b[0m\u001b[0madd_them\u001b[0m\u001b[0;34m(\u001b[0m\u001b[0;34m'1'\u001b[0m\u001b[0;34m,\u001b[0m \u001b[0;36m2\u001b[0m\u001b[0;34m)\u001b[0m\u001b[0;34m)\u001b[0m\u001b[0;34m\u001b[0m\u001b[0;34m\u001b[0m\u001b[0m\n",
      "\u001b[0;31mTypeError\u001b[0m: can only concatenate str (not \"int\") to str"
     ]
    }
   ],
   "source": [
    "def add_them(a, b):\n",
    "    \"\"\"Add to input numbers\n",
    "    args:\n",
    "        a : first number\n",
    "        b : second number\n",
    "        \n",
    "    returns:\n",
    "        a number, sum of the inputs\n",
    "    \"\"\"\n",
    "    return a + b\n",
    "\n",
    "print(add_them('1', 2))"
   ]
  },
  {
   "cell_type": "markdown",
   "metadata": {},
   "source": [
    "**Error Translation into natural language**\n",
    "\n",
    ">I started from the line 1, I went down until line 11 without any problem. In the line 12 I saw something that wasn't correct. I tried to find the reason. I found out that the error comes from a function called **add_them**. I put your inputs in this function and went forward. when I reach to line 10 I saw an error of type **TypeError**.I see this type of error because using your input data in the line 10 you tried to concatenate a **str** to a **int** which is impossible."
   ]
  },
  {
   "cell_type": "markdown",
   "metadata": {},
   "source": [
    " "
   ]
  },
  {
   "cell_type": "markdown",
   "metadata": {},
   "source": [
    "**GENERAL TIPS**:\n",
    "\n",
    "It's possible that ...\n",
    "\n",
    "- Resolving an error, you get another error! always pay attention to the details of error.\n",
    "- Even by using all the info coming from the error message we won't be able to resolve the problem. In this case you can try to search for the error message online. For sure someone else before you has arrived to the same problem and asked it online! The best source for getting help is [stackoverflow](https://stackoverflow.com) site. "
   ]
  },
  {
   "cell_type": "markdown",
   "metadata": {},
   "source": [
    "  "
   ]
  },
  {
   "cell_type": "markdown",
   "metadata": {},
   "source": [
    "<img src=\"Images/student.svg\"   width=\"30\" align=\"left\">               "
   ]
  },
  {
   "cell_type": "markdown",
   "metadata": {},
   "source": [
    "**YOUR TURN**:\n",
    "\n",
    "Run the following line of codes and try to locate and resolve the problem:"
   ]
  },
  {
   "cell_type": "code",
   "execution_count": 120,
   "metadata": {},
   "outputs": [
    {
     "ename": "ValueError",
     "evalue": "not enough values to unpack (expected 4, got 3)",
     "output_type": "error",
     "traceback": [
      "\u001b[0;31m---------------------------------------------------------------------------\u001b[0m",
      "\u001b[0;31mValueError\u001b[0m                                Traceback (most recent call last)",
      "\u001b[0;32m<ipython-input-120-bf9134cb29f7>\u001b[0m in \u001b[0;36m<module>\u001b[0;34m\u001b[0m\n\u001b[0;32m----> 1\u001b[0;31m \u001b[0ma\u001b[0m\u001b[0;34m,\u001b[0m \u001b[0mb\u001b[0m\u001b[0;34m,\u001b[0m \u001b[0mc\u001b[0m\u001b[0;34m,\u001b[0m \u001b[0md\u001b[0m \u001b[0;34m=\u001b[0m \u001b[0mlist\u001b[0m\u001b[0;34m(\u001b[0m\u001b[0mrange\u001b[0m\u001b[0;34m(\u001b[0m\u001b[0;36m87\u001b[0m\u001b[0;34m,\u001b[0m \u001b[0;36m110\u001b[0m\u001b[0;34m,\u001b[0m \u001b[0;36m10\u001b[0m\u001b[0;34m)\u001b[0m\u001b[0;34m)\u001b[0m\u001b[0;34m\u001b[0m\u001b[0;34m\u001b[0m\u001b[0m\n\u001b[0m",
      "\u001b[0;31mValueError\u001b[0m: not enough values to unpack (expected 4, got 3)"
     ]
    }
   ],
   "source": [
    "a, b, c, d = list(range(87, 110, 10))"
   ]
  },
  {
   "cell_type": "code",
   "execution_count": null,
   "metadata": {},
   "outputs": [],
   "source": [
    "(\\   .-.   .-.   .-.   .-.   .-.   .-.   .-.   .-.   /_\")\n",
    " \\\\_//^\\\\_//^\\\\_//^\\\\_//^\\\\_//^\\\\_//^\\\\_//^\\\\_//^\\\\_//\n",
    "  `\"`   `\"`   `\"`   `\"`   `\"`   `\"`   `\"`   `\"`   `\"`"
   ]
  },
  {
   "cell_type": "markdown",
   "metadata": {},
   "source": [
    " "
   ]
  },
  {
   "cell_type": "markdown",
   "metadata": {},
   "source": [
    "<img src=\"Images/wizard.svg\"   width=\"30\" align=\"left\">               "
   ]
  },
  {
   "cell_type": "markdown",
   "metadata": {},
   "source": [
    "**YOUR TURN**:\n",
    "\n",
    "Run the following lines of codes and try to locate and resolve the problem:"
   ]
  },
  {
   "cell_type": "code",
   "execution_count": null,
   "metadata": {},
   "outputs": [],
   "source": [
    "city_1 = {'country': 'Italy', 'city': 'como', 'population': 84_876}\n",
    "city_2 = {'country': 'Germany', 'city': 'berlin', 'population': 3_575_000}\n",
    "\n",
    "data = []\n",
    "data['IC'] = city_1\n",
    "data['GB'] = city_2\n",
    "\n",
    "ids = data.keys()\n",
    "countries = []\n",
    "cities = []\n",
    "populations = []\n",
    "for idd in ids:\n",
    "    temp = data[idd]\n",
    "    countries.add(temp['country'])\n",
    "    cities.append(temp['city'])\n",
    "\n",
    "print(f'There are {len(countries)} countries:')\n",
    "for num, country in enumerate(countries, start=1):\n",
    "    print(num, country.title(), sep=' - ')\n",
    "\n",
    "print(f'\\nand {len(cities)} cities:')\n",
    "for city in enumerate(cities, start=1):\n",
    "    print(num, city.title(), sep=' - ')\n",
    "\n",
    "print()\n",
    "for id in ids:\n",
    "    temp = data[idd]\n",
    "    print(f\"{temp['city'].title()} is in {temp['country'].title()} and has a population of {temp['population']:,}.\")"
   ]
  },
  {
   "cell_type": "code",
   "execution_count": null,
   "metadata": {},
   "outputs": [],
   "source": [
    "(\\   .-.   .-.   .-.   .-.   .-.   .-.   .-.   .-.   /_\")\n",
    " \\\\_//^\\\\_//^\\\\_//^\\\\_//^\\\\_//^\\\\_//^\\\\_//^\\\\_//^\\\\_//\n",
    "  `\"`   `\"`   `\"`   `\"`   `\"`   `\"`   `\"`   `\"`   `\"`"
   ]
  },
  {
   "cell_type": "markdown",
   "metadata": {},
   "source": [
    "# Basics of  Pandas"
   ]
  },
  {
   "cell_type": "markdown",
   "metadata": {},
   "source": [
    "<img src=\"Images/pandas.png\" width=\"300\"> "
   ]
  },
  {
   "cell_type": "markdown",
   "metadata": {},
   "source": [
    "Pandas is one of the mostly used libraries in Python for data cleaning, wrangling and analysis. It has a wide range of tools to deal with almost all data types and forms together with statistical and even visualization tools.\n",
    "Due to large number of tools within Pandas library we're only going to see the most important parts of them together but I highly suggest the book [Python for Data Analysis](https://www.oreilly.com/library/view/python-for-data/9781491957653/) written by creator of the Pandas library [Wes McKinney](https://wesmckinney.com/). Here also you can find some good resources for Pandas: [link](https://www.dataschool.io/best-python-pandas-resources/) and of course don't forget to watch Mark Ham [YouTube Series](https://www.youtube.com/watch?v=yzIMircGU5I&list=PL5-da3qGB5ICCsgW1MxlZ0Hq8LL5U3u9y&index=2&t=232s)"
   ]
  },
  {
   "cell_type": "markdown",
   "metadata": {},
   "source": [
    "Let's start discovering pandas tools working with a real dataset. \n",
    "I've already downloaded a [dataset](https://archive.ics.uci.edu/ml/datasets/Census+Income) containing US census data for year 1996.\n",
    "You can find more information about this dataset and how it's been collected in the following path: \n",
    "\n",
    "*Intro_to_Python/Files/data/census/description.txt*"
   ]
  },
  {
   "cell_type": "markdown",
   "metadata": {},
   "source": [
    "## Reading a csv file"
   ]
  },
  {
   "cell_type": "markdown",
   "metadata": {},
   "source": [
    "The first thing we do is to read the csv file:"
   ]
  },
  {
   "cell_type": "code",
   "execution_count": 121,
   "metadata": {},
   "outputs": [],
   "source": [
    "import pandas as pd\n",
    "\n",
    "df = pd.read_csv('./Files/data/census/adult.csv')"
   ]
  },
  {
   "cell_type": "markdown",
   "metadata": {},
   "source": [
    "<img src=\"Images/owl.svg\"   width=\"40\" align=\"left\">    "
   ]
  },
  {
   "cell_type": "markdown",
   "metadata": {},
   "source": [
    "***What happened in the cell above?***\n",
    "\n",
    "**line1** : importing pandas library and giving an alias name(pd) to it\n",
    "\n",
    "line2 : Nothing :D\n",
    "\n",
    "**line3** : In order to read our dataset into the memory, we should use a function called **read_csv**.\n",
    "\n",
    "why we put a \"pd.\" before it? because we didn't import this function explicitly so we need to tell Python where can it find the **read_csv** function. Then we passed the file path as the argument. Notice that the file path is not the only argument you can pass to **read_csv** but for now, we don't need anything else.\n",
    "\n",
    "Ok now let's take a look at the data we have just read:"
   ]
  },
  {
   "cell_type": "code",
   "execution_count": 123,
   "metadata": {},
   "outputs": [
    {
     "data": {
      "text/html": [
       "<div>\n",
       "<style scoped>\n",
       "    .dataframe tbody tr th:only-of-type {\n",
       "        vertical-align: middle;\n",
       "    }\n",
       "\n",
       "    .dataframe tbody tr th {\n",
       "        vertical-align: top;\n",
       "    }\n",
       "\n",
       "    .dataframe thead th {\n",
       "        text-align: right;\n",
       "    }\n",
       "</style>\n",
       "<table border=\"1\" class=\"dataframe\">\n",
       "  <thead>\n",
       "    <tr style=\"text-align: right;\">\n",
       "      <th></th>\n",
       "      <th>39</th>\n",
       "      <th>State-gov</th>\n",
       "      <th>77516</th>\n",
       "      <th>Bachelors</th>\n",
       "      <th>13</th>\n",
       "      <th>Never-married</th>\n",
       "      <th>Adm-clerical</th>\n",
       "      <th>Not-in-family</th>\n",
       "      <th>White</th>\n",
       "      <th>Male</th>\n",
       "      <th>2174</th>\n",
       "      <th>0</th>\n",
       "      <th>40</th>\n",
       "      <th>United-States</th>\n",
       "      <th>&lt;=50K</th>\n",
       "    </tr>\n",
       "  </thead>\n",
       "  <tbody>\n",
       "    <tr>\n",
       "      <th>0</th>\n",
       "      <td>50</td>\n",
       "      <td>Self-emp-not-inc</td>\n",
       "      <td>83311</td>\n",
       "      <td>Bachelors</td>\n",
       "      <td>13</td>\n",
       "      <td>Married-civ-spouse</td>\n",
       "      <td>Exec-managerial</td>\n",
       "      <td>Husband</td>\n",
       "      <td>White</td>\n",
       "      <td>Male</td>\n",
       "      <td>0</td>\n",
       "      <td>0</td>\n",
       "      <td>13</td>\n",
       "      <td>United-States</td>\n",
       "      <td>&lt;=50K</td>\n",
       "    </tr>\n",
       "    <tr>\n",
       "      <th>1</th>\n",
       "      <td>38</td>\n",
       "      <td>Private</td>\n",
       "      <td>215646</td>\n",
       "      <td>HS-grad</td>\n",
       "      <td>9</td>\n",
       "      <td>Divorced</td>\n",
       "      <td>Handlers-cleaners</td>\n",
       "      <td>Not-in-family</td>\n",
       "      <td>White</td>\n",
       "      <td>Male</td>\n",
       "      <td>0</td>\n",
       "      <td>0</td>\n",
       "      <td>40</td>\n",
       "      <td>United-States</td>\n",
       "      <td>&lt;=50K</td>\n",
       "    </tr>\n",
       "    <tr>\n",
       "      <th>2</th>\n",
       "      <td>53</td>\n",
       "      <td>Private</td>\n",
       "      <td>234721</td>\n",
       "      <td>11th</td>\n",
       "      <td>7</td>\n",
       "      <td>Married-civ-spouse</td>\n",
       "      <td>Handlers-cleaners</td>\n",
       "      <td>Husband</td>\n",
       "      <td>Black</td>\n",
       "      <td>Male</td>\n",
       "      <td>0</td>\n",
       "      <td>0</td>\n",
       "      <td>40</td>\n",
       "      <td>United-States</td>\n",
       "      <td>&lt;=50K</td>\n",
       "    </tr>\n",
       "    <tr>\n",
       "      <th>3</th>\n",
       "      <td>28</td>\n",
       "      <td>Private</td>\n",
       "      <td>338409</td>\n",
       "      <td>Bachelors</td>\n",
       "      <td>13</td>\n",
       "      <td>Married-civ-spouse</td>\n",
       "      <td>Prof-specialty</td>\n",
       "      <td>Wife</td>\n",
       "      <td>Black</td>\n",
       "      <td>Female</td>\n",
       "      <td>0</td>\n",
       "      <td>0</td>\n",
       "      <td>40</td>\n",
       "      <td>Cuba</td>\n",
       "      <td>&lt;=50K</td>\n",
       "    </tr>\n",
       "    <tr>\n",
       "      <th>4</th>\n",
       "      <td>37</td>\n",
       "      <td>Private</td>\n",
       "      <td>284582</td>\n",
       "      <td>Masters</td>\n",
       "      <td>14</td>\n",
       "      <td>Married-civ-spouse</td>\n",
       "      <td>Exec-managerial</td>\n",
       "      <td>Wife</td>\n",
       "      <td>White</td>\n",
       "      <td>Female</td>\n",
       "      <td>0</td>\n",
       "      <td>0</td>\n",
       "      <td>40</td>\n",
       "      <td>United-States</td>\n",
       "      <td>&lt;=50K</td>\n",
       "    </tr>\n",
       "  </tbody>\n",
       "</table>\n",
       "</div>"
      ],
      "text/plain": [
       "   39          State-gov   77516   Bachelors   13        Never-married  \\\n",
       "0  50   Self-emp-not-inc   83311   Bachelors   13   Married-civ-spouse   \n",
       "1  38            Private  215646     HS-grad    9             Divorced   \n",
       "2  53            Private  234721        11th    7   Married-civ-spouse   \n",
       "3  28            Private  338409   Bachelors   13   Married-civ-spouse   \n",
       "4  37            Private  284582     Masters   14   Married-civ-spouse   \n",
       "\n",
       "         Adm-clerical   Not-in-family   White     Male   2174   0   40  \\\n",
       "0     Exec-managerial         Husband   White     Male      0   0   13   \n",
       "1   Handlers-cleaners   Not-in-family   White     Male      0   0   40   \n",
       "2   Handlers-cleaners         Husband   Black     Male      0   0   40   \n",
       "3      Prof-specialty            Wife   Black   Female      0   0   40   \n",
       "4     Exec-managerial            Wife   White   Female      0   0   40   \n",
       "\n",
       "    United-States   <=50K  \n",
       "0   United-States   <=50K  \n",
       "1   United-States   <=50K  \n",
       "2   United-States   <=50K  \n",
       "3            Cuba   <=50K  \n",
       "4   United-States   <=50K  "
      ]
     },
     "execution_count": 123,
     "metadata": {},
     "output_type": "execute_result"
    }
   ],
   "source": [
    "df.head()"
   ]
  },
  {
   "cell_type": "markdown",
   "metadata": {},
   "source": [
    " "
   ]
  },
  {
   "cell_type": "markdown",
   "metadata": {},
   "source": [
    "<img src=\"Images/owl.svg\"   width=\"40\" align=\"left\">    "
   ]
  },
  {
   "cell_type": "markdown",
   "metadata": {},
   "source": [
    "***What happened in the cell above?***\n",
    "\n",
    "We used a method called *.head( )* in order to see the first 5 rows of our data. Instead of living *head( )* without an argument, we can decide how many rows of the table we want to see *(Why leaving it without an argument we got 5 rows then?)*"
   ]
  },
  {
   "cell_type": "markdown",
   "metadata": {},
   "source": [
    "As you may have noticed, something doesn't make sense in the result. The first row (showed in bold) should contain column labels but at the moment, it's not like this!\n",
    "The reason is (and it happens a lot dealing with real data) that the original file we've received as our dataset doesn't have any column name.\n",
    "Reading the description file I've mentioned before, we can find the column names:"
   ]
  },
  {
   "cell_type": "code",
   "execution_count": 128,
   "metadata": {},
   "outputs": [],
   "source": [
    "col_names = ['age', 'workclass', 'fnlwgt', 'education', 'education-num',\n",
    "             'marital-status', 'occupation', 'relationship', 'race', 'sex',\n",
    "             'capital-gain', 'capital-loss', 'hours-per-week', 'native-country',\n",
    "            'income']"
   ]
  },
  {
   "cell_type": "markdown",
   "metadata": {},
   "source": [
    "Ok, now that we have the names we can use an argument of **read_csv** called **names** to provide the column names:"
   ]
  },
  {
   "cell_type": "code",
   "execution_count": 129,
   "metadata": {},
   "outputs": [],
   "source": [
    "df = pd.read_csv('./Files/data/census/adult.csv', names=col_names)"
   ]
  },
  {
   "cell_type": "code",
   "execution_count": 126,
   "metadata": {},
   "outputs": [
    {
     "data": {
      "text/html": [
       "<div>\n",
       "<style scoped>\n",
       "    .dataframe tbody tr th:only-of-type {\n",
       "        vertical-align: middle;\n",
       "    }\n",
       "\n",
       "    .dataframe tbody tr th {\n",
       "        vertical-align: top;\n",
       "    }\n",
       "\n",
       "    .dataframe thead th {\n",
       "        text-align: right;\n",
       "    }\n",
       "</style>\n",
       "<table border=\"1\" class=\"dataframe\">\n",
       "  <thead>\n",
       "    <tr style=\"text-align: right;\">\n",
       "      <th></th>\n",
       "      <th>age</th>\n",
       "      <th>workclass</th>\n",
       "      <th>fnlwgt</th>\n",
       "      <th>education</th>\n",
       "      <th>education-num</th>\n",
       "      <th>marital-status</th>\n",
       "      <th>occupation</th>\n",
       "      <th>relationship</th>\n",
       "      <th>race</th>\n",
       "      <th>sex</th>\n",
       "      <th>capital-gain</th>\n",
       "      <th>capital-loss</th>\n",
       "      <th>hours-per-week</th>\n",
       "      <th>native-country</th>\n",
       "      <th>income</th>\n",
       "    </tr>\n",
       "  </thead>\n",
       "  <tbody>\n",
       "    <tr>\n",
       "      <th>0</th>\n",
       "      <td>39</td>\n",
       "      <td>State-gov</td>\n",
       "      <td>77516</td>\n",
       "      <td>Bachelors</td>\n",
       "      <td>13</td>\n",
       "      <td>Never-married</td>\n",
       "      <td>Adm-clerical</td>\n",
       "      <td>Not-in-family</td>\n",
       "      <td>White</td>\n",
       "      <td>Male</td>\n",
       "      <td>2174</td>\n",
       "      <td>0</td>\n",
       "      <td>40</td>\n",
       "      <td>United-States</td>\n",
       "      <td>&lt;=50K</td>\n",
       "    </tr>\n",
       "    <tr>\n",
       "      <th>1</th>\n",
       "      <td>50</td>\n",
       "      <td>Self-emp-not-inc</td>\n",
       "      <td>83311</td>\n",
       "      <td>Bachelors</td>\n",
       "      <td>13</td>\n",
       "      <td>Married-civ-spouse</td>\n",
       "      <td>Exec-managerial</td>\n",
       "      <td>Husband</td>\n",
       "      <td>White</td>\n",
       "      <td>Male</td>\n",
       "      <td>0</td>\n",
       "      <td>0</td>\n",
       "      <td>13</td>\n",
       "      <td>United-States</td>\n",
       "      <td>&lt;=50K</td>\n",
       "    </tr>\n",
       "    <tr>\n",
       "      <th>2</th>\n",
       "      <td>38</td>\n",
       "      <td>Private</td>\n",
       "      <td>215646</td>\n",
       "      <td>HS-grad</td>\n",
       "      <td>9</td>\n",
       "      <td>Divorced</td>\n",
       "      <td>Handlers-cleaners</td>\n",
       "      <td>Not-in-family</td>\n",
       "      <td>White</td>\n",
       "      <td>Male</td>\n",
       "      <td>0</td>\n",
       "      <td>0</td>\n",
       "      <td>40</td>\n",
       "      <td>United-States</td>\n",
       "      <td>&lt;=50K</td>\n",
       "    </tr>\n",
       "    <tr>\n",
       "      <th>3</th>\n",
       "      <td>53</td>\n",
       "      <td>Private</td>\n",
       "      <td>234721</td>\n",
       "      <td>11th</td>\n",
       "      <td>7</td>\n",
       "      <td>Married-civ-spouse</td>\n",
       "      <td>Handlers-cleaners</td>\n",
       "      <td>Husband</td>\n",
       "      <td>Black</td>\n",
       "      <td>Male</td>\n",
       "      <td>0</td>\n",
       "      <td>0</td>\n",
       "      <td>40</td>\n",
       "      <td>United-States</td>\n",
       "      <td>&lt;=50K</td>\n",
       "    </tr>\n",
       "    <tr>\n",
       "      <th>4</th>\n",
       "      <td>28</td>\n",
       "      <td>Private</td>\n",
       "      <td>338409</td>\n",
       "      <td>Bachelors</td>\n",
       "      <td>13</td>\n",
       "      <td>Married-civ-spouse</td>\n",
       "      <td>Prof-specialty</td>\n",
       "      <td>Wife</td>\n",
       "      <td>Black</td>\n",
       "      <td>Female</td>\n",
       "      <td>0</td>\n",
       "      <td>0</td>\n",
       "      <td>40</td>\n",
       "      <td>Cuba</td>\n",
       "      <td>&lt;=50K</td>\n",
       "    </tr>\n",
       "  </tbody>\n",
       "</table>\n",
       "</div>"
      ],
      "text/plain": [
       "   age          workclass  fnlwgt   education  education-num  \\\n",
       "0   39          State-gov   77516   Bachelors             13   \n",
       "1   50   Self-emp-not-inc   83311   Bachelors             13   \n",
       "2   38            Private  215646     HS-grad              9   \n",
       "3   53            Private  234721        11th              7   \n",
       "4   28            Private  338409   Bachelors             13   \n",
       "\n",
       "        marital-status          occupation    relationship    race      sex  \\\n",
       "0        Never-married        Adm-clerical   Not-in-family   White     Male   \n",
       "1   Married-civ-spouse     Exec-managerial         Husband   White     Male   \n",
       "2             Divorced   Handlers-cleaners   Not-in-family   White     Male   \n",
       "3   Married-civ-spouse   Handlers-cleaners         Husband   Black     Male   \n",
       "4   Married-civ-spouse      Prof-specialty            Wife   Black   Female   \n",
       "\n",
       "   capital-gain  capital-loss  hours-per-week  native-country  income  \n",
       "0          2174             0              40   United-States   <=50K  \n",
       "1             0             0              13   United-States   <=50K  \n",
       "2             0             0              40   United-States   <=50K  \n",
       "3             0             0              40   United-States   <=50K  \n",
       "4             0             0              40            Cuba   <=50K  "
      ]
     },
     "execution_count": 126,
     "metadata": {},
     "output_type": "execute_result"
    }
   ],
   "source": [
    "df.head()"
   ]
  },
  {
   "cell_type": "markdown",
   "metadata": {},
   "source": [
    "Perfect! it seems we've correctly added the column names to our data. While it wasn't the case this time, it can happen that the data we're dealing with has a large size and it takes time to read it again from the csv file. In this case we can add the column name after reading the raw data using the **columns** attribute:"
   ]
  },
  {
   "cell_type": "code",
   "execution_count": 12,
   "metadata": {},
   "outputs": [],
   "source": [
    "df.columns = col_names"
   ]
  },
  {
   "cell_type": "code",
   "execution_count": 87,
   "metadata": {},
   "outputs": [
    {
     "data": {
      "text/html": [
       "<div>\n",
       "<style scoped>\n",
       "    .dataframe tbody tr th:only-of-type {\n",
       "        vertical-align: middle;\n",
       "    }\n",
       "\n",
       "    .dataframe tbody tr th {\n",
       "        vertical-align: top;\n",
       "    }\n",
       "\n",
       "    .dataframe thead th {\n",
       "        text-align: right;\n",
       "    }\n",
       "</style>\n",
       "<table border=\"1\" class=\"dataframe\">\n",
       "  <thead>\n",
       "    <tr style=\"text-align: right;\">\n",
       "      <th></th>\n",
       "      <th>age</th>\n",
       "      <th>workclass</th>\n",
       "      <th>fnlwgt</th>\n",
       "      <th>education</th>\n",
       "      <th>education-num</th>\n",
       "      <th>marital-status</th>\n",
       "      <th>occupation</th>\n",
       "      <th>relationship</th>\n",
       "      <th>race</th>\n",
       "      <th>sex</th>\n",
       "      <th>capital-gain</th>\n",
       "      <th>capital-loss</th>\n",
       "      <th>hours-per-week</th>\n",
       "      <th>native-country</th>\n",
       "      <th>income</th>\n",
       "    </tr>\n",
       "  </thead>\n",
       "  <tbody>\n",
       "    <tr>\n",
       "      <th>0</th>\n",
       "      <td>39</td>\n",
       "      <td>State-gov</td>\n",
       "      <td>77516</td>\n",
       "      <td>Bachelors</td>\n",
       "      <td>13</td>\n",
       "      <td>Never-married</td>\n",
       "      <td>Adm-clerical</td>\n",
       "      <td>Not-in-family</td>\n",
       "      <td>White</td>\n",
       "      <td>Male</td>\n",
       "      <td>2174</td>\n",
       "      <td>0</td>\n",
       "      <td>40</td>\n",
       "      <td>United-States</td>\n",
       "      <td>&lt;=50K</td>\n",
       "    </tr>\n",
       "    <tr>\n",
       "      <th>1</th>\n",
       "      <td>50</td>\n",
       "      <td>Self-emp-not-inc</td>\n",
       "      <td>83311</td>\n",
       "      <td>Bachelors</td>\n",
       "      <td>13</td>\n",
       "      <td>Married-civ-spouse</td>\n",
       "      <td>Exec-managerial</td>\n",
       "      <td>Husband</td>\n",
       "      <td>White</td>\n",
       "      <td>Male</td>\n",
       "      <td>0</td>\n",
       "      <td>0</td>\n",
       "      <td>13</td>\n",
       "      <td>United-States</td>\n",
       "      <td>&lt;=50K</td>\n",
       "    </tr>\n",
       "    <tr>\n",
       "      <th>2</th>\n",
       "      <td>38</td>\n",
       "      <td>Private</td>\n",
       "      <td>215646</td>\n",
       "      <td>HS-grad</td>\n",
       "      <td>9</td>\n",
       "      <td>Divorced</td>\n",
       "      <td>Handlers-cleaners</td>\n",
       "      <td>Not-in-family</td>\n",
       "      <td>White</td>\n",
       "      <td>Male</td>\n",
       "      <td>0</td>\n",
       "      <td>0</td>\n",
       "      <td>40</td>\n",
       "      <td>United-States</td>\n",
       "      <td>&lt;=50K</td>\n",
       "    </tr>\n",
       "  </tbody>\n",
       "</table>\n",
       "</div>"
      ],
      "text/plain": [
       "   age          workclass  fnlwgt   education  education-num  \\\n",
       "0   39          State-gov   77516   Bachelors             13   \n",
       "1   50   Self-emp-not-inc   83311   Bachelors             13   \n",
       "2   38            Private  215646     HS-grad              9   \n",
       "\n",
       "        marital-status          occupation    relationship    race    sex  \\\n",
       "0        Never-married        Adm-clerical   Not-in-family   White   Male   \n",
       "1   Married-civ-spouse     Exec-managerial         Husband   White   Male   \n",
       "2             Divorced   Handlers-cleaners   Not-in-family   White   Male   \n",
       "\n",
       "   capital-gain  capital-loss  hours-per-week  native-country  income  \n",
       "0          2174             0              40   United-States   <=50K  \n",
       "1             0             0              13   United-States   <=50K  \n",
       "2             0             0              40   United-States   <=50K  "
      ]
     },
     "execution_count": 87,
     "metadata": {},
     "output_type": "execute_result"
    }
   ],
   "source": [
    "df.head(3)"
   ]
  },
  {
   "cell_type": "markdown",
   "metadata": {},
   "source": [
    "## Understanding your data"
   ]
  },
  {
   "cell_type": "markdown",
   "metadata": {},
   "source": [
    "Now that we have loaded our data, we should get some basic info about them to know what are the data that we're dealing with."
   ]
  },
  {
   "cell_type": "markdown",
   "metadata": {},
   "source": [
    "What is the data type of our loaded data? is it a list? a dictionary? let's find out:"
   ]
  },
  {
   "cell_type": "code",
   "execution_count": 16,
   "metadata": {},
   "outputs": [
    {
     "data": {
      "text/plain": [
       "pandas.core.frame.DataFrame"
      ]
     },
     "execution_count": 16,
     "metadata": {},
     "output_type": "execute_result"
    }
   ],
   "source": [
    "type(df)"
   ]
  },
  {
   "cell_type": "markdown",
   "metadata": {},
   "source": [
    "For now, just consider the first and last words: **pandas** and **DataFrame**. It means that the file type of our imported data *df* is **DataFrame** and belongs to **pandas** library. What is **DataFrame**? It is a special file type which is not a part of Python's core data types but instead it is built on top of another Python library called **Numpy**. In a nutshell, a **DataFrame** is rectangular (tabular) data type which consists of rows and columns. these rows and columns have their our data type called **Series** which just like **DataFrame** belongs to **pandas** as is based on the **Numpy** library. The following figure shows their relationships together:"
   ]
  },
  {
   "cell_type": "markdown",
   "metadata": {},
   "source": [
    "<img src=\"Images/dataframe.png\" width=\"800\"> "
   ]
  },
  {
   "cell_type": "markdown",
   "metadata": {},
   "source": [
    "### Shape of data"
   ]
  },
  {
   "cell_type": "markdown",
   "metadata": {},
   "source": [
    "**shape** attribute returns the shape of the dataframe : 32561 rows and 15 columns:"
   ]
  },
  {
   "cell_type": "code",
   "execution_count": 15,
   "metadata": {},
   "outputs": [
    {
     "data": {
      "text/plain": [
       "(32561, 15)"
      ]
     },
     "execution_count": 15,
     "metadata": {},
     "output_type": "execute_result"
    }
   ],
   "source": [
    "df.shape"
   ]
  },
  {
   "cell_type": "markdown",
   "metadata": {},
   "source": [
    "As you may remember the function **len** and how we can use it with *lists* and *strings*. We can use it also with our *DataFrame* to get the number of rows:"
   ]
  },
  {
   "cell_type": "code",
   "execution_count": 20,
   "metadata": {},
   "outputs": [
    {
     "data": {
      "text/plain": [
       "32561"
      ]
     },
     "execution_count": 20,
     "metadata": {},
     "output_type": "execute_result"
    }
   ],
   "source": [
    "len(df)"
   ]
  },
  {
   "cell_type": "markdown",
   "metadata": {},
   "source": [
    "### Data preview"
   ]
  },
  {
   "cell_type": "markdown",
   "metadata": {},
   "source": [
    "Just like **head( )** method used to take a peek at the first n rows of DataFrame, we can use **tail( )** method to see the last n rows:"
   ]
  },
  {
   "cell_type": "code",
   "execution_count": 21,
   "metadata": {},
   "outputs": [
    {
     "data": {
      "text/html": [
       "<div>\n",
       "<style scoped>\n",
       "    .dataframe tbody tr th:only-of-type {\n",
       "        vertical-align: middle;\n",
       "    }\n",
       "\n",
       "    .dataframe tbody tr th {\n",
       "        vertical-align: top;\n",
       "    }\n",
       "\n",
       "    .dataframe thead th {\n",
       "        text-align: right;\n",
       "    }\n",
       "</style>\n",
       "<table border=\"1\" class=\"dataframe\">\n",
       "  <thead>\n",
       "    <tr style=\"text-align: right;\">\n",
       "      <th></th>\n",
       "      <th>age</th>\n",
       "      <th>workclass</th>\n",
       "      <th>fnlwgt</th>\n",
       "      <th>education</th>\n",
       "      <th>education-num</th>\n",
       "      <th>marital-status</th>\n",
       "      <th>occupation</th>\n",
       "      <th>relationship</th>\n",
       "      <th>race</th>\n",
       "      <th>sex</th>\n",
       "      <th>capital-gain</th>\n",
       "      <th>capital-loss</th>\n",
       "      <th>hours-per-week</th>\n",
       "      <th>native-country</th>\n",
       "      <th>income</th>\n",
       "    </tr>\n",
       "  </thead>\n",
       "  <tbody>\n",
       "    <tr>\n",
       "      <th>32558</th>\n",
       "      <td>58</td>\n",
       "      <td>Private</td>\n",
       "      <td>151910</td>\n",
       "      <td>HS-grad</td>\n",
       "      <td>9</td>\n",
       "      <td>Widowed</td>\n",
       "      <td>Adm-clerical</td>\n",
       "      <td>Unmarried</td>\n",
       "      <td>White</td>\n",
       "      <td>Female</td>\n",
       "      <td>0</td>\n",
       "      <td>0</td>\n",
       "      <td>40</td>\n",
       "      <td>United-States</td>\n",
       "      <td>&lt;=50K</td>\n",
       "    </tr>\n",
       "    <tr>\n",
       "      <th>32559</th>\n",
       "      <td>22</td>\n",
       "      <td>Private</td>\n",
       "      <td>201490</td>\n",
       "      <td>HS-grad</td>\n",
       "      <td>9</td>\n",
       "      <td>Never-married</td>\n",
       "      <td>Adm-clerical</td>\n",
       "      <td>Own-child</td>\n",
       "      <td>White</td>\n",
       "      <td>Male</td>\n",
       "      <td>0</td>\n",
       "      <td>0</td>\n",
       "      <td>20</td>\n",
       "      <td>United-States</td>\n",
       "      <td>&lt;=50K</td>\n",
       "    </tr>\n",
       "    <tr>\n",
       "      <th>32560</th>\n",
       "      <td>52</td>\n",
       "      <td>Self-emp-inc</td>\n",
       "      <td>287927</td>\n",
       "      <td>HS-grad</td>\n",
       "      <td>9</td>\n",
       "      <td>Married-civ-spouse</td>\n",
       "      <td>Exec-managerial</td>\n",
       "      <td>Wife</td>\n",
       "      <td>White</td>\n",
       "      <td>Female</td>\n",
       "      <td>15024</td>\n",
       "      <td>0</td>\n",
       "      <td>40</td>\n",
       "      <td>United-States</td>\n",
       "      <td>&gt;50K</td>\n",
       "    </tr>\n",
       "  </tbody>\n",
       "</table>\n",
       "</div>"
      ],
      "text/plain": [
       "       age      workclass  fnlwgt education  education-num  \\\n",
       "32558   58        Private  151910   HS-grad              9   \n",
       "32559   22        Private  201490   HS-grad              9   \n",
       "32560   52   Self-emp-inc  287927   HS-grad              9   \n",
       "\n",
       "            marital-status        occupation relationship    race      sex  \\\n",
       "32558              Widowed      Adm-clerical    Unmarried   White   Female   \n",
       "32559        Never-married      Adm-clerical    Own-child   White     Male   \n",
       "32560   Married-civ-spouse   Exec-managerial         Wife   White   Female   \n",
       "\n",
       "       capital-gain  capital-loss  hours-per-week  native-country  income  \n",
       "32558             0             0              40   United-States   <=50K  \n",
       "32559             0             0              20   United-States   <=50K  \n",
       "32560         15024             0              40   United-States    >50K  "
      ]
     },
     "execution_count": 21,
     "metadata": {},
     "output_type": "execute_result"
    }
   ],
   "source": [
    "df.tail(3)"
   ]
  },
  {
   "cell_type": "markdown",
   "metadata": {},
   "source": [
    "### Simple descriptive statistics"
   ]
  },
  {
   "cell_type": "markdown",
   "metadata": {},
   "source": [
    "Using *.info( )* we can get general info of the dataframe:\n",
    "    "
   ]
  },
  {
   "cell_type": "code",
   "execution_count": null,
   "metadata": {},
   "outputs": [],
   "source": [
    "df.info()"
   ]
  },
  {
   "cell_type": "markdown",
   "metadata": {},
   "source": [
    "<img src=\"Images/info.png\" width=\"800\"> "
   ]
  },
  {
   "cell_type": "markdown",
   "metadata": {},
   "source": [
    "In case we want to have a general idea about our data, we can use **.describe( )** method:"
   ]
  },
  {
   "cell_type": "code",
   "execution_count": 82,
   "metadata": {},
   "outputs": [
    {
     "data": {
      "text/html": [
       "<div>\n",
       "<style scoped>\n",
       "    .dataframe tbody tr th:only-of-type {\n",
       "        vertical-align: middle;\n",
       "    }\n",
       "\n",
       "    .dataframe tbody tr th {\n",
       "        vertical-align: top;\n",
       "    }\n",
       "\n",
       "    .dataframe thead th {\n",
       "        text-align: right;\n",
       "    }\n",
       "</style>\n",
       "<table border=\"1\" class=\"dataframe\">\n",
       "  <thead>\n",
       "    <tr style=\"text-align: right;\">\n",
       "      <th></th>\n",
       "      <th>age</th>\n",
       "      <th>workclass</th>\n",
       "      <th>fnlwgt</th>\n",
       "      <th>education</th>\n",
       "      <th>education-num</th>\n",
       "      <th>marital-status</th>\n",
       "      <th>occupation</th>\n",
       "      <th>relationship</th>\n",
       "      <th>race</th>\n",
       "      <th>sex</th>\n",
       "      <th>capital-gain</th>\n",
       "      <th>capital-loss</th>\n",
       "      <th>hours-per-week</th>\n",
       "      <th>native-country</th>\n",
       "      <th>income</th>\n",
       "    </tr>\n",
       "  </thead>\n",
       "  <tbody>\n",
       "    <tr>\n",
       "      <th>count</th>\n",
       "      <td>32561.0</td>\n",
       "      <td>32561</td>\n",
       "      <td>32561.0</td>\n",
       "      <td>32561</td>\n",
       "      <td>32561.0</td>\n",
       "      <td>32561</td>\n",
       "      <td>32561</td>\n",
       "      <td>32561</td>\n",
       "      <td>32561</td>\n",
       "      <td>32561</td>\n",
       "      <td>32561.0</td>\n",
       "      <td>32561.0</td>\n",
       "      <td>32561.0</td>\n",
       "      <td>32561</td>\n",
       "      <td>32561</td>\n",
       "    </tr>\n",
       "    <tr>\n",
       "      <th>unique</th>\n",
       "      <td>NaN</td>\n",
       "      <td>9</td>\n",
       "      <td>NaN</td>\n",
       "      <td>16</td>\n",
       "      <td>NaN</td>\n",
       "      <td>7</td>\n",
       "      <td>15</td>\n",
       "      <td>6</td>\n",
       "      <td>5</td>\n",
       "      <td>2</td>\n",
       "      <td>NaN</td>\n",
       "      <td>NaN</td>\n",
       "      <td>NaN</td>\n",
       "      <td>42</td>\n",
       "      <td>2</td>\n",
       "    </tr>\n",
       "    <tr>\n",
       "      <th>top</th>\n",
       "      <td>NaN</td>\n",
       "      <td>Private</td>\n",
       "      <td>NaN</td>\n",
       "      <td>HS-grad</td>\n",
       "      <td>NaN</td>\n",
       "      <td>Married-civ-spouse</td>\n",
       "      <td>Prof-specialty</td>\n",
       "      <td>Husband</td>\n",
       "      <td>White</td>\n",
       "      <td>Male</td>\n",
       "      <td>NaN</td>\n",
       "      <td>NaN</td>\n",
       "      <td>NaN</td>\n",
       "      <td>United-States</td>\n",
       "      <td>&lt;=50K</td>\n",
       "    </tr>\n",
       "    <tr>\n",
       "      <th>freq</th>\n",
       "      <td>NaN</td>\n",
       "      <td>22696</td>\n",
       "      <td>NaN</td>\n",
       "      <td>10501</td>\n",
       "      <td>NaN</td>\n",
       "      <td>14976</td>\n",
       "      <td>4140</td>\n",
       "      <td>13193</td>\n",
       "      <td>27816</td>\n",
       "      <td>21790</td>\n",
       "      <td>NaN</td>\n",
       "      <td>NaN</td>\n",
       "      <td>NaN</td>\n",
       "      <td>29170</td>\n",
       "      <td>24720</td>\n",
       "    </tr>\n",
       "    <tr>\n",
       "      <th>mean</th>\n",
       "      <td>38.6</td>\n",
       "      <td>NaN</td>\n",
       "      <td>189778.4</td>\n",
       "      <td>NaN</td>\n",
       "      <td>10.1</td>\n",
       "      <td>NaN</td>\n",
       "      <td>NaN</td>\n",
       "      <td>NaN</td>\n",
       "      <td>NaN</td>\n",
       "      <td>NaN</td>\n",
       "      <td>1077.6</td>\n",
       "      <td>87.3</td>\n",
       "      <td>40.4</td>\n",
       "      <td>NaN</td>\n",
       "      <td>NaN</td>\n",
       "    </tr>\n",
       "    <tr>\n",
       "      <th>std</th>\n",
       "      <td>13.6</td>\n",
       "      <td>NaN</td>\n",
       "      <td>105550.0</td>\n",
       "      <td>NaN</td>\n",
       "      <td>2.6</td>\n",
       "      <td>NaN</td>\n",
       "      <td>NaN</td>\n",
       "      <td>NaN</td>\n",
       "      <td>NaN</td>\n",
       "      <td>NaN</td>\n",
       "      <td>7385.3</td>\n",
       "      <td>403.0</td>\n",
       "      <td>12.3</td>\n",
       "      <td>NaN</td>\n",
       "      <td>NaN</td>\n",
       "    </tr>\n",
       "    <tr>\n",
       "      <th>min</th>\n",
       "      <td>17.0</td>\n",
       "      <td>NaN</td>\n",
       "      <td>12285.0</td>\n",
       "      <td>NaN</td>\n",
       "      <td>1.0</td>\n",
       "      <td>NaN</td>\n",
       "      <td>NaN</td>\n",
       "      <td>NaN</td>\n",
       "      <td>NaN</td>\n",
       "      <td>NaN</td>\n",
       "      <td>0.0</td>\n",
       "      <td>0.0</td>\n",
       "      <td>1.0</td>\n",
       "      <td>NaN</td>\n",
       "      <td>NaN</td>\n",
       "    </tr>\n",
       "    <tr>\n",
       "      <th>25%</th>\n",
       "      <td>28.0</td>\n",
       "      <td>NaN</td>\n",
       "      <td>117827.0</td>\n",
       "      <td>NaN</td>\n",
       "      <td>9.0</td>\n",
       "      <td>NaN</td>\n",
       "      <td>NaN</td>\n",
       "      <td>NaN</td>\n",
       "      <td>NaN</td>\n",
       "      <td>NaN</td>\n",
       "      <td>0.0</td>\n",
       "      <td>0.0</td>\n",
       "      <td>40.0</td>\n",
       "      <td>NaN</td>\n",
       "      <td>NaN</td>\n",
       "    </tr>\n",
       "    <tr>\n",
       "      <th>50%</th>\n",
       "      <td>37.0</td>\n",
       "      <td>NaN</td>\n",
       "      <td>178356.0</td>\n",
       "      <td>NaN</td>\n",
       "      <td>10.0</td>\n",
       "      <td>NaN</td>\n",
       "      <td>NaN</td>\n",
       "      <td>NaN</td>\n",
       "      <td>NaN</td>\n",
       "      <td>NaN</td>\n",
       "      <td>0.0</td>\n",
       "      <td>0.0</td>\n",
       "      <td>40.0</td>\n",
       "      <td>NaN</td>\n",
       "      <td>NaN</td>\n",
       "    </tr>\n",
       "    <tr>\n",
       "      <th>75%</th>\n",
       "      <td>48.0</td>\n",
       "      <td>NaN</td>\n",
       "      <td>237051.0</td>\n",
       "      <td>NaN</td>\n",
       "      <td>12.0</td>\n",
       "      <td>NaN</td>\n",
       "      <td>NaN</td>\n",
       "      <td>NaN</td>\n",
       "      <td>NaN</td>\n",
       "      <td>NaN</td>\n",
       "      <td>0.0</td>\n",
       "      <td>0.0</td>\n",
       "      <td>45.0</td>\n",
       "      <td>NaN</td>\n",
       "      <td>NaN</td>\n",
       "    </tr>\n",
       "    <tr>\n",
       "      <th>max</th>\n",
       "      <td>90.0</td>\n",
       "      <td>NaN</td>\n",
       "      <td>1484705.0</td>\n",
       "      <td>NaN</td>\n",
       "      <td>16.0</td>\n",
       "      <td>NaN</td>\n",
       "      <td>NaN</td>\n",
       "      <td>NaN</td>\n",
       "      <td>NaN</td>\n",
       "      <td>NaN</td>\n",
       "      <td>99999.0</td>\n",
       "      <td>4356.0</td>\n",
       "      <td>99.0</td>\n",
       "      <td>NaN</td>\n",
       "      <td>NaN</td>\n",
       "    </tr>\n",
       "  </tbody>\n",
       "</table>\n",
       "</div>"
      ],
      "text/plain": [
       "            age workclass     fnlwgt education  education-num  \\\n",
       "count   32561.0     32561    32561.0     32561        32561.0   \n",
       "unique      NaN         9        NaN        16            NaN   \n",
       "top         NaN   Private        NaN   HS-grad            NaN   \n",
       "freq        NaN     22696        NaN     10501            NaN   \n",
       "mean       38.6       NaN   189778.4       NaN           10.1   \n",
       "std        13.6       NaN   105550.0       NaN            2.6   \n",
       "min        17.0       NaN    12285.0       NaN            1.0   \n",
       "25%        28.0       NaN   117827.0       NaN            9.0   \n",
       "50%        37.0       NaN   178356.0       NaN           10.0   \n",
       "75%        48.0       NaN   237051.0       NaN           12.0   \n",
       "max        90.0       NaN  1484705.0       NaN           16.0   \n",
       "\n",
       "             marital-status       occupation relationship    race    sex  \\\n",
       "count                 32561            32561        32561   32561  32561   \n",
       "unique                    7               15            6       5      2   \n",
       "top      Married-civ-spouse   Prof-specialty      Husband   White   Male   \n",
       "freq                  14976             4140        13193   27816  21790   \n",
       "mean                    NaN              NaN          NaN     NaN    NaN   \n",
       "std                     NaN              NaN          NaN     NaN    NaN   \n",
       "min                     NaN              NaN          NaN     NaN    NaN   \n",
       "25%                     NaN              NaN          NaN     NaN    NaN   \n",
       "50%                     NaN              NaN          NaN     NaN    NaN   \n",
       "75%                     NaN              NaN          NaN     NaN    NaN   \n",
       "max                     NaN              NaN          NaN     NaN    NaN   \n",
       "\n",
       "        capital-gain  capital-loss  hours-per-week  native-country  income  \n",
       "count        32561.0       32561.0         32561.0           32561   32561  \n",
       "unique           NaN           NaN             NaN              42       2  \n",
       "top              NaN           NaN             NaN   United-States   <=50K  \n",
       "freq             NaN           NaN             NaN           29170   24720  \n",
       "mean          1077.6          87.3            40.4             NaN     NaN  \n",
       "std           7385.3         403.0            12.3             NaN     NaN  \n",
       "min              0.0           0.0             1.0             NaN     NaN  \n",
       "25%              0.0           0.0            40.0             NaN     NaN  \n",
       "50%              0.0           0.0            40.0             NaN     NaN  \n",
       "75%              0.0           0.0            45.0             NaN     NaN  \n",
       "max          99999.0        4356.0            99.0             NaN     NaN  "
      ]
     },
     "execution_count": 82,
     "metadata": {},
     "output_type": "execute_result"
    }
   ],
   "source": [
    "df.describe(include='all').round(1)"
   ]
  },
  {
   "cell_type": "code",
   "execution_count": 127,
   "metadata": {},
   "outputs": [
    {
     "data": {
      "text/html": [
       "<div>\n",
       "<style scoped>\n",
       "    .dataframe tbody tr th:only-of-type {\n",
       "        vertical-align: middle;\n",
       "    }\n",
       "\n",
       "    .dataframe tbody tr th {\n",
       "        vertical-align: top;\n",
       "    }\n",
       "\n",
       "    .dataframe thead th {\n",
       "        text-align: right;\n",
       "    }\n",
       "</style>\n",
       "<table border=\"1\" class=\"dataframe\">\n",
       "  <thead>\n",
       "    <tr style=\"text-align: right;\">\n",
       "      <th></th>\n",
       "      <th>age</th>\n",
       "      <th>fnlwgt</th>\n",
       "      <th>education-num</th>\n",
       "      <th>capital-gain</th>\n",
       "      <th>capital-loss</th>\n",
       "      <th>hours-per-week</th>\n",
       "    </tr>\n",
       "  </thead>\n",
       "  <tbody>\n",
       "    <tr>\n",
       "      <th>count</th>\n",
       "      <td>32561.000000</td>\n",
       "      <td>3.256100e+04</td>\n",
       "      <td>32561.000000</td>\n",
       "      <td>32561.000000</td>\n",
       "      <td>32561.000000</td>\n",
       "      <td>32561.000000</td>\n",
       "    </tr>\n",
       "    <tr>\n",
       "      <th>mean</th>\n",
       "      <td>38.581647</td>\n",
       "      <td>1.897784e+05</td>\n",
       "      <td>10.080679</td>\n",
       "      <td>1077.648844</td>\n",
       "      <td>87.303830</td>\n",
       "      <td>40.437456</td>\n",
       "    </tr>\n",
       "    <tr>\n",
       "      <th>std</th>\n",
       "      <td>13.640433</td>\n",
       "      <td>1.055500e+05</td>\n",
       "      <td>2.572720</td>\n",
       "      <td>7385.292085</td>\n",
       "      <td>402.960219</td>\n",
       "      <td>12.347429</td>\n",
       "    </tr>\n",
       "    <tr>\n",
       "      <th>min</th>\n",
       "      <td>17.000000</td>\n",
       "      <td>1.228500e+04</td>\n",
       "      <td>1.000000</td>\n",
       "      <td>0.000000</td>\n",
       "      <td>0.000000</td>\n",
       "      <td>1.000000</td>\n",
       "    </tr>\n",
       "    <tr>\n",
       "      <th>25%</th>\n",
       "      <td>28.000000</td>\n",
       "      <td>1.178270e+05</td>\n",
       "      <td>9.000000</td>\n",
       "      <td>0.000000</td>\n",
       "      <td>0.000000</td>\n",
       "      <td>40.000000</td>\n",
       "    </tr>\n",
       "    <tr>\n",
       "      <th>50%</th>\n",
       "      <td>37.000000</td>\n",
       "      <td>1.783560e+05</td>\n",
       "      <td>10.000000</td>\n",
       "      <td>0.000000</td>\n",
       "      <td>0.000000</td>\n",
       "      <td>40.000000</td>\n",
       "    </tr>\n",
       "    <tr>\n",
       "      <th>75%</th>\n",
       "      <td>48.000000</td>\n",
       "      <td>2.370510e+05</td>\n",
       "      <td>12.000000</td>\n",
       "      <td>0.000000</td>\n",
       "      <td>0.000000</td>\n",
       "      <td>45.000000</td>\n",
       "    </tr>\n",
       "    <tr>\n",
       "      <th>max</th>\n",
       "      <td>90.000000</td>\n",
       "      <td>1.484705e+06</td>\n",
       "      <td>16.000000</td>\n",
       "      <td>99999.000000</td>\n",
       "      <td>4356.000000</td>\n",
       "      <td>99.000000</td>\n",
       "    </tr>\n",
       "  </tbody>\n",
       "</table>\n",
       "</div>"
      ],
      "text/plain": [
       "                age        fnlwgt  education-num  capital-gain  capital-loss  \\\n",
       "count  32561.000000  3.256100e+04   32561.000000  32561.000000  32561.000000   \n",
       "mean      38.581647  1.897784e+05      10.080679   1077.648844     87.303830   \n",
       "std       13.640433  1.055500e+05       2.572720   7385.292085    402.960219   \n",
       "min       17.000000  1.228500e+04       1.000000      0.000000      0.000000   \n",
       "25%       28.000000  1.178270e+05       9.000000      0.000000      0.000000   \n",
       "50%       37.000000  1.783560e+05      10.000000      0.000000      0.000000   \n",
       "75%       48.000000  2.370510e+05      12.000000      0.000000      0.000000   \n",
       "max       90.000000  1.484705e+06      16.000000  99999.000000   4356.000000   \n",
       "\n",
       "       hours-per-week  \n",
       "count    32561.000000  \n",
       "mean        40.437456  \n",
       "std         12.347429  \n",
       "min          1.000000  \n",
       "25%         40.000000  \n",
       "50%         40.000000  \n",
       "75%         45.000000  \n",
       "max         99.000000  "
      ]
     },
     "execution_count": 127,
     "metadata": {},
     "output_type": "execute_result"
    }
   ],
   "source": [
    "df.describe()"
   ]
  },
  {
   "cell_type": "markdown",
   "metadata": {},
   "source": [
    " "
   ]
  },
  {
   "cell_type": "markdown",
   "metadata": {},
   "source": [
    "<img src=\"Images/owl.svg\"   width=\"40\" align=\"left\">    "
   ]
  },
  {
   "cell_type": "markdown",
   "metadata": {},
   "source": [
    "***What happened in the cell above?***\n",
    "\n",
    "As I just said **describe( )** provides simple statistics but why we've used **include='all'** argument and **.round(1)** method?\n",
    "\n",
    "- **include** argument by default is None and as a result we'll get the statistics only for the numerical columns\n",
    "- **round(n)** is a DataFrame method which rounds the values to **n** digits. We've used it to make our result a bit more readable."
   ]
  },
  {
   "cell_type": "markdown",
   "metadata": {},
   "source": [
    "## Essential functionalities"
   ]
  },
  {
   "cell_type": "markdown",
   "metadata": {},
   "source": [
    "### Slicing and filtering data"
   ]
  },
  {
   "cell_type": "markdown",
   "metadata": {},
   "source": [
    "Often we want to perform a task on one single column or use it as an input for another function. Two of the easiest ways to get a single column from a dataframe are:\n",
    "\n",
    "     df[column_name]\n",
    "     df.column_name"
   ]
  },
  {
   "cell_type": "markdown",
   "metadata": {},
   "source": [
    " "
   ]
  },
  {
   "cell_type": "markdown",
   "metadata": {},
   "source": [
    "<img src=\"Images/student.svg\"   width=\"30\" align=\"left\">               "
   ]
  },
  {
   "cell_type": "markdown",
   "metadata": {},
   "source": [
    "**YOUR TURN**\n",
    "\n",
    "try to get the **capital-loss** column using both methods and explain the results."
   ]
  },
  {
   "cell_type": "code",
   "execution_count": null,
   "metadata": {},
   "outputs": [],
   "source": [
    "(\\   .-.   .-.   .-.   .-.   .-.   .-.   .-.   .-.   /_\")\n",
    " \\\\_//^\\\\_//^\\\\_//^\\\\_//^\\\\_//^\\\\_//^\\\\_//^\\\\_//^\\\\_//\n",
    "  `\"`   `\"`   `\"`   `\"`   `\"`   `\"`   `\"`   `\"`   `\"`"
   ]
  },
  {
   "cell_type": "markdown",
   "metadata": {},
   "source": [
    " "
   ]
  },
  {
   "cell_type": "markdown",
   "metadata": {},
   "source": [
    "Using **describe( )** method we saw that for the categorical columns we'll get the most frequent value but how can we have the frequency of all unique values of a column (similar to COUNT DISTINCT in SQL)? \n",
    "\n",
    "To do so we can apply **value_counts( )** method to a categorical column. for example let's see value counts in the **marital-status** column:"
   ]
  },
  {
   "cell_type": "code",
   "execution_count": 88,
   "metadata": {},
   "outputs": [
    {
     "data": {
      "text/plain": [
       " Married-civ-spouse       14976\n",
       " Never-married            10683\n",
       " Divorced                  4443\n",
       " Separated                 1025\n",
       " Widowed                    993\n",
       " Married-spouse-absent      418\n",
       " Married-AF-spouse           23\n",
       "Name: marital-status, dtype: int64"
      ]
     },
     "execution_count": 88,
     "metadata": {},
     "output_type": "execute_result"
    }
   ],
   "source": [
    "df['marital-status'].value_counts()"
   ]
  },
  {
   "cell_type": "markdown",
   "metadata": {},
   "source": [
    "Adding **normalize=True** argument to **value_counts( )** method we can have the frequencies in percentage:"
   ]
  },
  {
   "cell_type": "code",
   "execution_count": 90,
   "metadata": {},
   "outputs": [
    {
     "data": {
      "text/plain": [
       " Married-civ-spouse       0.459937\n",
       " Never-married            0.328092\n",
       " Divorced                 0.136452\n",
       " Separated                0.031479\n",
       " Widowed                  0.030497\n",
       " Married-spouse-absent    0.012837\n",
       " Married-AF-spouse        0.000706\n",
       "Name: marital-status, dtype: float64"
      ]
     },
     "execution_count": 90,
     "metadata": {},
     "output_type": "execute_result"
    }
   ],
   "source": [
    "df['marital-status'].value_counts(normalize=True)"
   ]
  },
  {
   "cell_type": "markdown",
   "metadata": {},
   "source": [
    "While using the above method will show us the unique values of a column, we can't directly use **.value_counts( )** method to have a list of unique values. (imagine that you want to use these values in a for loop). \n",
    "**Series** has another method called **unique( )** which returns a numpy array (not a list):"
   ]
  },
  {
   "cell_type": "code",
   "execution_count": 98,
   "metadata": {},
   "outputs": [
    {
     "data": {
      "text/plain": [
       "array([' White', ' Black', ' Asian-Pac-Islander', ' Amer-Indian-Eskimo',\n",
       "       ' Other'], dtype=object)"
      ]
     },
     "execution_count": 98,
     "metadata": {},
     "output_type": "execute_result"
    }
   ],
   "source": [
    "df['race'].unique()"
   ]
  },
  {
   "cell_type": "markdown",
   "metadata": {},
   "source": [
    "Often we want to slice our dataframe and somehow reduce it. We can do it either by slicing or filtering it."
   ]
  },
  {
   "cell_type": "markdown",
   "metadata": {},
   "source": [
    "Let's start from slicing. Suppose we want a subset of the original data which contains the first 8 rows and all the columns except the last one:"
   ]
  },
  {
   "cell_type": "code",
   "execution_count": 132,
   "metadata": {},
   "outputs": [
    {
     "data": {
      "text/html": [
       "<div>\n",
       "<style scoped>\n",
       "    .dataframe tbody tr th:only-of-type {\n",
       "        vertical-align: middle;\n",
       "    }\n",
       "\n",
       "    .dataframe tbody tr th {\n",
       "        vertical-align: top;\n",
       "    }\n",
       "\n",
       "    .dataframe thead th {\n",
       "        text-align: right;\n",
       "    }\n",
       "</style>\n",
       "<table border=\"1\" class=\"dataframe\">\n",
       "  <thead>\n",
       "    <tr style=\"text-align: right;\">\n",
       "      <th></th>\n",
       "      <th>age</th>\n",
       "      <th>workclass</th>\n",
       "      <th>fnlwgt</th>\n",
       "      <th>education</th>\n",
       "      <th>education-num</th>\n",
       "      <th>marital-status</th>\n",
       "      <th>occupation</th>\n",
       "      <th>relationship</th>\n",
       "      <th>race</th>\n",
       "      <th>sex</th>\n",
       "      <th>capital-gain</th>\n",
       "      <th>capital-loss</th>\n",
       "      <th>hours-per-week</th>\n",
       "      <th>native-country</th>\n",
       "      <th>income</th>\n",
       "    </tr>\n",
       "  </thead>\n",
       "  <tbody>\n",
       "    <tr>\n",
       "      <th>0</th>\n",
       "      <td>39</td>\n",
       "      <td>State-gov</td>\n",
       "      <td>77516</td>\n",
       "      <td>Bachelors</td>\n",
       "      <td>13</td>\n",
       "      <td>Never-married</td>\n",
       "      <td>Adm-clerical</td>\n",
       "      <td>Not-in-family</td>\n",
       "      <td>White</td>\n",
       "      <td>Male</td>\n",
       "      <td>2174</td>\n",
       "      <td>0</td>\n",
       "      <td>40</td>\n",
       "      <td>United-States</td>\n",
       "      <td>&lt;=50K</td>\n",
       "    </tr>\n",
       "    <tr>\n",
       "      <th>1</th>\n",
       "      <td>50</td>\n",
       "      <td>Self-emp-not-inc</td>\n",
       "      <td>83311</td>\n",
       "      <td>Bachelors</td>\n",
       "      <td>13</td>\n",
       "      <td>Married-civ-spouse</td>\n",
       "      <td>Exec-managerial</td>\n",
       "      <td>Husband</td>\n",
       "      <td>White</td>\n",
       "      <td>Male</td>\n",
       "      <td>0</td>\n",
       "      <td>0</td>\n",
       "      <td>13</td>\n",
       "      <td>United-States</td>\n",
       "      <td>&lt;=50K</td>\n",
       "    </tr>\n",
       "    <tr>\n",
       "      <th>2</th>\n",
       "      <td>38</td>\n",
       "      <td>Private</td>\n",
       "      <td>215646</td>\n",
       "      <td>HS-grad</td>\n",
       "      <td>9</td>\n",
       "      <td>Divorced</td>\n",
       "      <td>Handlers-cleaners</td>\n",
       "      <td>Not-in-family</td>\n",
       "      <td>White</td>\n",
       "      <td>Male</td>\n",
       "      <td>0</td>\n",
       "      <td>0</td>\n",
       "      <td>40</td>\n",
       "      <td>United-States</td>\n",
       "      <td>&lt;=50K</td>\n",
       "    </tr>\n",
       "    <tr>\n",
       "      <th>3</th>\n",
       "      <td>53</td>\n",
       "      <td>Private</td>\n",
       "      <td>234721</td>\n",
       "      <td>11th</td>\n",
       "      <td>7</td>\n",
       "      <td>Married-civ-spouse</td>\n",
       "      <td>Handlers-cleaners</td>\n",
       "      <td>Husband</td>\n",
       "      <td>Black</td>\n",
       "      <td>Male</td>\n",
       "      <td>0</td>\n",
       "      <td>0</td>\n",
       "      <td>40</td>\n",
       "      <td>United-States</td>\n",
       "      <td>&lt;=50K</td>\n",
       "    </tr>\n",
       "    <tr>\n",
       "      <th>4</th>\n",
       "      <td>28</td>\n",
       "      <td>Private</td>\n",
       "      <td>338409</td>\n",
       "      <td>Bachelors</td>\n",
       "      <td>13</td>\n",
       "      <td>Married-civ-spouse</td>\n",
       "      <td>Prof-specialty</td>\n",
       "      <td>Wife</td>\n",
       "      <td>Black</td>\n",
       "      <td>Female</td>\n",
       "      <td>0</td>\n",
       "      <td>0</td>\n",
       "      <td>40</td>\n",
       "      <td>Cuba</td>\n",
       "      <td>&lt;=50K</td>\n",
       "    </tr>\n",
       "  </tbody>\n",
       "</table>\n",
       "</div>"
      ],
      "text/plain": [
       "   age          workclass  fnlwgt   education  education-num  \\\n",
       "0   39          State-gov   77516   Bachelors             13   \n",
       "1   50   Self-emp-not-inc   83311   Bachelors             13   \n",
       "2   38            Private  215646     HS-grad              9   \n",
       "3   53            Private  234721        11th              7   \n",
       "4   28            Private  338409   Bachelors             13   \n",
       "\n",
       "        marital-status          occupation    relationship    race      sex  \\\n",
       "0        Never-married        Adm-clerical   Not-in-family   White     Male   \n",
       "1   Married-civ-spouse     Exec-managerial         Husband   White     Male   \n",
       "2             Divorced   Handlers-cleaners   Not-in-family   White     Male   \n",
       "3   Married-civ-spouse   Handlers-cleaners         Husband   Black     Male   \n",
       "4   Married-civ-spouse      Prof-specialty            Wife   Black   Female   \n",
       "\n",
       "   capital-gain  capital-loss  hours-per-week  native-country  income  \n",
       "0          2174             0              40   United-States   <=50K  \n",
       "1             0             0              13   United-States   <=50K  \n",
       "2             0             0              40   United-States   <=50K  \n",
       "3             0             0              40   United-States   <=50K  \n",
       "4             0             0              40            Cuba   <=50K  "
      ]
     },
     "execution_count": 132,
     "metadata": {},
     "output_type": "execute_result"
    }
   ],
   "source": [
    "df.head(5)"
   ]
  },
  {
   "cell_type": "code",
   "execution_count": 135,
   "metadata": {},
   "outputs": [
    {
     "data": {
      "text/html": [
       "<div>\n",
       "<style scoped>\n",
       "    .dataframe tbody tr th:only-of-type {\n",
       "        vertical-align: middle;\n",
       "    }\n",
       "\n",
       "    .dataframe tbody tr th {\n",
       "        vertical-align: top;\n",
       "    }\n",
       "\n",
       "    .dataframe thead th {\n",
       "        text-align: right;\n",
       "    }\n",
       "</style>\n",
       "<table border=\"1\" class=\"dataframe\">\n",
       "  <thead>\n",
       "    <tr style=\"text-align: right;\">\n",
       "      <th></th>\n",
       "      <th>education</th>\n",
       "    </tr>\n",
       "  </thead>\n",
       "  <tbody>\n",
       "    <tr>\n",
       "      <th>1</th>\n",
       "      <td>Bachelors</td>\n",
       "    </tr>\n",
       "    <tr>\n",
       "      <th>2</th>\n",
       "      <td>HS-grad</td>\n",
       "    </tr>\n",
       "    <tr>\n",
       "      <th>3</th>\n",
       "      <td>11th</td>\n",
       "    </tr>\n",
       "  </tbody>\n",
       "</table>\n",
       "</div>"
      ],
      "text/plain": [
       "    education\n",
       "1   Bachelors\n",
       "2     HS-grad\n",
       "3        11th"
      ]
     },
     "execution_count": 135,
     "metadata": {},
     "output_type": "execute_result"
    }
   ],
   "source": [
    "df.iloc[1:4,3:4]"
   ]
  },
  {
   "cell_type": "markdown",
   "metadata": {},
   "source": [
    " "
   ]
  },
  {
   "cell_type": "markdown",
   "metadata": {},
   "source": [
    "<img src=\"Images/owl.svg\"   width=\"40\" align=\"left\">    "
   ]
  },
  {
   "cell_type": "markdown",
   "metadata": {},
   "source": [
    "***What happened in the cell above?***\n",
    "\n",
    "We used one of DataFrame methods called **iloc[ ]** which is for **locating based on index**. Let's see the structure of a **.iloc[ ]** method:"
   ]
  },
  {
   "cell_type": "markdown",
   "metadata": {},
   "source": [
    "<img src=\"Images/iloc.png\" width=\"600\"> "
   ]
  },
  {
   "cell_type": "markdown",
   "metadata": {},
   "source": [
    "Now let's see how can we filter our data.\n",
    "\n",
    "Suppose that you want to filter the data to find out people who has a PhD degree and are in a farming/Fishing business:"
   ]
  },
  {
   "cell_type": "code",
   "execution_count": 39,
   "metadata": {},
   "outputs": [
    {
     "data": {
      "text/html": [
       "<div>\n",
       "<style scoped>\n",
       "    .dataframe tbody tr th:only-of-type {\n",
       "        vertical-align: middle;\n",
       "    }\n",
       "\n",
       "    .dataframe tbody tr th {\n",
       "        vertical-align: top;\n",
       "    }\n",
       "\n",
       "    .dataframe thead th {\n",
       "        text-align: right;\n",
       "    }\n",
       "</style>\n",
       "<table border=\"1\" class=\"dataframe\">\n",
       "  <thead>\n",
       "    <tr style=\"text-align: right;\">\n",
       "      <th></th>\n",
       "      <th>age</th>\n",
       "      <th>workclass</th>\n",
       "      <th>fnlwgt</th>\n",
       "      <th>education</th>\n",
       "      <th>education-num</th>\n",
       "      <th>marital-status</th>\n",
       "      <th>occupation</th>\n",
       "      <th>relationship</th>\n",
       "      <th>race</th>\n",
       "      <th>sex</th>\n",
       "      <th>capital-gain</th>\n",
       "      <th>capital-loss</th>\n",
       "      <th>hours-per-week</th>\n",
       "      <th>native-country</th>\n",
       "      <th>income</th>\n",
       "    </tr>\n",
       "  </thead>\n",
       "  <tbody>\n",
       "    <tr>\n",
       "      <th>19861</th>\n",
       "      <td>77</td>\n",
       "      <td>Self-emp-inc</td>\n",
       "      <td>84979</td>\n",
       "      <td>Doctorate</td>\n",
       "      <td>16</td>\n",
       "      <td>Married-civ-spouse</td>\n",
       "      <td>Farming-fishing</td>\n",
       "      <td>Husband</td>\n",
       "      <td>White</td>\n",
       "      <td>Male</td>\n",
       "      <td>20051</td>\n",
       "      <td>0</td>\n",
       "      <td>40</td>\n",
       "      <td>United-States</td>\n",
       "      <td>&gt;50K</td>\n",
       "    </tr>\n",
       "  </tbody>\n",
       "</table>\n",
       "</div>"
      ],
      "text/plain": [
       "       age      workclass  fnlwgt   education  education-num  \\\n",
       "19861   77   Self-emp-inc   84979   Doctorate             16   \n",
       "\n",
       "            marital-status        occupation relationship    race    sex  \\\n",
       "19861   Married-civ-spouse   Farming-fishing      Husband   White   Male   \n",
       "\n",
       "       capital-gain  capital-loss  hours-per-week  native-country income  \n",
       "19861         20051             0              40   United-States   >50K  "
      ]
     },
     "execution_count": 39,
     "metadata": {},
     "output_type": "execute_result"
    }
   ],
   "source": [
    "df[(df.education == ' Doctorate') & (df['occupation'] == ' Farming-fishing')]"
   ]
  },
  {
   "cell_type": "markdown",
   "metadata": {},
   "source": [
    " "
   ]
  },
  {
   "cell_type": "markdown",
   "metadata": {},
   "source": [
    "<img src=\"Images/owl.svg\"   width=\"40\" align=\"left\">    "
   ]
  },
  {
   "cell_type": "markdown",
   "metadata": {},
   "source": [
    "***What happened in the cell above?***\n",
    "\n",
    "The general form of the code we used is : **df \\[some_condition \\]**\n",
    "\n",
    "But why does it work? let's take a look at what we've called **some_condition**:"
   ]
  },
  {
   "cell_type": "code",
   "execution_count": 138,
   "metadata": {
    "scrolled": true
   },
   "outputs": [],
   "source": [
    "val = (df.education == ' Doctorate') & (df['occupation'] == ' Farming-fishing')"
   ]
  },
  {
   "cell_type": "code",
   "execution_count": 139,
   "metadata": {},
   "outputs": [
    {
     "name": "stdout",
     "output_type": "stream",
     "text": [
      "There are 32561 values\n",
      "The type is <class 'pandas.core.series.Series'>\n",
      "\n",
      "The values are:\n",
      "\n",
      "False    32560\n",
      "True         1\n",
      "dtype: int64\n"
     ]
    }
   ],
   "source": [
    "print(f'There are {len(val)} values')\n",
    "print(f'The type is {type(val)}')\n",
    "print('\\nThe values are:\\n')\n",
    "print(val.value_counts())"
   ]
  },
  {
   "cell_type": "markdown",
   "metadata": {},
   "source": [
    "By running the previous cell we can understand that what we've called **some_condition** is a **Series** with length of 32,561 (= len(df)) and with 32,560 *False* and just one *True*: This condition is instructing the *df* by telling him which rows it should return (*True*) and which rows shouldn't return (*False*)"
   ]
  },
  {
   "cell_type": "markdown",
   "metadata": {},
   "source": [
    "In the same way you can also filter single columns (**Series**). imagine you want to filter age column for records with more than 18 years old:"
   ]
  },
  {
   "cell_type": "code",
   "execution_count": 140,
   "metadata": {},
   "outputs": [
    {
     "data": {
      "text/plain": [
       "0        39\n",
       "1        50\n",
       "2        38\n",
       "3        53\n",
       "4        28\n",
       "5        37\n",
       "6        49\n",
       "7        52\n",
       "8        31\n",
       "9        42\n",
       "10       37\n",
       "11       30\n",
       "12       23\n",
       "13       32\n",
       "14       40\n",
       "15       34\n",
       "16       25\n",
       "17       32\n",
       "18       38\n",
       "19       43\n",
       "20       40\n",
       "21       54\n",
       "22       35\n",
       "23       43\n",
       "24       59\n",
       "25       56\n",
       "26       19\n",
       "27       54\n",
       "28       39\n",
       "29       49\n",
       "         ..\n",
       "32531    30\n",
       "32532    34\n",
       "32533    54\n",
       "32534    37\n",
       "32535    22\n",
       "32536    34\n",
       "32537    30\n",
       "32538    38\n",
       "32539    71\n",
       "32540    45\n",
       "32541    41\n",
       "32542    72\n",
       "32543    45\n",
       "32544    31\n",
       "32545    39\n",
       "32546    37\n",
       "32547    43\n",
       "32548    65\n",
       "32549    43\n",
       "32550    43\n",
       "32551    32\n",
       "32552    43\n",
       "32553    32\n",
       "32554    53\n",
       "32555    22\n",
       "32556    27\n",
       "32557    40\n",
       "32558    58\n",
       "32559    22\n",
       "32560    52\n",
       "Name: age, Length: 31616, dtype: int64"
      ]
     },
     "execution_count": 140,
     "metadata": {},
     "output_type": "execute_result"
    }
   ],
   "source": [
    "df.age[df.age > 18]"
   ]
  },
  {
   "cell_type": "markdown",
   "metadata": {},
   "source": [
    " "
   ]
  },
  {
   "cell_type": "markdown",
   "metadata": {},
   "source": [
    "<img src=\"Images/student.svg\"   width=\"30\" align=\"left\">               "
   ]
  },
  {
   "cell_type": "markdown",
   "metadata": {},
   "source": [
    "**YOUR TURN:**\n",
    "\n",
    "create two separate dataframe one containing info of women and one for men, compare the percentage of *education* fields in these two dataframes."
   ]
  },
  {
   "cell_type": "code",
   "execution_count": null,
   "metadata": {},
   "outputs": [],
   "source": [
    "(\\   .-.   .-.   .-.   .-.   .-.   .-.   .-.   .-.   /_\")\n",
    " \\\\_//^\\\\_//^\\\\_//^\\\\_//^\\\\_//^\\\\_//^\\\\_//^\\\\_//^\\\\_//\n",
    "  `\"`   `\"`   `\"`   `\"`   `\"`   `\"`   `\"`   `\"`   `\"`"
   ]
  },
  {
   "cell_type": "markdown",
   "metadata": {},
   "source": [
    " "
   ]
  },
  {
   "cell_type": "markdown",
   "metadata": {},
   "source": [
    "In the previous example, we've used two conditions**(df.education == ' Doctorate')** and  **(df\\['occupation'\\] == ' Farming-fishing')** and have used a logical operator **'&'** to connect them together. But what if instead of just filtering education to be equal to *'Doctorate'* we want to add *'Assoc-acdm'*, *'Assoc-voc'*, and *'Prof-school'* too?\n",
    "\n",
    "Of course one way would be to add more conditions to ones we already have, but it's a terrible solution!\n",
    "In cases like this, similar to what we do in SQL (IN), we can filter a column based on multiple values:"
   ]
  },
  {
   "cell_type": "code",
   "execution_count": 62,
   "metadata": {},
   "outputs": [
    {
     "data": {
      "text/html": [
       "<div>\n",
       "<style scoped>\n",
       "    .dataframe tbody tr th:only-of-type {\n",
       "        vertical-align: middle;\n",
       "    }\n",
       "\n",
       "    .dataframe tbody tr th {\n",
       "        vertical-align: top;\n",
       "    }\n",
       "\n",
       "    .dataframe thead th {\n",
       "        text-align: right;\n",
       "    }\n",
       "</style>\n",
       "<table border=\"1\" class=\"dataframe\">\n",
       "  <thead>\n",
       "    <tr style=\"text-align: right;\">\n",
       "      <th></th>\n",
       "      <th>age</th>\n",
       "      <th>workclass</th>\n",
       "      <th>fnlwgt</th>\n",
       "      <th>education</th>\n",
       "      <th>education-num</th>\n",
       "      <th>marital-status</th>\n",
       "      <th>occupation</th>\n",
       "      <th>relationship</th>\n",
       "      <th>race</th>\n",
       "      <th>sex</th>\n",
       "      <th>capital-gain</th>\n",
       "      <th>capital-loss</th>\n",
       "      <th>hours-per-week</th>\n",
       "      <th>native-country</th>\n",
       "      <th>income</th>\n",
       "    </tr>\n",
       "  </thead>\n",
       "  <tbody>\n",
       "    <tr>\n",
       "      <th>460</th>\n",
       "      <td>44</td>\n",
       "      <td>Private</td>\n",
       "      <td>116632</td>\n",
       "      <td>Assoc-acdm</td>\n",
       "      <td>12</td>\n",
       "      <td>Never-married</td>\n",
       "      <td>Farming-fishing</td>\n",
       "      <td>Own-child</td>\n",
       "      <td>White</td>\n",
       "      <td>Male</td>\n",
       "      <td>0</td>\n",
       "      <td>0</td>\n",
       "      <td>40</td>\n",
       "      <td>United-States</td>\n",
       "      <td>&lt;=50K</td>\n",
       "    </tr>\n",
       "    <tr>\n",
       "      <th>604</th>\n",
       "      <td>35</td>\n",
       "      <td>Self-emp-not-inc</td>\n",
       "      <td>194404</td>\n",
       "      <td>Assoc-acdm</td>\n",
       "      <td>12</td>\n",
       "      <td>Never-married</td>\n",
       "      <td>Farming-fishing</td>\n",
       "      <td>Not-in-family</td>\n",
       "      <td>White</td>\n",
       "      <td>Male</td>\n",
       "      <td>0</td>\n",
       "      <td>0</td>\n",
       "      <td>40</td>\n",
       "      <td>United-States</td>\n",
       "      <td>&lt;=50K</td>\n",
       "    </tr>\n",
       "    <tr>\n",
       "      <th>894</th>\n",
       "      <td>42</td>\n",
       "      <td>Self-emp-not-inc</td>\n",
       "      <td>177307</td>\n",
       "      <td>Prof-school</td>\n",
       "      <td>15</td>\n",
       "      <td>Married-civ-spouse</td>\n",
       "      <td>Farming-fishing</td>\n",
       "      <td>Husband</td>\n",
       "      <td>White</td>\n",
       "      <td>Male</td>\n",
       "      <td>0</td>\n",
       "      <td>0</td>\n",
       "      <td>65</td>\n",
       "      <td>United-States</td>\n",
       "      <td>&gt;50K</td>\n",
       "    </tr>\n",
       "    <tr>\n",
       "      <th>2200</th>\n",
       "      <td>65</td>\n",
       "      <td>Private</td>\n",
       "      <td>90377</td>\n",
       "      <td>Assoc-voc</td>\n",
       "      <td>11</td>\n",
       "      <td>Married-civ-spouse</td>\n",
       "      <td>Farming-fishing</td>\n",
       "      <td>Husband</td>\n",
       "      <td>White</td>\n",
       "      <td>Male</td>\n",
       "      <td>6767</td>\n",
       "      <td>0</td>\n",
       "      <td>60</td>\n",
       "      <td>United-States</td>\n",
       "      <td>&lt;=50K</td>\n",
       "    </tr>\n",
       "  </tbody>\n",
       "</table>\n",
       "</div>"
      ],
      "text/plain": [
       "      age          workclass  fnlwgt     education  education-num  \\\n",
       "460    44            Private  116632    Assoc-acdm             12   \n",
       "604    35   Self-emp-not-inc  194404    Assoc-acdm             12   \n",
       "894    42   Self-emp-not-inc  177307   Prof-school             15   \n",
       "2200   65            Private   90377     Assoc-voc             11   \n",
       "\n",
       "           marital-status        occupation    relationship    race    sex  \\\n",
       "460         Never-married   Farming-fishing       Own-child   White   Male   \n",
       "604         Never-married   Farming-fishing   Not-in-family   White   Male   \n",
       "894    Married-civ-spouse   Farming-fishing         Husband   White   Male   \n",
       "2200   Married-civ-spouse   Farming-fishing         Husband   White   Male   \n",
       "\n",
       "      capital-gain  capital-loss  hours-per-week  native-country  income  \n",
       "460              0             0              40   United-States   <=50K  \n",
       "604              0             0              40   United-States   <=50K  \n",
       "894              0             0              65   United-States    >50K  \n",
       "2200          6767             0              60   United-States   <=50K  "
      ]
     },
     "execution_count": 62,
     "metadata": {},
     "output_type": "execute_result"
    }
   ],
   "source": [
    "edu = [' Doctorate', ' Assoc-acdm', ' Assoc-voc', ' Prof-school']\n",
    "\n",
    "df[(df.education.isin(edu)) & (df['occupation'] == ' Farming-fishing')].head(4)"
   ]
  },
  {
   "cell_type": "markdown",
   "metadata": {},
   "source": [
    "But what if we want to exclude rows based on multiple values? it's really simple! Just add **~** before the condition:"
   ]
  },
  {
   "cell_type": "code",
   "execution_count": 61,
   "metadata": {},
   "outputs": [
    {
     "data": {
      "text/html": [
       "<div>\n",
       "<style scoped>\n",
       "    .dataframe tbody tr th:only-of-type {\n",
       "        vertical-align: middle;\n",
       "    }\n",
       "\n",
       "    .dataframe tbody tr th {\n",
       "        vertical-align: top;\n",
       "    }\n",
       "\n",
       "    .dataframe thead th {\n",
       "        text-align: right;\n",
       "    }\n",
       "</style>\n",
       "<table border=\"1\" class=\"dataframe\">\n",
       "  <thead>\n",
       "    <tr style=\"text-align: right;\">\n",
       "      <th></th>\n",
       "      <th>age</th>\n",
       "      <th>workclass</th>\n",
       "      <th>fnlwgt</th>\n",
       "      <th>education</th>\n",
       "      <th>education-num</th>\n",
       "      <th>marital-status</th>\n",
       "      <th>occupation</th>\n",
       "      <th>relationship</th>\n",
       "      <th>race</th>\n",
       "      <th>sex</th>\n",
       "      <th>capital-gain</th>\n",
       "      <th>capital-loss</th>\n",
       "      <th>hours-per-week</th>\n",
       "      <th>native-country</th>\n",
       "      <th>income</th>\n",
       "    </tr>\n",
       "  </thead>\n",
       "  <tbody>\n",
       "    <tr>\n",
       "      <th>16</th>\n",
       "      <td>25</td>\n",
       "      <td>Self-emp-not-inc</td>\n",
       "      <td>176756</td>\n",
       "      <td>HS-grad</td>\n",
       "      <td>9</td>\n",
       "      <td>Never-married</td>\n",
       "      <td>Farming-fishing</td>\n",
       "      <td>Own-child</td>\n",
       "      <td>White</td>\n",
       "      <td>Male</td>\n",
       "      <td>0</td>\n",
       "      <td>0</td>\n",
       "      <td>35</td>\n",
       "      <td>United-States</td>\n",
       "      <td>&lt;=50K</td>\n",
       "    </tr>\n",
       "    <tr>\n",
       "      <th>22</th>\n",
       "      <td>35</td>\n",
       "      <td>Federal-gov</td>\n",
       "      <td>76845</td>\n",
       "      <td>9th</td>\n",
       "      <td>5</td>\n",
       "      <td>Married-civ-spouse</td>\n",
       "      <td>Farming-fishing</td>\n",
       "      <td>Husband</td>\n",
       "      <td>Black</td>\n",
       "      <td>Male</td>\n",
       "      <td>0</td>\n",
       "      <td>0</td>\n",
       "      <td>40</td>\n",
       "      <td>United-States</td>\n",
       "      <td>&lt;=50K</td>\n",
       "    </tr>\n",
       "    <tr>\n",
       "      <th>79</th>\n",
       "      <td>31</td>\n",
       "      <td>Local-gov</td>\n",
       "      <td>125927</td>\n",
       "      <td>7th-8th</td>\n",
       "      <td>4</td>\n",
       "      <td>Married-civ-spouse</td>\n",
       "      <td>Farming-fishing</td>\n",
       "      <td>Husband</td>\n",
       "      <td>White</td>\n",
       "      <td>Male</td>\n",
       "      <td>0</td>\n",
       "      <td>0</td>\n",
       "      <td>40</td>\n",
       "      <td>United-States</td>\n",
       "      <td>&lt;=50K</td>\n",
       "    </tr>\n",
       "    <tr>\n",
       "      <th>227</th>\n",
       "      <td>66</td>\n",
       "      <td>Self-emp-not-inc</td>\n",
       "      <td>167687</td>\n",
       "      <td>HS-grad</td>\n",
       "      <td>9</td>\n",
       "      <td>Married-civ-spouse</td>\n",
       "      <td>Farming-fishing</td>\n",
       "      <td>Husband</td>\n",
       "      <td>White</td>\n",
       "      <td>Male</td>\n",
       "      <td>1409</td>\n",
       "      <td>0</td>\n",
       "      <td>50</td>\n",
       "      <td>United-States</td>\n",
       "      <td>&lt;=50K</td>\n",
       "    </tr>\n",
       "  </tbody>\n",
       "</table>\n",
       "</div>"
      ],
      "text/plain": [
       "     age          workclass  fnlwgt education  education-num  \\\n",
       "16    25   Self-emp-not-inc  176756   HS-grad              9   \n",
       "22    35        Federal-gov   76845       9th              5   \n",
       "79    31          Local-gov  125927   7th-8th              4   \n",
       "227   66   Self-emp-not-inc  167687   HS-grad              9   \n",
       "\n",
       "          marital-status        occupation relationship    race    sex  \\\n",
       "16         Never-married   Farming-fishing    Own-child   White   Male   \n",
       "22    Married-civ-spouse   Farming-fishing      Husband   Black   Male   \n",
       "79    Married-civ-spouse   Farming-fishing      Husband   White   Male   \n",
       "227   Married-civ-spouse   Farming-fishing      Husband   White   Male   \n",
       "\n",
       "     capital-gain  capital-loss  hours-per-week  native-country  income  \n",
       "16              0             0              35   United-States   <=50K  \n",
       "22              0             0              40   United-States   <=50K  \n",
       "79              0             0              40   United-States   <=50K  \n",
       "227          1409             0              50   United-States   <=50K  "
      ]
     },
     "execution_count": 61,
     "metadata": {},
     "output_type": "execute_result"
    }
   ],
   "source": [
    "df[~(df.education.isin(edu)) & (df['occupation'] == ' Farming-fishing')].head(4)"
   ]
  },
  {
   "cell_type": "markdown",
   "metadata": {},
   "source": [
    "In the previous example we filtered the fields with the exact words but how can we filter them just with a part of a word? (similar to what we do in SQL with *Like*)\n",
    "\n",
    "Suppose we want to filter the data for all the records that contain *'marr'* in their **'marital-status'** field:"
   ]
  },
  {
   "cell_type": "code",
   "execution_count": 54,
   "metadata": {
    "scrolled": true
   },
   "outputs": [
    {
     "data": {
      "text/html": [
       "<div>\n",
       "<style scoped>\n",
       "    .dataframe tbody tr th:only-of-type {\n",
       "        vertical-align: middle;\n",
       "    }\n",
       "\n",
       "    .dataframe tbody tr th {\n",
       "        vertical-align: top;\n",
       "    }\n",
       "\n",
       "    .dataframe thead th {\n",
       "        text-align: right;\n",
       "    }\n",
       "</style>\n",
       "<table border=\"1\" class=\"dataframe\">\n",
       "  <thead>\n",
       "    <tr style=\"text-align: right;\">\n",
       "      <th></th>\n",
       "      <th>age</th>\n",
       "      <th>workclass</th>\n",
       "      <th>fnlwgt</th>\n",
       "      <th>education</th>\n",
       "      <th>education-num</th>\n",
       "      <th>marital-status</th>\n",
       "      <th>occupation</th>\n",
       "      <th>relationship</th>\n",
       "      <th>race</th>\n",
       "      <th>sex</th>\n",
       "      <th>capital-gain</th>\n",
       "      <th>capital-loss</th>\n",
       "      <th>hours-per-week</th>\n",
       "      <th>native-country</th>\n",
       "      <th>income</th>\n",
       "    </tr>\n",
       "  </thead>\n",
       "  <tbody>\n",
       "    <tr>\n",
       "      <th>0</th>\n",
       "      <td>39</td>\n",
       "      <td>State-gov</td>\n",
       "      <td>77516</td>\n",
       "      <td>Bachelors</td>\n",
       "      <td>13</td>\n",
       "      <td>Never-married</td>\n",
       "      <td>Adm-clerical</td>\n",
       "      <td>Not-in-family</td>\n",
       "      <td>White</td>\n",
       "      <td>Male</td>\n",
       "      <td>2174</td>\n",
       "      <td>0</td>\n",
       "      <td>40</td>\n",
       "      <td>United-States</td>\n",
       "      <td>&lt;=50K</td>\n",
       "    </tr>\n",
       "    <tr>\n",
       "      <th>8</th>\n",
       "      <td>31</td>\n",
       "      <td>Private</td>\n",
       "      <td>45781</td>\n",
       "      <td>Masters</td>\n",
       "      <td>14</td>\n",
       "      <td>Never-married</td>\n",
       "      <td>Prof-specialty</td>\n",
       "      <td>Not-in-family</td>\n",
       "      <td>White</td>\n",
       "      <td>Female</td>\n",
       "      <td>14084</td>\n",
       "      <td>0</td>\n",
       "      <td>50</td>\n",
       "      <td>United-States</td>\n",
       "      <td>&gt;50K</td>\n",
       "    </tr>\n",
       "    <tr>\n",
       "      <th>12</th>\n",
       "      <td>23</td>\n",
       "      <td>Private</td>\n",
       "      <td>122272</td>\n",
       "      <td>Bachelors</td>\n",
       "      <td>13</td>\n",
       "      <td>Never-married</td>\n",
       "      <td>Adm-clerical</td>\n",
       "      <td>Own-child</td>\n",
       "      <td>White</td>\n",
       "      <td>Female</td>\n",
       "      <td>0</td>\n",
       "      <td>0</td>\n",
       "      <td>30</td>\n",
       "      <td>United-States</td>\n",
       "      <td>&lt;=50K</td>\n",
       "    </tr>\n",
       "  </tbody>\n",
       "</table>\n",
       "</div>"
      ],
      "text/plain": [
       "    age   workclass  fnlwgt   education  education-num  marital-status  \\\n",
       "0    39   State-gov   77516   Bachelors             13   Never-married   \n",
       "8    31     Private   45781     Masters             14   Never-married   \n",
       "12   23     Private  122272   Bachelors             13   Never-married   \n",
       "\n",
       "         occupation    relationship    race      sex  capital-gain  \\\n",
       "0      Adm-clerical   Not-in-family   White     Male          2174   \n",
       "8    Prof-specialty   Not-in-family   White   Female         14084   \n",
       "12     Adm-clerical       Own-child   White   Female             0   \n",
       "\n",
       "    capital-loss  hours-per-week  native-country  income  \n",
       "0              0              40   United-States   <=50K  \n",
       "8              0              50   United-States    >50K  \n",
       "12             0              30   United-States   <=50K  "
      ]
     },
     "execution_count": 54,
     "metadata": {},
     "output_type": "execute_result"
    }
   ],
   "source": [
    "df[df['marital-status'].str.contains('marr')].head(3)"
   ]
  },
  {
   "cell_type": "markdown",
   "metadata": {},
   "source": [
    " "
   ]
  },
  {
   "cell_type": "markdown",
   "metadata": {},
   "source": [
    "<img src=\"Images/owl.svg\"   width=\"40\" align=\"left\">    "
   ]
  },
  {
   "cell_type": "markdown",
   "metadata": {},
   "source": [
    "***What happened in the cell above?***\n",
    "\n",
    "Now we know that we're dealing with another case of **df\\[some_condition\\]** and expect that **some_condition** returns a Series with Boolean values. The only thing that is new here is:\n",
    "\n",
    "**.str.contains( )**\n",
    "looking at it carefully we can understand that **.contains( )** is a method of **str**. You may ask why suddenly we need to use **str**, which is a legitimate question! We should use **str**, since **Series**, doesn't have a native method to see if a given string is a part of another string, while **str** data type has this method. That's it!\n"
   ]
  },
  {
   "cell_type": "markdown",
   "metadata": {},
   "source": [
    "### Sorting data"
   ]
  },
  {
   "cell_type": "markdown",
   "metadata": {},
   "source": [
    "Sorting columns is really easy in Python: \n",
    "\n",
    "Suppose we want to sort *age* and *fnlwgt* in a Ascending and Descending orders. All we have to do is to use **.sort_values( )** method:"
   ]
  },
  {
   "cell_type": "code",
   "execution_count": 72,
   "metadata": {},
   "outputs": [
    {
     "data": {
      "text/html": [
       "<div>\n",
       "<style scoped>\n",
       "    .dataframe tbody tr th:only-of-type {\n",
       "        vertical-align: middle;\n",
       "    }\n",
       "\n",
       "    .dataframe tbody tr th {\n",
       "        vertical-align: top;\n",
       "    }\n",
       "\n",
       "    .dataframe thead th {\n",
       "        text-align: right;\n",
       "    }\n",
       "</style>\n",
       "<table border=\"1\" class=\"dataframe\">\n",
       "  <thead>\n",
       "    <tr style=\"text-align: right;\">\n",
       "      <th></th>\n",
       "      <th>age</th>\n",
       "      <th>workclass</th>\n",
       "      <th>fnlwgt</th>\n",
       "      <th>education</th>\n",
       "      <th>education-num</th>\n",
       "      <th>marital-status</th>\n",
       "      <th>occupation</th>\n",
       "      <th>relationship</th>\n",
       "      <th>race</th>\n",
       "      <th>sex</th>\n",
       "      <th>capital-gain</th>\n",
       "      <th>capital-loss</th>\n",
       "      <th>hours-per-week</th>\n",
       "      <th>native-country</th>\n",
       "      <th>income</th>\n",
       "    </tr>\n",
       "  </thead>\n",
       "  <tbody>\n",
       "    <tr>\n",
       "      <th>23373</th>\n",
       "      <td>17</td>\n",
       "      <td>?</td>\n",
       "      <td>806316</td>\n",
       "      <td>11th</td>\n",
       "      <td>7</td>\n",
       "      <td>Never-married</td>\n",
       "      <td>?</td>\n",
       "      <td>Own-child</td>\n",
       "      <td>White</td>\n",
       "      <td>Female</td>\n",
       "      <td>0</td>\n",
       "      <td>0</td>\n",
       "      <td>20</td>\n",
       "      <td>United-States</td>\n",
       "      <td>&lt;=50K</td>\n",
       "    </tr>\n",
       "    <tr>\n",
       "      <th>27167</th>\n",
       "      <td>17</td>\n",
       "      <td>Private</td>\n",
       "      <td>721712</td>\n",
       "      <td>10th</td>\n",
       "      <td>6</td>\n",
       "      <td>Never-married</td>\n",
       "      <td>Other-service</td>\n",
       "      <td>Own-child</td>\n",
       "      <td>White</td>\n",
       "      <td>Male</td>\n",
       "      <td>0</td>\n",
       "      <td>0</td>\n",
       "      <td>15</td>\n",
       "      <td>United-States</td>\n",
       "      <td>&lt;=50K</td>\n",
       "    </tr>\n",
       "    <tr>\n",
       "      <th>7663</th>\n",
       "      <td>17</td>\n",
       "      <td>?</td>\n",
       "      <td>659273</td>\n",
       "      <td>11th</td>\n",
       "      <td>7</td>\n",
       "      <td>Never-married</td>\n",
       "      <td>?</td>\n",
       "      <td>Own-child</td>\n",
       "      <td>Black</td>\n",
       "      <td>Female</td>\n",
       "      <td>0</td>\n",
       "      <td>0</td>\n",
       "      <td>40</td>\n",
       "      <td>Trinadad&amp;Tobago</td>\n",
       "      <td>&lt;=50K</td>\n",
       "    </tr>\n",
       "    <tr>\n",
       "      <th>15350</th>\n",
       "      <td>17</td>\n",
       "      <td>?</td>\n",
       "      <td>634226</td>\n",
       "      <td>10th</td>\n",
       "      <td>6</td>\n",
       "      <td>Never-married</td>\n",
       "      <td>?</td>\n",
       "      <td>Own-child</td>\n",
       "      <td>White</td>\n",
       "      <td>Female</td>\n",
       "      <td>0</td>\n",
       "      <td>0</td>\n",
       "      <td>17</td>\n",
       "      <td>United-States</td>\n",
       "      <td>&lt;=50K</td>\n",
       "    </tr>\n",
       "    <tr>\n",
       "      <th>22423</th>\n",
       "      <td>17</td>\n",
       "      <td>Private</td>\n",
       "      <td>566049</td>\n",
       "      <td>10th</td>\n",
       "      <td>6</td>\n",
       "      <td>Never-married</td>\n",
       "      <td>Other-service</td>\n",
       "      <td>Own-child</td>\n",
       "      <td>White</td>\n",
       "      <td>Male</td>\n",
       "      <td>0</td>\n",
       "      <td>0</td>\n",
       "      <td>8</td>\n",
       "      <td>United-States</td>\n",
       "      <td>&lt;=50K</td>\n",
       "    </tr>\n",
       "  </tbody>\n",
       "</table>\n",
       "</div>"
      ],
      "text/plain": [
       "       age workclass  fnlwgt education  education-num  marital-status  \\\n",
       "23373   17         ?  806316      11th              7   Never-married   \n",
       "27167   17   Private  721712      10th              6   Never-married   \n",
       "7663    17         ?  659273      11th              7   Never-married   \n",
       "15350   17         ?  634226      10th              6   Never-married   \n",
       "22423   17   Private  566049      10th              6   Never-married   \n",
       "\n",
       "           occupation relationship    race      sex  capital-gain  \\\n",
       "23373               ?    Own-child   White   Female             0   \n",
       "27167   Other-service    Own-child   White     Male             0   \n",
       "7663                ?    Own-child   Black   Female             0   \n",
       "15350               ?    Own-child   White   Female             0   \n",
       "22423   Other-service    Own-child   White     Male             0   \n",
       "\n",
       "       capital-loss  hours-per-week    native-country  income  \n",
       "23373             0              20     United-States   <=50K  \n",
       "27167             0              15     United-States   <=50K  \n",
       "7663              0              40   Trinadad&Tobago   <=50K  \n",
       "15350             0              17     United-States   <=50K  \n",
       "22423             0               8     United-States   <=50K  "
      ]
     },
     "execution_count": 72,
     "metadata": {},
     "output_type": "execute_result"
    }
   ],
   "source": [
    "df.sort_values(by=['age', 'fnlwgt'], ascending=[True, False]).head()"
   ]
  },
  {
   "cell_type": "markdown",
   "metadata": {},
   "source": [
    "### Exporting data"
   ]
  },
  {
   "cell_type": "markdown",
   "metadata": {},
   "source": [
    "Often we want to save our dataframe into csv or Excel formats. You can do so by using the following lines:"
   ]
  },
  {
   "cell_type": "code",
   "execution_count": 7,
   "metadata": {},
   "outputs": [],
   "source": [
    "df.to_csv('name_i_weant.csv', index=False) # csv\n",
    "df.to_excel('name_i_weant.xlsx', index=False) # Excel"
   ]
  },
  {
   "cell_type": "markdown",
   "metadata": {},
   "source": [
    "## Data transformation"
   ]
  },
  {
   "cell_type": "markdown",
   "metadata": {},
   "source": [
    "Sometimes we need to **apply** something (Ex. a lambda function) to a specific column of our dataframe.\n",
    "\n",
    "Using the following general form we can achieve what we want:\n",
    "\n",
    "**one_column.apply(a_function)**\n",
    "\n",
    "As an example suppose that we just realized that due to a data insertion error, **fnlwgt** values had been recorded in a wrong way: all the right most digits are added by mistake and we should remove them before using these numbers for our analysis. First, let's check the data type of this column:"
   ]
  },
  {
   "cell_type": "code",
   "execution_count": 47,
   "metadata": {},
   "outputs": [
    {
     "data": {
      "text/plain": [
       "dtype('int64')"
      ]
     },
     "execution_count": 47,
     "metadata": {},
     "output_type": "execute_result"
    }
   ],
   "source": [
    "df.fnlwgt.dtype"
   ]
  },
  {
   "cell_type": "markdown",
   "metadata": {},
   "source": [
    "we can see that the values are integer. It means unlike strings, we can't just slice them.\n",
    "\n",
    "**Q:** What should we do?\n",
    "\n",
    "**A:** We should first convert these integer values to string, remove the digit on the right and convert it to integer again.\n",
    "    \n",
    "**Q:** How can we do this?\n",
    "\n",
    "**A:** By using a for loop to go through items.\n",
    "\n",
    "**!!** WRONG! You should NEVER use a for loop for such a task!\n",
    "\n",
    "As we've mentioned above, Series come with a handy method called apply which allows us to apply a function to a Series:"
   ]
  },
  {
   "cell_type": "code",
   "execution_count": 50,
   "metadata": {},
   "outputs": [],
   "source": [
    "df.fnlwgt = df.fnlwgt.apply(lambda x : int(str(x)[:-1]))"
   ]
  },
  {
   "cell_type": "markdown",
   "metadata": {},
   "source": [
    "Not always all the features presented in the raw data are useful for our analysis. Especially when dealing with large amount of data, getting rid of unuseful columns can make our processes run faster. To do so we can use **.drop( )** method.\n",
    "\n",
    "Suppose that we didn't find **fnlwgt** column useful and we want to remove it:"
   ]
  },
  {
   "cell_type": "code",
   "execution_count": 12,
   "metadata": {
    "scrolled": true
   },
   "outputs": [
    {
     "ename": "KeyError",
     "evalue": "\"['fnlwgt'] not found in axis\"",
     "output_type": "error",
     "traceback": [
      "\u001b[0;31m---------------------------------------------------------------------------\u001b[0m",
      "\u001b[0;31mKeyError\u001b[0m                                  Traceback (most recent call last)",
      "\u001b[0;32m<ipython-input-12-62a1bb3e25a1>\u001b[0m in \u001b[0;36m<module>\u001b[0;34m\u001b[0m\n\u001b[0;32m----> 1\u001b[0;31m \u001b[0mdf\u001b[0m\u001b[0;34m.\u001b[0m\u001b[0mdrop\u001b[0m\u001b[0;34m(\u001b[0m\u001b[0;34m[\u001b[0m\u001b[0;34m'fnlwgt'\u001b[0m\u001b[0;34m]\u001b[0m\u001b[0;34m)\u001b[0m\u001b[0;34m\u001b[0m\u001b[0;34m\u001b[0m\u001b[0m\n\u001b[0m",
      "\u001b[0;32m~/anaconda3/lib/python3.7/site-packages/pandas/core/frame.py\u001b[0m in \u001b[0;36mdrop\u001b[0;34m(self, labels, axis, index, columns, level, inplace, errors)\u001b[0m\n\u001b[1;32m   3695\u001b[0m                                            \u001b[0mindex\u001b[0m\u001b[0;34m=\u001b[0m\u001b[0mindex\u001b[0m\u001b[0;34m,\u001b[0m \u001b[0mcolumns\u001b[0m\u001b[0;34m=\u001b[0m\u001b[0mcolumns\u001b[0m\u001b[0;34m,\u001b[0m\u001b[0;34m\u001b[0m\u001b[0;34m\u001b[0m\u001b[0m\n\u001b[1;32m   3696\u001b[0m                                            \u001b[0mlevel\u001b[0m\u001b[0;34m=\u001b[0m\u001b[0mlevel\u001b[0m\u001b[0;34m,\u001b[0m \u001b[0minplace\u001b[0m\u001b[0;34m=\u001b[0m\u001b[0minplace\u001b[0m\u001b[0;34m,\u001b[0m\u001b[0;34m\u001b[0m\u001b[0;34m\u001b[0m\u001b[0m\n\u001b[0;32m-> 3697\u001b[0;31m                                            errors=errors)\n\u001b[0m\u001b[1;32m   3698\u001b[0m \u001b[0;34m\u001b[0m\u001b[0m\n\u001b[1;32m   3699\u001b[0m     @rewrite_axis_style_signature('mapper', [('copy', True),\n",
      "\u001b[0;32m~/anaconda3/lib/python3.7/site-packages/pandas/core/generic.py\u001b[0m in \u001b[0;36mdrop\u001b[0;34m(self, labels, axis, index, columns, level, inplace, errors)\u001b[0m\n\u001b[1;32m   3109\u001b[0m         \u001b[0;32mfor\u001b[0m \u001b[0maxis\u001b[0m\u001b[0;34m,\u001b[0m \u001b[0mlabels\u001b[0m \u001b[0;32min\u001b[0m \u001b[0maxes\u001b[0m\u001b[0;34m.\u001b[0m\u001b[0mitems\u001b[0m\u001b[0;34m(\u001b[0m\u001b[0;34m)\u001b[0m\u001b[0;34m:\u001b[0m\u001b[0;34m\u001b[0m\u001b[0;34m\u001b[0m\u001b[0m\n\u001b[1;32m   3110\u001b[0m             \u001b[0;32mif\u001b[0m \u001b[0mlabels\u001b[0m \u001b[0;32mis\u001b[0m \u001b[0;32mnot\u001b[0m \u001b[0;32mNone\u001b[0m\u001b[0;34m:\u001b[0m\u001b[0;34m\u001b[0m\u001b[0;34m\u001b[0m\u001b[0m\n\u001b[0;32m-> 3111\u001b[0;31m                 \u001b[0mobj\u001b[0m \u001b[0;34m=\u001b[0m \u001b[0mobj\u001b[0m\u001b[0;34m.\u001b[0m\u001b[0m_drop_axis\u001b[0m\u001b[0;34m(\u001b[0m\u001b[0mlabels\u001b[0m\u001b[0;34m,\u001b[0m \u001b[0maxis\u001b[0m\u001b[0;34m,\u001b[0m \u001b[0mlevel\u001b[0m\u001b[0;34m=\u001b[0m\u001b[0mlevel\u001b[0m\u001b[0;34m,\u001b[0m \u001b[0merrors\u001b[0m\u001b[0;34m=\u001b[0m\u001b[0merrors\u001b[0m\u001b[0;34m)\u001b[0m\u001b[0;34m\u001b[0m\u001b[0;34m\u001b[0m\u001b[0m\n\u001b[0m\u001b[1;32m   3112\u001b[0m \u001b[0;34m\u001b[0m\u001b[0m\n\u001b[1;32m   3113\u001b[0m         \u001b[0;32mif\u001b[0m \u001b[0minplace\u001b[0m\u001b[0;34m:\u001b[0m\u001b[0;34m\u001b[0m\u001b[0;34m\u001b[0m\u001b[0m\n",
      "\u001b[0;32m~/anaconda3/lib/python3.7/site-packages/pandas/core/generic.py\u001b[0m in \u001b[0;36m_drop_axis\u001b[0;34m(self, labels, axis, level, errors)\u001b[0m\n\u001b[1;32m   3141\u001b[0m                 \u001b[0mnew_axis\u001b[0m \u001b[0;34m=\u001b[0m \u001b[0maxis\u001b[0m\u001b[0;34m.\u001b[0m\u001b[0mdrop\u001b[0m\u001b[0;34m(\u001b[0m\u001b[0mlabels\u001b[0m\u001b[0;34m,\u001b[0m \u001b[0mlevel\u001b[0m\u001b[0;34m=\u001b[0m\u001b[0mlevel\u001b[0m\u001b[0;34m,\u001b[0m \u001b[0merrors\u001b[0m\u001b[0;34m=\u001b[0m\u001b[0merrors\u001b[0m\u001b[0;34m)\u001b[0m\u001b[0;34m\u001b[0m\u001b[0;34m\u001b[0m\u001b[0m\n\u001b[1;32m   3142\u001b[0m             \u001b[0;32melse\u001b[0m\u001b[0;34m:\u001b[0m\u001b[0;34m\u001b[0m\u001b[0;34m\u001b[0m\u001b[0m\n\u001b[0;32m-> 3143\u001b[0;31m                 \u001b[0mnew_axis\u001b[0m \u001b[0;34m=\u001b[0m \u001b[0maxis\u001b[0m\u001b[0;34m.\u001b[0m\u001b[0mdrop\u001b[0m\u001b[0;34m(\u001b[0m\u001b[0mlabels\u001b[0m\u001b[0;34m,\u001b[0m \u001b[0merrors\u001b[0m\u001b[0;34m=\u001b[0m\u001b[0merrors\u001b[0m\u001b[0;34m)\u001b[0m\u001b[0;34m\u001b[0m\u001b[0;34m\u001b[0m\u001b[0m\n\u001b[0m\u001b[1;32m   3144\u001b[0m             \u001b[0mresult\u001b[0m \u001b[0;34m=\u001b[0m \u001b[0mself\u001b[0m\u001b[0;34m.\u001b[0m\u001b[0mreindex\u001b[0m\u001b[0;34m(\u001b[0m\u001b[0;34m**\u001b[0m\u001b[0;34m{\u001b[0m\u001b[0maxis_name\u001b[0m\u001b[0;34m:\u001b[0m \u001b[0mnew_axis\u001b[0m\u001b[0;34m}\u001b[0m\u001b[0;34m)\u001b[0m\u001b[0;34m\u001b[0m\u001b[0;34m\u001b[0m\u001b[0m\n\u001b[1;32m   3145\u001b[0m \u001b[0;34m\u001b[0m\u001b[0m\n",
      "\u001b[0;32m~/anaconda3/lib/python3.7/site-packages/pandas/core/indexes/base.py\u001b[0m in \u001b[0;36mdrop\u001b[0;34m(self, labels, errors)\u001b[0m\n\u001b[1;32m   4402\u001b[0m             \u001b[0;32mif\u001b[0m \u001b[0merrors\u001b[0m \u001b[0;34m!=\u001b[0m \u001b[0;34m'ignore'\u001b[0m\u001b[0;34m:\u001b[0m\u001b[0;34m\u001b[0m\u001b[0;34m\u001b[0m\u001b[0m\n\u001b[1;32m   4403\u001b[0m                 raise KeyError(\n\u001b[0;32m-> 4404\u001b[0;31m                     '{} not found in axis'.format(labels[mask]))\n\u001b[0m\u001b[1;32m   4405\u001b[0m             \u001b[0mindexer\u001b[0m \u001b[0;34m=\u001b[0m \u001b[0mindexer\u001b[0m\u001b[0;34m[\u001b[0m\u001b[0;34m~\u001b[0m\u001b[0mmask\u001b[0m\u001b[0;34m]\u001b[0m\u001b[0;34m\u001b[0m\u001b[0;34m\u001b[0m\u001b[0m\n\u001b[1;32m   4406\u001b[0m         \u001b[0;32mreturn\u001b[0m \u001b[0mself\u001b[0m\u001b[0;34m.\u001b[0m\u001b[0mdelete\u001b[0m\u001b[0;34m(\u001b[0m\u001b[0mindexer\u001b[0m\u001b[0;34m)\u001b[0m\u001b[0;34m\u001b[0m\u001b[0;34m\u001b[0m\u001b[0m\n",
      "\u001b[0;31mKeyError\u001b[0m: \"['fnlwgt'] not found in axis\""
     ]
    }
   ],
   "source": [
    "df.drop(['fnlwgt'])"
   ]
  },
  {
   "cell_type": "markdown",
   "metadata": {},
   "source": [
    "What just happened?! According to the error message the problem is that Python couldn't find the column we've mentioned in the axis. But what does it mean \"axis\"? \n",
    "\"axis\" coming from **numpy**, is a way to indicate columns or rows in a data table while axis=0 indicates rows and axis=1, columns. The reason we got the this error is that **.drop( )** as default uses *axis=0*, so it's normal that it gives us an error because actually there is no **fnlwgt** in row indexes. using the correct argument we get the desired results:"
   ]
  },
  {
   "cell_type": "code",
   "execution_count": 141,
   "metadata": {},
   "outputs": [
    {
     "name": "stdout",
     "output_type": "stream",
     "text": [
      "Variable        Type             Data/Info\n",
      "------------------------------------------\n",
      "a               int              87\n",
      "age_1           int              32\n",
      "age_2           int              29\n",
      "age_3           int              39\n",
      "age_4           int              46\n",
      "ages            list             n=4\n",
      "autopep8        module           <module 'autopep8' from '<...>te-packages/autopep8.py'>\n",
      "b               int              97\n",
      "birt_month      str              0fefefe3f34f4\n",
      "birth_month     int              9\n",
      "birth_year      int              1987\n",
      "c               int              107\n",
      "cane            int              27\n",
      "canes           list             n=11\n",
      "char_10         str              H\n",
      "col_names       list             n=15\n",
      "csv             module           <module 'csv' from '/User<...>a3/lib/python3.7/csv.py'>\n",
      "d               int              117\n",
      "data            list             n=100000\n",
      "df              DataFrame               age          workc<...>[32561 rows x 15 columns]\n",
      "file            TextIOWrapper    <_io.TextIOWrapper name='<...>ode='a' encoding='UTF-8'>\n",
      "final_list      list             n=4\n",
      "find_number     function         <function find_number at 0x10dc61d08>\n",
      "his_list        list             n=4\n",
      "i               int              4\n",
      "item            str              C\n",
      "json            module           <module 'json' from '/Use<...>hon3.7/json/__init__.py'>\n",
      "limit           int              -500\n",
      "list_1          list             n=5\n",
      "my_dict         dict             n=2\n",
      "my_list         list             n=2\n",
      "new_dict        dict             n=3\n",
      "new_list        list             n=5\n",
      "np              module           <module 'numpy' from '/Us<...>kages/numpy/__init__.py'>\n",
      "nums            list             n=10\n",
      "original        list             n=5\n",
      "pd              module           <module 'pandas' from '/U<...>ages/pandas/__init__.py'>\n",
      "results         list             n=5\n",
      "salaries        list             n=3\n",
      "salary          int              11000\n",
      "shirt           dict             n=3\n",
      "simple_stat     function         <function simple_stat at 0x10dc4fea0>\n",
      "small           list             n=4\n",
      "something       str              hgvhgvjhgvX\n",
      "source          str              '''ChUpAcHuPs\"/\"/\"/\"\n",
      "target          str              pP pP pP sS sS sS cC cC cC\n",
      "text            str              MilaN\n",
      "text_1          str              My name is\n",
      "text_2          str              Navid\n",
      "text_3          str              University\n",
      "text_4          str              of\n",
      "text_5          str              Bicocca\n",
      "text_6          str              folder1\n",
      "text_7          str              folder2\n",
      "text_8          str              folder3\n",
      "text_9          str              file\n",
      "val             Series           0        False\\n1        <...>ength: 32561, dtype: bool\n",
      "yapf_reformat   function         <function yapf_reformat at 0x10c3dc268>\n",
      "years           list             n=4\n",
      "your_list       list             n=4\n"
     ]
    }
   ],
   "source": [
    "%whos"
   ]
  },
  {
   "cell_type": "code",
   "execution_count": 13,
   "metadata": {},
   "outputs": [
    {
     "data": {
      "text/html": [
       "<div>\n",
       "<style scoped>\n",
       "    .dataframe tbody tr th:only-of-type {\n",
       "        vertical-align: middle;\n",
       "    }\n",
       "\n",
       "    .dataframe tbody tr th {\n",
       "        vertical-align: top;\n",
       "    }\n",
       "\n",
       "    .dataframe thead th {\n",
       "        text-align: right;\n",
       "    }\n",
       "</style>\n",
       "<table border=\"1\" class=\"dataframe\">\n",
       "  <thead>\n",
       "    <tr style=\"text-align: right;\">\n",
       "      <th></th>\n",
       "      <th>age</th>\n",
       "      <th>workclass</th>\n",
       "      <th>education</th>\n",
       "      <th>education-num</th>\n",
       "      <th>marital-status</th>\n",
       "      <th>occupation</th>\n",
       "      <th>relationship</th>\n",
       "      <th>race</th>\n",
       "      <th>sex</th>\n",
       "      <th>capital-gain</th>\n",
       "      <th>capital-loss</th>\n",
       "      <th>hours-per-week</th>\n",
       "      <th>native-country</th>\n",
       "      <th>income</th>\n",
       "    </tr>\n",
       "  </thead>\n",
       "  <tbody>\n",
       "    <tr>\n",
       "      <th>0</th>\n",
       "      <td>39</td>\n",
       "      <td>State-gov</td>\n",
       "      <td>Bachelors</td>\n",
       "      <td>13</td>\n",
       "      <td>Never-married</td>\n",
       "      <td>Adm-clerical</td>\n",
       "      <td>Not-in-family</td>\n",
       "      <td>White</td>\n",
       "      <td>Male</td>\n",
       "      <td>2174</td>\n",
       "      <td>0</td>\n",
       "      <td>40</td>\n",
       "      <td>United-States</td>\n",
       "      <td>&lt;=50K</td>\n",
       "    </tr>\n",
       "    <tr>\n",
       "      <th>1</th>\n",
       "      <td>50</td>\n",
       "      <td>Self-emp-not-inc</td>\n",
       "      <td>Bachelors</td>\n",
       "      <td>13</td>\n",
       "      <td>Married-civ-spouse</td>\n",
       "      <td>Exec-managerial</td>\n",
       "      <td>Husband</td>\n",
       "      <td>White</td>\n",
       "      <td>Male</td>\n",
       "      <td>0</td>\n",
       "      <td>0</td>\n",
       "      <td>13</td>\n",
       "      <td>United-States</td>\n",
       "      <td>&lt;=50K</td>\n",
       "    </tr>\n",
       "    <tr>\n",
       "      <th>2</th>\n",
       "      <td>38</td>\n",
       "      <td>Private</td>\n",
       "      <td>HS-grad</td>\n",
       "      <td>9</td>\n",
       "      <td>Divorced</td>\n",
       "      <td>Handlers-cleaners</td>\n",
       "      <td>Not-in-family</td>\n",
       "      <td>White</td>\n",
       "      <td>Male</td>\n",
       "      <td>0</td>\n",
       "      <td>0</td>\n",
       "      <td>40</td>\n",
       "      <td>United-States</td>\n",
       "      <td>&lt;=50K</td>\n",
       "    </tr>\n",
       "    <tr>\n",
       "      <th>3</th>\n",
       "      <td>53</td>\n",
       "      <td>Private</td>\n",
       "      <td>11th</td>\n",
       "      <td>7</td>\n",
       "      <td>Married-civ-spouse</td>\n",
       "      <td>Handlers-cleaners</td>\n",
       "      <td>Husband</td>\n",
       "      <td>Black</td>\n",
       "      <td>Male</td>\n",
       "      <td>0</td>\n",
       "      <td>0</td>\n",
       "      <td>40</td>\n",
       "      <td>United-States</td>\n",
       "      <td>&lt;=50K</td>\n",
       "    </tr>\n",
       "    <tr>\n",
       "      <th>4</th>\n",
       "      <td>28</td>\n",
       "      <td>Private</td>\n",
       "      <td>Bachelors</td>\n",
       "      <td>13</td>\n",
       "      <td>Married-civ-spouse</td>\n",
       "      <td>Prof-specialty</td>\n",
       "      <td>Wife</td>\n",
       "      <td>Black</td>\n",
       "      <td>Female</td>\n",
       "      <td>0</td>\n",
       "      <td>0</td>\n",
       "      <td>40</td>\n",
       "      <td>Cuba</td>\n",
       "      <td>&lt;=50K</td>\n",
       "    </tr>\n",
       "    <tr>\n",
       "      <th>5</th>\n",
       "      <td>37</td>\n",
       "      <td>Private</td>\n",
       "      <td>Masters</td>\n",
       "      <td>14</td>\n",
       "      <td>Married-civ-spouse</td>\n",
       "      <td>Exec-managerial</td>\n",
       "      <td>Wife</td>\n",
       "      <td>White</td>\n",
       "      <td>Female</td>\n",
       "      <td>0</td>\n",
       "      <td>0</td>\n",
       "      <td>40</td>\n",
       "      <td>United-States</td>\n",
       "      <td>&lt;=50K</td>\n",
       "    </tr>\n",
       "    <tr>\n",
       "      <th>6</th>\n",
       "      <td>49</td>\n",
       "      <td>Private</td>\n",
       "      <td>9th</td>\n",
       "      <td>5</td>\n",
       "      <td>Married-spouse-absent</td>\n",
       "      <td>Other-service</td>\n",
       "      <td>Not-in-family</td>\n",
       "      <td>Black</td>\n",
       "      <td>Female</td>\n",
       "      <td>0</td>\n",
       "      <td>0</td>\n",
       "      <td>16</td>\n",
       "      <td>Jamaica</td>\n",
       "      <td>&lt;=50K</td>\n",
       "    </tr>\n",
       "    <tr>\n",
       "      <th>7</th>\n",
       "      <td>52</td>\n",
       "      <td>Self-emp-not-inc</td>\n",
       "      <td>HS-grad</td>\n",
       "      <td>9</td>\n",
       "      <td>Married-civ-spouse</td>\n",
       "      <td>Exec-managerial</td>\n",
       "      <td>Husband</td>\n",
       "      <td>White</td>\n",
       "      <td>Male</td>\n",
       "      <td>0</td>\n",
       "      <td>0</td>\n",
       "      <td>45</td>\n",
       "      <td>United-States</td>\n",
       "      <td>&gt;50K</td>\n",
       "    </tr>\n",
       "    <tr>\n",
       "      <th>8</th>\n",
       "      <td>31</td>\n",
       "      <td>Private</td>\n",
       "      <td>Masters</td>\n",
       "      <td>14</td>\n",
       "      <td>Never-married</td>\n",
       "      <td>Prof-specialty</td>\n",
       "      <td>Not-in-family</td>\n",
       "      <td>White</td>\n",
       "      <td>Female</td>\n",
       "      <td>14084</td>\n",
       "      <td>0</td>\n",
       "      <td>50</td>\n",
       "      <td>United-States</td>\n",
       "      <td>&gt;50K</td>\n",
       "    </tr>\n",
       "    <tr>\n",
       "      <th>9</th>\n",
       "      <td>42</td>\n",
       "      <td>Private</td>\n",
       "      <td>Bachelors</td>\n",
       "      <td>13</td>\n",
       "      <td>Married-civ-spouse</td>\n",
       "      <td>Exec-managerial</td>\n",
       "      <td>Husband</td>\n",
       "      <td>White</td>\n",
       "      <td>Male</td>\n",
       "      <td>5178</td>\n",
       "      <td>0</td>\n",
       "      <td>40</td>\n",
       "      <td>United-States</td>\n",
       "      <td>&gt;50K</td>\n",
       "    </tr>\n",
       "    <tr>\n",
       "      <th>10</th>\n",
       "      <td>37</td>\n",
       "      <td>Private</td>\n",
       "      <td>Some-college</td>\n",
       "      <td>10</td>\n",
       "      <td>Married-civ-spouse</td>\n",
       "      <td>Exec-managerial</td>\n",
       "      <td>Husband</td>\n",
       "      <td>Black</td>\n",
       "      <td>Male</td>\n",
       "      <td>0</td>\n",
       "      <td>0</td>\n",
       "      <td>80</td>\n",
       "      <td>United-States</td>\n",
       "      <td>&gt;50K</td>\n",
       "    </tr>\n",
       "    <tr>\n",
       "      <th>11</th>\n",
       "      <td>30</td>\n",
       "      <td>State-gov</td>\n",
       "      <td>Bachelors</td>\n",
       "      <td>13</td>\n",
       "      <td>Married-civ-spouse</td>\n",
       "      <td>Prof-specialty</td>\n",
       "      <td>Husband</td>\n",
       "      <td>Asian-Pac-Islander</td>\n",
       "      <td>Male</td>\n",
       "      <td>0</td>\n",
       "      <td>0</td>\n",
       "      <td>40</td>\n",
       "      <td>India</td>\n",
       "      <td>&gt;50K</td>\n",
       "    </tr>\n",
       "    <tr>\n",
       "      <th>12</th>\n",
       "      <td>23</td>\n",
       "      <td>Private</td>\n",
       "      <td>Bachelors</td>\n",
       "      <td>13</td>\n",
       "      <td>Never-married</td>\n",
       "      <td>Adm-clerical</td>\n",
       "      <td>Own-child</td>\n",
       "      <td>White</td>\n",
       "      <td>Female</td>\n",
       "      <td>0</td>\n",
       "      <td>0</td>\n",
       "      <td>30</td>\n",
       "      <td>United-States</td>\n",
       "      <td>&lt;=50K</td>\n",
       "    </tr>\n",
       "    <tr>\n",
       "      <th>13</th>\n",
       "      <td>32</td>\n",
       "      <td>Private</td>\n",
       "      <td>Assoc-acdm</td>\n",
       "      <td>12</td>\n",
       "      <td>Never-married</td>\n",
       "      <td>Sales</td>\n",
       "      <td>Not-in-family</td>\n",
       "      <td>Black</td>\n",
       "      <td>Male</td>\n",
       "      <td>0</td>\n",
       "      <td>0</td>\n",
       "      <td>50</td>\n",
       "      <td>United-States</td>\n",
       "      <td>&lt;=50K</td>\n",
       "    </tr>\n",
       "    <tr>\n",
       "      <th>14</th>\n",
       "      <td>40</td>\n",
       "      <td>Private</td>\n",
       "      <td>Assoc-voc</td>\n",
       "      <td>11</td>\n",
       "      <td>Married-civ-spouse</td>\n",
       "      <td>Craft-repair</td>\n",
       "      <td>Husband</td>\n",
       "      <td>Asian-Pac-Islander</td>\n",
       "      <td>Male</td>\n",
       "      <td>0</td>\n",
       "      <td>0</td>\n",
       "      <td>40</td>\n",
       "      <td>?</td>\n",
       "      <td>&gt;50K</td>\n",
       "    </tr>\n",
       "    <tr>\n",
       "      <th>15</th>\n",
       "      <td>34</td>\n",
       "      <td>Private</td>\n",
       "      <td>7th-8th</td>\n",
       "      <td>4</td>\n",
       "      <td>Married-civ-spouse</td>\n",
       "      <td>Transport-moving</td>\n",
       "      <td>Husband</td>\n",
       "      <td>Amer-Indian-Eskimo</td>\n",
       "      <td>Male</td>\n",
       "      <td>0</td>\n",
       "      <td>0</td>\n",
       "      <td>45</td>\n",
       "      <td>Mexico</td>\n",
       "      <td>&lt;=50K</td>\n",
       "    </tr>\n",
       "    <tr>\n",
       "      <th>16</th>\n",
       "      <td>25</td>\n",
       "      <td>Self-emp-not-inc</td>\n",
       "      <td>HS-grad</td>\n",
       "      <td>9</td>\n",
       "      <td>Never-married</td>\n",
       "      <td>Farming-fishing</td>\n",
       "      <td>Own-child</td>\n",
       "      <td>White</td>\n",
       "      <td>Male</td>\n",
       "      <td>0</td>\n",
       "      <td>0</td>\n",
       "      <td>35</td>\n",
       "      <td>United-States</td>\n",
       "      <td>&lt;=50K</td>\n",
       "    </tr>\n",
       "    <tr>\n",
       "      <th>17</th>\n",
       "      <td>32</td>\n",
       "      <td>Private</td>\n",
       "      <td>HS-grad</td>\n",
       "      <td>9</td>\n",
       "      <td>Never-married</td>\n",
       "      <td>Machine-op-inspct</td>\n",
       "      <td>Unmarried</td>\n",
       "      <td>White</td>\n",
       "      <td>Male</td>\n",
       "      <td>0</td>\n",
       "      <td>0</td>\n",
       "      <td>40</td>\n",
       "      <td>United-States</td>\n",
       "      <td>&lt;=50K</td>\n",
       "    </tr>\n",
       "    <tr>\n",
       "      <th>18</th>\n",
       "      <td>38</td>\n",
       "      <td>Private</td>\n",
       "      <td>11th</td>\n",
       "      <td>7</td>\n",
       "      <td>Married-civ-spouse</td>\n",
       "      <td>Sales</td>\n",
       "      <td>Husband</td>\n",
       "      <td>White</td>\n",
       "      <td>Male</td>\n",
       "      <td>0</td>\n",
       "      <td>0</td>\n",
       "      <td>50</td>\n",
       "      <td>United-States</td>\n",
       "      <td>&lt;=50K</td>\n",
       "    </tr>\n",
       "    <tr>\n",
       "      <th>19</th>\n",
       "      <td>43</td>\n",
       "      <td>Self-emp-not-inc</td>\n",
       "      <td>Masters</td>\n",
       "      <td>14</td>\n",
       "      <td>Divorced</td>\n",
       "      <td>Exec-managerial</td>\n",
       "      <td>Unmarried</td>\n",
       "      <td>White</td>\n",
       "      <td>Female</td>\n",
       "      <td>0</td>\n",
       "      <td>0</td>\n",
       "      <td>45</td>\n",
       "      <td>United-States</td>\n",
       "      <td>&gt;50K</td>\n",
       "    </tr>\n",
       "    <tr>\n",
       "      <th>20</th>\n",
       "      <td>40</td>\n",
       "      <td>Private</td>\n",
       "      <td>Doctorate</td>\n",
       "      <td>16</td>\n",
       "      <td>Married-civ-spouse</td>\n",
       "      <td>Prof-specialty</td>\n",
       "      <td>Husband</td>\n",
       "      <td>White</td>\n",
       "      <td>Male</td>\n",
       "      <td>0</td>\n",
       "      <td>0</td>\n",
       "      <td>60</td>\n",
       "      <td>United-States</td>\n",
       "      <td>&gt;50K</td>\n",
       "    </tr>\n",
       "    <tr>\n",
       "      <th>21</th>\n",
       "      <td>54</td>\n",
       "      <td>Private</td>\n",
       "      <td>HS-grad</td>\n",
       "      <td>9</td>\n",
       "      <td>Separated</td>\n",
       "      <td>Other-service</td>\n",
       "      <td>Unmarried</td>\n",
       "      <td>Black</td>\n",
       "      <td>Female</td>\n",
       "      <td>0</td>\n",
       "      <td>0</td>\n",
       "      <td>20</td>\n",
       "      <td>United-States</td>\n",
       "      <td>&lt;=50K</td>\n",
       "    </tr>\n",
       "    <tr>\n",
       "      <th>22</th>\n",
       "      <td>35</td>\n",
       "      <td>Federal-gov</td>\n",
       "      <td>9th</td>\n",
       "      <td>5</td>\n",
       "      <td>Married-civ-spouse</td>\n",
       "      <td>Farming-fishing</td>\n",
       "      <td>Husband</td>\n",
       "      <td>Black</td>\n",
       "      <td>Male</td>\n",
       "      <td>0</td>\n",
       "      <td>0</td>\n",
       "      <td>40</td>\n",
       "      <td>United-States</td>\n",
       "      <td>&lt;=50K</td>\n",
       "    </tr>\n",
       "    <tr>\n",
       "      <th>23</th>\n",
       "      <td>43</td>\n",
       "      <td>Private</td>\n",
       "      <td>11th</td>\n",
       "      <td>7</td>\n",
       "      <td>Married-civ-spouse</td>\n",
       "      <td>Transport-moving</td>\n",
       "      <td>Husband</td>\n",
       "      <td>White</td>\n",
       "      <td>Male</td>\n",
       "      <td>0</td>\n",
       "      <td>2042</td>\n",
       "      <td>40</td>\n",
       "      <td>United-States</td>\n",
       "      <td>&lt;=50K</td>\n",
       "    </tr>\n",
       "    <tr>\n",
       "      <th>24</th>\n",
       "      <td>59</td>\n",
       "      <td>Private</td>\n",
       "      <td>HS-grad</td>\n",
       "      <td>9</td>\n",
       "      <td>Divorced</td>\n",
       "      <td>Tech-support</td>\n",
       "      <td>Unmarried</td>\n",
       "      <td>White</td>\n",
       "      <td>Female</td>\n",
       "      <td>0</td>\n",
       "      <td>0</td>\n",
       "      <td>40</td>\n",
       "      <td>United-States</td>\n",
       "      <td>&lt;=50K</td>\n",
       "    </tr>\n",
       "    <tr>\n",
       "      <th>25</th>\n",
       "      <td>56</td>\n",
       "      <td>Local-gov</td>\n",
       "      <td>Bachelors</td>\n",
       "      <td>13</td>\n",
       "      <td>Married-civ-spouse</td>\n",
       "      <td>Tech-support</td>\n",
       "      <td>Husband</td>\n",
       "      <td>White</td>\n",
       "      <td>Male</td>\n",
       "      <td>0</td>\n",
       "      <td>0</td>\n",
       "      <td>40</td>\n",
       "      <td>United-States</td>\n",
       "      <td>&gt;50K</td>\n",
       "    </tr>\n",
       "    <tr>\n",
       "      <th>26</th>\n",
       "      <td>19</td>\n",
       "      <td>Private</td>\n",
       "      <td>HS-grad</td>\n",
       "      <td>9</td>\n",
       "      <td>Never-married</td>\n",
       "      <td>Craft-repair</td>\n",
       "      <td>Own-child</td>\n",
       "      <td>White</td>\n",
       "      <td>Male</td>\n",
       "      <td>0</td>\n",
       "      <td>0</td>\n",
       "      <td>40</td>\n",
       "      <td>United-States</td>\n",
       "      <td>&lt;=50K</td>\n",
       "    </tr>\n",
       "    <tr>\n",
       "      <th>27</th>\n",
       "      <td>54</td>\n",
       "      <td>?</td>\n",
       "      <td>Some-college</td>\n",
       "      <td>10</td>\n",
       "      <td>Married-civ-spouse</td>\n",
       "      <td>?</td>\n",
       "      <td>Husband</td>\n",
       "      <td>Asian-Pac-Islander</td>\n",
       "      <td>Male</td>\n",
       "      <td>0</td>\n",
       "      <td>0</td>\n",
       "      <td>60</td>\n",
       "      <td>South</td>\n",
       "      <td>&gt;50K</td>\n",
       "    </tr>\n",
       "    <tr>\n",
       "      <th>28</th>\n",
       "      <td>39</td>\n",
       "      <td>Private</td>\n",
       "      <td>HS-grad</td>\n",
       "      <td>9</td>\n",
       "      <td>Divorced</td>\n",
       "      <td>Exec-managerial</td>\n",
       "      <td>Not-in-family</td>\n",
       "      <td>White</td>\n",
       "      <td>Male</td>\n",
       "      <td>0</td>\n",
       "      <td>0</td>\n",
       "      <td>80</td>\n",
       "      <td>United-States</td>\n",
       "      <td>&lt;=50K</td>\n",
       "    </tr>\n",
       "    <tr>\n",
       "      <th>29</th>\n",
       "      <td>49</td>\n",
       "      <td>Private</td>\n",
       "      <td>HS-grad</td>\n",
       "      <td>9</td>\n",
       "      <td>Married-civ-spouse</td>\n",
       "      <td>Craft-repair</td>\n",
       "      <td>Husband</td>\n",
       "      <td>White</td>\n",
       "      <td>Male</td>\n",
       "      <td>0</td>\n",
       "      <td>0</td>\n",
       "      <td>40</td>\n",
       "      <td>United-States</td>\n",
       "      <td>&lt;=50K</td>\n",
       "    </tr>\n",
       "    <tr>\n",
       "      <th>...</th>\n",
       "      <td>...</td>\n",
       "      <td>...</td>\n",
       "      <td>...</td>\n",
       "      <td>...</td>\n",
       "      <td>...</td>\n",
       "      <td>...</td>\n",
       "      <td>...</td>\n",
       "      <td>...</td>\n",
       "      <td>...</td>\n",
       "      <td>...</td>\n",
       "      <td>...</td>\n",
       "      <td>...</td>\n",
       "      <td>...</td>\n",
       "      <td>...</td>\n",
       "    </tr>\n",
       "    <tr>\n",
       "      <th>32531</th>\n",
       "      <td>30</td>\n",
       "      <td>?</td>\n",
       "      <td>Bachelors</td>\n",
       "      <td>13</td>\n",
       "      <td>Never-married</td>\n",
       "      <td>?</td>\n",
       "      <td>Not-in-family</td>\n",
       "      <td>Asian-Pac-Islander</td>\n",
       "      <td>Female</td>\n",
       "      <td>0</td>\n",
       "      <td>0</td>\n",
       "      <td>99</td>\n",
       "      <td>United-States</td>\n",
       "      <td>&lt;=50K</td>\n",
       "    </tr>\n",
       "    <tr>\n",
       "      <th>32532</th>\n",
       "      <td>34</td>\n",
       "      <td>Private</td>\n",
       "      <td>Doctorate</td>\n",
       "      <td>16</td>\n",
       "      <td>Married-civ-spouse</td>\n",
       "      <td>Prof-specialty</td>\n",
       "      <td>Husband</td>\n",
       "      <td>White</td>\n",
       "      <td>Male</td>\n",
       "      <td>0</td>\n",
       "      <td>0</td>\n",
       "      <td>60</td>\n",
       "      <td>United-States</td>\n",
       "      <td>&gt;50K</td>\n",
       "    </tr>\n",
       "    <tr>\n",
       "      <th>32533</th>\n",
       "      <td>54</td>\n",
       "      <td>Private</td>\n",
       "      <td>Bachelors</td>\n",
       "      <td>13</td>\n",
       "      <td>Married-civ-spouse</td>\n",
       "      <td>Exec-managerial</td>\n",
       "      <td>Husband</td>\n",
       "      <td>Asian-Pac-Islander</td>\n",
       "      <td>Male</td>\n",
       "      <td>0</td>\n",
       "      <td>0</td>\n",
       "      <td>50</td>\n",
       "      <td>Japan</td>\n",
       "      <td>&gt;50K</td>\n",
       "    </tr>\n",
       "    <tr>\n",
       "      <th>32534</th>\n",
       "      <td>37</td>\n",
       "      <td>Private</td>\n",
       "      <td>Some-college</td>\n",
       "      <td>10</td>\n",
       "      <td>Divorced</td>\n",
       "      <td>Adm-clerical</td>\n",
       "      <td>Unmarried</td>\n",
       "      <td>White</td>\n",
       "      <td>Female</td>\n",
       "      <td>0</td>\n",
       "      <td>0</td>\n",
       "      <td>39</td>\n",
       "      <td>United-States</td>\n",
       "      <td>&lt;=50K</td>\n",
       "    </tr>\n",
       "    <tr>\n",
       "      <th>32535</th>\n",
       "      <td>22</td>\n",
       "      <td>Private</td>\n",
       "      <td>12th</td>\n",
       "      <td>8</td>\n",
       "      <td>Never-married</td>\n",
       "      <td>Protective-serv</td>\n",
       "      <td>Own-child</td>\n",
       "      <td>Black</td>\n",
       "      <td>Male</td>\n",
       "      <td>0</td>\n",
       "      <td>0</td>\n",
       "      <td>35</td>\n",
       "      <td>United-States</td>\n",
       "      <td>&lt;=50K</td>\n",
       "    </tr>\n",
       "    <tr>\n",
       "      <th>32536</th>\n",
       "      <td>34</td>\n",
       "      <td>Private</td>\n",
       "      <td>Bachelors</td>\n",
       "      <td>13</td>\n",
       "      <td>Never-married</td>\n",
       "      <td>Exec-managerial</td>\n",
       "      <td>Not-in-family</td>\n",
       "      <td>White</td>\n",
       "      <td>Female</td>\n",
       "      <td>0</td>\n",
       "      <td>0</td>\n",
       "      <td>55</td>\n",
       "      <td>United-States</td>\n",
       "      <td>&gt;50K</td>\n",
       "    </tr>\n",
       "    <tr>\n",
       "      <th>32537</th>\n",
       "      <td>30</td>\n",
       "      <td>Private</td>\n",
       "      <td>HS-grad</td>\n",
       "      <td>9</td>\n",
       "      <td>Never-married</td>\n",
       "      <td>Craft-repair</td>\n",
       "      <td>Not-in-family</td>\n",
       "      <td>Black</td>\n",
       "      <td>Male</td>\n",
       "      <td>0</td>\n",
       "      <td>0</td>\n",
       "      <td>46</td>\n",
       "      <td>United-States</td>\n",
       "      <td>&lt;=50K</td>\n",
       "    </tr>\n",
       "    <tr>\n",
       "      <th>32538</th>\n",
       "      <td>38</td>\n",
       "      <td>Private</td>\n",
       "      <td>Bachelors</td>\n",
       "      <td>13</td>\n",
       "      <td>Divorced</td>\n",
       "      <td>Prof-specialty</td>\n",
       "      <td>Unmarried</td>\n",
       "      <td>Black</td>\n",
       "      <td>Female</td>\n",
       "      <td>15020</td>\n",
       "      <td>0</td>\n",
       "      <td>45</td>\n",
       "      <td>United-States</td>\n",
       "      <td>&gt;50K</td>\n",
       "    </tr>\n",
       "    <tr>\n",
       "      <th>32539</th>\n",
       "      <td>71</td>\n",
       "      <td>?</td>\n",
       "      <td>Doctorate</td>\n",
       "      <td>16</td>\n",
       "      <td>Married-civ-spouse</td>\n",
       "      <td>?</td>\n",
       "      <td>Husband</td>\n",
       "      <td>White</td>\n",
       "      <td>Male</td>\n",
       "      <td>0</td>\n",
       "      <td>0</td>\n",
       "      <td>10</td>\n",
       "      <td>United-States</td>\n",
       "      <td>&gt;50K</td>\n",
       "    </tr>\n",
       "    <tr>\n",
       "      <th>32540</th>\n",
       "      <td>45</td>\n",
       "      <td>State-gov</td>\n",
       "      <td>HS-grad</td>\n",
       "      <td>9</td>\n",
       "      <td>Separated</td>\n",
       "      <td>Adm-clerical</td>\n",
       "      <td>Own-child</td>\n",
       "      <td>White</td>\n",
       "      <td>Female</td>\n",
       "      <td>0</td>\n",
       "      <td>0</td>\n",
       "      <td>40</td>\n",
       "      <td>United-States</td>\n",
       "      <td>&lt;=50K</td>\n",
       "    </tr>\n",
       "    <tr>\n",
       "      <th>32541</th>\n",
       "      <td>41</td>\n",
       "      <td>?</td>\n",
       "      <td>HS-grad</td>\n",
       "      <td>9</td>\n",
       "      <td>Separated</td>\n",
       "      <td>?</td>\n",
       "      <td>Not-in-family</td>\n",
       "      <td>Black</td>\n",
       "      <td>Female</td>\n",
       "      <td>0</td>\n",
       "      <td>0</td>\n",
       "      <td>32</td>\n",
       "      <td>United-States</td>\n",
       "      <td>&lt;=50K</td>\n",
       "    </tr>\n",
       "    <tr>\n",
       "      <th>32542</th>\n",
       "      <td>72</td>\n",
       "      <td>?</td>\n",
       "      <td>HS-grad</td>\n",
       "      <td>9</td>\n",
       "      <td>Married-civ-spouse</td>\n",
       "      <td>?</td>\n",
       "      <td>Husband</td>\n",
       "      <td>White</td>\n",
       "      <td>Male</td>\n",
       "      <td>0</td>\n",
       "      <td>0</td>\n",
       "      <td>25</td>\n",
       "      <td>United-States</td>\n",
       "      <td>&lt;=50K</td>\n",
       "    </tr>\n",
       "    <tr>\n",
       "      <th>32543</th>\n",
       "      <td>45</td>\n",
       "      <td>Local-gov</td>\n",
       "      <td>Assoc-acdm</td>\n",
       "      <td>12</td>\n",
       "      <td>Divorced</td>\n",
       "      <td>Prof-specialty</td>\n",
       "      <td>Unmarried</td>\n",
       "      <td>White</td>\n",
       "      <td>Female</td>\n",
       "      <td>0</td>\n",
       "      <td>0</td>\n",
       "      <td>48</td>\n",
       "      <td>United-States</td>\n",
       "      <td>&lt;=50K</td>\n",
       "    </tr>\n",
       "    <tr>\n",
       "      <th>32544</th>\n",
       "      <td>31</td>\n",
       "      <td>Private</td>\n",
       "      <td>Masters</td>\n",
       "      <td>14</td>\n",
       "      <td>Divorced</td>\n",
       "      <td>Other-service</td>\n",
       "      <td>Not-in-family</td>\n",
       "      <td>Other</td>\n",
       "      <td>Female</td>\n",
       "      <td>0</td>\n",
       "      <td>0</td>\n",
       "      <td>30</td>\n",
       "      <td>United-States</td>\n",
       "      <td>&lt;=50K</td>\n",
       "    </tr>\n",
       "    <tr>\n",
       "      <th>32545</th>\n",
       "      <td>39</td>\n",
       "      <td>Local-gov</td>\n",
       "      <td>Assoc-acdm</td>\n",
       "      <td>12</td>\n",
       "      <td>Married-civ-spouse</td>\n",
       "      <td>Adm-clerical</td>\n",
       "      <td>Wife</td>\n",
       "      <td>White</td>\n",
       "      <td>Female</td>\n",
       "      <td>0</td>\n",
       "      <td>0</td>\n",
       "      <td>20</td>\n",
       "      <td>United-States</td>\n",
       "      <td>&gt;50K</td>\n",
       "    </tr>\n",
       "    <tr>\n",
       "      <th>32546</th>\n",
       "      <td>37</td>\n",
       "      <td>Private</td>\n",
       "      <td>Assoc-acdm</td>\n",
       "      <td>12</td>\n",
       "      <td>Divorced</td>\n",
       "      <td>Tech-support</td>\n",
       "      <td>Not-in-family</td>\n",
       "      <td>White</td>\n",
       "      <td>Female</td>\n",
       "      <td>0</td>\n",
       "      <td>0</td>\n",
       "      <td>40</td>\n",
       "      <td>United-States</td>\n",
       "      <td>&lt;=50K</td>\n",
       "    </tr>\n",
       "    <tr>\n",
       "      <th>32547</th>\n",
       "      <td>43</td>\n",
       "      <td>Private</td>\n",
       "      <td>HS-grad</td>\n",
       "      <td>9</td>\n",
       "      <td>Married-civ-spouse</td>\n",
       "      <td>Machine-op-inspct</td>\n",
       "      <td>Husband</td>\n",
       "      <td>White</td>\n",
       "      <td>Male</td>\n",
       "      <td>0</td>\n",
       "      <td>0</td>\n",
       "      <td>40</td>\n",
       "      <td>Mexico</td>\n",
       "      <td>&lt;=50K</td>\n",
       "    </tr>\n",
       "    <tr>\n",
       "      <th>32548</th>\n",
       "      <td>65</td>\n",
       "      <td>Self-emp-not-inc</td>\n",
       "      <td>Prof-school</td>\n",
       "      <td>15</td>\n",
       "      <td>Never-married</td>\n",
       "      <td>Prof-specialty</td>\n",
       "      <td>Not-in-family</td>\n",
       "      <td>White</td>\n",
       "      <td>Male</td>\n",
       "      <td>1086</td>\n",
       "      <td>0</td>\n",
       "      <td>60</td>\n",
       "      <td>United-States</td>\n",
       "      <td>&lt;=50K</td>\n",
       "    </tr>\n",
       "    <tr>\n",
       "      <th>32549</th>\n",
       "      <td>43</td>\n",
       "      <td>State-gov</td>\n",
       "      <td>Some-college</td>\n",
       "      <td>10</td>\n",
       "      <td>Divorced</td>\n",
       "      <td>Adm-clerical</td>\n",
       "      <td>Other-relative</td>\n",
       "      <td>White</td>\n",
       "      <td>Female</td>\n",
       "      <td>0</td>\n",
       "      <td>0</td>\n",
       "      <td>40</td>\n",
       "      <td>United-States</td>\n",
       "      <td>&lt;=50K</td>\n",
       "    </tr>\n",
       "    <tr>\n",
       "      <th>32550</th>\n",
       "      <td>43</td>\n",
       "      <td>Self-emp-not-inc</td>\n",
       "      <td>Some-college</td>\n",
       "      <td>10</td>\n",
       "      <td>Married-civ-spouse</td>\n",
       "      <td>Craft-repair</td>\n",
       "      <td>Husband</td>\n",
       "      <td>White</td>\n",
       "      <td>Male</td>\n",
       "      <td>0</td>\n",
       "      <td>0</td>\n",
       "      <td>50</td>\n",
       "      <td>United-States</td>\n",
       "      <td>&lt;=50K</td>\n",
       "    </tr>\n",
       "    <tr>\n",
       "      <th>32551</th>\n",
       "      <td>32</td>\n",
       "      <td>Private</td>\n",
       "      <td>10th</td>\n",
       "      <td>6</td>\n",
       "      <td>Married-civ-spouse</td>\n",
       "      <td>Handlers-cleaners</td>\n",
       "      <td>Husband</td>\n",
       "      <td>Amer-Indian-Eskimo</td>\n",
       "      <td>Male</td>\n",
       "      <td>0</td>\n",
       "      <td>0</td>\n",
       "      <td>40</td>\n",
       "      <td>United-States</td>\n",
       "      <td>&lt;=50K</td>\n",
       "    </tr>\n",
       "    <tr>\n",
       "      <th>32552</th>\n",
       "      <td>43</td>\n",
       "      <td>Private</td>\n",
       "      <td>Assoc-voc</td>\n",
       "      <td>11</td>\n",
       "      <td>Married-civ-spouse</td>\n",
       "      <td>Sales</td>\n",
       "      <td>Husband</td>\n",
       "      <td>White</td>\n",
       "      <td>Male</td>\n",
       "      <td>0</td>\n",
       "      <td>0</td>\n",
       "      <td>45</td>\n",
       "      <td>United-States</td>\n",
       "      <td>&lt;=50K</td>\n",
       "    </tr>\n",
       "    <tr>\n",
       "      <th>32553</th>\n",
       "      <td>32</td>\n",
       "      <td>Private</td>\n",
       "      <td>Masters</td>\n",
       "      <td>14</td>\n",
       "      <td>Never-married</td>\n",
       "      <td>Tech-support</td>\n",
       "      <td>Not-in-family</td>\n",
       "      <td>Asian-Pac-Islander</td>\n",
       "      <td>Male</td>\n",
       "      <td>0</td>\n",
       "      <td>0</td>\n",
       "      <td>11</td>\n",
       "      <td>Taiwan</td>\n",
       "      <td>&lt;=50K</td>\n",
       "    </tr>\n",
       "    <tr>\n",
       "      <th>32554</th>\n",
       "      <td>53</td>\n",
       "      <td>Private</td>\n",
       "      <td>Masters</td>\n",
       "      <td>14</td>\n",
       "      <td>Married-civ-spouse</td>\n",
       "      <td>Exec-managerial</td>\n",
       "      <td>Husband</td>\n",
       "      <td>White</td>\n",
       "      <td>Male</td>\n",
       "      <td>0</td>\n",
       "      <td>0</td>\n",
       "      <td>40</td>\n",
       "      <td>United-States</td>\n",
       "      <td>&gt;50K</td>\n",
       "    </tr>\n",
       "    <tr>\n",
       "      <th>32555</th>\n",
       "      <td>22</td>\n",
       "      <td>Private</td>\n",
       "      <td>Some-college</td>\n",
       "      <td>10</td>\n",
       "      <td>Never-married</td>\n",
       "      <td>Protective-serv</td>\n",
       "      <td>Not-in-family</td>\n",
       "      <td>White</td>\n",
       "      <td>Male</td>\n",
       "      <td>0</td>\n",
       "      <td>0</td>\n",
       "      <td>40</td>\n",
       "      <td>United-States</td>\n",
       "      <td>&lt;=50K</td>\n",
       "    </tr>\n",
       "    <tr>\n",
       "      <th>32556</th>\n",
       "      <td>27</td>\n",
       "      <td>Private</td>\n",
       "      <td>Assoc-acdm</td>\n",
       "      <td>12</td>\n",
       "      <td>Married-civ-spouse</td>\n",
       "      <td>Tech-support</td>\n",
       "      <td>Wife</td>\n",
       "      <td>White</td>\n",
       "      <td>Female</td>\n",
       "      <td>0</td>\n",
       "      <td>0</td>\n",
       "      <td>38</td>\n",
       "      <td>United-States</td>\n",
       "      <td>&lt;=50K</td>\n",
       "    </tr>\n",
       "    <tr>\n",
       "      <th>32557</th>\n",
       "      <td>40</td>\n",
       "      <td>Private</td>\n",
       "      <td>HS-grad</td>\n",
       "      <td>9</td>\n",
       "      <td>Married-civ-spouse</td>\n",
       "      <td>Machine-op-inspct</td>\n",
       "      <td>Husband</td>\n",
       "      <td>White</td>\n",
       "      <td>Male</td>\n",
       "      <td>0</td>\n",
       "      <td>0</td>\n",
       "      <td>40</td>\n",
       "      <td>United-States</td>\n",
       "      <td>&gt;50K</td>\n",
       "    </tr>\n",
       "    <tr>\n",
       "      <th>32558</th>\n",
       "      <td>58</td>\n",
       "      <td>Private</td>\n",
       "      <td>HS-grad</td>\n",
       "      <td>9</td>\n",
       "      <td>Widowed</td>\n",
       "      <td>Adm-clerical</td>\n",
       "      <td>Unmarried</td>\n",
       "      <td>White</td>\n",
       "      <td>Female</td>\n",
       "      <td>0</td>\n",
       "      <td>0</td>\n",
       "      <td>40</td>\n",
       "      <td>United-States</td>\n",
       "      <td>&lt;=50K</td>\n",
       "    </tr>\n",
       "    <tr>\n",
       "      <th>32559</th>\n",
       "      <td>22</td>\n",
       "      <td>Private</td>\n",
       "      <td>HS-grad</td>\n",
       "      <td>9</td>\n",
       "      <td>Never-married</td>\n",
       "      <td>Adm-clerical</td>\n",
       "      <td>Own-child</td>\n",
       "      <td>White</td>\n",
       "      <td>Male</td>\n",
       "      <td>0</td>\n",
       "      <td>0</td>\n",
       "      <td>20</td>\n",
       "      <td>United-States</td>\n",
       "      <td>&lt;=50K</td>\n",
       "    </tr>\n",
       "    <tr>\n",
       "      <th>32560</th>\n",
       "      <td>52</td>\n",
       "      <td>Self-emp-inc</td>\n",
       "      <td>HS-grad</td>\n",
       "      <td>9</td>\n",
       "      <td>Married-civ-spouse</td>\n",
       "      <td>Exec-managerial</td>\n",
       "      <td>Wife</td>\n",
       "      <td>White</td>\n",
       "      <td>Female</td>\n",
       "      <td>15024</td>\n",
       "      <td>0</td>\n",
       "      <td>40</td>\n",
       "      <td>United-States</td>\n",
       "      <td>&gt;50K</td>\n",
       "    </tr>\n",
       "  </tbody>\n",
       "</table>\n",
       "<p>32561 rows × 14 columns</p>\n",
       "</div>"
      ],
      "text/plain": [
       "       age          workclass      education  education-num  \\\n",
       "0       39          State-gov      Bachelors             13   \n",
       "1       50   Self-emp-not-inc      Bachelors             13   \n",
       "2       38            Private        HS-grad              9   \n",
       "3       53            Private           11th              7   \n",
       "4       28            Private      Bachelors             13   \n",
       "5       37            Private        Masters             14   \n",
       "6       49            Private            9th              5   \n",
       "7       52   Self-emp-not-inc        HS-grad              9   \n",
       "8       31            Private        Masters             14   \n",
       "9       42            Private      Bachelors             13   \n",
       "10      37            Private   Some-college             10   \n",
       "11      30          State-gov      Bachelors             13   \n",
       "12      23            Private      Bachelors             13   \n",
       "13      32            Private     Assoc-acdm             12   \n",
       "14      40            Private      Assoc-voc             11   \n",
       "15      34            Private        7th-8th              4   \n",
       "16      25   Self-emp-not-inc        HS-grad              9   \n",
       "17      32            Private        HS-grad              9   \n",
       "18      38            Private           11th              7   \n",
       "19      43   Self-emp-not-inc        Masters             14   \n",
       "20      40            Private      Doctorate             16   \n",
       "21      54            Private        HS-grad              9   \n",
       "22      35        Federal-gov            9th              5   \n",
       "23      43            Private           11th              7   \n",
       "24      59            Private        HS-grad              9   \n",
       "25      56          Local-gov      Bachelors             13   \n",
       "26      19            Private        HS-grad              9   \n",
       "27      54                  ?   Some-college             10   \n",
       "28      39            Private        HS-grad              9   \n",
       "29      49            Private        HS-grad              9   \n",
       "...    ...                ...            ...            ...   \n",
       "32531   30                  ?      Bachelors             13   \n",
       "32532   34            Private      Doctorate             16   \n",
       "32533   54            Private      Bachelors             13   \n",
       "32534   37            Private   Some-college             10   \n",
       "32535   22            Private           12th              8   \n",
       "32536   34            Private      Bachelors             13   \n",
       "32537   30            Private        HS-grad              9   \n",
       "32538   38            Private      Bachelors             13   \n",
       "32539   71                  ?      Doctorate             16   \n",
       "32540   45          State-gov        HS-grad              9   \n",
       "32541   41                  ?        HS-grad              9   \n",
       "32542   72                  ?        HS-grad              9   \n",
       "32543   45          Local-gov     Assoc-acdm             12   \n",
       "32544   31            Private        Masters             14   \n",
       "32545   39          Local-gov     Assoc-acdm             12   \n",
       "32546   37            Private     Assoc-acdm             12   \n",
       "32547   43            Private        HS-grad              9   \n",
       "32548   65   Self-emp-not-inc    Prof-school             15   \n",
       "32549   43          State-gov   Some-college             10   \n",
       "32550   43   Self-emp-not-inc   Some-college             10   \n",
       "32551   32            Private           10th              6   \n",
       "32552   43            Private      Assoc-voc             11   \n",
       "32553   32            Private        Masters             14   \n",
       "32554   53            Private        Masters             14   \n",
       "32555   22            Private   Some-college             10   \n",
       "32556   27            Private     Assoc-acdm             12   \n",
       "32557   40            Private        HS-grad              9   \n",
       "32558   58            Private        HS-grad              9   \n",
       "32559   22            Private        HS-grad              9   \n",
       "32560   52       Self-emp-inc        HS-grad              9   \n",
       "\n",
       "               marital-status          occupation     relationship  \\\n",
       "0               Never-married        Adm-clerical    Not-in-family   \n",
       "1          Married-civ-spouse     Exec-managerial          Husband   \n",
       "2                    Divorced   Handlers-cleaners    Not-in-family   \n",
       "3          Married-civ-spouse   Handlers-cleaners          Husband   \n",
       "4          Married-civ-spouse      Prof-specialty             Wife   \n",
       "5          Married-civ-spouse     Exec-managerial             Wife   \n",
       "6       Married-spouse-absent       Other-service    Not-in-family   \n",
       "7          Married-civ-spouse     Exec-managerial          Husband   \n",
       "8               Never-married      Prof-specialty    Not-in-family   \n",
       "9          Married-civ-spouse     Exec-managerial          Husband   \n",
       "10         Married-civ-spouse     Exec-managerial          Husband   \n",
       "11         Married-civ-spouse      Prof-specialty          Husband   \n",
       "12              Never-married        Adm-clerical        Own-child   \n",
       "13              Never-married               Sales    Not-in-family   \n",
       "14         Married-civ-spouse        Craft-repair          Husband   \n",
       "15         Married-civ-spouse    Transport-moving          Husband   \n",
       "16              Never-married     Farming-fishing        Own-child   \n",
       "17              Never-married   Machine-op-inspct        Unmarried   \n",
       "18         Married-civ-spouse               Sales          Husband   \n",
       "19                   Divorced     Exec-managerial        Unmarried   \n",
       "20         Married-civ-spouse      Prof-specialty          Husband   \n",
       "21                  Separated       Other-service        Unmarried   \n",
       "22         Married-civ-spouse     Farming-fishing          Husband   \n",
       "23         Married-civ-spouse    Transport-moving          Husband   \n",
       "24                   Divorced        Tech-support        Unmarried   \n",
       "25         Married-civ-spouse        Tech-support          Husband   \n",
       "26              Never-married        Craft-repair        Own-child   \n",
       "27         Married-civ-spouse                   ?          Husband   \n",
       "28                   Divorced     Exec-managerial    Not-in-family   \n",
       "29         Married-civ-spouse        Craft-repair          Husband   \n",
       "...                       ...                 ...              ...   \n",
       "32531           Never-married                   ?    Not-in-family   \n",
       "32532      Married-civ-spouse      Prof-specialty          Husband   \n",
       "32533      Married-civ-spouse     Exec-managerial          Husband   \n",
       "32534                Divorced        Adm-clerical        Unmarried   \n",
       "32535           Never-married     Protective-serv        Own-child   \n",
       "32536           Never-married     Exec-managerial    Not-in-family   \n",
       "32537           Never-married        Craft-repair    Not-in-family   \n",
       "32538                Divorced      Prof-specialty        Unmarried   \n",
       "32539      Married-civ-spouse                   ?          Husband   \n",
       "32540               Separated        Adm-clerical        Own-child   \n",
       "32541               Separated                   ?    Not-in-family   \n",
       "32542      Married-civ-spouse                   ?          Husband   \n",
       "32543                Divorced      Prof-specialty        Unmarried   \n",
       "32544                Divorced       Other-service    Not-in-family   \n",
       "32545      Married-civ-spouse        Adm-clerical             Wife   \n",
       "32546                Divorced        Tech-support    Not-in-family   \n",
       "32547      Married-civ-spouse   Machine-op-inspct          Husband   \n",
       "32548           Never-married      Prof-specialty    Not-in-family   \n",
       "32549                Divorced        Adm-clerical   Other-relative   \n",
       "32550      Married-civ-spouse        Craft-repair          Husband   \n",
       "32551      Married-civ-spouse   Handlers-cleaners          Husband   \n",
       "32552      Married-civ-spouse               Sales          Husband   \n",
       "32553           Never-married        Tech-support    Not-in-family   \n",
       "32554      Married-civ-spouse     Exec-managerial          Husband   \n",
       "32555           Never-married     Protective-serv    Not-in-family   \n",
       "32556      Married-civ-spouse        Tech-support             Wife   \n",
       "32557      Married-civ-spouse   Machine-op-inspct          Husband   \n",
       "32558                 Widowed        Adm-clerical        Unmarried   \n",
       "32559           Never-married        Adm-clerical        Own-child   \n",
       "32560      Married-civ-spouse     Exec-managerial             Wife   \n",
       "\n",
       "                      race      sex  capital-gain  capital-loss  \\\n",
       "0                    White     Male          2174             0   \n",
       "1                    White     Male             0             0   \n",
       "2                    White     Male             0             0   \n",
       "3                    Black     Male             0             0   \n",
       "4                    Black   Female             0             0   \n",
       "5                    White   Female             0             0   \n",
       "6                    Black   Female             0             0   \n",
       "7                    White     Male             0             0   \n",
       "8                    White   Female         14084             0   \n",
       "9                    White     Male          5178             0   \n",
       "10                   Black     Male             0             0   \n",
       "11      Asian-Pac-Islander     Male             0             0   \n",
       "12                   White   Female             0             0   \n",
       "13                   Black     Male             0             0   \n",
       "14      Asian-Pac-Islander     Male             0             0   \n",
       "15      Amer-Indian-Eskimo     Male             0             0   \n",
       "16                   White     Male             0             0   \n",
       "17                   White     Male             0             0   \n",
       "18                   White     Male             0             0   \n",
       "19                   White   Female             0             0   \n",
       "20                   White     Male             0             0   \n",
       "21                   Black   Female             0             0   \n",
       "22                   Black     Male             0             0   \n",
       "23                   White     Male             0          2042   \n",
       "24                   White   Female             0             0   \n",
       "25                   White     Male             0             0   \n",
       "26                   White     Male             0             0   \n",
       "27      Asian-Pac-Islander     Male             0             0   \n",
       "28                   White     Male             0             0   \n",
       "29                   White     Male             0             0   \n",
       "...                    ...      ...           ...           ...   \n",
       "32531   Asian-Pac-Islander   Female             0             0   \n",
       "32532                White     Male             0             0   \n",
       "32533   Asian-Pac-Islander     Male             0             0   \n",
       "32534                White   Female             0             0   \n",
       "32535                Black     Male             0             0   \n",
       "32536                White   Female             0             0   \n",
       "32537                Black     Male             0             0   \n",
       "32538                Black   Female         15020             0   \n",
       "32539                White     Male             0             0   \n",
       "32540                White   Female             0             0   \n",
       "32541                Black   Female             0             0   \n",
       "32542                White     Male             0             0   \n",
       "32543                White   Female             0             0   \n",
       "32544                Other   Female             0             0   \n",
       "32545                White   Female             0             0   \n",
       "32546                White   Female             0             0   \n",
       "32547                White     Male             0             0   \n",
       "32548                White     Male          1086             0   \n",
       "32549                White   Female             0             0   \n",
       "32550                White     Male             0             0   \n",
       "32551   Amer-Indian-Eskimo     Male             0             0   \n",
       "32552                White     Male             0             0   \n",
       "32553   Asian-Pac-Islander     Male             0             0   \n",
       "32554                White     Male             0             0   \n",
       "32555                White     Male             0             0   \n",
       "32556                White   Female             0             0   \n",
       "32557                White     Male             0             0   \n",
       "32558                White   Female             0             0   \n",
       "32559                White     Male             0             0   \n",
       "32560                White   Female         15024             0   \n",
       "\n",
       "       hours-per-week  native-country  income  \n",
       "0                  40   United-States   <=50K  \n",
       "1                  13   United-States   <=50K  \n",
       "2                  40   United-States   <=50K  \n",
       "3                  40   United-States   <=50K  \n",
       "4                  40            Cuba   <=50K  \n",
       "5                  40   United-States   <=50K  \n",
       "6                  16         Jamaica   <=50K  \n",
       "7                  45   United-States    >50K  \n",
       "8                  50   United-States    >50K  \n",
       "9                  40   United-States    >50K  \n",
       "10                 80   United-States    >50K  \n",
       "11                 40           India    >50K  \n",
       "12                 30   United-States   <=50K  \n",
       "13                 50   United-States   <=50K  \n",
       "14                 40               ?    >50K  \n",
       "15                 45          Mexico   <=50K  \n",
       "16                 35   United-States   <=50K  \n",
       "17                 40   United-States   <=50K  \n",
       "18                 50   United-States   <=50K  \n",
       "19                 45   United-States    >50K  \n",
       "20                 60   United-States    >50K  \n",
       "21                 20   United-States   <=50K  \n",
       "22                 40   United-States   <=50K  \n",
       "23                 40   United-States   <=50K  \n",
       "24                 40   United-States   <=50K  \n",
       "25                 40   United-States    >50K  \n",
       "26                 40   United-States   <=50K  \n",
       "27                 60           South    >50K  \n",
       "28                 80   United-States   <=50K  \n",
       "29                 40   United-States   <=50K  \n",
       "...               ...             ...     ...  \n",
       "32531              99   United-States   <=50K  \n",
       "32532              60   United-States    >50K  \n",
       "32533              50           Japan    >50K  \n",
       "32534              39   United-States   <=50K  \n",
       "32535              35   United-States   <=50K  \n",
       "32536              55   United-States    >50K  \n",
       "32537              46   United-States   <=50K  \n",
       "32538              45   United-States    >50K  \n",
       "32539              10   United-States    >50K  \n",
       "32540              40   United-States   <=50K  \n",
       "32541              32   United-States   <=50K  \n",
       "32542              25   United-States   <=50K  \n",
       "32543              48   United-States   <=50K  \n",
       "32544              30   United-States   <=50K  \n",
       "32545              20   United-States    >50K  \n",
       "32546              40   United-States   <=50K  \n",
       "32547              40          Mexico   <=50K  \n",
       "32548              60   United-States   <=50K  \n",
       "32549              40   United-States   <=50K  \n",
       "32550              50   United-States   <=50K  \n",
       "32551              40   United-States   <=50K  \n",
       "32552              45   United-States   <=50K  \n",
       "32553              11          Taiwan   <=50K  \n",
       "32554              40   United-States    >50K  \n",
       "32555              40   United-States   <=50K  \n",
       "32556              38   United-States   <=50K  \n",
       "32557              40   United-States    >50K  \n",
       "32558              40   United-States   <=50K  \n",
       "32559              20   United-States   <=50K  \n",
       "32560              40   United-States    >50K  \n",
       "\n",
       "[32561 rows x 14 columns]"
      ]
     },
     "execution_count": 13,
     "metadata": {},
     "output_type": "execute_result"
    }
   ],
   "source": [
    "df.drop(['fnlwgt'], axis=1)"
   ]
  },
  {
   "cell_type": "markdown",
   "metadata": {},
   "source": [
    "Ok, it worked this time!\n",
    "\n",
    "Let's take a **head** of our data to confirm the changes:"
   ]
  },
  {
   "cell_type": "code",
   "execution_count": 14,
   "metadata": {},
   "outputs": [
    {
     "data": {
      "text/html": [
       "<div>\n",
       "<style scoped>\n",
       "    .dataframe tbody tr th:only-of-type {\n",
       "        vertical-align: middle;\n",
       "    }\n",
       "\n",
       "    .dataframe tbody tr th {\n",
       "        vertical-align: top;\n",
       "    }\n",
       "\n",
       "    .dataframe thead th {\n",
       "        text-align: right;\n",
       "    }\n",
       "</style>\n",
       "<table border=\"1\" class=\"dataframe\">\n",
       "  <thead>\n",
       "    <tr style=\"text-align: right;\">\n",
       "      <th></th>\n",
       "      <th>age</th>\n",
       "      <th>workclass</th>\n",
       "      <th>fnlwgt</th>\n",
       "      <th>education</th>\n",
       "      <th>education-num</th>\n",
       "      <th>marital-status</th>\n",
       "      <th>occupation</th>\n",
       "      <th>relationship</th>\n",
       "      <th>race</th>\n",
       "      <th>sex</th>\n",
       "      <th>capital-gain</th>\n",
       "      <th>capital-loss</th>\n",
       "      <th>hours-per-week</th>\n",
       "      <th>native-country</th>\n",
       "      <th>income</th>\n",
       "    </tr>\n",
       "  </thead>\n",
       "  <tbody>\n",
       "    <tr>\n",
       "      <th>0</th>\n",
       "      <td>39</td>\n",
       "      <td>State-gov</td>\n",
       "      <td>77516</td>\n",
       "      <td>Bachelors</td>\n",
       "      <td>13</td>\n",
       "      <td>Never-married</td>\n",
       "      <td>Adm-clerical</td>\n",
       "      <td>Not-in-family</td>\n",
       "      <td>White</td>\n",
       "      <td>Male</td>\n",
       "      <td>2174</td>\n",
       "      <td>0</td>\n",
       "      <td>40</td>\n",
       "      <td>United-States</td>\n",
       "      <td>&lt;=50K</td>\n",
       "    </tr>\n",
       "    <tr>\n",
       "      <th>1</th>\n",
       "      <td>50</td>\n",
       "      <td>Self-emp-not-inc</td>\n",
       "      <td>83311</td>\n",
       "      <td>Bachelors</td>\n",
       "      <td>13</td>\n",
       "      <td>Married-civ-spouse</td>\n",
       "      <td>Exec-managerial</td>\n",
       "      <td>Husband</td>\n",
       "      <td>White</td>\n",
       "      <td>Male</td>\n",
       "      <td>0</td>\n",
       "      <td>0</td>\n",
       "      <td>13</td>\n",
       "      <td>United-States</td>\n",
       "      <td>&lt;=50K</td>\n",
       "    </tr>\n",
       "  </tbody>\n",
       "</table>\n",
       "</div>"
      ],
      "text/plain": [
       "   age          workclass  fnlwgt   education  education-num  \\\n",
       "0   39          State-gov   77516   Bachelors             13   \n",
       "1   50   Self-emp-not-inc   83311   Bachelors             13   \n",
       "\n",
       "        marital-status        occupation    relationship    race    sex  \\\n",
       "0        Never-married      Adm-clerical   Not-in-family   White   Male   \n",
       "1   Married-civ-spouse   Exec-managerial         Husband   White   Male   \n",
       "\n",
       "   capital-gain  capital-loss  hours-per-week  native-country  income  \n",
       "0          2174             0              40   United-States   <=50K  \n",
       "1             0             0              13   United-States   <=50K  "
      ]
     },
     "execution_count": 14,
     "metadata": {},
     "output_type": "execute_result"
    }
   ],
   "source": [
    "df.head(2)"
   ]
  },
  {
   "cell_type": "markdown",
   "metadata": {},
   "source": [
    "What?? Why the column **fnlwgt** is still there?\n",
    "\n",
    "There reason is that like the majority of DataFrame methods, **.drop( )** returns a modified version of data and doesn't alter the original data.\n",
    "In case we are sure that we want to change the original data, we can do it in two ways. Either by assigning the result to the df variable:"
   ]
  },
  {
   "cell_type": "code",
   "execution_count": null,
   "metadata": {},
   "outputs": [],
   "source": [
    "df = df.drop(['fnlwgt'], axis=1)"
   ]
  },
  {
   "cell_type": "markdown",
   "metadata": {},
   "source": [
    "Or by using the **inplace** argument of the **drop** method:"
   ]
  },
  {
   "cell_type": "code",
   "execution_count": null,
   "metadata": {},
   "outputs": [],
   "source": [
    "df.drop(['fnlwgt'], axis=1, inplace=True)"
   ]
  },
  {
   "cell_type": "markdown",
   "metadata": {},
   "source": [
    " "
   ]
  },
  {
   "cell_type": "markdown",
   "metadata": {},
   "source": [
    "<img src=\"Images/baby.svg\"   width=\"30\" align=\"left\">               "
   ]
  },
  {
   "cell_type": "markdown",
   "metadata": {},
   "source": [
    "**YOUR TURN:**\n",
    "    \n",
    "Try to use both methods together. Explain the results:"
   ]
  },
  {
   "cell_type": "code",
   "execution_count": null,
   "metadata": {},
   "outputs": [],
   "source": [
    "(\\   .-.   .-.   .-.   .-.   .-.   .-.   .-.   .-.   /_\")\n",
    " \\\\_//^\\\\_//^\\\\_//^\\\\_//^\\\\_//^\\\\_//^\\\\_//^\\\\_//^\\\\_//\n",
    "  `\"`   `\"`   `\"`   `\"`   `\"`   `\"`   `\"`   `\"`   `\"`"
   ]
  },
  {
   "cell_type": "markdown",
   "metadata": {},
   "source": [
    "### Removing duplicates"
   ]
  },
  {
   "cell_type": "markdown",
   "metadata": {},
   "source": [
    "Another issue that frequently appears in data analysis tasks is presence of duplicated data. Based on the nature of your info these duplicated data may exist simply due to a simple glitch in ETL system or they can be a sign of a serious problem with data gathering methods. Two main methods related to duplicated data are:\n",
    "\n",
    "- **.drop_duplicates( )** : Removal of duplicated rows\n",
    "- **.duplicated( )** : showing the duplicated rows"
   ]
  },
  {
   "cell_type": "markdown",
   "metadata": {},
   "source": [
    " "
   ]
  },
  {
   "cell_type": "markdown",
   "metadata": {},
   "source": [
    "<img src=\"Images/student.svg\"   width=\"30\" align=\"left\">               "
   ]
  },
  {
   "cell_type": "markdown",
   "metadata": {},
   "source": [
    "**YOUR TURN:**\n",
    "    \n",
    "Explain what happens in the following cell and in specific, what is the role of **keep** argument :"
   ]
  },
  {
   "cell_type": "code",
   "execution_count": 70,
   "metadata": {},
   "outputs": [
    {
     "data": {
      "text/html": [
       "<div>\n",
       "<style scoped>\n",
       "    .dataframe tbody tr th:only-of-type {\n",
       "        vertical-align: middle;\n",
       "    }\n",
       "\n",
       "    .dataframe tbody tr th {\n",
       "        vertical-align: top;\n",
       "    }\n",
       "\n",
       "    .dataframe thead th {\n",
       "        text-align: right;\n",
       "    }\n",
       "</style>\n",
       "<table border=\"1\" class=\"dataframe\">\n",
       "  <thead>\n",
       "    <tr style=\"text-align: right;\">\n",
       "      <th></th>\n",
       "      <th>age</th>\n",
       "      <th>workclass</th>\n",
       "      <th>fnlwgt</th>\n",
       "      <th>education</th>\n",
       "      <th>education-num</th>\n",
       "      <th>marital-status</th>\n",
       "      <th>occupation</th>\n",
       "      <th>relationship</th>\n",
       "      <th>race</th>\n",
       "      <th>sex</th>\n",
       "      <th>capital-gain</th>\n",
       "      <th>capital-loss</th>\n",
       "      <th>hours-per-week</th>\n",
       "      <th>native-country</th>\n",
       "      <th>income</th>\n",
       "    </tr>\n",
       "  </thead>\n",
       "  <tbody>\n",
       "    <tr>\n",
       "      <th>17673</th>\n",
       "      <td>19</td>\n",
       "      <td>Private</td>\n",
       "      <td>97261</td>\n",
       "      <td>HS-grad</td>\n",
       "      <td>9</td>\n",
       "      <td>Never-married</td>\n",
       "      <td>Farming-fishing</td>\n",
       "      <td>Not-in-family</td>\n",
       "      <td>White</td>\n",
       "      <td>Male</td>\n",
       "      <td>0</td>\n",
       "      <td>0</td>\n",
       "      <td>40</td>\n",
       "      <td>United-States</td>\n",
       "      <td>&lt;=50K</td>\n",
       "    </tr>\n",
       "    <tr>\n",
       "      <th>18698</th>\n",
       "      <td>19</td>\n",
       "      <td>Private</td>\n",
       "      <td>97261</td>\n",
       "      <td>HS-grad</td>\n",
       "      <td>9</td>\n",
       "      <td>Never-married</td>\n",
       "      <td>Farming-fishing</td>\n",
       "      <td>Not-in-family</td>\n",
       "      <td>White</td>\n",
       "      <td>Male</td>\n",
       "      <td>0</td>\n",
       "      <td>0</td>\n",
       "      <td>40</td>\n",
       "      <td>United-States</td>\n",
       "      <td>&lt;=50K</td>\n",
       "    </tr>\n",
       "    <tr>\n",
       "      <th>6990</th>\n",
       "      <td>19</td>\n",
       "      <td>Private</td>\n",
       "      <td>138153</td>\n",
       "      <td>Some-college</td>\n",
       "      <td>10</td>\n",
       "      <td>Never-married</td>\n",
       "      <td>Adm-clerical</td>\n",
       "      <td>Own-child</td>\n",
       "      <td>White</td>\n",
       "      <td>Female</td>\n",
       "      <td>0</td>\n",
       "      <td>0</td>\n",
       "      <td>10</td>\n",
       "      <td>United-States</td>\n",
       "      <td>&lt;=50K</td>\n",
       "    </tr>\n",
       "    <tr>\n",
       "      <th>21318</th>\n",
       "      <td>19</td>\n",
       "      <td>Private</td>\n",
       "      <td>138153</td>\n",
       "      <td>Some-college</td>\n",
       "      <td>10</td>\n",
       "      <td>Never-married</td>\n",
       "      <td>Adm-clerical</td>\n",
       "      <td>Own-child</td>\n",
       "      <td>White</td>\n",
       "      <td>Female</td>\n",
       "      <td>0</td>\n",
       "      <td>0</td>\n",
       "      <td>10</td>\n",
       "      <td>United-States</td>\n",
       "      <td>&lt;=50K</td>\n",
       "    </tr>\n",
       "    <tr>\n",
       "      <th>15189</th>\n",
       "      <td>19</td>\n",
       "      <td>Private</td>\n",
       "      <td>146679</td>\n",
       "      <td>Some-college</td>\n",
       "      <td>10</td>\n",
       "      <td>Never-married</td>\n",
       "      <td>Exec-managerial</td>\n",
       "      <td>Own-child</td>\n",
       "      <td>Black</td>\n",
       "      <td>Male</td>\n",
       "      <td>0</td>\n",
       "      <td>0</td>\n",
       "      <td>30</td>\n",
       "      <td>United-States</td>\n",
       "      <td>&lt;=50K</td>\n",
       "    </tr>\n",
       "    <tr>\n",
       "      <th>21490</th>\n",
       "      <td>19</td>\n",
       "      <td>Private</td>\n",
       "      <td>146679</td>\n",
       "      <td>Some-college</td>\n",
       "      <td>10</td>\n",
       "      <td>Never-married</td>\n",
       "      <td>Exec-managerial</td>\n",
       "      <td>Own-child</td>\n",
       "      <td>Black</td>\n",
       "      <td>Male</td>\n",
       "      <td>0</td>\n",
       "      <td>0</td>\n",
       "      <td>30</td>\n",
       "      <td>United-States</td>\n",
       "      <td>&lt;=50K</td>\n",
       "    </tr>\n",
       "    <tr>\n",
       "      <th>3917</th>\n",
       "      <td>19</td>\n",
       "      <td>Private</td>\n",
       "      <td>251579</td>\n",
       "      <td>Some-college</td>\n",
       "      <td>10</td>\n",
       "      <td>Never-married</td>\n",
       "      <td>Other-service</td>\n",
       "      <td>Own-child</td>\n",
       "      <td>White</td>\n",
       "      <td>Male</td>\n",
       "      <td>0</td>\n",
       "      <td>0</td>\n",
       "      <td>14</td>\n",
       "      <td>United-States</td>\n",
       "      <td>&lt;=50K</td>\n",
       "    </tr>\n",
       "    <tr>\n",
       "      <th>31993</th>\n",
       "      <td>19</td>\n",
       "      <td>Private</td>\n",
       "      <td>251579</td>\n",
       "      <td>Some-college</td>\n",
       "      <td>10</td>\n",
       "      <td>Never-married</td>\n",
       "      <td>Other-service</td>\n",
       "      <td>Own-child</td>\n",
       "      <td>White</td>\n",
       "      <td>Male</td>\n",
       "      <td>0</td>\n",
       "      <td>0</td>\n",
       "      <td>14</td>\n",
       "      <td>United-States</td>\n",
       "      <td>&lt;=50K</td>\n",
       "    </tr>\n",
       "    <tr>\n",
       "      <th>5805</th>\n",
       "      <td>20</td>\n",
       "      <td>Private</td>\n",
       "      <td>107658</td>\n",
       "      <td>Some-college</td>\n",
       "      <td>10</td>\n",
       "      <td>Never-married</td>\n",
       "      <td>Tech-support</td>\n",
       "      <td>Not-in-family</td>\n",
       "      <td>White</td>\n",
       "      <td>Female</td>\n",
       "      <td>0</td>\n",
       "      <td>0</td>\n",
       "      <td>10</td>\n",
       "      <td>United-States</td>\n",
       "      <td>&lt;=50K</td>\n",
       "    </tr>\n",
       "    <tr>\n",
       "      <th>11631</th>\n",
       "      <td>20</td>\n",
       "      <td>Private</td>\n",
       "      <td>107658</td>\n",
       "      <td>Some-college</td>\n",
       "      <td>10</td>\n",
       "      <td>Never-married</td>\n",
       "      <td>Tech-support</td>\n",
       "      <td>Not-in-family</td>\n",
       "      <td>White</td>\n",
       "      <td>Female</td>\n",
       "      <td>0</td>\n",
       "      <td>0</td>\n",
       "      <td>10</td>\n",
       "      <td>United-States</td>\n",
       "      <td>&lt;=50K</td>\n",
       "    </tr>\n",
       "    <tr>\n",
       "      <th>8080</th>\n",
       "      <td>21</td>\n",
       "      <td>Private</td>\n",
       "      <td>243368</td>\n",
       "      <td>Preschool</td>\n",
       "      <td>1</td>\n",
       "      <td>Never-married</td>\n",
       "      <td>Farming-fishing</td>\n",
       "      <td>Not-in-family</td>\n",
       "      <td>White</td>\n",
       "      <td>Male</td>\n",
       "      <td>0</td>\n",
       "      <td>0</td>\n",
       "      <td>50</td>\n",
       "      <td>Mexico</td>\n",
       "      <td>&lt;=50K</td>\n",
       "    </tr>\n",
       "    <tr>\n",
       "      <th>15059</th>\n",
       "      <td>21</td>\n",
       "      <td>Private</td>\n",
       "      <td>243368</td>\n",
       "      <td>Preschool</td>\n",
       "      <td>1</td>\n",
       "      <td>Never-married</td>\n",
       "      <td>Farming-fishing</td>\n",
       "      <td>Not-in-family</td>\n",
       "      <td>White</td>\n",
       "      <td>Male</td>\n",
       "      <td>0</td>\n",
       "      <td>0</td>\n",
       "      <td>50</td>\n",
       "      <td>Mexico</td>\n",
       "      <td>&lt;=50K</td>\n",
       "    </tr>\n",
       "    <tr>\n",
       "      <th>4767</th>\n",
       "      <td>21</td>\n",
       "      <td>Private</td>\n",
       "      <td>250051</td>\n",
       "      <td>Some-college</td>\n",
       "      <td>10</td>\n",
       "      <td>Never-married</td>\n",
       "      <td>Prof-specialty</td>\n",
       "      <td>Own-child</td>\n",
       "      <td>White</td>\n",
       "      <td>Female</td>\n",
       "      <td>0</td>\n",
       "      <td>0</td>\n",
       "      <td>10</td>\n",
       "      <td>United-States</td>\n",
       "      <td>&lt;=50K</td>\n",
       "    </tr>\n",
       "    <tr>\n",
       "      <th>9171</th>\n",
       "      <td>21</td>\n",
       "      <td>Private</td>\n",
       "      <td>250051</td>\n",
       "      <td>Some-college</td>\n",
       "      <td>10</td>\n",
       "      <td>Never-married</td>\n",
       "      <td>Prof-specialty</td>\n",
       "      <td>Own-child</td>\n",
       "      <td>White</td>\n",
       "      <td>Female</td>\n",
       "      <td>0</td>\n",
       "      <td>0</td>\n",
       "      <td>10</td>\n",
       "      <td>United-States</td>\n",
       "      <td>&lt;=50K</td>\n",
       "    </tr>\n",
       "    <tr>\n",
       "      <th>21103</th>\n",
       "      <td>23</td>\n",
       "      <td>Private</td>\n",
       "      <td>240137</td>\n",
       "      <td>5th-6th</td>\n",
       "      <td>3</td>\n",
       "      <td>Never-married</td>\n",
       "      <td>Handlers-cleaners</td>\n",
       "      <td>Not-in-family</td>\n",
       "      <td>White</td>\n",
       "      <td>Male</td>\n",
       "      <td>0</td>\n",
       "      <td>0</td>\n",
       "      <td>55</td>\n",
       "      <td>Mexico</td>\n",
       "      <td>&lt;=50K</td>\n",
       "    </tr>\n",
       "    <tr>\n",
       "      <th>25872</th>\n",
       "      <td>23</td>\n",
       "      <td>Private</td>\n",
       "      <td>240137</td>\n",
       "      <td>5th-6th</td>\n",
       "      <td>3</td>\n",
       "      <td>Never-married</td>\n",
       "      <td>Handlers-cleaners</td>\n",
       "      <td>Not-in-family</td>\n",
       "      <td>White</td>\n",
       "      <td>Male</td>\n",
       "      <td>0</td>\n",
       "      <td>0</td>\n",
       "      <td>55</td>\n",
       "      <td>Mexico</td>\n",
       "      <td>&lt;=50K</td>\n",
       "    </tr>\n",
       "    <tr>\n",
       "      <th>5842</th>\n",
       "      <td>25</td>\n",
       "      <td>Private</td>\n",
       "      <td>195994</td>\n",
       "      <td>1st-4th</td>\n",
       "      <td>2</td>\n",
       "      <td>Never-married</td>\n",
       "      <td>Priv-house-serv</td>\n",
       "      <td>Not-in-family</td>\n",
       "      <td>White</td>\n",
       "      <td>Female</td>\n",
       "      <td>0</td>\n",
       "      <td>0</td>\n",
       "      <td>40</td>\n",
       "      <td>Guatemala</td>\n",
       "      <td>&lt;=50K</td>\n",
       "    </tr>\n",
       "    <tr>\n",
       "      <th>13084</th>\n",
       "      <td>25</td>\n",
       "      <td>Private</td>\n",
       "      <td>195994</td>\n",
       "      <td>1st-4th</td>\n",
       "      <td>2</td>\n",
       "      <td>Never-married</td>\n",
       "      <td>Priv-house-serv</td>\n",
       "      <td>Not-in-family</td>\n",
       "      <td>White</td>\n",
       "      <td>Female</td>\n",
       "      <td>0</td>\n",
       "      <td>0</td>\n",
       "      <td>40</td>\n",
       "      <td>Guatemala</td>\n",
       "      <td>&lt;=50K</td>\n",
       "    </tr>\n",
       "    <tr>\n",
       "      <th>22300</th>\n",
       "      <td>25</td>\n",
       "      <td>Private</td>\n",
       "      <td>195994</td>\n",
       "      <td>1st-4th</td>\n",
       "      <td>2</td>\n",
       "      <td>Never-married</td>\n",
       "      <td>Priv-house-serv</td>\n",
       "      <td>Not-in-family</td>\n",
       "      <td>White</td>\n",
       "      <td>Female</td>\n",
       "      <td>0</td>\n",
       "      <td>0</td>\n",
       "      <td>40</td>\n",
       "      <td>Guatemala</td>\n",
       "      <td>&lt;=50K</td>\n",
       "    </tr>\n",
       "    <tr>\n",
       "      <th>4325</th>\n",
       "      <td>25</td>\n",
       "      <td>Private</td>\n",
       "      <td>308144</td>\n",
       "      <td>Bachelors</td>\n",
       "      <td>13</td>\n",
       "      <td>Never-married</td>\n",
       "      <td>Craft-repair</td>\n",
       "      <td>Not-in-family</td>\n",
       "      <td>White</td>\n",
       "      <td>Male</td>\n",
       "      <td>0</td>\n",
       "      <td>0</td>\n",
       "      <td>40</td>\n",
       "      <td>Mexico</td>\n",
       "      <td>&lt;=50K</td>\n",
       "    </tr>\n",
       "    <tr>\n",
       "      <th>4881</th>\n",
       "      <td>25</td>\n",
       "      <td>Private</td>\n",
       "      <td>308144</td>\n",
       "      <td>Bachelors</td>\n",
       "      <td>13</td>\n",
       "      <td>Never-married</td>\n",
       "      <td>Craft-repair</td>\n",
       "      <td>Not-in-family</td>\n",
       "      <td>White</td>\n",
       "      <td>Male</td>\n",
       "      <td>0</td>\n",
       "      <td>0</td>\n",
       "      <td>40</td>\n",
       "      <td>Mexico</td>\n",
       "      <td>&lt;=50K</td>\n",
       "    </tr>\n",
       "    <tr>\n",
       "      <th>5579</th>\n",
       "      <td>27</td>\n",
       "      <td>Private</td>\n",
       "      <td>255582</td>\n",
       "      <td>HS-grad</td>\n",
       "      <td>9</td>\n",
       "      <td>Never-married</td>\n",
       "      <td>Machine-op-inspct</td>\n",
       "      <td>Not-in-family</td>\n",
       "      <td>White</td>\n",
       "      <td>Female</td>\n",
       "      <td>0</td>\n",
       "      <td>0</td>\n",
       "      <td>40</td>\n",
       "      <td>United-States</td>\n",
       "      <td>&lt;=50K</td>\n",
       "    </tr>\n",
       "    <tr>\n",
       "      <th>28230</th>\n",
       "      <td>27</td>\n",
       "      <td>Private</td>\n",
       "      <td>255582</td>\n",
       "      <td>HS-grad</td>\n",
       "      <td>9</td>\n",
       "      <td>Never-married</td>\n",
       "      <td>Machine-op-inspct</td>\n",
       "      <td>Not-in-family</td>\n",
       "      <td>White</td>\n",
       "      <td>Female</td>\n",
       "      <td>0</td>\n",
       "      <td>0</td>\n",
       "      <td>40</td>\n",
       "      <td>United-States</td>\n",
       "      <td>&lt;=50K</td>\n",
       "    </tr>\n",
       "    <tr>\n",
       "      <th>8679</th>\n",
       "      <td>28</td>\n",
       "      <td>Private</td>\n",
       "      <td>274679</td>\n",
       "      <td>Masters</td>\n",
       "      <td>14</td>\n",
       "      <td>Never-married</td>\n",
       "      <td>Prof-specialty</td>\n",
       "      <td>Not-in-family</td>\n",
       "      <td>White</td>\n",
       "      <td>Male</td>\n",
       "      <td>0</td>\n",
       "      <td>0</td>\n",
       "      <td>50</td>\n",
       "      <td>United-States</td>\n",
       "      <td>&lt;=50K</td>\n",
       "    </tr>\n",
       "    <tr>\n",
       "      <th>26313</th>\n",
       "      <td>28</td>\n",
       "      <td>Private</td>\n",
       "      <td>274679</td>\n",
       "      <td>Masters</td>\n",
       "      <td>14</td>\n",
       "      <td>Never-married</td>\n",
       "      <td>Prof-specialty</td>\n",
       "      <td>Not-in-family</td>\n",
       "      <td>White</td>\n",
       "      <td>Male</td>\n",
       "      <td>0</td>\n",
       "      <td>0</td>\n",
       "      <td>50</td>\n",
       "      <td>United-States</td>\n",
       "      <td>&lt;=50K</td>\n",
       "    </tr>\n",
       "    <tr>\n",
       "      <th>16975</th>\n",
       "      <td>30</td>\n",
       "      <td>Private</td>\n",
       "      <td>144593</td>\n",
       "      <td>HS-grad</td>\n",
       "      <td>9</td>\n",
       "      <td>Never-married</td>\n",
       "      <td>Other-service</td>\n",
       "      <td>Not-in-family</td>\n",
       "      <td>Black</td>\n",
       "      <td>Male</td>\n",
       "      <td>0</td>\n",
       "      <td>0</td>\n",
       "      <td>40</td>\n",
       "      <td>?</td>\n",
       "      <td>&lt;=50K</td>\n",
       "    </tr>\n",
       "    <tr>\n",
       "      <th>18555</th>\n",
       "      <td>30</td>\n",
       "      <td>Private</td>\n",
       "      <td>144593</td>\n",
       "      <td>HS-grad</td>\n",
       "      <td>9</td>\n",
       "      <td>Never-married</td>\n",
       "      <td>Other-service</td>\n",
       "      <td>Not-in-family</td>\n",
       "      <td>Black</td>\n",
       "      <td>Male</td>\n",
       "      <td>0</td>\n",
       "      <td>0</td>\n",
       "      <td>40</td>\n",
       "      <td>?</td>\n",
       "      <td>&lt;=50K</td>\n",
       "    </tr>\n",
       "    <tr>\n",
       "      <th>16846</th>\n",
       "      <td>35</td>\n",
       "      <td>Private</td>\n",
       "      <td>379959</td>\n",
       "      <td>HS-grad</td>\n",
       "      <td>9</td>\n",
       "      <td>Divorced</td>\n",
       "      <td>Other-service</td>\n",
       "      <td>Not-in-family</td>\n",
       "      <td>White</td>\n",
       "      <td>Female</td>\n",
       "      <td>0</td>\n",
       "      <td>0</td>\n",
       "      <td>40</td>\n",
       "      <td>United-States</td>\n",
       "      <td>&lt;=50K</td>\n",
       "    </tr>\n",
       "    <tr>\n",
       "      <th>32404</th>\n",
       "      <td>35</td>\n",
       "      <td>Private</td>\n",
       "      <td>379959</td>\n",
       "      <td>HS-grad</td>\n",
       "      <td>9</td>\n",
       "      <td>Divorced</td>\n",
       "      <td>Other-service</td>\n",
       "      <td>Not-in-family</td>\n",
       "      <td>White</td>\n",
       "      <td>Female</td>\n",
       "      <td>0</td>\n",
       "      <td>0</td>\n",
       "      <td>40</td>\n",
       "      <td>United-States</td>\n",
       "      <td>&lt;=50K</td>\n",
       "    </tr>\n",
       "    <tr>\n",
       "      <th>4940</th>\n",
       "      <td>38</td>\n",
       "      <td>Private</td>\n",
       "      <td>207202</td>\n",
       "      <td>HS-grad</td>\n",
       "      <td>9</td>\n",
       "      <td>Married-civ-spouse</td>\n",
       "      <td>Machine-op-inspct</td>\n",
       "      <td>Husband</td>\n",
       "      <td>White</td>\n",
       "      <td>Male</td>\n",
       "      <td>0</td>\n",
       "      <td>0</td>\n",
       "      <td>48</td>\n",
       "      <td>United-States</td>\n",
       "      <td>&gt;50K</td>\n",
       "    </tr>\n",
       "    <tr>\n",
       "      <th>29157</th>\n",
       "      <td>38</td>\n",
       "      <td>Private</td>\n",
       "      <td>207202</td>\n",
       "      <td>HS-grad</td>\n",
       "      <td>9</td>\n",
       "      <td>Married-civ-spouse</td>\n",
       "      <td>Machine-op-inspct</td>\n",
       "      <td>Husband</td>\n",
       "      <td>White</td>\n",
       "      <td>Male</td>\n",
       "      <td>0</td>\n",
       "      <td>0</td>\n",
       "      <td>48</td>\n",
       "      <td>United-States</td>\n",
       "      <td>&gt;50K</td>\n",
       "    </tr>\n",
       "    <tr>\n",
       "      <th>25624</th>\n",
       "      <td>39</td>\n",
       "      <td>Private</td>\n",
       "      <td>30916</td>\n",
       "      <td>HS-grad</td>\n",
       "      <td>9</td>\n",
       "      <td>Married-civ-spouse</td>\n",
       "      <td>Craft-repair</td>\n",
       "      <td>Husband</td>\n",
       "      <td>White</td>\n",
       "      <td>Male</td>\n",
       "      <td>0</td>\n",
       "      <td>0</td>\n",
       "      <td>40</td>\n",
       "      <td>United-States</td>\n",
       "      <td>&lt;=50K</td>\n",
       "    </tr>\n",
       "    <tr>\n",
       "      <th>28846</th>\n",
       "      <td>39</td>\n",
       "      <td>Private</td>\n",
       "      <td>30916</td>\n",
       "      <td>HS-grad</td>\n",
       "      <td>9</td>\n",
       "      <td>Married-civ-spouse</td>\n",
       "      <td>Craft-repair</td>\n",
       "      <td>Husband</td>\n",
       "      <td>White</td>\n",
       "      <td>Male</td>\n",
       "      <td>0</td>\n",
       "      <td>0</td>\n",
       "      <td>40</td>\n",
       "      <td>United-States</td>\n",
       "      <td>&lt;=50K</td>\n",
       "    </tr>\n",
       "    <tr>\n",
       "      <th>10367</th>\n",
       "      <td>42</td>\n",
       "      <td>Private</td>\n",
       "      <td>204235</td>\n",
       "      <td>Some-college</td>\n",
       "      <td>10</td>\n",
       "      <td>Married-civ-spouse</td>\n",
       "      <td>Prof-specialty</td>\n",
       "      <td>Husband</td>\n",
       "      <td>White</td>\n",
       "      <td>Male</td>\n",
       "      <td>0</td>\n",
       "      <td>0</td>\n",
       "      <td>40</td>\n",
       "      <td>United-States</td>\n",
       "      <td>&gt;50K</td>\n",
       "    </tr>\n",
       "    <tr>\n",
       "      <th>28522</th>\n",
       "      <td>42</td>\n",
       "      <td>Private</td>\n",
       "      <td>204235</td>\n",
       "      <td>Some-college</td>\n",
       "      <td>10</td>\n",
       "      <td>Married-civ-spouse</td>\n",
       "      <td>Prof-specialty</td>\n",
       "      <td>Husband</td>\n",
       "      <td>White</td>\n",
       "      <td>Male</td>\n",
       "      <td>0</td>\n",
       "      <td>0</td>\n",
       "      <td>40</td>\n",
       "      <td>United-States</td>\n",
       "      <td>&gt;50K</td>\n",
       "    </tr>\n",
       "    <tr>\n",
       "      <th>17916</th>\n",
       "      <td>44</td>\n",
       "      <td>Private</td>\n",
       "      <td>367749</td>\n",
       "      <td>Bachelors</td>\n",
       "      <td>13</td>\n",
       "      <td>Never-married</td>\n",
       "      <td>Prof-specialty</td>\n",
       "      <td>Not-in-family</td>\n",
       "      <td>White</td>\n",
       "      <td>Female</td>\n",
       "      <td>0</td>\n",
       "      <td>0</td>\n",
       "      <td>45</td>\n",
       "      <td>Mexico</td>\n",
       "      <td>&lt;=50K</td>\n",
       "    </tr>\n",
       "    <tr>\n",
       "      <th>22367</th>\n",
       "      <td>44</td>\n",
       "      <td>Private</td>\n",
       "      <td>367749</td>\n",
       "      <td>Bachelors</td>\n",
       "      <td>13</td>\n",
       "      <td>Never-married</td>\n",
       "      <td>Prof-specialty</td>\n",
       "      <td>Not-in-family</td>\n",
       "      <td>White</td>\n",
       "      <td>Female</td>\n",
       "      <td>0</td>\n",
       "      <td>0</td>\n",
       "      <td>45</td>\n",
       "      <td>Mexico</td>\n",
       "      <td>&lt;=50K</td>\n",
       "    </tr>\n",
       "    <tr>\n",
       "      <th>11965</th>\n",
       "      <td>46</td>\n",
       "      <td>Private</td>\n",
       "      <td>133616</td>\n",
       "      <td>Some-college</td>\n",
       "      <td>10</td>\n",
       "      <td>Divorced</td>\n",
       "      <td>Adm-clerical</td>\n",
       "      <td>Unmarried</td>\n",
       "      <td>White</td>\n",
       "      <td>Female</td>\n",
       "      <td>0</td>\n",
       "      <td>0</td>\n",
       "      <td>40</td>\n",
       "      <td>United-States</td>\n",
       "      <td>&lt;=50K</td>\n",
       "    </tr>\n",
       "    <tr>\n",
       "      <th>30845</th>\n",
       "      <td>46</td>\n",
       "      <td>Private</td>\n",
       "      <td>133616</td>\n",
       "      <td>Some-college</td>\n",
       "      <td>10</td>\n",
       "      <td>Divorced</td>\n",
       "      <td>Adm-clerical</td>\n",
       "      <td>Unmarried</td>\n",
       "      <td>White</td>\n",
       "      <td>Female</td>\n",
       "      <td>0</td>\n",
       "      <td>0</td>\n",
       "      <td>40</td>\n",
       "      <td>United-States</td>\n",
       "      <td>&lt;=50K</td>\n",
       "    </tr>\n",
       "    <tr>\n",
       "      <th>16297</th>\n",
       "      <td>46</td>\n",
       "      <td>Private</td>\n",
       "      <td>173243</td>\n",
       "      <td>HS-grad</td>\n",
       "      <td>9</td>\n",
       "      <td>Married-civ-spouse</td>\n",
       "      <td>Craft-repair</td>\n",
       "      <td>Husband</td>\n",
       "      <td>White</td>\n",
       "      <td>Male</td>\n",
       "      <td>0</td>\n",
       "      <td>0</td>\n",
       "      <td>40</td>\n",
       "      <td>United-States</td>\n",
       "      <td>&lt;=50K</td>\n",
       "    </tr>\n",
       "    <tr>\n",
       "      <th>17040</th>\n",
       "      <td>46</td>\n",
       "      <td>Private</td>\n",
       "      <td>173243</td>\n",
       "      <td>HS-grad</td>\n",
       "      <td>9</td>\n",
       "      <td>Married-civ-spouse</td>\n",
       "      <td>Craft-repair</td>\n",
       "      <td>Husband</td>\n",
       "      <td>White</td>\n",
       "      <td>Male</td>\n",
       "      <td>0</td>\n",
       "      <td>0</td>\n",
       "      <td>40</td>\n",
       "      <td>United-States</td>\n",
       "      <td>&lt;=50K</td>\n",
       "    </tr>\n",
       "    <tr>\n",
       "      <th>7920</th>\n",
       "      <td>49</td>\n",
       "      <td>Private</td>\n",
       "      <td>31267</td>\n",
       "      <td>7th-8th</td>\n",
       "      <td>4</td>\n",
       "      <td>Married-civ-spouse</td>\n",
       "      <td>Craft-repair</td>\n",
       "      <td>Husband</td>\n",
       "      <td>White</td>\n",
       "      <td>Male</td>\n",
       "      <td>0</td>\n",
       "      <td>0</td>\n",
       "      <td>40</td>\n",
       "      <td>United-States</td>\n",
       "      <td>&lt;=50K</td>\n",
       "    </tr>\n",
       "    <tr>\n",
       "      <th>21875</th>\n",
       "      <td>49</td>\n",
       "      <td>Private</td>\n",
       "      <td>31267</td>\n",
       "      <td>7th-8th</td>\n",
       "      <td>4</td>\n",
       "      <td>Married-civ-spouse</td>\n",
       "      <td>Craft-repair</td>\n",
       "      <td>Husband</td>\n",
       "      <td>White</td>\n",
       "      <td>Male</td>\n",
       "      <td>0</td>\n",
       "      <td>0</td>\n",
       "      <td>40</td>\n",
       "      <td>United-States</td>\n",
       "      <td>&lt;=50K</td>\n",
       "    </tr>\n",
       "    <tr>\n",
       "      <th>7053</th>\n",
       "      <td>49</td>\n",
       "      <td>Self-emp-not-inc</td>\n",
       "      <td>43479</td>\n",
       "      <td>Some-college</td>\n",
       "      <td>10</td>\n",
       "      <td>Married-civ-spouse</td>\n",
       "      <td>Craft-repair</td>\n",
       "      <td>Husband</td>\n",
       "      <td>White</td>\n",
       "      <td>Male</td>\n",
       "      <td>0</td>\n",
       "      <td>0</td>\n",
       "      <td>40</td>\n",
       "      <td>United-States</td>\n",
       "      <td>&lt;=50K</td>\n",
       "    </tr>\n",
       "    <tr>\n",
       "      <th>22494</th>\n",
       "      <td>49</td>\n",
       "      <td>Self-emp-not-inc</td>\n",
       "      <td>43479</td>\n",
       "      <td>Some-college</td>\n",
       "      <td>10</td>\n",
       "      <td>Married-civ-spouse</td>\n",
       "      <td>Craft-repair</td>\n",
       "      <td>Husband</td>\n",
       "      <td>White</td>\n",
       "      <td>Male</td>\n",
       "      <td>0</td>\n",
       "      <td>0</td>\n",
       "      <td>40</td>\n",
       "      <td>United-States</td>\n",
       "      <td>&lt;=50K</td>\n",
       "    </tr>\n",
       "    <tr>\n",
       "      <th>2303</th>\n",
       "      <td>90</td>\n",
       "      <td>Private</td>\n",
       "      <td>52386</td>\n",
       "      <td>Some-college</td>\n",
       "      <td>10</td>\n",
       "      <td>Never-married</td>\n",
       "      <td>Other-service</td>\n",
       "      <td>Not-in-family</td>\n",
       "      <td>Asian-Pac-Islander</td>\n",
       "      <td>Male</td>\n",
       "      <td>0</td>\n",
       "      <td>0</td>\n",
       "      <td>35</td>\n",
       "      <td>United-States</td>\n",
       "      <td>&lt;=50K</td>\n",
       "    </tr>\n",
       "    <tr>\n",
       "      <th>5104</th>\n",
       "      <td>90</td>\n",
       "      <td>Private</td>\n",
       "      <td>52386</td>\n",
       "      <td>Some-college</td>\n",
       "      <td>10</td>\n",
       "      <td>Never-married</td>\n",
       "      <td>Other-service</td>\n",
       "      <td>Not-in-family</td>\n",
       "      <td>Asian-Pac-Islander</td>\n",
       "      <td>Male</td>\n",
       "      <td>0</td>\n",
       "      <td>0</td>\n",
       "      <td>35</td>\n",
       "      <td>United-States</td>\n",
       "      <td>&lt;=50K</td>\n",
       "    </tr>\n",
       "  </tbody>\n",
       "</table>\n",
       "</div>"
      ],
      "text/plain": [
       "       age          workclass  fnlwgt      education  education-num  \\\n",
       "17673   19            Private   97261        HS-grad              9   \n",
       "18698   19            Private   97261        HS-grad              9   \n",
       "6990    19            Private  138153   Some-college             10   \n",
       "21318   19            Private  138153   Some-college             10   \n",
       "15189   19            Private  146679   Some-college             10   \n",
       "21490   19            Private  146679   Some-college             10   \n",
       "3917    19            Private  251579   Some-college             10   \n",
       "31993   19            Private  251579   Some-college             10   \n",
       "5805    20            Private  107658   Some-college             10   \n",
       "11631   20            Private  107658   Some-college             10   \n",
       "8080    21            Private  243368      Preschool              1   \n",
       "15059   21            Private  243368      Preschool              1   \n",
       "4767    21            Private  250051   Some-college             10   \n",
       "9171    21            Private  250051   Some-college             10   \n",
       "21103   23            Private  240137        5th-6th              3   \n",
       "25872   23            Private  240137        5th-6th              3   \n",
       "5842    25            Private  195994        1st-4th              2   \n",
       "13084   25            Private  195994        1st-4th              2   \n",
       "22300   25            Private  195994        1st-4th              2   \n",
       "4325    25            Private  308144      Bachelors             13   \n",
       "4881    25            Private  308144      Bachelors             13   \n",
       "5579    27            Private  255582        HS-grad              9   \n",
       "28230   27            Private  255582        HS-grad              9   \n",
       "8679    28            Private  274679        Masters             14   \n",
       "26313   28            Private  274679        Masters             14   \n",
       "16975   30            Private  144593        HS-grad              9   \n",
       "18555   30            Private  144593        HS-grad              9   \n",
       "16846   35            Private  379959        HS-grad              9   \n",
       "32404   35            Private  379959        HS-grad              9   \n",
       "4940    38            Private  207202        HS-grad              9   \n",
       "29157   38            Private  207202        HS-grad              9   \n",
       "25624   39            Private   30916        HS-grad              9   \n",
       "28846   39            Private   30916        HS-grad              9   \n",
       "10367   42            Private  204235   Some-college             10   \n",
       "28522   42            Private  204235   Some-college             10   \n",
       "17916   44            Private  367749      Bachelors             13   \n",
       "22367   44            Private  367749      Bachelors             13   \n",
       "11965   46            Private  133616   Some-college             10   \n",
       "30845   46            Private  133616   Some-college             10   \n",
       "16297   46            Private  173243        HS-grad              9   \n",
       "17040   46            Private  173243        HS-grad              9   \n",
       "7920    49            Private   31267        7th-8th              4   \n",
       "21875   49            Private   31267        7th-8th              4   \n",
       "7053    49   Self-emp-not-inc   43479   Some-college             10   \n",
       "22494   49   Self-emp-not-inc   43479   Some-college             10   \n",
       "2303    90            Private   52386   Some-college             10   \n",
       "5104    90            Private   52386   Some-college             10   \n",
       "\n",
       "            marital-status          occupation    relationship  \\\n",
       "17673        Never-married     Farming-fishing   Not-in-family   \n",
       "18698        Never-married     Farming-fishing   Not-in-family   \n",
       "6990         Never-married        Adm-clerical       Own-child   \n",
       "21318        Never-married        Adm-clerical       Own-child   \n",
       "15189        Never-married     Exec-managerial       Own-child   \n",
       "21490        Never-married     Exec-managerial       Own-child   \n",
       "3917         Never-married       Other-service       Own-child   \n",
       "31993        Never-married       Other-service       Own-child   \n",
       "5805         Never-married        Tech-support   Not-in-family   \n",
       "11631        Never-married        Tech-support   Not-in-family   \n",
       "8080         Never-married     Farming-fishing   Not-in-family   \n",
       "15059        Never-married     Farming-fishing   Not-in-family   \n",
       "4767         Never-married      Prof-specialty       Own-child   \n",
       "9171         Never-married      Prof-specialty       Own-child   \n",
       "21103        Never-married   Handlers-cleaners   Not-in-family   \n",
       "25872        Never-married   Handlers-cleaners   Not-in-family   \n",
       "5842         Never-married     Priv-house-serv   Not-in-family   \n",
       "13084        Never-married     Priv-house-serv   Not-in-family   \n",
       "22300        Never-married     Priv-house-serv   Not-in-family   \n",
       "4325         Never-married        Craft-repair   Not-in-family   \n",
       "4881         Never-married        Craft-repair   Not-in-family   \n",
       "5579         Never-married   Machine-op-inspct   Not-in-family   \n",
       "28230        Never-married   Machine-op-inspct   Not-in-family   \n",
       "8679         Never-married      Prof-specialty   Not-in-family   \n",
       "26313        Never-married      Prof-specialty   Not-in-family   \n",
       "16975        Never-married       Other-service   Not-in-family   \n",
       "18555        Never-married       Other-service   Not-in-family   \n",
       "16846             Divorced       Other-service   Not-in-family   \n",
       "32404             Divorced       Other-service   Not-in-family   \n",
       "4940    Married-civ-spouse   Machine-op-inspct         Husband   \n",
       "29157   Married-civ-spouse   Machine-op-inspct         Husband   \n",
       "25624   Married-civ-spouse        Craft-repair         Husband   \n",
       "28846   Married-civ-spouse        Craft-repair         Husband   \n",
       "10367   Married-civ-spouse      Prof-specialty         Husband   \n",
       "28522   Married-civ-spouse      Prof-specialty         Husband   \n",
       "17916        Never-married      Prof-specialty   Not-in-family   \n",
       "22367        Never-married      Prof-specialty   Not-in-family   \n",
       "11965             Divorced        Adm-clerical       Unmarried   \n",
       "30845             Divorced        Adm-clerical       Unmarried   \n",
       "16297   Married-civ-spouse        Craft-repair         Husband   \n",
       "17040   Married-civ-spouse        Craft-repair         Husband   \n",
       "7920    Married-civ-spouse        Craft-repair         Husband   \n",
       "21875   Married-civ-spouse        Craft-repair         Husband   \n",
       "7053    Married-civ-spouse        Craft-repair         Husband   \n",
       "22494   Married-civ-spouse        Craft-repair         Husband   \n",
       "2303         Never-married       Other-service   Not-in-family   \n",
       "5104         Never-married       Other-service   Not-in-family   \n",
       "\n",
       "                      race      sex  capital-gain  capital-loss  \\\n",
       "17673                White     Male             0             0   \n",
       "18698                White     Male             0             0   \n",
       "6990                 White   Female             0             0   \n",
       "21318                White   Female             0             0   \n",
       "15189                Black     Male             0             0   \n",
       "21490                Black     Male             0             0   \n",
       "3917                 White     Male             0             0   \n",
       "31993                White     Male             0             0   \n",
       "5805                 White   Female             0             0   \n",
       "11631                White   Female             0             0   \n",
       "8080                 White     Male             0             0   \n",
       "15059                White     Male             0             0   \n",
       "4767                 White   Female             0             0   \n",
       "9171                 White   Female             0             0   \n",
       "21103                White     Male             0             0   \n",
       "25872                White     Male             0             0   \n",
       "5842                 White   Female             0             0   \n",
       "13084                White   Female             0             0   \n",
       "22300                White   Female             0             0   \n",
       "4325                 White     Male             0             0   \n",
       "4881                 White     Male             0             0   \n",
       "5579                 White   Female             0             0   \n",
       "28230                White   Female             0             0   \n",
       "8679                 White     Male             0             0   \n",
       "26313                White     Male             0             0   \n",
       "16975                Black     Male             0             0   \n",
       "18555                Black     Male             0             0   \n",
       "16846                White   Female             0             0   \n",
       "32404                White   Female             0             0   \n",
       "4940                 White     Male             0             0   \n",
       "29157                White     Male             0             0   \n",
       "25624                White     Male             0             0   \n",
       "28846                White     Male             0             0   \n",
       "10367                White     Male             0             0   \n",
       "28522                White     Male             0             0   \n",
       "17916                White   Female             0             0   \n",
       "22367                White   Female             0             0   \n",
       "11965                White   Female             0             0   \n",
       "30845                White   Female             0             0   \n",
       "16297                White     Male             0             0   \n",
       "17040                White     Male             0             0   \n",
       "7920                 White     Male             0             0   \n",
       "21875                White     Male             0             0   \n",
       "7053                 White     Male             0             0   \n",
       "22494                White     Male             0             0   \n",
       "2303    Asian-Pac-Islander     Male             0             0   \n",
       "5104    Asian-Pac-Islander     Male             0             0   \n",
       "\n",
       "       hours-per-week  native-country  income  \n",
       "17673              40   United-States   <=50K  \n",
       "18698              40   United-States   <=50K  \n",
       "6990               10   United-States   <=50K  \n",
       "21318              10   United-States   <=50K  \n",
       "15189              30   United-States   <=50K  \n",
       "21490              30   United-States   <=50K  \n",
       "3917               14   United-States   <=50K  \n",
       "31993              14   United-States   <=50K  \n",
       "5805               10   United-States   <=50K  \n",
       "11631              10   United-States   <=50K  \n",
       "8080               50          Mexico   <=50K  \n",
       "15059              50          Mexico   <=50K  \n",
       "4767               10   United-States   <=50K  \n",
       "9171               10   United-States   <=50K  \n",
       "21103              55          Mexico   <=50K  \n",
       "25872              55          Mexico   <=50K  \n",
       "5842               40       Guatemala   <=50K  \n",
       "13084              40       Guatemala   <=50K  \n",
       "22300              40       Guatemala   <=50K  \n",
       "4325               40          Mexico   <=50K  \n",
       "4881               40          Mexico   <=50K  \n",
       "5579               40   United-States   <=50K  \n",
       "28230              40   United-States   <=50K  \n",
       "8679               50   United-States   <=50K  \n",
       "26313              50   United-States   <=50K  \n",
       "16975              40               ?   <=50K  \n",
       "18555              40               ?   <=50K  \n",
       "16846              40   United-States   <=50K  \n",
       "32404              40   United-States   <=50K  \n",
       "4940               48   United-States    >50K  \n",
       "29157              48   United-States    >50K  \n",
       "25624              40   United-States   <=50K  \n",
       "28846              40   United-States   <=50K  \n",
       "10367              40   United-States    >50K  \n",
       "28522              40   United-States    >50K  \n",
       "17916              45          Mexico   <=50K  \n",
       "22367              45          Mexico   <=50K  \n",
       "11965              40   United-States   <=50K  \n",
       "30845              40   United-States   <=50K  \n",
       "16297              40   United-States   <=50K  \n",
       "17040              40   United-States   <=50K  \n",
       "7920               40   United-States   <=50K  \n",
       "21875              40   United-States   <=50K  \n",
       "7053               40   United-States   <=50K  \n",
       "22494              40   United-States   <=50K  \n",
       "2303               35   United-States   <=50K  \n",
       "5104               35   United-States   <=50K  "
      ]
     },
     "execution_count": 70,
     "metadata": {},
     "output_type": "execute_result"
    }
   ],
   "source": [
    "df[df.duplicated(keep=False)].sort_values(['age', 'workclass', 'fnlwgt'])"
   ]
  },
  {
   "cell_type": "code",
   "execution_count": null,
   "metadata": {},
   "outputs": [],
   "source": [
    "(\\   .-.   .-.   .-.   .-.   .-.   .-.   .-.   .-.   /_\")\n",
    " \\\\_//^\\\\_//^\\\\_//^\\\\_//^\\\\_//^\\\\_//^\\\\_//^\\\\_//^\\\\_//\n",
    "  `\"`   `\"`   `\"`   `\"`   `\"`   `\"`   `\"`   `\"`   `\"`"
   ]
  },
  {
   "cell_type": "markdown",
   "metadata": {},
   "source": [
    "### Handling missing data"
   ]
  },
  {
   "cell_type": "markdown",
   "metadata": {},
   "source": [
    "Working with real data, it's almost impossible to have a dataset with no missing data. Missing data exist due to different reasons:\n",
    "\n",
    "- Error in recording the data (so the data actually exist but is not recorded)\n",
    "- The person/team who created the dataset wasn't/weren't able to get those specific values.\n",
    "\n",
    "Ok, let's try to identify missing data in our dataframe. Both DataFrame and Series types have **.isnull( )** and **.notnull( )** methods. First we'll try to check one column for missing data:"
   ]
  },
  {
   "cell_type": "code",
   "execution_count": 15,
   "metadata": {
    "scrolled": true
   },
   "outputs": [
    {
     "data": {
      "text/plain": [
       "0        False\n",
       "1        False\n",
       "2        False\n",
       "3        False\n",
       "4        False\n",
       "5        False\n",
       "6        False\n",
       "7        False\n",
       "8        False\n",
       "9        False\n",
       "10       False\n",
       "11       False\n",
       "12       False\n",
       "13       False\n",
       "14       False\n",
       "15       False\n",
       "16       False\n",
       "17       False\n",
       "18       False\n",
       "19       False\n",
       "20       False\n",
       "21       False\n",
       "22       False\n",
       "23       False\n",
       "24       False\n",
       "25       False\n",
       "26       False\n",
       "27       False\n",
       "28       False\n",
       "29       False\n",
       "         ...  \n",
       "32531    False\n",
       "32532    False\n",
       "32533    False\n",
       "32534    False\n",
       "32535    False\n",
       "32536    False\n",
       "32537    False\n",
       "32538    False\n",
       "32539    False\n",
       "32540    False\n",
       "32541    False\n",
       "32542    False\n",
       "32543    False\n",
       "32544    False\n",
       "32545    False\n",
       "32546    False\n",
       "32547    False\n",
       "32548    False\n",
       "32549    False\n",
       "32550    False\n",
       "32551    False\n",
       "32552    False\n",
       "32553    False\n",
       "32554    False\n",
       "32555    False\n",
       "32556    False\n",
       "32557    False\n",
       "32558    False\n",
       "32559    False\n",
       "32560    False\n",
       "Name: workclass, Length: 32561, dtype: bool"
      ]
     },
     "execution_count": 15,
     "metadata": {},
     "output_type": "execute_result"
    }
   ],
   "source": [
    "df['workclass'].isnull()"
   ]
  },
  {
   "cell_type": "markdown",
   "metadata": {},
   "source": [
    "Ok, maybe it's not what we were expecting to see! As far as we can see, the answer to ***isnull*** was **False**. But it's not a good way since a part from being too long to read, the result is truncated so we can't actually see all the values. We can apply one of two following methods to summarize the result:\n",
    "\n",
    "- summing the values\n",
    "- use built-in functions *any* and *all*"
   ]
  },
  {
   "cell_type": "code",
   "execution_count": 17,
   "metadata": {},
   "outputs": [
    {
     "data": {
      "text/plain": [
       "0"
      ]
     },
     "execution_count": 17,
     "metadata": {},
     "output_type": "execute_result"
    }
   ],
   "source": [
    "df['workclass'].isnull().sum()"
   ]
  },
  {
   "cell_type": "markdown",
   "metadata": {},
   "source": [
    " "
   ]
  },
  {
   "cell_type": "markdown",
   "metadata": {},
   "source": [
    "<img src=\"Images/owl.svg\"   width=\"40\" align=\"left\">    "
   ]
  },
  {
   "cell_type": "markdown",
   "metadata": {},
   "source": [
    "***What happened in the cell above?***\n",
    "\n",
    "As you may remember, learning about Boolean data types we saw that Python considers True value as 1 and False values as 0. The output of cell above shows that the result of summation of all values is 0, it means not even one value is *True*."
   ]
  },
  {
   "cell_type": "code",
   "execution_count": 18,
   "metadata": {},
   "outputs": [
    {
     "data": {
      "text/plain": [
       "False"
      ]
     },
     "execution_count": 18,
     "metadata": {},
     "output_type": "execute_result"
    }
   ],
   "source": [
    "df['workclass'].isnull().any()"
   ]
  },
  {
   "cell_type": "markdown",
   "metadata": {},
   "source": [
    " "
   ]
  },
  {
   "cell_type": "markdown",
   "metadata": {},
   "source": [
    "<img src=\"Images/owl.svg\"   width=\"40\" align=\"left\">    "
   ]
  },
  {
   "cell_type": "markdown",
   "metadata": {},
   "source": [
    "***What happened in the cell above?***\n",
    "\n",
    "**any( )** is a built-in function which applied on a sequence returns *True* if there is *at least* ONE *True* value. The output of cell above shows that no *True* was found."
   ]
  },
  {
   "cell_type": "markdown",
   "metadata": {},
   "source": [
    " "
   ]
  },
  {
   "cell_type": "markdown",
   "metadata": {},
   "source": [
    "<img src=\"Images/baby.svg\"   width=\"30\" align=\"left\">               "
   ]
  },
  {
   "cell_type": "markdown",
   "metadata": {},
   "source": [
    "**YOUR TURN:**\n",
    "    \n",
    "Try to use **notnull( )** and **all( )** to do the same control we did above:"
   ]
  },
  {
   "cell_type": "code",
   "execution_count": null,
   "metadata": {},
   "outputs": [],
   "source": [
    "(\\   .-.   .-.   .-.   .-.   .-.   .-.   .-.   .-.   /_\")\n",
    " \\\\_//^\\\\_//^\\\\_//^\\\\_//^\\\\_//^\\\\_//^\\\\_//^\\\\_//^\\\\_//\n",
    "  `\"`   `\"`   `\"`   `\"`   `\"`   `\"`   `\"`   `\"`   `\"`"
   ]
  },
  {
   "cell_type": "markdown",
   "metadata": {},
   "source": [
    "Ok it seems **workclass** column doesn't have any missing value. Now let's check the entire dataframe and found out which columns have *null* values. As we said before, like **Series**, **DataFrames**s also have **isnull( )** and **notnull( )**."
   ]
  },
  {
   "cell_type": "code",
   "execution_count": 20,
   "metadata": {},
   "outputs": [
    {
     "data": {
      "text/plain": [
       "age               0\n",
       "workclass         0\n",
       "fnlwgt            0\n",
       "education         0\n",
       "education-num     0\n",
       "marital-status    0\n",
       "occupation        0\n",
       "relationship      0\n",
       "race              0\n",
       "sex               0\n",
       "capital-gain      0\n",
       "capital-loss      0\n",
       "hours-per-week    0\n",
       "native-country    0\n",
       "income            0\n",
       "dtype: int64"
      ]
     },
     "execution_count": 20,
     "metadata": {},
     "output_type": "execute_result"
    }
   ],
   "source": [
    "df.isnull().sum() # try to remove sum() and see the result"
   ]
  },
  {
   "cell_type": "markdown",
   "metadata": {},
   "source": [
    "Wow! it seems we don't have a single missing value in the whole dataframe! The problem is that consulting with the description file comes with the dataset, we'll find this:\n",
    "    \n",
    "**'3. Convert Unknown to \"?\"'**\n",
    "\n",
    "*(Note: you almost never find such a file in the real world!)*\n",
    "\n",
    "So, it's means we're not that lucky after all! we can confirm this by applying a **.value_counts( )** on **workclass** column:"
   ]
  },
  {
   "cell_type": "code",
   "execution_count": 21,
   "metadata": {},
   "outputs": [
    {
     "data": {
      "text/plain": [
       " Private             22696\n",
       " Self-emp-not-inc     2541\n",
       " Local-gov            2093\n",
       " ?                    1836\n",
       " State-gov            1298\n",
       " Self-emp-inc         1116\n",
       " Federal-gov           960\n",
       " Without-pay            14\n",
       " Never-worked            7\n",
       "Name: workclass, dtype: int64"
      ]
     },
     "execution_count": 21,
     "metadata": {},
     "output_type": "execute_result"
    }
   ],
   "source": [
    "df['workclass'].value_counts()"
   ]
  },
  {
   "cell_type": "markdown",
   "metadata": {},
   "source": [
    "Fantastic! we have 1836 missing values just in this column alone!\n",
    "\n",
    "While identifying missing data is almost straight forward, making decisions about them is not quite easy!\n",
    "There are different strategies to deal with missing data but there is no CORRECT answer here:\n",
    "\n",
    "- ignoring them\n",
    "- removing them\n",
    "- replace them with another value\n",
    "\n",
    "Except the first method, choosing the other two methods bring us to other choices like what exactly we should remove? the whole row? when should we do it, when at least one value is missing or more ? or what should be used to fill the missing data, average of the other values? the last present value?\n",
    "\n",
    "As you can see these choices are by no means easy to make and most of the time, any decision will dramatically affect your results. This is were a good knowledge of domain and statistics is needed.\n",
    "\n",
    "Ok, let's see how can we apply these methods to our dataframe, starting from removal of missing data:"
   ]
  },
  {
   "cell_type": "code",
   "execution_count": 27,
   "metadata": {},
   "outputs": [
    {
     "data": {
      "text/plain": [
       "0"
      ]
     },
     "execution_count": 27,
     "metadata": {},
     "output_type": "execute_result"
    }
   ],
   "source": [
    "len(df) - len(df.dropna())"
   ]
  },
  {
   "cell_type": "markdown",
   "metadata": {},
   "source": [
    " "
   ]
  },
  {
   "cell_type": "markdown",
   "metadata": {},
   "source": [
    "<img src=\"Images/baby.svg\"   width=\"30\" align=\"left\">               "
   ]
  },
  {
   "cell_type": "markdown",
   "metadata": {},
   "source": [
    "**YOUR TURN:**\n",
    "    \n",
    "Explain the code above and its result."
   ]
  },
  {
   "cell_type": "code",
   "execution_count": null,
   "metadata": {},
   "outputs": [],
   "source": [
    "(\\   .-.   .-.   .-.   .-.   .-.   .-.   .-.   .-.   /_\")\n",
    " \\\\_//^\\\\_//^\\\\_//^\\\\_//^\\\\_//^\\\\_//^\\\\_//^\\\\_//^\\\\_//\n",
    "  `\"`   `\"`   `\"`   `\"`   `\"`   `\"`   `\"`   `\"`   `\"`"
   ]
  },
  {
   "cell_type": "markdown",
   "metadata": {},
   "source": [
    "It seems we can't go forward with missing value methods before doing a certain data transformation. Can you guess what would be this transformation? Exactly! we should replace **?** values with null values. so we're going to need:\n",
    "    \n",
    "- A method to replace a value with another one in a dataset $\\rightarrow$ **.replace( )**\n",
    "- An object that represents the null value $\\rightarrow$ **numpy.nan**"
   ]
  },
  {
   "cell_type": "code",
   "execution_count": 29,
   "metadata": {},
   "outputs": [],
   "source": [
    "df_miss = df.replace(to_replace='?', value=np.nan)"
   ]
  },
  {
   "cell_type": "markdown",
   "metadata": {},
   "source": [
    "Let's check if it worked:"
   ]
  },
  {
   "cell_type": "code",
   "execution_count": 34,
   "metadata": {},
   "outputs": [
    {
     "data": {
      "text/plain": [
       "age               0\n",
       "workclass         0\n",
       "fnlwgt            0\n",
       "education         0\n",
       "education-num     0\n",
       "marital-status    0\n",
       "occupation        0\n",
       "relationship      0\n",
       "race              0\n",
       "sex               0\n",
       "capital-gain      0\n",
       "capital-loss      0\n",
       "hours-per-week    0\n",
       "native-country    0\n",
       "income            0\n",
       "dtype: int64"
      ]
     },
     "execution_count": 34,
     "metadata": {},
     "output_type": "execute_result"
    }
   ],
   "source": [
    "df_miss.isnull().sum()"
   ]
  },
  {
   "cell_type": "markdown",
   "metadata": {},
   "source": [
    "Nope! :( but why? It seems that we should have used wasn't \"\"?\"\"...\"\"? \"\" maybe?\n",
    "\n",
    "Let's check it out:"
   ]
  },
  {
   "cell_type": "code",
   "execution_count": 35,
   "metadata": {},
   "outputs": [
    {
     "name": "stdout",
     "output_type": "stream",
     "text": [
      "_State-gov\n",
      "_Self-emp-not-inc\n",
      "_Private\n",
      "_Federal-gov\n",
      "_Local-gov\n",
      "_?\n",
      "_Self-emp-inc\n",
      "_Without-pay\n",
      "_Never-worked\n"
     ]
    }
   ],
   "source": [
    "for item in df.workclass.unique():\n",
    "    print(item.replace(' ','_'))"
   ]
  },
  {
   "cell_type": "markdown",
   "metadata": {},
   "source": [
    "Aha! So there is a space before **?**    !"
   ]
  },
  {
   "cell_type": "code",
   "execution_count": 40,
   "metadata": {},
   "outputs": [],
   "source": [
    "df_miss = df.replace(to_replace=' ?', value=np.nan)"
   ]
  },
  {
   "cell_type": "code",
   "execution_count": 41,
   "metadata": {},
   "outputs": [
    {
     "data": {
      "text/plain": [
       "age                  0\n",
       "workclass         1836\n",
       "fnlwgt               0\n",
       "education            0\n",
       "education-num        0\n",
       "marital-status       0\n",
       "occupation        1843\n",
       "relationship         0\n",
       "race                 0\n",
       "sex                  0\n",
       "capital-gain         0\n",
       "capital-loss         0\n",
       "hours-per-week       0\n",
       "native-country     583\n",
       "income               0\n",
       "dtype: int64"
      ]
     },
     "execution_count": 41,
     "metadata": {},
     "output_type": "execute_result"
    }
   ],
   "source": [
    "df_miss.isnull().sum()"
   ]
  },
  {
   "cell_type": "markdown",
   "metadata": {},
   "source": [
    "Finally! Now that we have replaced ? with **Null** values, we can apply **.dropna( )**"
   ]
  },
  {
   "cell_type": "code",
   "execution_count": 44,
   "metadata": {},
   "outputs": [
    {
     "name": "stdout",
     "output_type": "stream",
     "text": [
      "30162\n"
     ]
    }
   ],
   "source": [
    "df_drop = df_miss.dropna()\n",
    "print(len(df_drop))"
   ]
  },
  {
   "cell_type": "markdown",
   "metadata": {},
   "source": [
    "We've lost 30162 rows of dataset."
   ]
  },
  {
   "cell_type": "code",
   "execution_count": 53,
   "metadata": {},
   "outputs": [
    {
     "name": "stdout",
     "output_type": "stream",
     "text": [
      "Which is about 7.37% of data.\n"
     ]
    }
   ],
   "source": [
    "print(f'Which is about {round((len(df) - len(df_drop)) / len(df), 4) * 100}% of data.')"
   ]
  },
  {
   "cell_type": "markdown",
   "metadata": {},
   "source": [
    " "
   ]
  },
  {
   "cell_type": "markdown",
   "metadata": {},
   "source": [
    "<img src=\"Images/wizard.svg\"   width=\"30\" align=\"left\">               "
   ]
  },
  {
   "cell_type": "markdown",
   "metadata": {},
   "source": [
    "**YOUR TURN:**\n",
    "    \n",
    "Try to understand how can you use **how**, **thresh** and  **subset** arguments of **dropna( )** method."
   ]
  },
  {
   "cell_type": "code",
   "execution_count": null,
   "metadata": {},
   "outputs": [],
   "source": [
    "(\\   .-.   .-.   .-.   .-.   .-.   .-.   .-.   .-.   /_\")\n",
    " \\\\_//^\\\\_//^\\\\_//^\\\\_//^\\\\_//^\\\\_//^\\\\_//^\\\\_//^\\\\_//\n",
    "  `\"`   `\"`   `\"`   `\"`   `\"`   `\"`   `\"`   `\"`   `\"`"
   ]
  },
  {
   "cell_type": "markdown",
   "metadata": {},
   "source": [
    "Using **.fillna( )** you can fill the the missing values with a desired value. In the next cell we fill them with a **_** character:"
   ]
  },
  {
   "cell_type": "code",
   "execution_count": 59,
   "metadata": {},
   "outputs": [],
   "source": [
    "df_dashed = df_miss.fillna('-')"
   ]
  },
  {
   "cell_type": "code",
   "execution_count": 60,
   "metadata": {},
   "outputs": [
    {
     "data": {
      "text/html": [
       "<div>\n",
       "<style scoped>\n",
       "    .dataframe tbody tr th:only-of-type {\n",
       "        vertical-align: middle;\n",
       "    }\n",
       "\n",
       "    .dataframe tbody tr th {\n",
       "        vertical-align: top;\n",
       "    }\n",
       "\n",
       "    .dataframe thead th {\n",
       "        text-align: right;\n",
       "    }\n",
       "</style>\n",
       "<table border=\"1\" class=\"dataframe\">\n",
       "  <thead>\n",
       "    <tr style=\"text-align: right;\">\n",
       "      <th></th>\n",
       "      <th>age</th>\n",
       "      <th>workclass</th>\n",
       "      <th>fnlwgt</th>\n",
       "      <th>education</th>\n",
       "      <th>education-num</th>\n",
       "      <th>marital-status</th>\n",
       "      <th>occupation</th>\n",
       "      <th>relationship</th>\n",
       "      <th>race</th>\n",
       "      <th>sex</th>\n",
       "      <th>capital-gain</th>\n",
       "      <th>capital-loss</th>\n",
       "      <th>hours-per-week</th>\n",
       "      <th>native-country</th>\n",
       "      <th>income</th>\n",
       "    </tr>\n",
       "  </thead>\n",
       "  <tbody>\n",
       "    <tr>\n",
       "      <th>6852</th>\n",
       "      <td>32</td>\n",
       "      <td>Private</td>\n",
       "      <td>604506</td>\n",
       "      <td>HS-grad</td>\n",
       "      <td>9</td>\n",
       "      <td>Married-civ-spouse</td>\n",
       "      <td>Transport-moving</td>\n",
       "      <td>Own-child</td>\n",
       "      <td>White</td>\n",
       "      <td>Male</td>\n",
       "      <td>0</td>\n",
       "      <td>0</td>\n",
       "      <td>72</td>\n",
       "      <td>Mexico</td>\n",
       "      <td>&lt;=50K</td>\n",
       "    </tr>\n",
       "    <tr>\n",
       "      <th>9124</th>\n",
       "      <td>33</td>\n",
       "      <td>Self-emp-not-inc</td>\n",
       "      <td>281030</td>\n",
       "      <td>HS-grad</td>\n",
       "      <td>9</td>\n",
       "      <td>Married-civ-spouse</td>\n",
       "      <td>Farming-fishing</td>\n",
       "      <td>Husband</td>\n",
       "      <td>White</td>\n",
       "      <td>Male</td>\n",
       "      <td>0</td>\n",
       "      <td>0</td>\n",
       "      <td>94</td>\n",
       "      <td>United-States</td>\n",
       "      <td>&lt;=50K</td>\n",
       "    </tr>\n",
       "    <tr>\n",
       "      <th>106</th>\n",
       "      <td>17</td>\n",
       "      <td>-</td>\n",
       "      <td>304873</td>\n",
       "      <td>10th</td>\n",
       "      <td>6</td>\n",
       "      <td>Never-married</td>\n",
       "      <td>-</td>\n",
       "      <td>Own-child</td>\n",
       "      <td>White</td>\n",
       "      <td>Female</td>\n",
       "      <td>34095</td>\n",
       "      <td>0</td>\n",
       "      <td>32</td>\n",
       "      <td>United-States</td>\n",
       "      <td>&lt;=50K</td>\n",
       "    </tr>\n",
       "    <tr>\n",
       "      <th>8439</th>\n",
       "      <td>37</td>\n",
       "      <td>Private</td>\n",
       "      <td>155064</td>\n",
       "      <td>Assoc-voc</td>\n",
       "      <td>11</td>\n",
       "      <td>Divorced</td>\n",
       "      <td>Prof-specialty</td>\n",
       "      <td>Unmarried</td>\n",
       "      <td>White</td>\n",
       "      <td>Female</td>\n",
       "      <td>0</td>\n",
       "      <td>0</td>\n",
       "      <td>40</td>\n",
       "      <td>United-States</td>\n",
       "      <td>&lt;=50K</td>\n",
       "    </tr>\n",
       "  </tbody>\n",
       "</table>\n",
       "</div>"
      ],
      "text/plain": [
       "      age          workclass  fnlwgt   education  education-num  \\\n",
       "6852   32            Private  604506     HS-grad              9   \n",
       "9124   33   Self-emp-not-inc  281030     HS-grad              9   \n",
       "106    17                  -  304873        10th              6   \n",
       "8439   37            Private  155064   Assoc-voc             11   \n",
       "\n",
       "           marital-status         occupation relationship    race      sex  \\\n",
       "6852   Married-civ-spouse   Transport-moving    Own-child   White     Male   \n",
       "9124   Married-civ-spouse    Farming-fishing      Husband   White     Male   \n",
       "106         Never-married                  -    Own-child   White   Female   \n",
       "8439             Divorced     Prof-specialty    Unmarried   White   Female   \n",
       "\n",
       "      capital-gain  capital-loss  hours-per-week  native-country  income  \n",
       "6852             0             0              72          Mexico   <=50K  \n",
       "9124             0             0              94   United-States   <=50K  \n",
       "106          34095             0              32   United-States   <=50K  \n",
       "8439             0             0              40   United-States   <=50K  "
      ]
     },
     "execution_count": 60,
     "metadata": {},
     "output_type": "execute_result"
    }
   ],
   "source": [
    "df_dashed.sample(4)"
   ]
  },
  {
   "cell_type": "markdown",
   "metadata": {},
   "source": [
    " "
   ]
  },
  {
   "cell_type": "markdown",
   "metadata": {},
   "source": [
    "<img src=\"Images/wizard.svg\"   width=\"30\" align=\"left\">               "
   ]
  },
  {
   "cell_type": "markdown",
   "metadata": {},
   "source": [
    "**YOUR TURN:**\n",
    "    \n",
    "Write a function that loops through all columns with missing values and if the column data type is numerical, fills the missing data with median of the column."
   ]
  },
  {
   "cell_type": "code",
   "execution_count": null,
   "metadata": {},
   "outputs": [],
   "source": [
    "(\\   .-.   .-.   .-.   .-.   .-.   .-.   .-.   .-.   /_\")\n",
    " \\\\_//^\\\\_//^\\\\_//^\\\\_//^\\\\_//^\\\\_//^\\\\_//^\\\\_//^\\\\_//\n",
    "  `\"`   `\"`   `\"`   `\"`   `\"`   `\"`   `\"`   `\"`   `\"`"
   ]
  },
  {
   "cell_type": "markdown",
   "metadata": {},
   "source": [
    "# Intermediate and Advanced topics"
   ]
  },
  {
   "cell_type": "markdown",
   "metadata": {},
   "source": [
    "## Docstrings and Comments"
   ]
  },
  {
   "cell_type": "markdown",
   "metadata": {},
   "source": [
    "## List comprehension"
   ]
  },
  {
   "cell_type": "markdown",
   "metadata": {},
   "source": [
    "## Dictionary comprehension"
   ]
  },
  {
   "cell_type": "markdown",
   "metadata": {},
   "source": [
    "## Zip and enumerate"
   ]
  },
  {
   "cell_type": "markdown",
   "metadata": {},
   "source": [
    "## Content Managers"
   ]
  },
  {
   "cell_type": "markdown",
   "metadata": {},
   "source": [
    "## Basic Plotting"
   ]
  },
  {
   "cell_type": "markdown",
   "metadata": {},
   "source": [
    "## Navigation and paths"
   ]
  },
  {
   "cell_type": "markdown",
   "metadata": {},
   "source": [
    "### Current directory"
   ]
  },
  {
   "cell_type": "markdown",
   "metadata": {},
   "source": [
    "### Changing current directory"
   ]
  },
  {
   "cell_type": "markdown",
   "metadata": {},
   "source": [
    "### Absolute and Relative paths"
   ]
  },
  {
   "cell_type": "markdown",
   "metadata": {},
   "source": [
    "## Error Handling"
   ]
  },
  {
   "cell_type": "markdown",
   "metadata": {},
   "source": [
    "In section 8 and 12 we've seen some examples of Syntax and Exception errors and we also saw how can we *Translate* error messages into *human language*. In this part we will have deeper look on errors and how can we __handle__ them.\n",
    "\n",
    "First, let's have a recap of different types of errors:"
   ]
  },
  {
   "cell_type": "markdown",
   "metadata": {},
   "source": [
    "__Syntax Error__"
   ]
  },
  {
   "cell_type": "code",
   "execution_count": 64,
   "metadata": {},
   "outputs": [
    {
     "ename": "SyntaxError",
     "evalue": "invalid syntax (<ipython-input-64-ad95df0c582c>, line 1)",
     "output_type": "error",
     "traceback": [
      "\u001b[0;36m  File \u001b[0;32m\"<ipython-input-64-ad95df0c582c>\"\u001b[0;36m, line \u001b[0;32m1\u001b[0m\n\u001b[0;31m    my_string = 'It's 6 AM and I'm already working!'\u001b[0m\n\u001b[0m                    ^\u001b[0m\n\u001b[0;31mSyntaxError\u001b[0m\u001b[0;31m:\u001b[0m invalid syntax\n"
     ]
    }
   ],
   "source": [
    "my_string = 'It's 6 AM and I'm already working!'\n",
    "print(my_string)"
   ]
  },
  {
   "cell_type": "markdown",
   "metadata": {},
   "source": [
    "__Exception Error__"
   ]
  },
  {
   "cell_type": "code",
   "execution_count": 7,
   "metadata": {},
   "outputs": [
    {
     "ename": "TypeError",
     "evalue": "'int' object is not subscriptable",
     "output_type": "error",
     "traceback": [
      "\u001b[0;31m---------------------------------------------------------------------------\u001b[0m",
      "\u001b[0;31mTypeError\u001b[0m                                 Traceback (most recent call last)",
      "\u001b[0;32m<ipython-input-7-6a7ff0c46d72>\u001b[0m in \u001b[0;36m<module>\u001b[0;34m\u001b[0m\n\u001b[0;32m----> 1\u001b[0;31m \u001b[0msome_list\u001b[0m \u001b[0;34m=\u001b[0m \u001b[0;34m[\u001b[0m\u001b[0mx\u001b[0m\u001b[0;34m[\u001b[0m\u001b[0;36m0\u001b[0m\u001b[0;34m]\u001b[0m \u001b[0;32mfor\u001b[0m \u001b[0mx\u001b[0m \u001b[0;32min\u001b[0m \u001b[0;34m[\u001b[0m\u001b[0;36m55\u001b[0m\u001b[0;34m,\u001b[0m \u001b[0;34m'foo'\u001b[0m\u001b[0;34m,\u001b[0m \u001b[0;34m'bar'\u001b[0m\u001b[0;34m,\u001b[0m \u001b[0;36m42\u001b[0m\u001b[0;34m]\u001b[0m\u001b[0;34m]\u001b[0m\u001b[0;34m\u001b[0m\u001b[0;34m\u001b[0m\u001b[0m\n\u001b[0m\u001b[1;32m      2\u001b[0m \u001b[0msome_list\u001b[0m\u001b[0;34m\u001b[0m\u001b[0;34m\u001b[0m\u001b[0m\n",
      "\u001b[0;32m<ipython-input-7-6a7ff0c46d72>\u001b[0m in \u001b[0;36m<listcomp>\u001b[0;34m(.0)\u001b[0m\n\u001b[0;32m----> 1\u001b[0;31m \u001b[0msome_list\u001b[0m \u001b[0;34m=\u001b[0m \u001b[0;34m[\u001b[0m\u001b[0mx\u001b[0m\u001b[0;34m[\u001b[0m\u001b[0;36m0\u001b[0m\u001b[0;34m]\u001b[0m \u001b[0;32mfor\u001b[0m \u001b[0mx\u001b[0m \u001b[0;32min\u001b[0m \u001b[0;34m[\u001b[0m\u001b[0;36m55\u001b[0m\u001b[0;34m,\u001b[0m \u001b[0;34m'foo'\u001b[0m\u001b[0;34m,\u001b[0m \u001b[0;34m'bar'\u001b[0m\u001b[0;34m,\u001b[0m \u001b[0;36m42\u001b[0m\u001b[0;34m]\u001b[0m\u001b[0;34m]\u001b[0m\u001b[0;34m\u001b[0m\u001b[0;34m\u001b[0m\u001b[0m\n\u001b[0m\u001b[1;32m      2\u001b[0m \u001b[0msome_list\u001b[0m\u001b[0;34m\u001b[0m\u001b[0;34m\u001b[0m\u001b[0m\n",
      "\u001b[0;31mTypeError\u001b[0m: 'int' object is not subscriptable"
     ]
    }
   ],
   "source": [
    "some_list = [x[0] for x in [55, 'foo', 'bar', 42]]\n",
    "print(some_list)"
   ]
  },
  {
   "cell_type": "markdown",
   "metadata": {},
   "source": [
    "<img src=\"Images/student.svg\"   width=\"30\" align=\"left\">               "
   ]
  },
  {
   "cell_type": "markdown",
   "metadata": {},
   "source": [
    "**YOUR TURN:**\n",
    "    \n",
    "Re-write the above code blocks in a correct way (no error is needed!)"
   ]
  },
  {
   "cell_type": "code",
   "execution_count": 65,
   "metadata": {},
   "outputs": [
    {
     "name": "stdout",
     "output_type": "stream",
     "text": [
      "It's 6 AM and I'm already working!\n",
      "['5', 'f', 'b', '4']\n"
     ]
    }
   ],
   "source": [
    "my_string = \"It's 6 AM and I'm already working!\"\n",
    "print(my_string)\n",
    "some_list = [str(x)[0] for x in [55, 'foo', 'bar', 42]]\n",
    "print(some_list)"
   ]
  },
  {
   "cell_type": "markdown",
   "metadata": {},
   "source": [
    "### Raising your own Exceptions"
   ]
  },
  {
   "cell_type": "markdown",
   "metadata": {},
   "source": [
    "We saw how Python uses __Exceptions__ to show you are doing something wrong. In the same way you can __raise__ your own exceptions to warn users and stop the code."
   ]
  },
  {
   "cell_type": "markdown",
   "metadata": {},
   "source": [
    "Let's make a function which gets a string as ___\"name surname\"__ and prints out __\"Your name is name and your surname is surname\"__"
   ]
  },
  {
   "cell_type": "code",
   "execution_count": 17,
   "metadata": {},
   "outputs": [],
   "source": [
    "def simple_fun(text):\n",
    "    \"\"\"gets a string of name and surname separeted by space and prints them in a template\"\"\"\n",
    "    \n",
    "    # splitting the string by space\n",
    "    name, surname = text.split(' ',1)\n",
    "    print(f'Your name is {name} and your surname is {surname}')"
   ]
  },
  {
   "cell_type": "code",
   "execution_count": 18,
   "metadata": {},
   "outputs": [
    {
     "name": "stdout",
     "output_type": "stream",
     "text": [
      "Your name is Mimmo and your surname is Paladino\n"
     ]
    }
   ],
   "source": [
    "simple_fun('Mimmo Paladino')"
   ]
  },
  {
   "cell_type": "markdown",
   "metadata": {},
   "source": [
    "But what happens if someone gives just her name or surname instead?"
   ]
  },
  {
   "cell_type": "code",
   "execution_count": 19,
   "metadata": {},
   "outputs": [
    {
     "ename": "ValueError",
     "evalue": "not enough values to unpack (expected 2, got 1)",
     "output_type": "error",
     "traceback": [
      "\u001b[0;31m---------------------------------------------------------------------------\u001b[0m",
      "\u001b[0;31mValueError\u001b[0m                                Traceback (most recent call last)",
      "\u001b[0;32m<ipython-input-19-f1e3ca517902>\u001b[0m in \u001b[0;36m<module>\u001b[0;34m\u001b[0m\n\u001b[0;32m----> 1\u001b[0;31m \u001b[0msimple_fun\u001b[0m\u001b[0;34m(\u001b[0m\u001b[0;34m'Oliver'\u001b[0m\u001b[0;34m)\u001b[0m\u001b[0;34m\u001b[0m\u001b[0;34m\u001b[0m\u001b[0m\n\u001b[0m",
      "\u001b[0;32m<ipython-input-17-be46b3e3334f>\u001b[0m in \u001b[0;36msimple_fun\u001b[0;34m(text)\u001b[0m\n\u001b[1;32m      3\u001b[0m \u001b[0;34m\u001b[0m\u001b[0m\n\u001b[1;32m      4\u001b[0m     \u001b[0;31m# splitting the string by space\u001b[0m\u001b[0;34m\u001b[0m\u001b[0;34m\u001b[0m\u001b[0;34m\u001b[0m\u001b[0m\n\u001b[0;32m----> 5\u001b[0;31m     \u001b[0mname\u001b[0m\u001b[0;34m,\u001b[0m \u001b[0msurname\u001b[0m \u001b[0;34m=\u001b[0m \u001b[0mtext\u001b[0m\u001b[0;34m.\u001b[0m\u001b[0msplit\u001b[0m\u001b[0;34m(\u001b[0m\u001b[0;34m' '\u001b[0m\u001b[0;34m,\u001b[0m\u001b[0;36m1\u001b[0m\u001b[0;34m)\u001b[0m\u001b[0;34m\u001b[0m\u001b[0;34m\u001b[0m\u001b[0m\n\u001b[0m\u001b[1;32m      6\u001b[0m     \u001b[0mprint\u001b[0m\u001b[0;34m(\u001b[0m\u001b[0;34mf'Your name is {name} and your surname is {surname}'\u001b[0m\u001b[0;34m)\u001b[0m\u001b[0;34m\u001b[0m\u001b[0;34m\u001b[0m\u001b[0m\n",
      "\u001b[0;31mValueError\u001b[0m: not enough values to unpack (expected 2, got 1)"
     ]
    }
   ],
   "source": [
    "simple_fun('Oliver')"
   ]
  },
  {
   "cell_type": "markdown",
   "metadata": {},
   "source": [
    "The error we get is a __ValueError__ and is indicating that we passed just one input while Python was expecting 2.\n",
    "While it may seems easy to understand, for a someone who doesn't know python (or simply is not familiar with your code) may not be so simple to understand what causes the error. We can solve this problem by raising a custom Exception in our function."
   ]
  },
  {
   "cell_type": "code",
   "execution_count": 24,
   "metadata": {},
   "outputs": [],
   "source": [
    "def simple_fun(text):\n",
    "    \"\"\"gets a string of name and surname separeted by space and prints them in a template\"\"\"\n",
    "    \n",
    "    if ' ' not in text :\n",
    "        raise Exception(\"It seems you just entered your name or surname. I need something like this : 'Rickey Gervais'\")\n",
    "    \n",
    "    # splitting the string by space\n",
    "    name, surname = text.split(' ', 1)\n",
    "    print(f'Your name is {name} and your surname is {surname}')"
   ]
  },
  {
   "cell_type": "markdown",
   "metadata": {},
   "source": [
    "Let's check it to see if it works"
   ]
  },
  {
   "cell_type": "code",
   "execution_count": 28,
   "metadata": {},
   "outputs": [
    {
     "ename": "Exception",
     "evalue": "It seems you just entered your name or surname. I need something like this : 'Rickey Gervais'",
     "output_type": "error",
     "traceback": [
      "\u001b[0;31m---------------------------------------------------------------------------\u001b[0m",
      "\u001b[0;31mException\u001b[0m                                 Traceback (most recent call last)",
      "\u001b[0;32m<ipython-input-28-f1e3ca517902>\u001b[0m in \u001b[0;36m<module>\u001b[0;34m\u001b[0m\n\u001b[0;32m----> 1\u001b[0;31m \u001b[0msimple_fun\u001b[0m\u001b[0;34m(\u001b[0m\u001b[0;34m'Oliver'\u001b[0m\u001b[0;34m)\u001b[0m\u001b[0;34m\u001b[0m\u001b[0;34m\u001b[0m\u001b[0m\n\u001b[0m",
      "\u001b[0;32m<ipython-input-24-99cccf5b4e61>\u001b[0m in \u001b[0;36msimple_fun\u001b[0;34m(text)\u001b[0m\n\u001b[1;32m      2\u001b[0m     \u001b[0;34m\"\"\"gets a string of name and surname separeted by space and prints them in a template\"\"\"\u001b[0m\u001b[0;34m\u001b[0m\u001b[0;34m\u001b[0m\u001b[0m\n\u001b[1;32m      3\u001b[0m     \u001b[0;32mif\u001b[0m \u001b[0;34m' '\u001b[0m \u001b[0;32mnot\u001b[0m \u001b[0;32min\u001b[0m \u001b[0mtext\u001b[0m \u001b[0;34m:\u001b[0m\u001b[0;34m\u001b[0m\u001b[0;34m\u001b[0m\u001b[0m\n\u001b[0;32m----> 4\u001b[0;31m         \u001b[0;32mraise\u001b[0m \u001b[0mException\u001b[0m\u001b[0;34m(\u001b[0m\u001b[0;34m\"It seems you just entered your name or surname. I need something like this : 'Rickey Gervais'\"\u001b[0m\u001b[0;34m)\u001b[0m\u001b[0;34m\u001b[0m\u001b[0;34m\u001b[0m\u001b[0m\n\u001b[0m\u001b[1;32m      5\u001b[0m     \u001b[0;31m# splitting the string by space\u001b[0m\u001b[0;34m\u001b[0m\u001b[0;34m\u001b[0m\u001b[0;34m\u001b[0m\u001b[0m\n\u001b[1;32m      6\u001b[0m     \u001b[0mname\u001b[0m\u001b[0;34m,\u001b[0m \u001b[0msurname\u001b[0m \u001b[0;34m=\u001b[0m \u001b[0mtext\u001b[0m\u001b[0;34m.\u001b[0m\u001b[0msplit\u001b[0m\u001b[0;34m(\u001b[0m\u001b[0;34m' '\u001b[0m\u001b[0;34m,\u001b[0m \u001b[0;36m1\u001b[0m\u001b[0;34m)\u001b[0m\u001b[0;34m\u001b[0m\u001b[0;34m\u001b[0m\u001b[0m\n",
      "\u001b[0;31mException\u001b[0m: It seems you just entered your name or surname. I need something like this : 'Rickey Gervais'"
     ]
    }
   ],
   "source": [
    "simple_fun('Oliver')"
   ]
  },
  {
   "cell_type": "markdown",
   "metadata": {},
   "source": [
    "__General Form__"
   ]
  },
  {
   "cell_type": "markdown",
   "metadata": {},
   "source": [
    "<img src=\"Images/exception.png\" width=\"800\"> "
   ]
  },
  {
   "cell_type": "markdown",
   "metadata": {},
   "source": [
    "### Assertion"
   ]
  },
  {
   "cell_type": "markdown",
   "metadata": {},
   "source": [
    "To achieve what we did with Exception raising, we can use another method which is __Assertion__. It's simply a *control for a condition*:"
   ]
  },
  {
   "cell_type": "code",
   "execution_count": 37,
   "metadata": {},
   "outputs": [],
   "source": [
    "def simple_fun(text):\n",
    "    \"\"\"gets a string of name and surname separeted by space and prints them in a template\"\"\"\n",
    "    \n",
    "    assert(' ' in text), \"It seems you just entered your name or surname. I need something like this : 'Rickey Gervais'\"\n",
    "    \n",
    "    # splitting the string by space\n",
    "    name, surname = text.split(' ', 1)\n",
    "    print(f'Your name is {name} and your surname is {surname}')"
   ]
  },
  {
   "cell_type": "code",
   "execution_count": 38,
   "metadata": {},
   "outputs": [
    {
     "ename": "AssertionError",
     "evalue": "It seems you just entered your name or surname. I need something like this : 'Rickey Gervais'",
     "output_type": "error",
     "traceback": [
      "\u001b[0;31m---------------------------------------------------------------------------\u001b[0m",
      "\u001b[0;31mAssertionError\u001b[0m                            Traceback (most recent call last)",
      "\u001b[0;32m<ipython-input-38-f1e3ca517902>\u001b[0m in \u001b[0;36m<module>\u001b[0;34m\u001b[0m\n\u001b[0;32m----> 1\u001b[0;31m \u001b[0msimple_fun\u001b[0m\u001b[0;34m(\u001b[0m\u001b[0;34m'Oliver'\u001b[0m\u001b[0;34m)\u001b[0m\u001b[0;34m\u001b[0m\u001b[0;34m\u001b[0m\u001b[0m\n\u001b[0m",
      "\u001b[0;32m<ipython-input-37-a01a568ac134>\u001b[0m in \u001b[0;36msimple_fun\u001b[0;34m(text)\u001b[0m\n\u001b[1;32m      2\u001b[0m     \u001b[0;34m\"\"\"gets a string of name and surname separeted by space and prints them in a template\"\"\"\u001b[0m\u001b[0;34m\u001b[0m\u001b[0;34m\u001b[0m\u001b[0m\n\u001b[1;32m      3\u001b[0m \u001b[0;34m\u001b[0m\u001b[0m\n\u001b[0;32m----> 4\u001b[0;31m     \u001b[0;32massert\u001b[0m\u001b[0;34m(\u001b[0m\u001b[0;34m' '\u001b[0m \u001b[0;32min\u001b[0m \u001b[0mtext\u001b[0m\u001b[0;34m)\u001b[0m\u001b[0;34m,\u001b[0m \u001b[0;34m\"It seems you just entered your name or surname. I need something like this : 'Rickey Gervais'\"\u001b[0m\u001b[0;34m\u001b[0m\u001b[0;34m\u001b[0m\u001b[0m\n\u001b[0m\u001b[1;32m      5\u001b[0m \u001b[0;34m\u001b[0m\u001b[0m\n\u001b[1;32m      6\u001b[0m     \u001b[0;31m# splitting the string by space\u001b[0m\u001b[0;34m\u001b[0m\u001b[0;34m\u001b[0m\u001b[0;34m\u001b[0m\u001b[0m\n",
      "\u001b[0;31mAssertionError\u001b[0m: It seems you just entered your name or surname. I need something like this : 'Rickey Gervais'"
     ]
    }
   ],
   "source": [
    "simple_fun('Oliver')"
   ]
  },
  {
   "cell_type": "markdown",
   "metadata": {},
   "source": [
    "<img src=\"Images/wizard.svg\"   width=\"30\" align=\"left\">               "
   ]
  },
  {
   "cell_type": "markdown",
   "metadata": {},
   "source": [
    "**YOUR TURN:**\n",
    "    \n",
    "Use Exception raising to write a function that gets a number in centimeter and convert it to inch unit. This function should be able to warn user if the input is not a number.\n",
    "\n",
    "- Hint 1 : a number in this case can be either integer of float\n",
    "- Hint 2 : 1 cm is 0.393701 inch"
   ]
  },
  {
   "cell_type": "code",
   "execution_count": 54,
   "metadata": {},
   "outputs": [],
   "source": [
    "def cm2inch(num):\n",
    "    if type(num) != float and type(num) != int:\n",
    "        raise Exception(f'Please enter an integer or float not a {type(num)}')\n",
    "    return num * 0.393701"
   ]
  },
  {
   "cell_type": "code",
   "execution_count": 56,
   "metadata": {
    "scrolled": true
   },
   "outputs": [
    {
     "ename": "Exception",
     "evalue": "Please enter an integer or float not a <class 'str'>",
     "output_type": "error",
     "traceback": [
      "\u001b[0;31m---------------------------------------------------------------------------\u001b[0m",
      "\u001b[0;31mException\u001b[0m                                 Traceback (most recent call last)",
      "\u001b[0;32m<ipython-input-56-eb0d30186a3f>\u001b[0m in \u001b[0;36m<module>\u001b[0;34m\u001b[0m\n\u001b[0;32m----> 1\u001b[0;31m \u001b[0mcm2inch\u001b[0m\u001b[0;34m(\u001b[0m\u001b[0;34m'cane'\u001b[0m\u001b[0;34m)\u001b[0m\u001b[0;34m\u001b[0m\u001b[0;34m\u001b[0m\u001b[0m\n\u001b[0m",
      "\u001b[0;32m<ipython-input-54-3271106864c0>\u001b[0m in \u001b[0;36mcm2inch\u001b[0;34m(num)\u001b[0m\n\u001b[1;32m      1\u001b[0m \u001b[0;32mdef\u001b[0m \u001b[0mcm2inch\u001b[0m\u001b[0;34m(\u001b[0m\u001b[0mnum\u001b[0m\u001b[0;34m)\u001b[0m\u001b[0;34m:\u001b[0m\u001b[0;34m\u001b[0m\u001b[0;34m\u001b[0m\u001b[0m\n\u001b[1;32m      2\u001b[0m     \u001b[0;32mif\u001b[0m \u001b[0mtype\u001b[0m\u001b[0;34m(\u001b[0m\u001b[0mnum\u001b[0m\u001b[0;34m)\u001b[0m \u001b[0;34m!=\u001b[0m \u001b[0mfloat\u001b[0m \u001b[0;32mand\u001b[0m \u001b[0mtype\u001b[0m\u001b[0;34m(\u001b[0m\u001b[0mnum\u001b[0m\u001b[0;34m)\u001b[0m \u001b[0;34m!=\u001b[0m \u001b[0mint\u001b[0m\u001b[0;34m:\u001b[0m\u001b[0;34m\u001b[0m\u001b[0;34m\u001b[0m\u001b[0m\n\u001b[0;32m----> 3\u001b[0;31m         \u001b[0;32mraise\u001b[0m \u001b[0mException\u001b[0m\u001b[0;34m(\u001b[0m\u001b[0;34mf'Please enter an integer or float not a {type(num)}'\u001b[0m\u001b[0;34m)\u001b[0m\u001b[0;34m\u001b[0m\u001b[0;34m\u001b[0m\u001b[0m\n\u001b[0m\u001b[1;32m      4\u001b[0m     \u001b[0;32mreturn\u001b[0m \u001b[0mnum\u001b[0m \u001b[0;34m*\u001b[0m \u001b[0;36m0.393701\u001b[0m\u001b[0;34m\u001b[0m\u001b[0;34m\u001b[0m\u001b[0m\n",
      "\u001b[0;31mException\u001b[0m: Please enter an integer or float not a <class 'str'>"
     ]
    }
   ],
   "source": [
    "cm2inch('cane')"
   ]
  },
  {
   "cell_type": "markdown",
   "metadata": {},
   "source": [
    "<img src=\"Images/wizard.svg\"   width=\"30\" align=\"left\">               "
   ]
  },
  {
   "cell_type": "markdown",
   "metadata": {},
   "source": [
    "**YOUR TURN:**\n",
    "    \n",
    "Use Assertion instead of raising an Exception"
   ]
  },
  {
   "cell_type": "code",
   "execution_count": 59,
   "metadata": {},
   "outputs": [],
   "source": [
    "def cm2inch(num):\n",
    "    assert (type(num) == float or type(num) == int),f'Please enter an integer or float not a {type(num)}'\n",
    "    return num * 0.393701"
   ]
  },
  {
   "cell_type": "code",
   "execution_count": 62,
   "metadata": {
    "scrolled": true
   },
   "outputs": [
    {
     "ename": "AssertionError",
     "evalue": "Please enter an integer or float not a <class 'str'>",
     "output_type": "error",
     "traceback": [
      "\u001b[0;31m---------------------------------------------------------------------------\u001b[0m",
      "\u001b[0;31mAssertionError\u001b[0m                            Traceback (most recent call last)",
      "\u001b[0;32m<ipython-input-62-eb0d30186a3f>\u001b[0m in \u001b[0;36m<module>\u001b[0;34m\u001b[0m\n\u001b[0;32m----> 1\u001b[0;31m \u001b[0mcm2inch\u001b[0m\u001b[0;34m(\u001b[0m\u001b[0;34m'cane'\u001b[0m\u001b[0;34m)\u001b[0m\u001b[0;34m\u001b[0m\u001b[0;34m\u001b[0m\u001b[0m\n\u001b[0m",
      "\u001b[0;32m<ipython-input-61-52485e89ebe1>\u001b[0m in \u001b[0;36mcm2inch\u001b[0;34m(num)\u001b[0m\n\u001b[1;32m      1\u001b[0m \u001b[0;32mdef\u001b[0m \u001b[0mcm2inch\u001b[0m\u001b[0;34m(\u001b[0m\u001b[0mnum\u001b[0m\u001b[0;34m)\u001b[0m\u001b[0;34m:\u001b[0m\u001b[0;34m\u001b[0m\u001b[0;34m\u001b[0m\u001b[0m\n\u001b[0;32m----> 2\u001b[0;31m     \u001b[0;32massert\u001b[0m \u001b[0;34m(\u001b[0m\u001b[0mtype\u001b[0m\u001b[0;34m(\u001b[0m\u001b[0mnum\u001b[0m\u001b[0;34m)\u001b[0m \u001b[0;32min\u001b[0m \u001b[0;34m(\u001b[0m\u001b[0mint\u001b[0m\u001b[0;34m,\u001b[0m \u001b[0mfloat\u001b[0m\u001b[0;34m)\u001b[0m\u001b[0;34m)\u001b[0m\u001b[0;34m,\u001b[0m\u001b[0;34mf'Please enter an integer or float not a {type(num)}'\u001b[0m\u001b[0;34m\u001b[0m\u001b[0;34m\u001b[0m\u001b[0m\n\u001b[0m\u001b[1;32m      3\u001b[0m     \u001b[0;32mreturn\u001b[0m \u001b[0mnum\u001b[0m \u001b[0;34m*\u001b[0m \u001b[0;36m0.393701\u001b[0m\u001b[0;34m\u001b[0m\u001b[0;34m\u001b[0m\u001b[0m\n",
      "\u001b[0;31mAssertionError\u001b[0m: Please enter an integer or float not a <class 'str'>"
     ]
    }
   ],
   "source": [
    "cm2inch('cane')"
   ]
  },
  {
   "cell_type": "markdown",
   "metadata": {},
   "source": [
    "__General form__"
   ]
  },
  {
   "cell_type": "markdown",
   "metadata": {},
   "source": [
    "<img src=\"Images/assertion.png\" width=\"800\"> "
   ]
  },
  {
   "cell_type": "markdown",
   "metadata": {},
   "source": [
    "### Try/Except"
   ]
  },
  {
   "cell_type": "markdown",
   "metadata": {},
   "source": [
    "While Exception raising and assertion are helpful ways to assure the code is behaving in the desired way, they don't actually _handle_ errors as the code crashes no matter the exception/assertion.\n",
    "\n",
    "That's where try and except blocks come in the scene!"
   ]
  },
  {
   "cell_type": "markdown",
   "metadata": {},
   "source": [
    "Let's see an example:"
   ]
  },
  {
   "cell_type": "code",
   "execution_count": 80,
   "metadata": {},
   "outputs": [
    {
     "ename": "ZeroDivisionError",
     "evalue": "division by zero",
     "output_type": "error",
     "traceback": [
      "\u001b[0;31m---------------------------------------------------------------------------\u001b[0m",
      "\u001b[0;31mZeroDivisionError\u001b[0m                         Traceback (most recent call last)",
      "\u001b[0;32m<ipython-input-80-9c7f8661d87b>\u001b[0m in \u001b[0;36m<module>\u001b[0;34m\u001b[0m\n\u001b[1;32m      7\u001b[0m \u001b[0mids\u001b[0m \u001b[0;34m=\u001b[0m \u001b[0minfo\u001b[0m\u001b[0;34m.\u001b[0m\u001b[0mkeys\u001b[0m\u001b[0;34m(\u001b[0m\u001b[0;34m)\u001b[0m\u001b[0;34m\u001b[0m\u001b[0;34m\u001b[0m\u001b[0m\n\u001b[1;32m      8\u001b[0m \u001b[0;32mfor\u001b[0m \u001b[0miid\u001b[0m \u001b[0;32min\u001b[0m \u001b[0mids\u001b[0m\u001b[0;34m:\u001b[0m\u001b[0;34m\u001b[0m\u001b[0;34m\u001b[0m\u001b[0m\n\u001b[0;32m----> 9\u001b[0;31m     \u001b[0minfo\u001b[0m\u001b[0;34m[\u001b[0m\u001b[0miid\u001b[0m\u001b[0;34m]\u001b[0m\u001b[0;34m[\u001b[0m\u001b[0;34m'new_val'\u001b[0m\u001b[0;34m]\u001b[0m \u001b[0;34m=\u001b[0m \u001b[0minfo\u001b[0m\u001b[0;34m[\u001b[0m\u001b[0miid\u001b[0m\u001b[0;34m]\u001b[0m\u001b[0;34m[\u001b[0m\u001b[0;34m'balance'\u001b[0m\u001b[0;34m]\u001b[0m \u001b[0;34m/\u001b[0m \u001b[0minfo\u001b[0m\u001b[0;34m[\u001b[0m\u001b[0miid\u001b[0m\u001b[0;34m]\u001b[0m\u001b[0;34m[\u001b[0m\u001b[0;34m'debt'\u001b[0m\u001b[0;34m]\u001b[0m\u001b[0;34m\u001b[0m\u001b[0;34m\u001b[0m\u001b[0m\n\u001b[0m\u001b[1;32m     10\u001b[0m \u001b[0;34m\u001b[0m\u001b[0m\n\u001b[1;32m     11\u001b[0m \u001b[0mpprint\u001b[0m\u001b[0;34m(\u001b[0m\u001b[0minfo\u001b[0m\u001b[0;34m)\u001b[0m\u001b[0;34m\u001b[0m\u001b[0;34m\u001b[0m\u001b[0m\n",
      "\u001b[0;31mZeroDivisionError\u001b[0m: division by zero"
     ]
    }
   ],
   "source": [
    "from pprint import pprint\n",
    "\n",
    "info = {'id_1': {'name': 'Fabio M', 'debt': 67_000, 'balance': 10_000},\n",
    "       'id_2': {'name': 'Mario M', 'debt': 0, 'balance': 350_000},\n",
    "       'id_3': {'name': 'Ale V', 'debt': 100, 'balance': 60_000},\n",
    "       'id_4': {'name': 'Mauro', 'debt': 130, 'balance': 100_000}}\n",
    "\n",
    "ids = info.keys()\n",
    "for iid in ids:\n",
    "    info[iid]['new_val'] = round(info[iid]['balance'] / info[iid]['debt'], 1)\n",
    "\n",
    "pprint(info)"
   ]
  },
  {
   "cell_type": "markdown",
   "metadata": {},
   "source": [
    "We're getting ZeroDivisionError and it's crashing our code. We can use try/except to catch the exception:"
   ]
  },
  {
   "cell_type": "code",
   "execution_count": 82,
   "metadata": {},
   "outputs": [
    {
     "name": "stdout",
     "output_type": "stream",
     "text": [
      "{'id_1': {'balance': 10000, 'debt': 67000, 'name': 'Fabio ', 'new_val': 0.1},\n",
      " 'id_2': {'balance': 350000, 'debt': 0, 'name': 'Mario', 'new_val': 0},\n",
      " 'id_3': {'balance': 60000, 'debt': 100, 'name': 'Ale', 'new_val': 600.0},\n",
      " 'id_4': {'balance': 100000, 'debt': 130, 'name': 'Mauro', 'new_val': 769.2}}\n"
     ]
    }
   ],
   "source": [
    "info = {'id_1': {'name': 'Fabio M', 'debt': 67_000, 'balance': 10_000},\n",
    "       'id_2': {'name': 'Mario M', 'debt': 0, 'balance': 350_000},\n",
    "       'id_3': {'name': 'Ale V', 'debt': 100, 'balance': 60_000},\n",
    "       'id_4': {'name': 'Mauro ', 'debt': 130, 'balance': 100_000}}\n",
    "\n",
    "ids = info.keys()\n",
    "for iid in ids:\n",
    "    try:\n",
    "        info[iid]['new_val'] = round(info[iid]['balance'] / info[iid]['debt'], 1)\n",
    "        \n",
    "    except ZeroDivisionError:\n",
    "        info[iid]['new_val'] = 0\n",
    "        \n",
    "pprint(info)"
   ]
  },
  {
   "cell_type": "markdown",
   "metadata": {},
   "source": [
    "As you can see, unlike last time, our code finished its job , we just handled an error!\n",
    "\n",
    "We can use more than one exception type:"
   ]
  },
  {
   "cell_type": "code",
   "execution_count": 84,
   "metadata": {},
   "outputs": [
    {
     "name": "stdout",
     "output_type": "stream",
     "text": [
      "{'id_1': {'balance': 10000,\n",
      "          'debt': 67000,\n",
      "          'name': 'Fabio',\n",
      "          'new_val': 0.1,\n",
      "          'surname': 'M'},\n",
      " 'id_2': {'balance': 350000,\n",
      "          'debt': 0,\n",
      "          'name': 'Mario',\n",
      "          'new_val': 0,\n",
      "          'surname': 'M'},\n",
      " 'id_3': {'balance': 60000,\n",
      "          'debt': 100,\n",
      "          'name': 'Ale',\n",
      "          'new_val': 600.0,\n",
      "          'surname': 'V'},\n",
      " 'id_4': {'balance': 100000,\n",
      "          'debt': 130,\n",
      "          'name': 'Mauro ',\n",
      "          'new_val': 769.2,\n",
      "          'surname': ''}}\n"
     ]
    }
   ],
   "source": [
    "info = {'id_1': {'name': 'Fabio M', 'debt': 67_000, 'balance': 10_000},\n",
    "       'id_2': {'name': 'Mario M', 'debt': 0, 'balance': 350_000},\n",
    "       'id_3': {'name': 'Ale V', 'debt': 100, 'balance': 60_000},\n",
    "       'id_4': {'name': 'Mauro ', 'debt': 130, 'balance': 100_000}}\n",
    "\n",
    "ids = info.keys()\n",
    "for iid in ids:\n",
    "    try:\n",
    "        info[iid]['new_val'] = round(info[iid]['balance'] / info[iid]['debt'], 1)\n",
    "        \n",
    "    except ZeroDivisionError:\n",
    "        info[iid]['new_val'] = 0\n",
    "    \n",
    "    try:\n",
    "        name, surname = info[iid]['name'].split()\n",
    "        info[iid]['name'] = name\n",
    "        info[iid]['surname'] = surname\n",
    "    except ValueError:\n",
    "        info[iid]['surname'] = ''\n",
    "        \n",
    "pprint(info)"
   ]
  },
  {
   "cell_type": "markdown",
   "metadata": {},
   "source": [
    "__General form__"
   ]
  },
  {
   "cell_type": "markdown",
   "metadata": {},
   "source": [
    "<img src=\"Images/try_except.png\" width=\"600\"> "
   ]
  },
  {
   "cell_type": "markdown",
   "metadata": {},
   "source": [
    "You can use except without specifying any particular exception.__It's a bad idea! Don't use such a thing unless you are desperate!__"
   ]
  },
  {
   "cell_type": "markdown",
   "metadata": {},
   "source": [
    "### Else/Finally"
   ]
  },
  {
   "cell_type": "markdown",
   "metadata": {},
   "source": [
    "There are other to statements which can be used within try/except block which are *else* and *finally*. Let's see an example:"
   ]
  },
  {
   "cell_type": "code",
   "execution_count": 97,
   "metadata": {},
   "outputs": [
    {
     "name": "stdout",
     "output_type": "stream",
     "text": [
      "answer  : 7\n",
      "answer  : 5\n",
      "wrong index --> 45789345\n",
      "\n",
      "All pairs are controlled\n",
      "--------------------------------------------------\n",
      "answer  : 7\n",
      "answer  : 5\n",
      "answer  : 5\n",
      "All pairs are valid\n",
      "\n",
      "All pairs are controlled\n"
     ]
    }
   ],
   "source": [
    "data_1 = [('89768745', 2), ('87443665', -1), ('45789345', '1')]\n",
    "data_2 = [('89768745', 2), ('87443665', -1), ('45789345', 1)]\n",
    "\n",
    "try:\n",
    "    for item in data_1:\n",
    "        print(f'answer  : {item[0][item[1]]}')\n",
    "        \n",
    "except TypeError:\n",
    "    print(f'wrong index --> {item[0]}')\n",
    "    \n",
    "else:\n",
    "    print('All pairs are valid')\n",
    "\n",
    "finally:\n",
    "    print('\\nAll pairs are controlled')\n",
    "    \n",
    "print('-' * 50)\n",
    "\n",
    "try:\n",
    "    for item in data_2:\n",
    "        print(f'answer  : {item[0][item[1]]}')\n",
    "        \n",
    "except TypeError:\n",
    "    print(f'wrong index --> {item[0]}')\n",
    "    \n",
    "else:\n",
    "    print('All pairs are valid')\n",
    "\n",
    "finally:\n",
    "\n",
    "    print('\\nAll pairs are controlled')"
   ]
  },
  {
   "cell_type": "markdown",
   "metadata": {},
   "source": [
    "__General form__"
   ]
  },
  {
   "cell_type": "markdown",
   "metadata": {},
   "source": [
    "<img src=\"Images/tryexceptelsefinally.png\" width=\"500\"> "
   ]
  },
  {
   "cell_type": "markdown",
   "metadata": {},
   "source": [
    "## Virtual environments"
   ]
  },
  {
   "cell_type": "markdown",
   "metadata": {},
   "source": [
    "### Creating your custom venv"
   ]
  },
  {
   "cell_type": "markdown",
   "metadata": {},
   "source": [
    "### Activating and deactivating venvs"
   ]
  },
  {
   "cell_type": "markdown",
   "metadata": {},
   "source": [
    "## Iterators and Generators"
   ]
  },
  {
   "cell_type": "markdown",
   "metadata": {},
   "source": [
    "## Object Oriented Programming"
   ]
  },
  {
   "cell_type": "markdown",
   "metadata": {},
   "source": [
    "### Class and Object definition"
   ]
  },
  {
   "cell_type": "markdown",
   "metadata": {},
   "source": [
    "### Methods and Attributes"
   ]
  },
  {
   "cell_type": "markdown",
   "metadata": {},
   "source": [
    "# Resources"
   ]
  }
 ],
 "metadata": {
  "kernelspec": {
   "display_name": "Python 3",
   "language": "python",
   "name": "python3"
  },
  "language_info": {
   "codemirror_mode": {
    "name": "ipython",
    "version": 3
   },
   "file_extension": ".py",
   "mimetype": "text/x-python",
   "name": "python",
   "nbconvert_exporter": "python",
   "pygments_lexer": "ipython3",
   "version": "3.7.4"
  },
  "toc": {
   "base_numbering": 1,
   "nav_menu": {},
   "number_sections": true,
   "sideBar": true,
   "skip_h1_title": false,
   "title_cell": "Table of Contents",
   "title_sidebar": "Contents",
   "toc_cell": false,
   "toc_position": {
    "height": "863.333px",
    "left": "33px",
    "top": "135.722px",
    "width": "291.917px"
   },
   "toc_section_display": true,
   "toc_window_display": true
  }
 },
 "nbformat": 4,
 "nbformat_minor": 2
}
