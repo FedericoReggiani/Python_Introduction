{
 "cells": [
  {
   "cell_type": "markdown",
   "metadata": {
    "ExecuteTime": {
     "end_time": "2020-05-22T11:06:26.855781Z",
     "start_time": "2020-05-22T11:06:25.914967Z"
    }
   },
   "source": [
    "# Part I\n",
    "In this part you should answer the questions (or performing the requested tasks) using the **adult.csv** file you find in the *Data* folder. \n",
    "\n",
    "In case you want to learn more about this dataset : https://archive.ics.uci.edu/ml/datasets/Adult\n",
    "\n",
    "Feel free to import any library you want."
   ]
  },
  {
   "cell_type": "markdown",
   "metadata": {},
   "source": [
    "## Load the adult.csv"
   ]
  },
  {
   "cell_type": "markdown",
   "metadata": {},
   "source": [
    "- Make sure that you're note loosing the first row!\n",
    "- Name the columns: \n",
    "'age',\n",
    "'workclass',\n",
    "'fnlwgt',\n",
    "'education',\n",
    "'education-num',\n",
    "'marital-status',\n",
    "'occupation',\n",
    "'relationship',\n",
    "'race',\n",
    "'sex',\n",
    "'capital-gain',\n",
    "'capital-loss',\n",
    "'hours-per-week',\n",
    "'native-country',\n",
    "'income'\n"
   ]
  },
  {
   "cell_type": "code",
   "execution_count": null,
   "metadata": {},
   "outputs": [],
   "source": []
  },
  {
   "cell_type": "markdown",
   "metadata": {},
   "source": [
    "## Remove these columns: 'fnlwgt', 'education-num'"
   ]
  },
  {
   "cell_type": "markdown",
   "metadata": {},
   "source": []
  },
  {
   "cell_type": "markdown",
   "metadata": {},
   "source": [
    "## Remove all the records with capital-loss equal to 20 or 25"
   ]
  },
  {
   "cell_type": "markdown",
   "metadata": {},
   "source": [
    "Don't forget to reset the index of the DataFrame"
   ]
  },
  {
   "cell_type": "code",
   "execution_count": null,
   "metadata": {},
   "outputs": [],
   "source": []
  },
  {
   "cell_type": "markdown",
   "metadata": {},
   "source": [
    "## Report the missing data for each column"
   ]
  },
  {
   "cell_type": "code",
   "execution_count": null,
   "metadata": {},
   "outputs": [],
   "source": []
  },
  {
   "cell_type": "markdown",
   "metadata": {},
   "source": [
    "## Create a new column containing the average value of 'capital-gain' and 'capital-loss'"
   ]
  },
  {
   "cell_type": "markdown",
   "metadata": {},
   "source": [
    "Name the new column as *avg_capitial*"
   ]
  },
  {
   "cell_type": "code",
   "execution_count": null,
   "metadata": {},
   "outputs": [],
   "source": []
  },
  {
   "cell_type": "markdown",
   "metadata": {},
   "source": [
    "## Make a scatter plot of 'age' and 'avg_capital'"
   ]
  },
  {
   "cell_type": "code",
   "execution_count": null,
   "metadata": {},
   "outputs": [],
   "source": []
  },
  {
   "cell_type": "markdown",
   "metadata": {},
   "source": [
    "## Calculate the average 'capital-gain' for each country"
   ]
  },
  {
   "cell_type": "markdown",
   "metadata": {},
   "source": [
    "Use pandas groupy"
   ]
  },
  {
   "cell_type": "code",
   "execution_count": null,
   "metadata": {},
   "outputs": [],
   "source": []
  },
  {
   "cell_type": "markdown",
   "metadata": {},
   "source": [
    "## Write a function that given a column name prints the following info:\n",
    "- Number of Non-blank records\n",
    "- Data type\n",
    "- Average value (in case it's numerical)\n",
    "- Unique values (in case it's categorical)"
   ]
  },
  {
   "cell_type": "code",
   "execution_count": null,
   "metadata": {},
   "outputs": [],
   "source": []
  },
  {
   "cell_type": "markdown",
   "metadata": {},
   "source": [
    "## Save the final DataFrame both csv and Excel files"
   ]
  },
  {
   "cell_type": "code",
   "execution_count": null,
   "metadata": {},
   "outputs": [],
   "source": []
  },
  {
   "cell_type": "markdown",
   "metadata": {},
   "source": [
    "# Part II\n",
    "In this part each task is independent from the other parts.\n",
    "\n",
    "Feel free to import any library you want."
   ]
  },
  {
   "cell_type": "markdown",
   "metadata": {
    "ExecuteTime": {
     "end_time": "2020-05-22T11:47:11.369788Z",
     "start_time": "2020-05-22T11:47:11.347628Z"
    }
   },
   "source": [
    "## Write a function that for any given path print the following info:\n",
    "- Number of .py files\n",
    "- Number of .pdf files\n",
    "- Number of .csv files\n",
    "- Number of .xlsx files"
   ]
  },
  {
   "cell_type": "code",
   "execution_count": null,
   "metadata": {
    "ExecuteTime": {
     "end_time": "2020-05-22T11:47:11.369788Z",
     "start_time": "2020-05-22T11:47:11.347628Z"
    }
   },
   "outputs": [],
   "source": []
  },
  {
   "cell_type": "markdown",
   "metadata": {},
   "source": [
    "## write a function that calculate the $A_L$"
   ]
  },
  {
   "cell_type": "markdown",
   "metadata": {
    "ExecuteTime": {
     "end_time": "2020-05-22T11:47:11.369788Z",
     "start_time": "2020-05-22T11:47:11.347628Z"
    }
   },
   "source": [
    "\n",
    "<img src=\"Images/lat_sur_area.png\" width=\"500\">"
   ]
  },
  {
   "cell_type": "markdown",
   "metadata": {
    "ExecuteTime": {
     "end_time": "2020-05-22T11:47:11.369788Z",
     "start_time": "2020-05-22T11:47:11.347628Z"
    }
   },
   "source": [
    "- Use *isinstance* and *assert* to make sure the inputs are either integer or float\n",
    "- for 11, 7, 12 you should get **229.9**"
   ]
  },
  {
   "cell_type": "code",
   "execution_count": null,
   "metadata": {},
   "outputs": [],
   "source": []
  },
  {
   "cell_type": "markdown",
   "metadata": {},
   "source": [
    "## Write a function that replaces spaces with _ in a given text while adds * before and a specific letter (to be defined as the input)"
   ]
  },
  {
   "cell_type": "markdown",
   "metadata": {},
   "source": [
    "Example: 'Extraction was done by Barry Beckers from the 1994' given the letter **s** would results in--> 'Extraction_wa\\*s\\*_done_by_Barry_Becker\\*s\\*_from_the_1994'"
   ]
  },
  {
   "cell_type": "code",
   "execution_count": null,
   "metadata": {},
   "outputs": [],
   "source": []
  },
  {
   "cell_type": "markdown",
   "metadata": {},
   "source": [
    "## Loading the 'review.txt' from *Data* folder :\n",
    "- Replace \"\" with ' (example: \"\"cidreira\"\" --> 'cidreira')\n",
    "- Lowercase the text\n",
    "- Count how many times a word is repeated in the text and put the results  a dictionary (example: {'a': 53, 'the': 34, ...})\n",
    "- using *os* library, remove the *review.txt*\n",
    "- Save the modified text to a file name *review_modified.txt*"
   ]
  },
  {
   "cell_type": "code",
   "execution_count": null,
   "metadata": {},
   "outputs": [],
   "source": []
  },
  {
   "cell_type": "markdown",
   "metadata": {
    "ExecuteTime": {
     "end_time": "2020-05-22T13:22:38.169564Z",
     "start_time": "2020-05-22T13:22:38.151744Z"
    }
   },
   "source": [
    "## Using list comprehension, *'any'* built-in function and the given data:\n",
    "create a list of all dictionary keys that in their value there is at least one string with a length higher than 3"
   ]
  },
  {
   "cell_type": "code",
   "execution_count": 11,
   "metadata": {
    "ExecuteTime": {
     "end_time": "2020-05-22T13:28:44.261621Z",
     "start_time": "2020-05-22T13:28:44.244411Z"
    }
   },
   "outputs": [],
   "source": [
    "data = {'first': ['a', 3, 'aa', 'bbb'],\n",
    "        'second': ['frigo', 77, 'fifo'],\n",
    "        'third': [11, 14, 976, 0.109, 'pippo']}"
   ]
  },
  {
   "cell_type": "code",
   "execution_count": null,
   "metadata": {},
   "outputs": [],
   "source": []
  }
 ],
 "metadata": {
  "kernelspec": {
   "display_name": "Python 3",
   "language": "python",
   "name": "python3"
  },
  "language_info": {
   "codemirror_mode": {
    "name": "ipython",
    "version": 3
   },
   "file_extension": ".py",
   "mimetype": "text/x-python",
   "name": "python",
   "nbconvert_exporter": "python",
   "pygments_lexer": "ipython3",
   "version": "3.7.4"
  },
  "toc": {
   "base_numbering": 1,
   "nav_menu": {},
   "number_sections": true,
   "sideBar": true,
   "skip_h1_title": false,
   "title_cell": "Table of Contents",
   "title_sidebar": "Contents",
   "toc_cell": false,
   "toc_position": {},
   "toc_section_display": true,
   "toc_window_display": false
  }
 },
 "nbformat": 4,
 "nbformat_minor": 2
}
